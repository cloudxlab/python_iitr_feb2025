{
 "cells": [
  {
   "cell_type": "code",
   "execution_count": 4,
   "metadata": {},
   "outputs": [
    {
     "ename": "ModuleNotFoundError",
     "evalue": "No module named 'librosa'",
     "output_type": "error",
     "traceback": [
      "\u001b[0;31m---------------------------------------------------------------------------\u001b[0m",
      "\u001b[0;31mModuleNotFoundError\u001b[0m                       Traceback (most recent call last)",
      "\u001b[0;32m<ipython-input-4-1aeebaf8a063>\u001b[0m in \u001b[0;36m<module>\u001b[0;34m\u001b[0m\n\u001b[0;32m----> 1\u001b[0;31m \u001b[0;32mimport\u001b[0m \u001b[0mlibrosa\u001b[0m\u001b[0;34m\u001b[0m\u001b[0;34m\u001b[0m\u001b[0m\n\u001b[0m\u001b[1;32m      2\u001b[0m \u001b[0;34m\u001b[0m\u001b[0m\n\u001b[1;32m      3\u001b[0m \u001b[0mdata\u001b[0m\u001b[0;34m,\u001b[0m \u001b[0msample_rate\u001b[0m \u001b[0;34m=\u001b[0m \u001b[0mlibrosa\u001b[0m\u001b[0;34m.\u001b[0m\u001b[0mload\u001b[0m\u001b[0;34m(\u001b[0m\u001b[0;34m\"audio.wav\"\u001b[0m\u001b[0;34m,\u001b[0m \u001b[0msr\u001b[0m\u001b[0;34m=\u001b[0m\u001b[0;32mNone\u001b[0m\u001b[0;34m)\u001b[0m  \u001b[0;31m# sr=None keeps original sample rate\u001b[0m\u001b[0;34m\u001b[0m\u001b[0;34m\u001b[0m\u001b[0m\n\u001b[1;32m      4\u001b[0m \u001b[0mprint\u001b[0m\u001b[0;34m(\u001b[0m\u001b[0;34m\"Sample rate:\"\u001b[0m\u001b[0;34m,\u001b[0m \u001b[0msample_rate\u001b[0m\u001b[0;34m)\u001b[0m\u001b[0;34m\u001b[0m\u001b[0;34m\u001b[0m\u001b[0m\n\u001b[1;32m      5\u001b[0m \u001b[0mprint\u001b[0m\u001b[0;34m(\u001b[0m\u001b[0;34m\"Shape of data:\"\u001b[0m\u001b[0;34m,\u001b[0m \u001b[0mdata\u001b[0m\u001b[0;34m.\u001b[0m\u001b[0mshape\u001b[0m\u001b[0;34m)\u001b[0m\u001b[0;34m\u001b[0m\u001b[0;34m\u001b[0m\u001b[0m\n",
      "\u001b[0;31mModuleNotFoundError\u001b[0m: No module named 'librosa'"
     ]
    }
   ],
   "source": [
    "import librosa\n",
    "\n",
    "data, sample_rate = librosa.load(\"audio.wav\", sr=None)  # sr=None keeps original sample rate\n",
    "print(\"Sample rate:\", sample_rate)\n",
    "print(\"Shape of data:\", data.shape)"
   ]
  },
  {
   "cell_type": "code",
   "execution_count": 3,
   "metadata": {},
   "outputs": [
    {
     "name": "stdout",
     "output_type": "stream",
     "text": [
      "Collecting librosa\n",
      "  Downloading https://files.pythonhosted.org/packages/e4/1c/23ef2fd02913d65d43dc7516fc829af709314a66c6f0bdc2e361fdcecc2d/librosa-0.9.2-py3-none-any.whl (214kB)\n",
      "\u001b[K    100% |████████████████████████████████| 215kB 1.7MB/s ta 0:00:01\n",
      "\u001b[?25hCollecting pooch>=1.0 (from librosa)\n",
      "  Downloading https://files.pythonhosted.org/packages/8d/64/8e1bfeda3ba0f267b2d9a918e8ca51db8652d0e1a3412a5b3dbce85d90b6/pooch-1.6.0-py3-none-any.whl (56kB)\n",
      "\u001b[K    100% |████████████████████████████████| 61kB 1.9MB/s eta 0:00:01\n",
      "\u001b[?25hCollecting audioread>=2.1.9 (from librosa)\n",
      "  Downloading https://files.pythonhosted.org/packages/57/8d/30aa32745af16af0a9a650115fbe81bde7c610ed5c21b381fca0196f3a7f/audioread-3.0.1-py3-none-any.whl\n",
      "Collecting decorator>=4.0.10 (from librosa)\n",
      "  Downloading https://files.pythonhosted.org/packages/d5/50/83c593b07763e1161326b3b8c6686f0f4b0f24d5526546bee538c89837d6/decorator-5.1.1-py3-none-any.whl\n",
      "Collecting soundfile>=0.10.2 (from librosa)\n",
      "  Downloading https://files.pythonhosted.org/packages/64/28/e2a36573ccbcf3d57c00626a21fe51989380636e821b341d36ccca0c1c3a/soundfile-0.13.1-py2.py3-none-any.whl\n",
      "Collecting scikit-learn>=0.19.1 (from librosa)\n",
      "  Downloading https://files.pythonhosted.org/packages/f5/ef/bcd79e8d59250d6e8478eb1290dc6e05be42b3be8a86e3954146adbc171a/scikit_learn-0.24.2-cp36-cp36m-manylinux1_x86_64.whl (20.0MB)\n",
      "\u001b[K    100% |████████████████████████████████| 20.0MB 57kB/s  eta 0:00:01eta 0:00:01% |███████████                     | 6.9MB 76.5MB/s eta 0:00:01:00:01�██▋ | 19.1MB 86.7MB/s eta 0:00:01\n",
      "\u001b[?25hCollecting joblib>=0.14 (from librosa)\n",
      "  Downloading https://files.pythonhosted.org/packages/7c/91/d3ba0401e62d7e42816bc7d97b82d19c95c164b3e149a87c0a1c026a735e/joblib-1.1.1-py2.py3-none-any.whl (309kB)\n",
      "\u001b[K    100% |████████████████████████████████| 317kB 2.0MB/s eta 0:00:011\n",
      "\u001b[?25hCollecting numpy>=1.17.0 (from librosa)\n",
      "  Using cached https://files.pythonhosted.org/packages/45/b2/6c7545bb7a38754d63048c7696804a0d947328125d81bf12beaa692c3ae3/numpy-1.19.5-cp36-cp36m-manylinux1_x86_64.whl\n",
      "Collecting resampy>=0.2.2 (from librosa)\n",
      "  Downloading https://files.pythonhosted.org/packages/4d/b9/3b00ac340a1aab3389ebcc52c779914a44aadf7b0cb7a3bf053195735607/resampy-0.4.3-py3-none-any.whl (3.1MB)\n",
      "\u001b[K    100% |████████████████████████████████| 3.1MB 373kB/s eta 0:00:0110:01\n",
      "\u001b[?25hCollecting packaging>=20.0 (from librosa)\n",
      "  Downloading https://files.pythonhosted.org/packages/05/8e/8de486cbd03baba4deef4142bd643a3e7bbe954a784dc1bb17142572d127/packaging-21.3-py3-none-any.whl (40kB)\n",
      "\u001b[K    100% |████████████████████████████████| 40kB 1.6MB/s eta 0:00:01\n",
      "\u001b[?25hCollecting numba>=0.45.1 (from librosa)\n",
      "  Downloading https://files.pythonhosted.org/packages/e3/7d/3d61160836e49f40913741c464f119551c15ed371c1d91ea50308495b93b/numba-0.53.1.tar.gz (2.2MB)\n",
      "\u001b[K    100% |████████████████████████████████| 2.2MB 474kB/s eta 0:00:01\n",
      "\u001b[?25h    Complete output from command python setup.py egg_info:\n",
      "    Traceback (most recent call last):\n",
      "      File \"<string>\", line 1, in <module>\n",
      "      File \"/tmp/pip-build-7at44m1_/numba/setup.py\", line 424, in <module>\n",
      "        setup(**metadata)\n",
      "      File \"/usr/lib/python3.6/site-packages/setuptools/__init__.py\", line 128, in setup\n",
      "        _install_setup_requires(attrs)\n",
      "      File \"/usr/lib/python3.6/site-packages/setuptools/__init__.py\", line 123, in _install_setup_requires\n",
      "        dist.fetch_build_eggs(dist.setup_requires)\n",
      "      File \"/usr/lib/python3.6/site-packages/setuptools/dist.py\", line 514, in fetch_build_eggs\n",
      "        replace_conflicting=True,\n",
      "      File \"/usr/lib/python3.6/site-packages/pkg_resources/__init__.py\", line 770, in resolve\n",
      "        replace_conflicting=replace_conflicting\n",
      "      File \"/usr/lib/python3.6/site-packages/pkg_resources/__init__.py\", line 1053, in best_match\n",
      "        return self.obtain(req, installer)\n",
      "      File \"/usr/lib/python3.6/site-packages/pkg_resources/__init__.py\", line 1065, in obtain\n",
      "        return installer(requirement)\n",
      "      File \"/usr/lib/python3.6/site-packages/setuptools/dist.py\", line 581, in fetch_build_egg\n",
      "        return cmd.easy_install(req)\n",
      "      File \"/usr/lib/python3.6/site-packages/setuptools/command/easy_install.py\", line 678, in easy_install\n",
      "        return self.install_item(spec, dist.location, tmpdir, deps)\n",
      "      File \"/usr/lib/python3.6/site-packages/setuptools/command/easy_install.py\", line 704, in install_item\n",
      "        dists = self.install_eggs(spec, download, tmpdir)\n",
      "      File \"/usr/lib/python3.6/site-packages/setuptools/command/easy_install.py\", line 875, in install_eggs\n",
      "        os.path.abspath(dist_filename)\n",
      "    distutils.errors.DistutilsError: Couldn't find a setup script in /tmp/easy_install-uqj12jqi/numpy-2.3.3.tar.gz\n",
      "    \n",
      "    ----------------------------------------\n",
      "\u001b[31mCommand \"python setup.py egg_info\" failed with error code 1 in /tmp/pip-build-7at44m1_/numba/\u001b[0m\n"
     ]
    }
   ],
   "source": [
    "!pip3 install librosa"
   ]
  },
  {
   "cell_type": "code",
   "execution_count": null,
   "metadata": {},
   "outputs": [],
   "source": [
    "import librosa\n",
    "\n",
    "data, sample_rate = librosa.load(\"test.wav\", sr=None)  # sr=None keeps original sample rate\n",
    "print(\"Sample rate:\", sample_rate)\n",
    "print(\"Shape of data:\", data.shape)"
   ]
  },
  {
   "cell_type": "code",
   "execution_count": null,
   "metadata": {},
   "outputs": [],
   "source": [
    "import numpy as np\n",
    "import librosa\n",
    "import librosa.display\n",
    "import matplotlib.pyplot as plt\n",
    "\n",
    "# 1) Load audio (float32 in [-1, 1])\n",
    "y, sr = librosa.load(\"test.wav\", sr=None, mono=True)  # keep original sample rate\n",
    "\n",
    "# 2) Mel-spectrogram (power)\n",
    "S = librosa.feature.melspectrogram(\n",
    "    y=y,\n",
    "    sr=sr,\n",
    "    n_fft=2048,       # window size (samples)\n",
    "    hop_length=512,   # step between frames\n",
    "    n_mels=128,       # number of Mel bands\n",
    "    fmin=20, fmax=sr//2\n",
    ")\n"
   ]
  },
  {
   "cell_type": "code",
   "execution_count": null,
   "metadata": {},
   "outputs": [],
   "source": [
    "import numpy as np\n",
    "\n",
    "# Compute Fourier Transform\n",
    "fft_spectrum = np.fft.fft(data)\n",
    "frequencies = np.fft.fftfreq(len(fft_spectrum), d=1/sample_rate)\n",
    "\n",
    "# Take absolute value (magnitude)\n",
    "magnitude = np.abs(fft_spectrum)"
   ]
  }
 ],
 "metadata": {
  "kernelspec": {
   "display_name": "Python 3",
   "language": "python",
   "name": "python3"
  },
  "language_info": {
   "codemirror_mode": {
    "name": "ipython",
    "version": 3
   },
   "file_extension": ".py",
   "mimetype": "text/x-python",
   "name": "python",
   "nbconvert_exporter": "python",
   "pygments_lexer": "ipython3",
   "version": "3.6.8"
  },
  "toc": {
   "base_numbering": 1,
   "nav_menu": {},
   "number_sections": true,
   "sideBar": true,
   "skip_h1_title": false,
   "title_cell": "Table of Contents",
   "title_sidebar": "Contents",
   "toc_cell": false,
   "toc_position": {},
   "toc_section_display": true,
   "toc_window_display": false
  }
 },
 "nbformat": 4,
 "nbformat_minor": 2
}
