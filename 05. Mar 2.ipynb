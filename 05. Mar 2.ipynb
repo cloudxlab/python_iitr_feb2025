{
 "cells": [
  {
   "cell_type": "markdown",
   "metadata": {},
   "source": [
    "#Q: Write code to swap two variables values.\n",
    "\n",
    "x = 10, y = 20\n",
    "<< your code >>\n",
    "print(x, y) # it should print 20, 10 or whatever was there in y and x\n",
    "\n",
    "#Level Up: Do it without using third variable"
   ]
  },
  {
   "cell_type": "code",
   "execution_count": 28,
   "metadata": {},
   "outputs": [
    {
     "name": "stdout",
     "output_type": "stream",
     "text": [
      "20 10\n"
     ]
    }
   ],
   "source": [
    "x, y = 10,20\n",
    "x, y = y,x\n",
    "print(x,y)"
   ]
  },
  {
   "cell_type": "code",
   "execution_count": 30,
   "metadata": {},
   "outputs": [
    {
     "name": "stdout",
     "output_type": "stream",
     "text": [
      "20 10\n"
     ]
    }
   ],
   "source": [
    "x, y = 10,20\n",
    "temp=x\n",
    "x=y\n",
    "y=temp\n",
    "print(x,y)"
   ]
  },
  {
   "cell_type": "code",
   "execution_count": 31,
   "metadata": {},
   "outputs": [],
   "source": [
    "x=10\n",
    "y=20\n",
    "\n",
    "z=x\n",
    "x=y\n",
    "y=z"
   ]
  },
  {
   "cell_type": "code",
   "execution_count": 32,
   "metadata": {},
   "outputs": [],
   "source": [
    "x=10\n",
    "y=20\n",
    "y=x+y\t\t#y=10+20=30\n",
    "x=y-x\t\t#x=30-10=20\t\n",
    "y=y-x\t\t#y=30-20=10"
   ]
  },
  {
   "cell_type": "code",
   "execution_count": null,
   "metadata": {},
   "outputs": [],
   "source": [
    "# Can we use strings? \n",
    "x = \"10\"\n",
    "y = \"20\"\n",
    "x = x + \"_\" + y\n",
    "y, x = x.split(\"_\")"
   ]
  },
  {
   "cell_type": "code",
   "execution_count": null,
   "metadata": {},
   "outputs": [],
   "source": []
  },
  {
   "cell_type": "code",
   "execution_count": null,
   "metadata": {},
   "outputs": [],
   "source": [
    "x, y = 10, 20\n",
    "\n",
    "x, y = y, x\n",
    "\n",
    "print(x, y) # it should print 20, 10 or whatever was there in y and x"
   ]
  },
  {
   "cell_type": "code",
   "execution_count": 3,
   "metadata": {},
   "outputs": [
    {
     "name": "stdout",
     "output_type": "stream",
     "text": [
      "20 10\n"
     ]
    }
   ],
   "source": [
    "x, y = 10, 20\n",
    "\n",
    "t = x\n",
    "x = y\n",
    "y = t\n",
    "\n",
    "print(x, y) # it should print 20, 10 or whatever was there in y and x"
   ]
  },
  {
   "cell_type": "code",
   "execution_count": 4,
   "metadata": {},
   "outputs": [],
   "source": [
    "x, y, z = 10, 20, 30\n",
    "# move y to x\n",
    "# move z to y\n",
    "# move x to z\n",
    "# x, y, z - 20, 30, 10\n",
    "\n",
    "t = x\n",
    "x = y\n",
    "y = z\n",
    "z = t\n",
    "\n"
   ]
  },
  {
   "cell_type": "code",
   "execution_count": null,
   "metadata": {},
   "outputs": [],
   "source": []
  },
  {
   "cell_type": "code",
   "execution_count": null,
   "metadata": {},
   "outputs": [],
   "source": [
    "x=10\n",
    "y=20\n",
    "y=x+y #y=10+20=30\n",
    "x=y-x #x=30-10=20\t\n",
    "y=y-x #y=30-20=10"
   ]
  },
  {
   "cell_type": "code",
   "execution_count": 34,
   "metadata": {},
   "outputs": [
    {
     "name": "stdout",
     "output_type": "stream",
     "text": [
      "20 -10\n"
     ]
    }
   ],
   "source": [
    "x = -10\n",
    "y = 20\n",
    "y = x + y #y=10+20=30\n",
    "x = y - x #x=30-10=20\t\n",
    "y = y - x #y=30-20=10\n",
    "print(x, y)"
   ]
  },
  {
   "cell_type": "code",
   "execution_count": 35,
   "metadata": {},
   "outputs": [
    {
     "name": "stdout",
     "output_type": "stream",
     "text": [
      "-20 -10\n"
     ]
    }
   ],
   "source": [
    "x = -10\n",
    "y = -20\n",
    "y = x + y #y=10+20=30\n",
    "x = y - x #x=30-10=20\t\n",
    "y = y - x #y=30-20=10\n",
    "print(x, y)"
   ]
  },
  {
   "cell_type": "code",
   "execution_count": null,
   "metadata": {},
   "outputs": [],
   "source": [
    "# base 2\n",
    "0 0\n",
    "1 1\n",
    "2 10\n",
    "3 11\n",
    "4 100\n",
    "5 101\n",
    "6 110\n",
    "7 111\n",
    "8 1000"
   ]
  },
  {
   "cell_type": "code",
   "execution_count": 4,
   "metadata": {},
   "outputs": [
    {
     "data": {
      "text/plain": [
       "'0b1000'"
      ]
     },
     "execution_count": 4,
     "metadata": {},
     "output_type": "execute_result"
    }
   ],
   "source": [
    "bin(8)"
   ]
  },
  {
   "cell_type": "code",
   "execution_count": 5,
   "metadata": {},
   "outputs": [
    {
     "data": {
      "text/plain": [
       "'0b101'"
      ]
     },
     "execution_count": 5,
     "metadata": {},
     "output_type": "execute_result"
    }
   ],
   "source": [
    "bin(5)"
   ]
  },
  {
   "cell_type": "code",
   "execution_count": 6,
   "metadata": {},
   "outputs": [
    {
     "name": "stdout",
     "output_type": "stream",
     "text": [
      "5\n"
     ]
    }
   ],
   "source": [
    "x = 0b101\n",
    "print(x)"
   ]
  },
  {
   "cell_type": "code",
   "execution_count": 12,
   "metadata": {},
   "outputs": [
    {
     "data": {
      "text/plain": [
       "65"
      ]
     },
     "execution_count": 12,
     "metadata": {},
     "output_type": "execute_result"
    }
   ],
   "source": [
    "ord('A'), "
   ]
  },
  {
   "cell_type": "code",
   "execution_count": 13,
   "metadata": {},
   "outputs": [
    {
     "data": {
      "text/plain": [
       "'A'"
      ]
     },
     "execution_count": 13,
     "metadata": {},
     "output_type": "execute_result"
    }
   ],
   "source": [
    "chr(65)"
   ]
  },
  {
   "cell_type": "code",
   "execution_count": 18,
   "metadata": {},
   "outputs": [
    {
     "data": {
      "text/plain": [
       "'΄'"
      ]
     },
     "execution_count": 18,
     "metadata": {},
     "output_type": "execute_result"
    }
   ],
   "source": [
    "chr(900)"
   ]
  },
  {
   "cell_type": "code",
   "execution_count": 31,
   "metadata": {
    "scrolled": false
   },
   "outputs": [
    {
     "name": "stdout",
     "output_type": "stream",
     "text": [
      "ग 2327\n",
      "1 49\n",
      "ए 2319\n",
      "= 61\n",
      "= 61\n",
      "क 2325\n",
      "@ 64\n",
      "ऊ 2314\n",
      "ं 2306\n",
      "a 97\n",
      "b 98\n",
      "c 99\n",
      "1 49\n",
      "2 50\n",
      "3 51\n",
      "η 951\n",
      "θ 952\n",
      "a 97\n",
      "b 98\n",
      "c 99\n",
      "श 2358\n",
      "ि 2367\n"
     ]
    }
   ],
   "source": [
    "l='ग1ए==क@ऊंabc123ηθabcशि'\n",
    "for i in l:\n",
    "    print(i, ord(i))"
   ]
  },
  {
   "cell_type": "code",
   "execution_count": 32,
   "metadata": {},
   "outputs": [
    {
     "data": {
      "text/plain": [
       "'ि'"
      ]
     },
     "execution_count": 32,
     "metadata": {},
     "output_type": "execute_result"
    }
   ],
   "source": [
    "chr(2367)"
   ]
  },
  {
   "cell_type": "code",
   "execution_count": 11,
   "metadata": {
    "scrolled": true
   },
   "outputs": [
    {
     "data": {
      "text/plain": [
       "('0b1000001', '0b1100001', '0b110000')"
      ]
     },
     "execution_count": 11,
     "metadata": {},
     "output_type": "execute_result"
    }
   ],
   "source": [
    "bin(ord('A')), bin(ord('a')), bin(ord('0'))"
   ]
  },
  {
   "cell_type": "markdown",
   "metadata": {},
   "source": [
    "```\n",
    "  0b101\n",
    "+ 0b111\n",
    "-------\n",
    "  1100\n",
    "```"
   ]
  },
  {
   "cell_type": "code",
   "execution_count": 34,
   "metadata": {},
   "outputs": [
    {
     "data": {
      "text/plain": [
       "'0b1100'"
      ]
     },
     "execution_count": 34,
     "metadata": {},
     "output_type": "execute_result"
    }
   ],
   "source": [
    "bin(0b101 + 0b111)"
   ]
  },
  {
   "cell_type": "code",
   "execution_count": 35,
   "metadata": {},
   "outputs": [
    {
     "ename": "TypeError",
     "evalue": "'float' object cannot be interpreted as an integer",
     "output_type": "error",
     "traceback": [
      "\u001b[0;31m---------------------------------------------------------------------------\u001b[0m",
      "\u001b[0;31mTypeError\u001b[0m                                 Traceback (most recent call last)",
      "\u001b[0;32m<ipython-input-35-b25da1b934c0>\u001b[0m in \u001b[0;36m<module>\u001b[0;34m\u001b[0m\n\u001b[0;32m----> 1\u001b[0;31m \u001b[0mbin\u001b[0m\u001b[0;34m(\u001b[0m\u001b[0;36m1.5\u001b[0m\u001b[0;34m)\u001b[0m\u001b[0;34m\u001b[0m\u001b[0;34m\u001b[0m\u001b[0m\n\u001b[0m",
      "\u001b[0;31mTypeError\u001b[0m: 'float' object cannot be interpreted as an integer"
     ]
    }
   ],
   "source": [
    "bin(1.5)"
   ]
  },
  {
   "cell_type": "code",
   "execution_count": 36,
   "metadata": {},
   "outputs": [
    {
     "data": {
      "text/plain": [
       "'0b10000'"
      ]
     },
     "execution_count": 36,
     "metadata": {},
     "output_type": "execute_result"
    }
   ],
   "source": [
    "bin(0b1000 * 2)"
   ]
  },
  {
   "cell_type": "code",
   "execution_count": 38,
   "metadata": {},
   "outputs": [
    {
     "data": {
      "text/plain": [
       "'0b100'"
      ]
     },
     "execution_count": 38,
     "metadata": {},
     "output_type": "execute_result"
    }
   ],
   "source": [
    "bin(0b1000 // 2)"
   ]
  },
  {
   "cell_type": "code",
   "execution_count": 40,
   "metadata": {},
   "outputs": [
    {
     "name": "stdout",
     "output_type": "stream",
     "text": [
      "16\n"
     ]
    }
   ],
   "source": [
    "x = 8\n",
    "x = x << 1\n",
    "print(x)"
   ]
  },
  {
   "cell_type": "code",
   "execution_count": 41,
   "metadata": {},
   "outputs": [
    {
     "name": "stdout",
     "output_type": "stream",
     "text": [
      "4\n"
     ]
    }
   ],
   "source": [
    "x = 8\n",
    "x = x >> 1\n",
    "print(x)"
   ]
  },
  {
   "cell_type": "code",
   "execution_count": 42,
   "metadata": {},
   "outputs": [
    {
     "name": "stdout",
     "output_type": "stream",
     "text": [
      "40\n"
     ]
    }
   ],
   "source": [
    "x = 5\n",
    "y = 5 << 3\n",
    "print(y)"
   ]
  },
  {
   "cell_type": "code",
   "execution_count": 43,
   "metadata": {},
   "outputs": [
    {
     "name": "stdout",
     "output_type": "stream",
     "text": [
      "2\n"
     ]
    }
   ],
   "source": [
    "x = 5\n",
    "y = 5 >> 1\n",
    "print(y)"
   ]
  },
  {
   "cell_type": "code",
   "execution_count": 46,
   "metadata": {},
   "outputs": [
    {
     "name": "stdout",
     "output_type": "stream",
     "text": [
      "0b101\n"
     ]
    }
   ],
   "source": [
    "x = 0b100\n",
    "y = 0b101\n",
    "z = x | y\n",
    "print(bin(z))"
   ]
  },
  {
   "cell_type": "code",
   "execution_count": 47,
   "metadata": {},
   "outputs": [
    {
     "name": "stdout",
     "output_type": "stream",
     "text": [
      "0b100\n"
     ]
    }
   ],
   "source": [
    "x = 0b100\n",
    "y = 0b101\n",
    "z = x & y\n",
    "print(bin(z))"
   ]
  },
  {
   "cell_type": "code",
   "execution_count": 52,
   "metadata": {},
   "outputs": [
    {
     "name": "stdout",
     "output_type": "stream",
     "text": [
      "9\n",
      "\t0b1101\n",
      "\t0b1011\n",
      "\t0b1001\n"
     ]
    }
   ],
   "source": [
    "x = 13\n",
    "y = 11\n",
    "z = x & y\n",
    "print(z)\n",
    "print(f\"\\t{bin(x)}\\n\\t{bin(y)}\\n\\t{bin(z)}\")"
   ]
  },
  {
   "cell_type": "code",
   "execution_count": 56,
   "metadata": {},
   "outputs": [],
   "source": [
    "# XOY"
   ]
  },
  {
   "cell_type": "code",
   "execution_count": 55,
   "metadata": {},
   "outputs": [
    {
     "name": "stdout",
     "output_type": "stream",
     "text": [
      "0b0 0b0 ^ 0b0\n",
      "0b0 0b1 ^ 0b1\n",
      "0b1 0b0 ^ 0b1\n",
      "0b1 0b1 ^ 0b0\n"
     ]
    }
   ],
   "source": [
    "for x in range(2):\n",
    "    for y in range(2):\n",
    "        print(bin(x), bin(y), \"^\", bin(x^y))"
   ]
  },
  {
   "cell_type": "code",
   "execution_count": 57,
   "metadata": {},
   "outputs": [
    {
     "name": "stdout",
     "output_type": "stream",
     "text": [
      "17 15\n"
     ]
    }
   ],
   "source": [
    "x = 15\n",
    "y = 17\n",
    "\n",
    "y = x ^ y\n",
    "x = y ^ x\n",
    "y = y ^ x\n",
    "print(x, y)"
   ]
  },
  {
   "cell_type": "code",
   "execution_count": 65,
   "metadata": {},
   "outputs": [
    {
     "name": "stdout",
     "output_type": "stream",
     "text": [
      "15 0b1111\n",
      "17 0b10001\n",
      "30 0b11110\n"
     ]
    }
   ],
   "source": [
    "x = 15\n",
    "y = 17\n",
    "z = x^y\n",
    "print(x, bin(x))\n",
    "print(y, bin(y))\n",
    "print(z, bin(z))"
   ]
  },
  {
   "cell_type": "code",
   "execution_count": 63,
   "metadata": {},
   "outputs": [
    {
     "data": {
      "text/plain": [
       "11"
      ]
     },
     "execution_count": 63,
     "metadata": {},
     "output_type": "execute_result"
    }
   ],
   "source": [
    "12 ^ 7"
   ]
  },
  {
   "cell_type": "code",
   "execution_count": 64,
   "metadata": {},
   "outputs": [
    {
     "data": {
      "text/plain": [
       "12"
      ]
     },
     "execution_count": 64,
     "metadata": {},
     "output_type": "execute_result"
    }
   ],
   "source": [
    "7 ^ 11"
   ]
  },
  {
   "cell_type": "markdown",
   "metadata": {},
   "source": [
    "# XOR\n",
    "\n",
    "- Swapping values\n",
    "- Light switch at home\n",
    "- Backup\n",
    "- Is used to test the ml model ability to learn non-linear relationship"
   ]
  },
  {
   "cell_type": "code",
   "execution_count": 73,
   "metadata": {},
   "outputs": [],
   "source": [
    "x = 11\n",
    "y = 20\n",
    "z = 30\n",
    "u = x ^ y ^ z"
   ]
  },
  {
   "cell_type": "code",
   "execution_count": 74,
   "metadata": {},
   "outputs": [
    {
     "name": "stdout",
     "output_type": "stream",
     "text": [
      "31 1\n"
     ]
    }
   ],
   "source": [
    "print(xy, u)"
   ]
  },
  {
   "cell_type": "code",
   "execution_count": 79,
   "metadata": {},
   "outputs": [
    {
     "data": {
      "text/plain": [
       "('0b101', '0b110', '0b111', '0b100')"
      ]
     },
     "execution_count": 79,
     "metadata": {},
     "output_type": "execute_result"
    }
   ],
   "source": [
    "bin(5), bin(6), bin(7), bin(5^6^7)"
   ]
  },
  {
   "cell_type": "code",
   "execution_count": 80,
   "metadata": {
    "scrolled": true
   },
   "outputs": [
    {
     "data": {
      "text/plain": [
       "7"
      ]
     },
     "execution_count": 80,
     "metadata": {},
     "output_type": "execute_result"
    }
   ],
   "source": [
    "5^6^4"
   ]
  },
  {
   "cell_type": "code",
   "execution_count": 75,
   "metadata": {
    "scrolled": true
   },
   "outputs": [
    {
     "data": {
      "text/plain": [
       "(3, 3)"
      ]
     },
     "execution_count": 75,
     "metadata": {},
     "output_type": "execute_result"
    }
   ],
   "source": [
    "5 ^ 6, 6 ^ 5"
   ]
  },
  {
   "cell_type": "code",
   "execution_count": 76,
   "metadata": {},
   "outputs": [
    {
     "data": {
      "text/plain": [
       "(4, 4)"
      ]
     },
     "execution_count": 76,
     "metadata": {},
     "output_type": "execute_result"
    }
   ],
   "source": [
    "5^6^7, 5^7^6"
   ]
  },
  {
   "cell_type": "code",
   "execution_count": 78,
   "metadata": {},
   "outputs": [
    {
     "data": {
      "text/plain": [
       "(5, 7)"
      ]
     },
     "execution_count": 78,
     "metadata": {},
     "output_type": "execute_result"
    }
   ],
   "source": [
    "4^6^7, 5^4^6"
   ]
  },
  {
   "cell_type": "code",
   "execution_count": 2,
   "metadata": {
    "scrolled": false
   },
   "outputs": [
    {
     "name": "stdout",
     "output_type": "stream",
     "text": [
      "2147483657\n"
     ]
    }
   ],
   "source": [
    "x = 2147483647\n",
    "print(x + 10)"
   ]
  },
  {
   "cell_type": "code",
   "execution_count": 38,
   "metadata": {},
   "outputs": [],
   "source": [
    "import sys\n"
   ]
  },
  {
   "cell_type": "code",
   "execution_count": 43,
   "metadata": {},
   "outputs": [
    {
     "ename": "AttributeError",
     "evalue": "module 'sys' has no attribute 'max_int'",
     "output_type": "error",
     "traceback": [
      "\u001b[0;31m---------------------------------------------------------------------------\u001b[0m",
      "\u001b[0;31mAttributeError\u001b[0m                            Traceback (most recent call last)",
      "\u001b[0;32m<ipython-input-43-176a7c094f60>\u001b[0m in \u001b[0;36m<module>\u001b[0;34m\u001b[0m\n\u001b[0;32m----> 1\u001b[0;31m \u001b[0msys\u001b[0m\u001b[0;34m.\u001b[0m\u001b[0mmax_int\u001b[0m\u001b[0;34m\u001b[0m\u001b[0;34m\u001b[0m\u001b[0m\n\u001b[0m",
      "\u001b[0;31mAttributeError\u001b[0m: module 'sys' has no attribute 'max_int'"
     ]
    }
   ],
   "source": [
    "sys.max_int"
   ]
  },
  {
   "cell_type": "code",
   "execution_count": 37,
   "metadata": {},
   "outputs": [
    {
     "name": "stdout",
     "output_type": "stream",
     "text": [
      "9223372036854775807 9223372036854775806\n"
     ]
    }
   ],
   "source": [
    "x = sys.maxsize\n",
    "y = sys.maxsize\n",
    "y = x + y #y=10+20=30\n",
    "x = y - x #x=30-10=20\t\n",
    "y = y - x #y=30-20=10\n",
    "print(x, y)"
   ]
  },
  {
   "cell_type": "code",
   "execution_count": 5,
   "metadata": {
    "scrolled": true
   },
   "outputs": [
    {
     "data": {
      "text/plain": [
       "(20, 30, 10)"
      ]
     },
     "execution_count": 5,
     "metadata": {},
     "output_type": "execute_result"
    }
   ],
   "source": [
    "x, y, z"
   ]
  },
  {
   "cell_type": "markdown",
   "metadata": {},
   "source": [
    "Question:\n",
    "    \n",
    "\n",
    "Basic: \n",
    "    \n",
    "    arr = [10, 20, 30]\n",
    "    \n",
    "    + Shift all values circularly to left by one place\n",
    "    + The array could have any number of elements\n",
    "    \n",
    "Examples:\n",
    "    - [10, 20, 30] should become [20, 30, 10]\n",
    "    - [10, 20, 30, 40] -> [20, 30, 40, 10]\n",
    "    - [10] -> [10]\n",
    "    - [10, 20] -> [20, 10]\n",
    "\n"
   ]
  },
  {
   "cell_type": "markdown",
   "metadata": {},
   "source": [
    "**Medium:**\n",
    "    without using extra array but you can use extra variable\n",
    "\n",
    "**Hard:**\n",
    "    shift the arr by k places to left circularly without using extra array but you can use extra variable\n"
   ]
  },
  {
   "cell_type": "code",
   "execution_count": 16,
   "metadata": {},
   "outputs": [
    {
     "name": "stdout",
     "output_type": "stream",
     "text": [
      "[20, 30, 40, 50, 10]\n"
     ]
    }
   ],
   "source": [
    "arr = [10, 20, 30, 40, 50]\n",
    "\n",
    "temporary = arr[0]\n",
    "\n",
    "for i in range(len(arr) - 1):\n",
    "      arr[i] = arr[i +1]\n",
    "\n",
    "arr[-1] = temporary\n",
    "\n",
    "print(arr)"
   ]
  },
  {
   "cell_type": "code",
   "execution_count": 10,
   "metadata": {},
   "outputs": [
    {
     "name": "stdout",
     "output_type": "stream",
     "text": [
      "[10, 20, 30, 10]\n",
      "[20, 20, 30, 10]\n",
      "[20, 30, 30, 10]\n",
      "[20, 30, 10, 10]\n"
     ]
    },
    {
     "data": {
      "text/plain": [
       "10"
      ]
     },
     "execution_count": 10,
     "metadata": {},
     "output_type": "execute_result"
    }
   ],
   "source": [
    "arr = [10, 20, 30]\n",
    "arr.append(arr[0])\n",
    "print(arr)\n",
    "arr[0]=arr[1]\n",
    "print(arr)\n",
    "arr[1]=arr[2]\n",
    "print(arr)\n",
    "arr[2]=arr[3]\n",
    "print(arr)\n",
    "arr.pop()"
   ]
  },
  {
   "cell_type": "code",
   "execution_count": 8,
   "metadata": {},
   "outputs": [
    {
     "data": {
      "text/plain": [
       "[20, 30, 10]"
      ]
     },
     "execution_count": 8,
     "metadata": {},
     "output_type": "execute_result"
    }
   ],
   "source": [
    "arr"
   ]
  },
  {
   "cell_type": "code",
   "execution_count": 17,
   "metadata": {},
   "outputs": [
    {
     "name": "stdout",
     "output_type": "stream",
     "text": [
      "circular array : [1, 2, 3, 4, 0]\n"
     ]
    }
   ],
   "source": [
    "array = [0, 1, 2, 3, 4]\n",
    "\n",
    "array = array[1:] + [array[0]]\n",
    "\n",
    "print(\"circular array :\", array)"
   ]
  },
  {
   "cell_type": "code",
   "execution_count": 18,
   "metadata": {},
   "outputs": [
    {
     "name": "stdout",
     "output_type": "stream",
     "text": [
      "circular array : [1, 2, 3, 4, 0]\n"
     ]
    }
   ],
   "source": [
    "array = [0, 1, 2, 3, 4]\n",
    "\n",
    "array1 = array[1:] + [array[0]]\n",
    "\n",
    "print(\"circular array :\", array1)"
   ]
  },
  {
   "cell_type": "code",
   "execution_count": 24,
   "metadata": {},
   "outputs": [
    {
     "name": "stdout",
     "output_type": "stream",
     "text": [
      "circular array : 12340\n"
     ]
    }
   ],
   "source": [
    "array = \"01234\"\n",
    "\n",
    "array = array[1:] + array[0]\n",
    "\n",
    "print(\"circular array :\", array)"
   ]
  },
  {
   "cell_type": "code",
   "execution_count": 26,
   "metadata": {},
   "outputs": [
    {
     "name": "stdout",
     "output_type": "stream",
     "text": [
      "[1, 2] [3, 4]\n"
     ]
    }
   ],
   "source": [
    "x = [1,2]\n",
    "y = [3,4]\n",
    "\n",
    "# t = x\n",
    "# x = y\n",
    "# y = t\n",
    "\n",
    "#x, y = y, x\n",
    "\n",
    "print(x, y)"
   ]
  },
  {
   "cell_type": "code",
   "execution_count": 19,
   "metadata": {},
   "outputs": [],
   "source": [
    "array1[0] = 10"
   ]
  },
  {
   "cell_type": "code",
   "execution_count": 20,
   "metadata": {},
   "outputs": [
    {
     "data": {
      "text/plain": [
       "[10, 2, 3, 4, 0]"
      ]
     },
     "execution_count": 20,
     "metadata": {},
     "output_type": "execute_result"
    }
   ],
   "source": [
    "array1"
   ]
  },
  {
   "cell_type": "code",
   "execution_count": 21,
   "metadata": {},
   "outputs": [
    {
     "data": {
      "text/plain": [
       "[0, 1, 2, 3, 4]"
      ]
     },
     "execution_count": 21,
     "metadata": {},
     "output_type": "execute_result"
    }
   ],
   "source": [
    "array"
   ]
  },
  {
   "cell_type": "code",
   "execution_count": 22,
   "metadata": {},
   "outputs": [
    {
     "name": "stdout",
     "output_type": "stream",
     "text": [
      "[0, 100, 2, 3, 4] [0, 100, 2, 3, 4]\n"
     ]
    }
   ],
   "source": [
    "array = [0, 1, 2, 3, 4]\n",
    "array1 = array\n",
    "array[1] = 100\n",
    "print(array1, array)"
   ]
  },
  {
   "cell_type": "code",
   "execution_count": null,
   "metadata": {},
   "outputs": [],
   "source": [
    "def shiftArr(shifter):\n",
    "    arr=[10,20,30,40,50, 60, 70, 80, 90,100]\n",
    "    arr=arr[shifter:]+arr[:shifter]\n",
    "    print (arr"
   ]
  },
  {
   "cell_type": "code",
   "execution_count": null,
   "metadata": {},
   "outputs": [],
   "source": [
    "def circular_shift(x):\n",
    "    firstElement = x[0]\n",
    "    for i in range(len(x)-1):\n",
    "        x[i] = x[i+1]\n",
    "        x[-1] = firstElement\n",
    "    print(f\"Output : {x}\")"
   ]
  },
  {
   "cell_type": "code",
   "execution_count": null,
   "metadata": {},
   "outputs": [],
   "source": [
    "arr = [10, 20, 30]\n",
    "temp = arr[0]\n",
    "\n",
    "for i in range(len(arr) - 1):\n",
    "    arr[i] = arr[i + 1]\n",
    "arr[-1] = temp  \n",
    "\n",
    "print(arr)"
   ]
  },
  {
   "cell_type": "code",
   "execution_count": null,
   "metadata": {},
   "outputs": [],
   "source": [
    "def left_rot_tuple(t, k):\n",
    "    return t[k:] + t[:k]\n",
    "input_value = (0, 1,2, 3, 4)  \n",
    "k = 2\n",
    "result = left_rot_tuple(input_value, k)\n",
    "print(result)"
   ]
  },
  {
   "cell_type": "markdown",
   "metadata": {},
   "source": [
    "## Question1:\n",
    "\n",
    "    * Given three lists of numbers, return the list of their XORs\n",
    "    * all three lists have same size\n",
    "\n",
    "    def xors(a1, a2, a3):\n",
    "        return [...]\n",
    "\n",
    "Example: \n",
    "    Input: xors([1], [2], [3]):\n",
    "    Output: [0]\n",
    "    \n",
    "    Input: xors([1, 2], [2, 3], [3, 4]):\n",
    "    Output: [0, 5]\n",
    "    "
   ]
  },
  {
   "cell_type": "markdown",
   "metadata": {},
   "source": [
    "## Question 2:\n",
    "\n",
    "You have a list of numbers, you have to reverse it. You can not use the inbuilt function or slicing ([::-1]\n",
    "\n",
    "Level Up: Without using extra arr or you can say do it in place.\n",
    "\n",
    "    def reverse(arr):\n",
    "        return []\n",
    "\n",
    "Example:\n",
    "    \n",
    "    Input: [1,2,3,4]\n",
    "    Ouput: [4,3, 2, 1]"
   ]
  },
  {
   "cell_type": "markdown",
   "metadata": {},
   "source": [
    "## Question3\n",
    "    \n",
    "\n",
    "Basic: \n",
    "    \n",
    "    arr = [10, 20, 30]\n",
    "    \n",
    "    + Shift all values circularly to left by one place\n",
    "    + The array could have any number of elements\n",
    "    \n",
    "Examples:\n",
    "    - [10, 20, 30] should become [20, 30, 10]\n",
    "    - [10, 20, 30, 40] -> [20, 30, 40, 10]\n",
    "    - [10] -> [10]\n",
    "    - [10, 20] -> [20, 10]\n",
    "\n",
    "**Level Up:**\n",
    "    without using extra array but you can use extra variable\n",
    "\n",
    "**Level Up:**\n",
    "    shift the arr by k places to left circularly without using extra array but you can use extra variable\n",
    "    Hint: Can you use the reversing logic to do the same\n",
    "    "
   ]
  },
  {
   "cell_type": "code",
   "execution_count": null,
   "metadata": {},
   "outputs": [],
   "source": []
  }
 ],
 "metadata": {
  "kernelspec": {
   "display_name": "Python 3",
   "language": "python",
   "name": "python3"
  },
  "language_info": {
   "codemirror_mode": {
    "name": "ipython",
    "version": 3
   },
   "file_extension": ".py",
   "mimetype": "text/x-python",
   "name": "python",
   "nbconvert_exporter": "python",
   "pygments_lexer": "ipython3",
   "version": "3.6.8"
  },
  "toc": {
   "base_numbering": 1,
   "nav_menu": {},
   "number_sections": true,
   "sideBar": true,
   "skip_h1_title": false,
   "title_cell": "Table of Contents",
   "title_sidebar": "Contents",
   "toc_cell": false,
   "toc_position": {},
   "toc_section_display": true,
   "toc_window_display": false
  }
 },
 "nbformat": 4,
 "nbformat_minor": 2
}
