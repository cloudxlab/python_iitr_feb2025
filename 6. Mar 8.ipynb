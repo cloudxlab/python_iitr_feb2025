{
 "cells": [
  {
   "cell_type": "markdown",
   "metadata": {},
   "source": [
    "## Question1:\n",
    "\n",
    "    * Given three lists of numbers, return the list of their XORs\n",
    "    * all three lists have same size\n",
    "\n",
    "    def xors(a1, a2, a3):\n",
    "        return [...]\n",
    "\n",
    "Example: \n",
    "    Input: xors([1], [2], [3]):\n",
    "    Output: [0]\n",
    "    \n",
    "    Input: xors([1, 2], [2, 3], [3, 4]):\n",
    "    Output: [0, 5]\n",
    "    "
   ]
  },
  {
   "cell_type": "code",
   "execution_count": 4,
   "metadata": {},
   "outputs": [
    {
     "name": "stdout",
     "output_type": "stream",
     "text": [
      "(15, 12, 9)\n"
     ]
    }
   ],
   "source": [
    "array1=[2,3,4]\n",
    "array2=[5,6,7]\n",
    "array3=[8,9,10]\n",
    "array4 = (array1[0]^array2[0]^array3[0], array1[1]^array2[1]^array3[1], array1[2]^array2[2]^array3[2])         \n",
    "print (array4)"
   ]
  },
  {
   "cell_type": "code",
   "execution_count": 5,
   "metadata": {},
   "outputs": [
    {
     "data": {
      "text/plain": [
       "15"
      ]
     },
     "execution_count": 5,
     "metadata": {},
     "output_type": "execute_result"
    }
   ],
   "source": [
    "2^5^8"
   ]
  },
  {
   "cell_type": "code",
   "execution_count": 6,
   "metadata": {},
   "outputs": [
    {
     "data": {
      "text/plain": [
       "12"
      ]
     },
     "execution_count": 6,
     "metadata": {},
     "output_type": "execute_result"
    }
   ],
   "source": [
    "3^6^9"
   ]
  },
  {
   "cell_type": "code",
   "execution_count": 7,
   "metadata": {},
   "outputs": [
    {
     "data": {
      "text/plain": [
       "9"
      ]
     },
     "execution_count": 7,
     "metadata": {},
     "output_type": "execute_result"
    }
   ],
   "source": [
    "4^7^10"
   ]
  },
  {
   "cell_type": "code",
   "execution_count": 64,
   "metadata": {},
   "outputs": [
    {
     "name": "stdout",
     "output_type": "stream",
     "text": [
      "Violation!!!\n"
     ]
    }
   ],
   "source": [
    "x = None\n",
    "if x == None:\n",
    "    print(\"Violation!!!\")"
   ]
  },
  {
   "cell_type": "code",
   "execution_count": 61,
   "metadata": {},
   "outputs": [],
   "source": [
    "# Jasmeen\n",
    "def xors(a1,a2,a3):\n",
    "    l = []\n",
    "    for i in range(len(a1)):\n",
    "        if i < len(a2) and i < len(a3):\n",
    "            # What if the values are None!\n",
    "            r = a1[i]^a2[i]^a3[i]\n",
    "            l.append(r)\n",
    "    return l"
   ]
  },
  {
   "cell_type": "code",
   "execution_count": 62,
   "metadata": {},
   "outputs": [
    {
     "data": {
      "text/plain": [
       "[15, 12, 9]"
      ]
     },
     "execution_count": 62,
     "metadata": {},
     "output_type": "execute_result"
    }
   ],
   "source": [
    "array1=[2,3,4]\n",
    "array2=[5,6,7]\n",
    "array3=[8,9,10]\n",
    "xors(array1, array2, array3)"
   ]
  },
  {
   "cell_type": "code",
   "execution_count": 12,
   "metadata": {},
   "outputs": [
    {
     "name": "stdout",
     "output_type": "stream",
     "text": [
      "1\n",
      "2\n",
      "3\n",
      "4\n"
     ]
    }
   ],
   "source": [
    "a = [1,2,3,4]\n",
    "for i in range(len(a)):\n",
    "    print(a[i])"
   ]
  },
  {
   "cell_type": "code",
   "execution_count": 14,
   "metadata": {},
   "outputs": [
    {
     "name": "stdout",
     "output_type": "stream",
     "text": [
      "1\n",
      "2\n",
      "3\n",
      "4\n"
     ]
    }
   ],
   "source": [
    "a = [1,2,3,4]\n",
    "for e in a:\n",
    "    print(e)"
   ]
  },
  {
   "cell_type": "code",
   "execution_count": 17,
   "metadata": {},
   "outputs": [
    {
     "name": "stdout",
     "output_type": "stream",
     "text": [
      "0 10\n",
      "1 20\n",
      "2 30\n",
      "3 40\n"
     ]
    }
   ],
   "source": [
    "a = [10,20,30,40]\n",
    "for i, e in enumerate(a):\n",
    "    print(i, e)"
   ]
  },
  {
   "cell_type": "code",
   "execution_count": 18,
   "metadata": {},
   "outputs": [
    {
     "name": "stdout",
     "output_type": "stream",
     "text": [
      "4 6\n",
      "5 7\n",
      "6 8\n",
      "7 9\n"
     ]
    }
   ],
   "source": [
    "a = [1,2,3,4,6,7, 8, 9]\n",
    "for i, e in enumerate(a):\n",
    "    if i != e - 1:\n",
    "        print(i, e)"
   ]
  },
  {
   "cell_type": "code",
   "execution_count": 21,
   "metadata": {},
   "outputs": [
    {
     "name": "stdout",
     "output_type": "stream",
     "text": [
      "1 <class 'int'>\n",
      "2.3 <class 'float'>\n",
      "sandeep <class 'str'>\n",
      "True <class 'bool'>\n",
      "False <class 'bool'>\n",
      "[1, 2, 3] <class 'list'>\n",
      "(2, 3) <class 'tuple'>\n"
     ]
    }
   ],
   "source": [
    "a = [1, 2.3, \"sandeep\", True, False, [1,2,3], (2,3)]\n",
    "for e in a:\n",
    "    print(e, type(e))"
   ]
  },
  {
   "cell_type": "code",
   "execution_count": 40,
   "metadata": {},
   "outputs": [],
   "source": [
    "def xors(a1,a2,a3):\n",
    "    if type(a1) != list:\n",
    "        print(\"a1 is not a list\")\n",
    "    else:\n",
    "        if len(a1) == 0:\n",
    "            print(\"a1 is empty\")\n",
    "        elif type(a1[0] != int):\n",
    "            print(\" the first element of a1 is not int\")\n",
    "        else:\n",
    "            print(\"we are good to go!\")"
   ]
  },
  {
   "cell_type": "code",
   "execution_count": 23,
   "metadata": {
    "scrolled": true
   },
   "outputs": [
    {
     "name": "stdout",
     "output_type": "stream",
     "text": [
      "a1 is not a list\n"
     ]
    }
   ],
   "source": [
    "xors(1, [2], [3])"
   ]
  },
  {
   "cell_type": "code",
   "execution_count": 24,
   "metadata": {},
   "outputs": [],
   "source": [
    "xors([1], [2], [3])"
   ]
  },
  {
   "cell_type": "code",
   "execution_count": 26,
   "metadata": {},
   "outputs": [
    {
     "data": {
      "text/plain": [
       "False"
      ]
     },
     "execution_count": 26,
     "metadata": {},
     "output_type": "execute_result"
    }
   ],
   "source": [
    "a = 3\n",
    "type(a) == float"
   ]
  },
  {
   "cell_type": "code",
   "execution_count": 27,
   "metadata": {},
   "outputs": [
    {
     "data": {
      "text/plain": [
       "3"
      ]
     },
     "execution_count": 27,
     "metadata": {},
     "output_type": "execute_result"
    }
   ],
   "source": [
    "a = 3.6\n",
    "int(a)"
   ]
  },
  {
   "cell_type": "code",
   "execution_count": 28,
   "metadata": {},
   "outputs": [
    {
     "data": {
      "text/plain": [
       "4.0"
      ]
     },
     "execution_count": 28,
     "metadata": {},
     "output_type": "execute_result"
    }
   ],
   "source": [
    "a = 4\n",
    "float(a)"
   ]
  },
  {
   "cell_type": "code",
   "execution_count": 29,
   "metadata": {},
   "outputs": [
    {
     "data": {
      "text/plain": [
       "'456'"
      ]
     },
     "execution_count": 29,
     "metadata": {},
     "output_type": "execute_result"
    }
   ],
   "source": [
    "num = 456\n",
    "str(num)"
   ]
  },
  {
   "cell_type": "code",
   "execution_count": 30,
   "metadata": {},
   "outputs": [
    {
     "data": {
      "text/plain": [
       "234"
      ]
     },
     "execution_count": 30,
     "metadata": {},
     "output_type": "execute_result"
    }
   ],
   "source": [
    "numb = \"234\"\n",
    "int(numb)"
   ]
  },
  {
   "cell_type": "code",
   "execution_count": 33,
   "metadata": {},
   "outputs": [],
   "source": [
    "def revers(a):\n",
    "    return a[::-1]"
   ]
  },
  {
   "cell_type": "code",
   "execution_count": 36,
   "metadata": {},
   "outputs": [
    {
     "data": {
      "text/plain": [
       "[3, 2, 1]"
      ]
     },
     "execution_count": 36,
     "metadata": {},
     "output_type": "execute_result"
    }
   ],
   "source": [
    "revers([1,2,3])"
   ]
  },
  {
   "cell_type": "code",
   "execution_count": 35,
   "metadata": {},
   "outputs": [
    {
     "name": "stdout",
     "output_type": "stream",
     "text": [
      "9\n",
      "8\n",
      "7\n",
      "6\n",
      "4\n",
      "3\n",
      "2\n",
      "1\n"
     ]
    }
   ],
   "source": [
    "a = [1,2,3,4,6,7, 8, 9]\n",
    "for e in revers(a):\n",
    "    print(e)"
   ]
  },
  {
   "cell_type": "code",
   "execution_count": 38,
   "metadata": {},
   "outputs": [
    {
     "name": "stdout",
     "output_type": "stream",
     "text": [
      "0 sandeep\n",
      "1 raviteja\n",
      "2 manish\n",
      "3 sourabh\n"
     ]
    }
   ],
   "source": [
    "names = [\"sandeep\", \"raviteja\", \"manish\", \"sourabh\"]\n",
    "i = 0\n",
    "for name in names:\n",
    "    print(i, name)\n",
    "    i += 1"
   ]
  },
  {
   "cell_type": "code",
   "execution_count": 39,
   "metadata": {},
   "outputs": [
    {
     "name": "stdout",
     "output_type": "stream",
     "text": [
      "0 sandeep\n",
      "1 raviteja\n",
      "2 manish\n",
      "3 sourabh\n"
     ]
    }
   ],
   "source": [
    "names = [\"sandeep\", \"raviteja\", \"manish\", \"sourabh\"]\n",
    "for i, name in enumerate(names):\n",
    "    print(i, name)"
   ]
  },
  {
   "cell_type": "code",
   "execution_count": 51,
   "metadata": {},
   "outputs": [],
   "source": [
    "def add(num1: int, num2: int) -> int:\n",
    "    return num1 + num2"
   ]
  },
  {
   "cell_type": "markdown",
   "metadata": {},
   "source": [
    "See https://docs.python.org/3/library/typing.html"
   ]
  },
  {
   "cell_type": "code",
   "execution_count": 42,
   "metadata": {},
   "outputs": [
    {
     "data": {
      "text/plain": [
       "7"
      ]
     },
     "execution_count": 42,
     "metadata": {},
     "output_type": "execute_result"
    }
   ],
   "source": [
    "add(3, 4)"
   ]
  },
  {
   "cell_type": "code",
   "execution_count": 44,
   "metadata": {},
   "outputs": [
    {
     "data": {
      "text/plain": [
       "'34'"
      ]
     },
     "execution_count": 44,
     "metadata": {},
     "output_type": "execute_result"
    }
   ],
   "source": [
    "add(\"3\", \"4\")"
   ]
  },
  {
   "cell_type": "code",
   "execution_count": 45,
   "metadata": {
    "scrolled": true
   },
   "outputs": [
    {
     "data": {
      "text/plain": [
       "[1, 2, 3, 4]"
      ]
     },
     "execution_count": 45,
     "metadata": {},
     "output_type": "execute_result"
    }
   ],
   "source": [
    "add([1,2], [3,4])"
   ]
  },
  {
   "cell_type": "code",
   "execution_count": 46,
   "metadata": {},
   "outputs": [],
   "source": [
    "names = [\"sandeep\", \"raviteja\", \"manish\", \"sourabh\"]\n",
    "other = [1, 2, 3, 4]"
   ]
  },
  {
   "cell_type": "code",
   "execution_count": 48,
   "metadata": {},
   "outputs": [],
   "source": [
    "result = [(1, \"sandeep\"), (2, \"raviteja\"), (3, \"manish\")]"
   ]
  },
  {
   "cell_type": "code",
   "execution_count": 49,
   "metadata": {},
   "outputs": [],
   "source": [
    "def my_zip(other, names):\n",
    "    output = []\n",
    "    for i in range(len(names)):\n",
    "        oe = (other[i], names[i])\n",
    "        output.append(oe)\n",
    "    return other"
   ]
  },
  {
   "cell_type": "code",
   "execution_count": 50,
   "metadata": {},
   "outputs": [
    {
     "name": "stdout",
     "output_type": "stream",
     "text": [
      "[(1, 'sandeep'), (2, 'raviteja'), (3, 'manish'), (4, 'sourabh')]\n"
     ]
    }
   ],
   "source": [
    "names = [\"sandeep\", \"raviteja\", \"manish\", \"sourabh\"]\n",
    "other = [1, 2, 3, 4]\n",
    "\n",
    "print(output)"
   ]
  },
  {
   "cell_type": "code",
   "execution_count": 57,
   "metadata": {},
   "outputs": [
    {
     "data": {
      "text/plain": [
       "[('sandeep', 1), ('raviteja', 2), ('manish', 3), ('sourabh', 4)]"
      ]
     },
     "execution_count": 57,
     "metadata": {},
     "output_type": "execute_result"
    }
   ],
   "source": [
    "list(zip(names, other))"
   ]
  },
  {
   "cell_type": "code",
   "execution_count": 52,
   "metadata": {},
   "outputs": [
    {
     "data": {
      "text/plain": [
       "1234"
      ]
     },
     "execution_count": 52,
     "metadata": {},
     "output_type": "execute_result"
    }
   ],
   "source": [
    "int(\"1234\")"
   ]
  },
  {
   "cell_type": "code",
   "execution_count": 54,
   "metadata": {},
   "outputs": [
    {
     "name": "stdout",
     "output_type": "stream",
     "text": [
      "12\n",
      "13\n",
      "14\n"
     ]
    }
   ],
   "source": [
    "numstr = [\"12\", \"13\", \"14\"]\n",
    "for e in numstr:\n",
    "    print(int(e))\n",
    "#map"
   ]
  },
  {
   "cell_type": "code",
   "execution_count": 60,
   "metadata": {},
   "outputs": [
    {
     "data": {
      "text/plain": [
       "[12, 13, 14]"
      ]
     },
     "execution_count": 60,
     "metadata": {},
     "output_type": "execute_result"
    }
   ],
   "source": [
    "list(map(int, numstr))"
   ]
  },
  {
   "cell_type": "code",
   "execution_count": null,
   "metadata": {},
   "outputs": [],
   "source": []
  },
  {
   "cell_type": "markdown",
   "metadata": {},
   "source": [
    "Print all n digit numbers in base m.\n",
    "\n",
    "Q:  Write a function to print all possible numbers of length n where each digit could go from 0 to m-1.\n",
    "\n",
    "Note: Don't use https://docs.python.org/3/library/itertools.html\n",
    "\n",
    "def generate(n,m):\n",
    "    <you code>\n",
    "    \n",
    "---\n",
    "generate(1, 3)\n",
    "0\n",
    "1\n",
    "2\n",
    "\n",
    "-\n",
    "generate(2, 2)\n",
    "00\n",
    "01\n",
    "10\n",
    "11\n",
    "\n",
    "-\n",
    "generate(3, 3)\n",
    "000\n",
    "001\n",
    "002\n",
    "010\n",
    "011\n",
    "012\n",
    "020\n",
    "021\n",
    "022\n",
    "100\n",
    "101\n",
    "102\n",
    "110\n",
    "111\n",
    "112\n",
    "120\n",
    "121\n",
    "122\n",
    "200\n",
    "201\n",
    "202\n",
    "210\n",
    "211\n",
    "212\n",
    "220\n",
    "221\n",
    "222\n",
    "\n"
   ]
  },
  {
   "cell_type": "code",
   "execution_count": null,
   "metadata": {},
   "outputs": [],
   "source": [
    "Q: Print all possible permutations of your name. Same length.\n",
    "    \n",
    "def perms(s):\n",
    "    ..."
   ]
  },
  {
   "cell_type": "code",
   "execution_count": null,
   "metadata": {},
   "outputs": [],
   "source": [
    "perms(\"abc\")\n",
    "\n",
    "abc\n",
    "acb\n",
    "bac\n",
    "bca\n",
    "cab\n",
    "cba\n"
   ]
  },
  {
   "cell_type": "code",
   "execution_count": null,
   "metadata": {},
   "outputs": [],
   "source": [
    "\"a\" -> [\"a\"]\n",
    "\"a\",\"b\" -> [\"b\", \"a\"], [\"a\", \"b\"]\n",
    "\"a\",\"b\", \"c\" -> \n",
    "[\"c\", \"b\", \"a\"],[\"b\",\"c\", \"a\"],[\"b\", \"a\", \"c\"] \n",
    "[\"c\", \"a\", \"b\"], [\"a\", \"c\", \"b\"], [\"a\", \"b\", \"c\"]"
   ]
  },
  {
   "cell_type": "code",
   "execution_count": null,
   "metadata": {},
   "outputs": [],
   "source": [
    "def perms(s):\n",
    "    if len(s) == 1:\n",
    "        return s\n",
    "    else:\n",
    "        last = s[-1]\n",
    "        result = perms(s[:-1])\n",
    "        # insert last into every position of ever element in result.\n",
    "        "
   ]
  },
  {
   "cell_type": "markdown",
   "metadata": {},
   "source": [
    "Q: You have two point in n-dimension, you have to compute a distance between them.\n"
   ]
  },
  {
   "cell_type": "code",
   "execution_count": 66,
   "metadata": {},
   "outputs": [],
   "source": [
    "def dist(A, B): \n",
    "    pass"
   ]
  },
  {
   "cell_type": "code",
   "execution_count": null,
   "metadata": {},
   "outputs": [],
   "source": [
    "dist([1,2], [3,4])\n",
    "math.sqrt((3-1)**2 + (4-2)**2) -> math.sqrt(4 + 4)"
   ]
  },
  {
   "cell_type": "code",
   "execution_count": 68,
   "metadata": {},
   "outputs": [],
   "source": [
    "import math"
   ]
  },
  {
   "cell_type": "code",
   "execution_count": 69,
   "metadata": {},
   "outputs": [
    {
     "data": {
      "text/plain": [
       "3.4641016151377544"
      ]
     },
     "execution_count": 69,
     "metadata": {},
     "output_type": "execute_result"
    }
   ],
   "source": [
    "# dist([1,2, 3], [3,4, 5])\n",
    "math.sqrt((3-1)**2 + (4-2)**2 + (5 - 3)**2)"
   ]
  },
  {
   "cell_type": "code",
   "execution_count": 70,
   "metadata": {},
   "outputs": [
    {
     "data": {
      "text/plain": [
       "4.58257569495584"
      ]
     },
     "execution_count": 70,
     "metadata": {},
     "output_type": "execute_result"
    }
   ],
   "source": [
    "# dist([1,2, 3, 5], [3,4, 5, 8])\n",
    "math.sqrt((3-1)**2 + (4-2)**2 + (5 - 3)**2 + (8-5)**2)"
   ]
  },
  {
   "cell_type": "code",
   "execution_count": 73,
   "metadata": {},
   "outputs": [
    {
     "name": "stdout",
     "output_type": "stream",
     "text": [
      "[890, 40, 60, 230, 10]\n"
     ]
    }
   ],
   "source": [
    "arr1=[10,230,890,40, 60]\n",
    "def shift_arr(arr,k):\n",
    "    for i in range(len(arr)-k):\n",
    "         x=  arr[i] + arr[i+k]\n",
    "         arr[i] = x-arr[i]\n",
    "         arr[i+k] = x-arr[i]\n",
    "         #print(arr)\n",
    "    return arr\n",
    "print(shift_arr(arr1,2))"
   ]
  },
  {
   "cell_type": "code",
   "execution_count": null,
   "metadata": {},
   "outputs": [],
   "source": [
    "lenth = 5\n",
    "k = 6 -> 1\n",
    "k = 11 -> 1\n",
    "k = 16 -> "
   ]
  },
  {
   "cell_type": "code",
   "execution_count": 74,
   "metadata": {},
   "outputs": [
    {
     "data": {
      "text/plain": [
       "1"
      ]
     },
     "execution_count": 74,
     "metadata": {},
     "output_type": "execute_result"
    }
   ],
   "source": [
    "16 %  5"
   ]
  },
  {
   "cell_type": "code",
   "execution_count": null,
   "metadata": {},
   "outputs": [],
   "source": [
    "def reverse(arr):\n",
    "    i, j = 0, len(arr) - 1\n",
    "    while i < j:\n",
    "        arr[i], arr[j] = arr[j], arr[i]\n",
    "        i += 1\n",
    "        j -= 1"
   ]
  },
  {
   "cell_type": "code",
   "execution_count": 80,
   "metadata": {},
   "outputs": [],
   "source": [
    "def reverse(arr, i, j):\n",
    "    while i < j:\n",
    "        arr[i], arr[j] = arr[j], arr[i]\n",
    "        i += 1\n",
    "        j -= 1"
   ]
  },
  {
   "cell_type": "code",
   "execution_count": 83,
   "metadata": {},
   "outputs": [
    {
     "data": {
      "text/plain": [
       "[6, 5, 4, 3, 2, 1, 7, 8, 9, 10]"
      ]
     },
     "execution_count": 83,
     "metadata": {},
     "output_type": "execute_result"
    }
   ],
   "source": [
    "a = [1,2,3,4,5,6,7,8,9, 10]\n",
    "reverse(a, 0, 5)\n",
    "a"
   ]
  },
  {
   "cell_type": "code",
   "execution_count": 86,
   "metadata": {},
   "outputs": [],
   "source": [
    "def shift_extraspace(arr, k):\n",
    "    # 123456, shift by 3 -> 456123\n",
    "    result = arr[k:]\n",
    "#     for e in arr[:k]:\n",
    "#         result.append(e)\n",
    "    result = result + arr[:k]\n",
    "    return result"
   ]
  },
  {
   "cell_type": "code",
   "execution_count": 87,
   "metadata": {},
   "outputs": [
    {
     "data": {
      "text/plain": [
       "[4, 5, 6, 7, 1, 2, 3]"
      ]
     },
     "execution_count": 87,
     "metadata": {},
     "output_type": "execute_result"
    }
   ],
   "source": [
    "shift_extraspace([1,2,3,4,5,6,7], 3)"
   ]
  },
  {
   "cell_type": "code",
   "execution_count": 88,
   "metadata": {},
   "outputs": [],
   "source": [
    "# 2L iterations\n",
    "# O(2L) -> O(L)\n",
    "def shift(arr, k):\n",
    "    reverse(arr, 0, k-1) # k\n",
    "    reverse(arr, k, len(arr)-1) # L - k\n",
    "    reverse(arr, 0, len(arr)-1) # L"
   ]
  },
  {
   "cell_type": "code",
   "execution_count": 90,
   "metadata": {},
   "outputs": [
    {
     "data": {
      "text/plain": [
       "[4, 5, 6, 7, 1, 2, 3]"
      ]
     },
     "execution_count": 90,
     "metadata": {},
     "output_type": "execute_result"
    }
   ],
   "source": [
    "a = [1,2,3,4,5,6,7]\n",
    "shift(a, 3)\n",
    "a"
   ]
  },
  {
   "cell_type": "code",
   "execution_count": null,
   "metadata": {},
   "outputs": [],
   "source": [
    "# O(n * L)\n",
    "def rotate_left(arr, n):\n",
    "    length = len(arr)\n",
    "    \n",
    "    for k in range(n):\n",
    "        first = arr[0]  \n",
    "        for i in range(length - 1):\n",
    "            arr[i] = arr[i] ^ arr[i + 1]\n",
    "            arr[i + 1] = arr[i + 1] ^ arr[i]\n",
    "            arr[i] = arr[i] ^ arr[i + 1]\n",
    "        arr[length - 1] = first  \n",
    "    return arr"
   ]
  },
  {
   "cell_type": "code",
   "execution_count": null,
   "metadata": {},
   "outputs": [],
   "source": []
  },
  {
   "cell_type": "code",
   "execution_count": null,
   "metadata": {},
   "outputs": [],
   "source": [
    "#Level Up: shift the arr by k places to left circularly without using extra array but you can use extra variable Hint: Can you use the reversing logic to do the same\n",
    "# Sourabh\n",
    "def advShiftArrByK(arr,k):\n",
    "    lenghOfArray=len(arr)\n",
    "    if (k > lenghOfArray): # k = k % lenghOfArray\n",
    "        k=k- lenghOfArray\n",
    "    lengOfRemainingArray=lenghOfArray-k\n",
    "# reverse first k elements\n",
    "    for i in range(k//2):\n",
    "        arr[i]=arr[i]^arr[k-i-1]\n",
    "        arr[k-i-1]=arr[i]^arr[k-i-1]\n",
    "        arr[i]=arr[i]^arr[k-i-1]\n",
    "#    print (arr)\n",
    "#reverse remaining lenghOfArray-k elements\n",
    "    for i in range(lengOfRemainingArray//2):\n",
    "        arr[k+i]=arr[k+i]^arr[lenghOfArray-i-1]\n",
    "        arr[lenghOfArray-i-1]=arr[k+i]^arr[lenghOfArray-i-1]\n",
    "        arr[k+i]=arr[k+i]^arr[lenghOfArray-i-1]\n",
    "#    print (arr)\n",
    "#reverse entire array\n",
    "    for  i in range( lenghOfArray//2  ) :\n",
    "        arr[i]=arr[i]^arr[lenghOfArray-i-1]\n",
    "        arr[lenghOfArray-i-1]=arr[i]^arr[lenghOfArray-i-1]\n",
    "        arr[i]=arr[i]^arr[lenghOfArray-i-1]\n",
    "    return (arr);"
   ]
  },
  {
   "cell_type": "code",
   "execution_count": null,
   "metadata": {},
   "outputs": [],
   "source": []
  },
  {
   "cell_type": "code",
   "execution_count": null,
   "metadata": {},
   "outputs": [],
   "source": [
    "#Q:\n",
    "# # Designing thermometer\n",
    "# when current 1, the teperature was 30\n",
    "# when currrent 2, the temperature was 35\n",
    "# when current will be 3, what would be the temperature 40\n",
    "# current = 4, temp = 45\n",
    "# current 2.1, temp = 35.5"
   ]
  },
  {
   "cell_type": "code",
   "execution_count": 91,
   "metadata": {},
   "outputs": [
    {
     "ename": "SyntaxError",
     "evalue": "invalid syntax (<ipython-input-91-b249662e3d7d>, line 1)",
     "output_type": "error",
     "traceback": [
      "\u001b[0;36m  File \u001b[0;32m\"<ipython-input-91-b249662e3d7d>\"\u001b[0;36m, line \u001b[0;32m1\u001b[0m\n\u001b[0;31m    1. Time complexity -> Order Of(How many elements)\u001b[0m\n\u001b[0m          ^\u001b[0m\n\u001b[0;31mSyntaxError\u001b[0m\u001b[0;31m:\u001b[0m invalid syntax\n"
     ]
    }
   ],
   "source": [
    "1. Time complexity -> Order Of(How many elements)\n",
    "2. Memory / Space Complexity -> Order of (How many elements)"
   ]
  },
  {
   "cell_type": "code",
   "execution_count": 93,
   "metadata": {},
   "outputs": [
    {
     "data": {
      "text/plain": [
       "2"
      ]
     },
     "execution_count": 93,
     "metadata": {},
     "output_type": "execute_result"
    }
   ],
   "source": [
    "min([10,2,3,4])"
   ]
  },
  {
   "cell_type": "code",
   "execution_count": null,
   "metadata": {},
   "outputs": [],
   "source": [
    "order of n-1 -> order of n."
   ]
  },
  {
   "cell_type": "code",
   "execution_count": 94,
   "metadata": {},
   "outputs": [],
   "source": [
    "def mymin(arr):\n",
    "    result = arr[0]\n",
    "    for i in range(1, len(arr)):\n",
    "        if arr[i] < result:\n",
    "            result = arr[i]\n",
    "    return result"
   ]
  },
  {
   "cell_type": "code",
   "execution_count": 96,
   "metadata": {},
   "outputs": [
    {
     "data": {
      "text/plain": [
       "-4"
      ]
     },
     "execution_count": 96,
     "metadata": {},
     "output_type": "execute_result"
    }
   ],
   "source": [
    "mymin([10,2,3,-4])"
   ]
  },
  {
   "cell_type": "code",
   "execution_count": 104,
   "metadata": {},
   "outputs": [
    {
     "data": {
      "text/plain": [
       "9223372036854775807"
      ]
     },
     "execution_count": 104,
     "metadata": {},
     "output_type": "execute_result"
    }
   ],
   "source": [
    "import sys\n",
    "sys.maxsize"
   ]
  },
  {
   "cell_type": "code",
   "execution_count": 102,
   "metadata": {},
   "outputs": [],
   "source": [
    "def mymin1(arr):\n",
    "    result = sys.maxsize\n",
    "    for e in arr:\n",
    "        if e < result:\n",
    "            result = e\n",
    "    return result"
   ]
  },
  {
   "cell_type": "code",
   "execution_count": 103,
   "metadata": {},
   "outputs": [
    {
     "data": {
      "text/plain": [
       "4"
      ]
     },
     "execution_count": 103,
     "metadata": {},
     "output_type": "execute_result"
    }
   ],
   "source": [
    "mymin1([4,5,6])"
   ]
  },
  {
   "cell_type": "code",
   "execution_count": 105,
   "metadata": {},
   "outputs": [],
   "source": [
    "def mymin2(arr):\n",
    "    arr.sort() # n*log(n)\n",
    "    return arr[0]"
   ]
  },
  {
   "cell_type": "code",
   "execution_count": 106,
   "metadata": {},
   "outputs": [
    {
     "data": {
      "text/plain": [
       "-50"
      ]
     },
     "execution_count": 106,
     "metadata": {},
     "output_type": "execute_result"
    }
   ],
   "source": [
    "mymin([4,5,6, -2, 10, 100, -50, 1000])"
   ]
  },
  {
   "cell_type": "code",
   "execution_count": null,
   "metadata": {},
   "outputs": [],
   "source": [
    "order is n*log(n)"
   ]
  },
  {
   "cell_type": "code",
   "execution_count": null,
   "metadata": {},
   "outputs": [],
   "source": [
    "def min_head(arr, k):\n",
    "    # Give me k smallest numbers\n",
    "    # We will iterative call our min method k times\n",
    "    # Order(n*k)"
   ]
  },
  {
   "cell_type": "code",
   "execution_count": 107,
   "metadata": {},
   "outputs": [],
   "source": [
    "def min_head(arr, k):\n",
    "    arr.sort() # Order(n*log(n) )\n",
    "    return arr[:k]"
   ]
  },
  {
   "cell_type": "code",
   "execution_count": 108,
   "metadata": {},
   "outputs": [],
   "source": [
    "# Sourabh -> min_heap"
   ]
  },
  {
   "cell_type": "code",
   "execution_count": 111,
   "metadata": {},
   "outputs": [
    {
     "data": {
      "text/plain": [
       "1.5854895991882294"
      ]
     },
     "execution_count": 111,
     "metadata": {},
     "output_type": "execute_result"
    }
   ],
   "source": [
    "10**7 * 5/3600 / 24 / 365"
   ]
  },
  {
   "cell_type": "code",
   "execution_count": 113,
   "metadata": {},
   "outputs": [
    {
     "data": {
      "text/plain": [
       "8.333333333333334"
      ]
     },
     "execution_count": 113,
     "metadata": {},
     "output_type": "execute_result"
    }
   ],
   "source": [
    "10**2 * 5 / 60"
   ]
  },
  {
   "cell_type": "code",
   "execution_count": null,
   "metadata": {},
   "outputs": [],
   "source": [
    "#Q:\n",
    "# # Designing thermometer\n",
    "# when current 1, the teperature was 30\n",
    "# when currrent 2, the temperature was 35\n",
    "# when current will be 3, what would be the temperature 40\n",
    "# current = 4, temp = 45\n",
    "# current 2.1, temp = 35.5"
   ]
  },
  {
   "cell_type": "code",
   "execution_count": 114,
   "metadata": {},
   "outputs": [],
   "source": [
    "# i1 -> t1\n",
    "# i2 -> t2\n",
    "\n",
    "# ---\n",
    "# (i2 - i1) --> (t2 - t1)\n",
    "# 1 -- (t2 - t1)/(i2 - i1) # Lets call it m\n",
    "# (x - i1) -> (x - i1) * m\n",
    "\n",
    "# temperature for x will be t1 + (x - i1) * m"
   ]
  },
  {
   "cell_type": "code",
   "execution_count": 1,
   "metadata": {},
   "outputs": [
    {
     "name": "stdout",
     "output_type": "stream",
     "text": [
      "x1,y1: (1, 34.5)\n",
      "x2,y2: (2, 35.1)\n",
      "m:0.6000000000000014\n",
      "y:34.5\n",
      "x:1\n",
      "c:33.9\n"
     ]
    },
    {
     "data": {
      "text/plain": [
       "35.04"
      ]
     },
     "execution_count": 1,
     "metadata": {},
     "output_type": "execute_result"
    }
   ],
   "source": [
    "# Smruti\n",
    "#calibration_data = [[1,30], [2,35], [3,40], [4,45]]\n",
    "calibration_data = [[1,34.5], [2,35.1], [3,35.70], [4,36.30]]\n",
    "# y = m*x + c\n",
    "# y = (y2-y1)//(x2-x1) + C\n",
    "# y = (35-30)//(2-1)* x + C\n",
    "# y = 5*x+c \n",
    "\n",
    "# y1 = 30, x1=1\n",
    "\n",
    "#30 = 5*1+c\n",
    "#30-5 = c\n",
    "#25 = c\n",
    "\n",
    "\n",
    "def find_slope(arr):\n",
    "    if len(arr) < 2 :\n",
    "        return -1\n",
    "    else :\n",
    "        length = len(arr);\n",
    "        x1,y1 = arr[0][0],arr[0][1]\n",
    "        x2,y2 = arr[1][0],arr[1][1]\n",
    "        print(f\"x1,y1: {x1,y1}\")\n",
    "        print(f\"x2,y2: {x2,y2}\")\n",
    "        return (y2-y1)/(x2-x1) \n",
    "    \n",
    "def calculate_intercept(calibration_data,m) :\n",
    "    y = calibration_data[0][1]\n",
    "    print(f\"y:{y}\")\n",
    "    \n",
    "    x = calibration_data[0][0]\n",
    "    print(f\"x:{x}\")\n",
    "    \n",
    "    return y-(m*x)\n",
    "    \n",
    "def tell_temp(calibration_data, current):\n",
    "    m = find_slope(calibration_data)\n",
    "    print(f\"m:{m}\")\n",
    "    \n",
    "    c = calculate_intercept(calibration_data,m)\n",
    "    print(f\"c:{c}\")\n",
    "    \n",
    "    return m*current+c\n",
    "\n",
    "tell_temp(calibration_data,1.9)"
   ]
  },
  {
   "cell_type": "code",
   "execution_count": 2,
   "metadata": {},
   "outputs": [],
   "source": [
    "#tej\n",
    "\n",
    "calibration_data = [[1,30], [2,35]]\n",
    "def tell_temp(calibration_data, current):\n",
    "    \n",
    "    \n",
    "    m= (y2-y1)/(x2-x1)\n",
    "    c= y1-m*x1\n",
    "    temperature=(m*current) + c\n",
    "    \n",
    "    return temperature"
   ]
  },
  {
   "cell_type": "code",
   "execution_count": 3,
   "metadata": {},
   "outputs": [],
   "source": [
    "def fit(data):\n",
    "    y1,y2=data[0][1],data[1][1]\n",
    "    x1,x2=data[0][0],data[1][0]\n",
    "    m= (y2-y1)/(x2-x1)\n",
    "    c= y1-m*x1\n",
    "    return [m, c]"
   ]
  },
  {
   "cell_type": "code",
   "execution_count": 6,
   "metadata": {},
   "outputs": [
    {
     "data": {
      "text/plain": [
       "75.0"
      ]
     },
     "execution_count": 6,
     "metadata": {},
     "output_type": "execute_result"
    }
   ],
   "source": [
    "calibration_data = [[1,30], [2,35]]\n",
    "\n",
    "model = fit(calibration_data)\n",
    "\n",
    "def predict(model, x):\n",
    "    m, c = model\n",
    "    return x*m + c\n",
    "\n",
    "predict(model, 10)"
   ]
  },
  {
   "cell_type": "markdown",
   "metadata": {},
   "source": [
    "# Level Up:\n",
    "\n",
    "We need to predict the load on our website in near realtime.\n",
    "\n",
    "t = 0, load = 10\n",
    "t = 1, load = 15\n",
    "t = 2, load = 30\n",
    "t = 3, load = ?\n",
    "t = 4, load = ?\n",
    "\n",
    "First write a method called fit(data) that returns a model\n",
    "and then write a method called predict(model, time) that returns the load\n",
    "\n",
    "It is known the load on the website is a non-linear equations i.e.\n",
    "load = a * t^2 + b * t + c\n",
    "\n",
    "\n",
    "Start with pen and papers. Do it manually first and then come up with a stragetegy to do with code.\n"
   ]
  },
  {
   "cell_type": "code",
   "execution_count": null,
   "metadata": {},
   "outputs": [],
   "source": []
  }
 ],
 "metadata": {
  "kernelspec": {
   "display_name": "Python 3",
   "language": "python",
   "name": "python3"
  },
  "language_info": {
   "codemirror_mode": {
    "name": "ipython",
    "version": 3
   },
   "file_extension": ".py",
   "mimetype": "text/x-python",
   "name": "python",
   "nbconvert_exporter": "python",
   "pygments_lexer": "ipython3",
   "version": "3.6.8"
  },
  "toc": {
   "base_numbering": 1,
   "nav_menu": {},
   "number_sections": true,
   "sideBar": true,
   "skip_h1_title": false,
   "title_cell": "Table of Contents",
   "title_sidebar": "Contents",
   "toc_cell": false,
   "toc_position": {},
   "toc_section_display": true,
   "toc_window_display": false
  }
 },
 "nbformat": 4,
 "nbformat_minor": 2
}
