{
 "cells": [
  {
   "cell_type": "raw",
   "id": "193f8e5f",
   "metadata": {
    "vscode": {
     "languageId": "raw"
    }
   },
   "source": [
    "+ Gradient Descent\n",
    "---\n",
    "X, y --> Model\n",
    "\n",
    "X --> Model ---> y\n",
    "\n",
    "---\n",
    "Model:\n",
    "    + classical\n",
    "    + NN\n",
    "        - Dense\n",
    "        - Images -> CNN\n",
    "        - Sequence (Stocks, Music, Videos, Text)\n",
    "            |--> Dense\n",
    "            |- RNN\n",
    "            |- LSTM\n",
    "            |- GRU\n",
    "            |- BERT\n",
    "            |- 1D Conv\n",
    "            |- Wavenet\n",
    "            |...\n",
    "        - Seuence of Images\n",
    "            |- RNN & CNN\n",
    "\n",
    "The spirit is willing, but the flesh is weak. -> russian --> “The whiskey is strong, but the meat is rotten.” \n",
    "\n",
    "100 languages.\n",
    "\n",
    "how many translators?\n",
    "    - 100 * 99 \n",
    "\n",
    "English -- EN --> Intermediate Lang -- DE --> \n",
    "\n",
    "Intermediate Language:\n",
    "    - Lisp\n",
    "    - Germen\n",
    "    - Sanskrit\n",
    "\n",
    "---\n",
    "Intermediate Lang:\n",
    "    - Vectors\n",
    "\n",
    "EN & DE: \n",
    "    - Self learning instead human coded.\n",
    "----\n",
    "\n",
    "\n"
   ]
  },
  {
   "cell_type": "raw",
   "id": "611f15e3",
   "metadata": {
    "vscode": {
     "languageId": "raw"
    }
   },
   "source": [
    "The spirit is willing, but the flesh is weak.\n",
    "\n",
    "The spirit is willing -> ,\n",
    "The spirit is willing, ->. \n",
    "The spirit is willing, -> b\n",
    "The spirit is willing, b -> u\n",
    "The spirit is willing, bu -> t\n"
   ]
  },
  {
   "cell_type": "raw",
   "id": "2444c4bc",
   "metadata": {
    "vscode": {
     "languageId": "raw"
    }
   },
   "source": [
    "Char based GPT:\n",
    "    - 65 output / tokens\n",
    "    - The input is just too big.\n",
    "\n",
    "Tiktoken based GPT:\n",
    "    - Qu -> 100\n",
    "    ->     -> tab\n",
    "\n",
    "Word based GPT:\n",
    "    - 20,000 words\n",
    "    - Can't come up with new words."
   ]
  },
  {
   "cell_type": "raw",
   "id": "d1af6a21",
   "metadata": {},
   "source": []
  }
 ],
 "metadata": {
  "kernelspec": {
   "display_name": ".venv",
   "language": "python",
   "name": "python3"
  },
  "language_info": {
   "codemirror_mode": {
    "name": "ipython",
    "version": 3
   },
   "file_extension": ".py",
   "mimetype": "text/x-python",
   "name": "python",
   "nbconvert_exporter": "python",
   "pygments_lexer": "ipython3",
   "version": "3.12.2"
  }
 },
 "nbformat": 4,
 "nbformat_minor": 5
}
