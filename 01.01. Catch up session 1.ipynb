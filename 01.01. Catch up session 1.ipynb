{
 "cells": [
  {
   "cell_type": "code",
   "execution_count": 1,
   "metadata": {},
   "outputs": [],
   "source": [
    "import math"
   ]
  },
  {
   "cell_type": "code",
   "execution_count": 2,
   "metadata": {},
   "outputs": [
    {
     "data": {
      "text/plain": [
       "3"
      ]
     },
     "execution_count": 2,
     "metadata": {},
     "output_type": "execute_result"
    }
   ],
   "source": [
    "1+2"
   ]
  },
  {
   "cell_type": "code",
   "execution_count": 3,
   "metadata": {},
   "outputs": [
    {
     "name": "stdout",
     "output_type": "stream",
     "text": [
      "1\n"
     ]
    }
   ],
   "source": [
    "x = 1 \n",
    "print(x)"
   ]
  },
  {
   "cell_type": "code",
   "execution_count": 4,
   "metadata": {},
   "outputs": [
    {
     "data": {
      "text/plain": [
       "3.1622776601683795"
      ]
     },
     "execution_count": 4,
     "metadata": {},
     "output_type": "execute_result"
    }
   ],
   "source": [
    "math.sqrt(10)"
   ]
  },
  {
   "cell_type": "code",
   "execution_count": 5,
   "metadata": {},
   "outputs": [
    {
     "data": {
      "text/plain": [
       "25"
      ]
     },
     "execution_count": 5,
     "metadata": {},
     "output_type": "execute_result"
    }
   ],
   "source": [
    "x = 5\n",
    "x*x"
   ]
  },
  {
   "cell_type": "code",
   "execution_count": 11,
   "metadata": {},
   "outputs": [],
   "source": [
    "# Calulate sqrt of 10"
   ]
  },
  {
   "cell_type": "code",
   "execution_count": 35,
   "metadata": {},
   "outputs": [],
   "source": [
    "l = 0\n",
    "r = 10"
   ]
  },
  {
   "cell_type": "code",
   "execution_count": 25,
   "metadata": {},
   "outputs": [
    {
     "name": "stdout",
     "output_type": "stream",
     "text": [
      "Guess: 3.75\n",
      "14.0625\n"
     ]
    }
   ],
   "source": [
    "guess = (l + r)/2\n",
    "print(f\"Guess: {guess}\")\n",
    "print(guess**2)"
   ]
  },
  {
   "cell_type": "code",
   "execution_count": 21,
   "metadata": {},
   "outputs": [],
   "source": [
    "r = guess"
   ]
  },
  {
   "cell_type": "code",
   "execution_count": 24,
   "metadata": {},
   "outputs": [],
   "source": [
    "l = guess"
   ]
  },
  {
   "cell_type": "code",
   "execution_count": 113,
   "metadata": {},
   "outputs": [],
   "source": [
    "num = 30 # Find sqrt of 10\n",
    "l = 0\n",
    "r = num"
   ]
  },
  {
   "cell_type": "code",
   "execution_count": 118,
   "metadata": {},
   "outputs": [
    {
     "name": "stdout",
     "output_type": "stream",
     "text": [
      "Choosing a number between 3.75 and 7.5\n",
      "Guessed: 5.625\n",
      "Result: 31.640625\n",
      "<<<\n"
     ]
    }
   ],
   "source": [
    "print(f\"Choosing a number between {l} and {r}\")\n",
    "guess = (l + r)/2\n",
    "print(f\"Guessed: {guess}\")\n",
    "result = guess*guess\n",
    "print(f\"Result: {result}\")\n",
    "if abs(result - num) < 0.000001:\n",
    "    print(f\"We found the answer. The answer is : {guess}\")\n",
    "if result > num:\n",
    "    r = guess\n",
    "    print(\"<<<\")\n",
    "else:\n",
    "    l = guess\n",
    "    print(\">>>\")"
   ]
  },
  {
   "cell_type": "code",
   "execution_count": 117,
   "metadata": {},
   "outputs": [],
   "source": [
    "# Rercusion\n",
    "# for - loop\n",
    "# while - loop\n"
   ]
  },
  {
   "cell_type": "code",
   "execution_count": 109,
   "metadata": {},
   "outputs": [
    {
     "data": {
      "text/plain": [
       "30"
      ]
     },
     "execution_count": 109,
     "metadata": {},
     "output_type": "execute_result"
    }
   ],
   "source": [
    "num"
   ]
  },
  {
   "cell_type": "code",
   "execution_count": 110,
   "metadata": {},
   "outputs": [
    {
     "name": "stdout",
     "output_type": "stream",
     "text": [
      "We are finding the sqrt of  30\n"
     ]
    }
   ],
   "source": [
    "print(\"We are finding the sqrt of \", num)"
   ]
  },
  {
   "cell_type": "code",
   "execution_count": 111,
   "metadata": {},
   "outputs": [
    {
     "name": "stdout",
     "output_type": "stream",
     "text": [
      "We are finding the sqrt of {num}......\n"
     ]
    }
   ],
   "source": [
    "print(\"We are finding the sqrt of {num}......\")"
   ]
  },
  {
   "cell_type": "code",
   "execution_count": 112,
   "metadata": {},
   "outputs": [
    {
     "name": "stdout",
     "output_type": "stream",
     "text": [
      "We are finding the sqrt of 30......\n"
     ]
    }
   ],
   "source": [
    "print(f\"We are finding the sqrt of {num}......\")"
   ]
  },
  {
   "cell_type": "code",
   "execution_count": 121,
   "metadata": {},
   "outputs": [
    {
     "name": "stdout",
     "output_type": "stream",
     "text": [
      "Choosing a number between 0 and 30\n",
      "Guessed: 15.0\n",
      "Result: 225.0\n",
      "<<<\n",
      "Choosing a number between 0 and 15.0\n",
      "Guessed: 7.5\n",
      "Result: 56.25\n",
      "<<<\n",
      "Choosing a number between 0 and 7.5\n",
      "Guessed: 3.75\n",
      "Result: 14.0625\n",
      ">>>\n",
      "Choosing a number between 3.75 and 7.5\n",
      "Guessed: 5.625\n",
      "Result: 31.640625\n",
      "<<<\n",
      "Choosing a number between 3.75 and 5.625\n",
      "Guessed: 4.6875\n",
      "Result: 21.97265625\n",
      ">>>\n",
      "Choosing a number between 4.6875 and 5.625\n",
      "Guessed: 5.15625\n",
      "Result: 26.5869140625\n",
      ">>>\n",
      "Choosing a number between 5.15625 and 5.625\n",
      "Guessed: 5.390625\n",
      "Result: 29.058837890625\n",
      ">>>\n",
      "Choosing a number between 5.390625 and 5.625\n",
      "Guessed: 5.5078125\n",
      "Result: 30.33599853515625\n",
      "<<<\n",
      "Choosing a number between 5.390625 and 5.5078125\n",
      "Guessed: 5.44921875\n",
      "Result: 29.693984985351562\n",
      ">>>\n",
      "Choosing a number between 5.44921875 and 5.5078125\n",
      "Guessed: 5.478515625\n",
      "Result: 30.01413345336914\n",
      "<<<\n",
      "Choosing a number between 5.44921875 and 5.478515625\n",
      "Guessed: 5.4638671875\n",
      "Result: 29.85384464263916\n",
      ">>>\n",
      "Choosing a number between 5.4638671875 and 5.478515625\n",
      "Guessed: 5.47119140625\n",
      "Result: 29.933935403823853\n",
      ">>>\n",
      "Choosing a number between 5.47119140625 and 5.478515625\n",
      "Guessed: 5.474853515625\n",
      "Result: 29.974021017551422\n",
      ">>>\n",
      "Choosing a number between 5.474853515625 and 5.478515625\n",
      "Guessed: 5.4766845703125\n",
      "Result: 29.994073882699013\n",
      ">>>\n",
      "Choosing a number between 5.4766845703125 and 5.478515625\n",
      "Guessed: 5.47760009765625\n",
      "Result: 30.00410282984376\n",
      "<<<\n",
      "Choosing a number between 5.4766845703125 and 5.47760009765625\n",
      "Guessed: 5.477142333984375\n",
      "Result: 29.999088146723807\n",
      ">>>\n",
      "Choosing a number between 5.477142333984375 and 5.47760009765625\n",
      "Guessed: 5.4773712158203125\n",
      "Result: 30.00159543589689\n",
      "<<<\n",
      "Choosing a number between 5.477142333984375 and 5.4773712158203125\n",
      "Guessed: 5.477256774902344\n",
      "Result: 30.000341778213624\n",
      "<<<\n",
      "Choosing a number between 5.477142333984375 and 5.477256774902344\n",
      "Guessed: 5.477199554443359\n",
      "Result: 29.999714959194534\n",
      ">>>\n",
      "Choosing a number between 5.477199554443359 and 5.477256774902344\n",
      "Guessed: 5.477228164672852\n",
      "Result: 30.000028367885534\n",
      "<<<\n",
      "Choosing a number between 5.477199554443359 and 5.477228164672852\n",
      "Guessed: 5.4772138595581055\n",
      "Result: 29.999871663335398\n",
      ">>>\n",
      "Choosing a number between 5.4772138595581055 and 5.477228164672852\n",
      "Guessed: 5.4772210121154785\n",
      "Result: 29.999950015559307\n",
      ">>>\n",
      "Choosing a number between 5.4772210121154785 and 5.477228164672852\n",
      "Guessed: 5.477224588394165\n",
      "Result: 29.99998919170963\n",
      ">>>\n",
      "Choosing a number between 5.477224588394165 and 5.477228164672852\n",
      "Guessed: 5.477226376533508\n",
      "Result: 30.000008779794385\n",
      "<<<\n",
      "Choosing a number between 5.477224588394165 and 5.477226376533508\n",
      "Guessed: 5.477225482463837\n",
      "Result: 29.99999898575121\n",
      ">>>\n",
      "Choosing a number between 5.477225482463837 and 5.477226376533508\n",
      "Guessed: 5.4772259294986725\n",
      "Result: 30.000003882772596\n",
      "<<<\n",
      "Choosing a number between 5.477225482463837 and 5.4772259294986725\n",
      "Guessed: 5.477225705981255\n",
      "Result: 30.000001434261854\n",
      "<<<\n",
      "Choosing a number between 5.477225482463837 and 5.477225705981255\n",
      "Guessed: 5.477225594222546\n",
      "Result: 30.00000021000652\n",
      "We found the answer. The answer is : 5.477225594222546\n"
     ]
    }
   ],
   "source": [
    "num = 30 # Find sqrt of 10\n",
    "l = 0\n",
    "r = num\n",
    "while True:\n",
    "    print(f\"Choosing a number between {l} and {r}\")\n",
    "    guess = (l + r)/2\n",
    "    print(f\"Guessed: {guess}\")\n",
    "    result = guess*guess\n",
    "    print(f\"Result: {result}\")\n",
    "    if abs(result - num) < 0.000001:\n",
    "        print(f\"We found the answer. The answer is : {guess}\")\n",
    "        break\n",
    "    if result > num:\n",
    "        r = guess\n",
    "        print(\"<<<\")\n",
    "    else:\n",
    "        l = guess\n",
    "        print(\">>>\")"
   ]
  },
  {
   "cell_type": "code",
   "execution_count": 124,
   "metadata": {},
   "outputs": [],
   "source": [
    "def sq(x):\n",
    "    return x*x"
   ]
  },
  {
   "cell_type": "code",
   "execution_count": 125,
   "metadata": {},
   "outputs": [
    {
     "data": {
      "text/plain": [
       "100"
      ]
     },
     "execution_count": 125,
     "metadata": {},
     "output_type": "execute_result"
    }
   ],
   "source": [
    "sq(10)"
   ]
  },
  {
   "cell_type": "code",
   "execution_count": 126,
   "metadata": {},
   "outputs": [],
   "source": [
    "def cube(x):\n",
    "    return x*x*x"
   ]
  },
  {
   "cell_type": "code",
   "execution_count": 128,
   "metadata": {},
   "outputs": [
    {
     "name": "stdout",
     "output_type": "stream",
     "text": [
      "1000\n"
     ]
    }
   ],
   "source": [
    "y = cube(10)  \n",
    "print(y)"
   ]
  },
  {
   "cell_type": "code",
   "execution_count": 129,
   "metadata": {},
   "outputs": [],
   "source": [
    "def dosomething():\n",
    "    pass"
   ]
  },
  {
   "cell_type": "code",
   "execution_count": 130,
   "metadata": {},
   "outputs": [],
   "source": [
    "dosomething()"
   ]
  },
  {
   "cell_type": "code",
   "execution_count": 136,
   "metadata": {},
   "outputs": [
    {
     "data": {
      "text/plain": [
       "1"
      ]
     },
     "execution_count": 136,
     "metadata": {},
     "output_type": "execute_result"
    }
   ],
   "source": [
    "abs(-1)"
   ]
  },
  {
   "cell_type": "code",
   "execution_count": 137,
   "metadata": {},
   "outputs": [
    {
     "data": {
      "text/plain": [
       "1"
      ]
     },
     "execution_count": 137,
     "metadata": {},
     "output_type": "execute_result"
    }
   ],
   "source": [
    "abs(1)"
   ]
  },
  {
   "cell_type": "code",
   "execution_count": 138,
   "metadata": {},
   "outputs": [
    {
     "data": {
      "text/plain": [
       "3"
      ]
     },
     "execution_count": 138,
     "metadata": {},
     "output_type": "execute_result"
    }
   ],
   "source": [
    "abs(-3)"
   ]
  },
  {
   "cell_type": "code",
   "execution_count": 139,
   "metadata": {},
   "outputs": [],
   "source": [
    "def myabs(x):\n",
    "    if x < 0:\n",
    "        return -x\n",
    "    else:\n",
    "        return x"
   ]
  },
  {
   "cell_type": "code",
   "execution_count": 140,
   "metadata": {},
   "outputs": [
    {
     "data": {
      "text/plain": [
       "5"
      ]
     },
     "execution_count": 140,
     "metadata": {},
     "output_type": "execute_result"
    }
   ],
   "source": [
    "myabs(-5)"
   ]
  },
  {
   "cell_type": "code",
   "execution_count": 141,
   "metadata": {},
   "outputs": [],
   "source": [
    "def my_sqrt(num):\n",
    "    l = 0\n",
    "    r = num\n",
    "    while True:\n",
    "        print(f\"Choosing a number between {l} and {r}\")\n",
    "        guess = (l + r)/2\n",
    "        print(f\"Guessed: {guess}\")\n",
    "        result = guess*guess\n",
    "        print(f\"Result: {result}\")\n",
    "        if myabs(result - num) < 0.000001:\n",
    "            print(f\"We found the answer. The answer is : {guess}\")\n",
    "            return guess\n",
    "        if result > num:\n",
    "            r = guess\n",
    "            print(\"<<<\")\n",
    "        else:\n",
    "            l = guess\n",
    "            print(\">>>\")"
   ]
  },
  {
   "cell_type": "code",
   "execution_count": 142,
   "metadata": {},
   "outputs": [
    {
     "name": "stdout",
     "output_type": "stream",
     "text": [
      "Choosing a number between 0 and 25\n",
      "Guessed: 12.5\n",
      "Result: 156.25\n",
      "<<<\n",
      "Choosing a number between 0 and 12.5\n",
      "Guessed: 6.25\n",
      "Result: 39.0625\n",
      "<<<\n",
      "Choosing a number between 0 and 6.25\n",
      "Guessed: 3.125\n",
      "Result: 9.765625\n",
      ">>>\n",
      "Choosing a number between 3.125 and 6.25\n",
      "Guessed: 4.6875\n",
      "Result: 21.97265625\n",
      ">>>\n",
      "Choosing a number between 4.6875 and 6.25\n",
      "Guessed: 5.46875\n",
      "Result: 29.9072265625\n",
      "<<<\n",
      "Choosing a number between 4.6875 and 5.46875\n",
      "Guessed: 5.078125\n",
      "Result: 25.787353515625\n",
      "<<<\n",
      "Choosing a number between 4.6875 and 5.078125\n",
      "Guessed: 4.8828125\n",
      "Result: 23.84185791015625\n",
      ">>>\n",
      "Choosing a number between 4.8828125 and 5.078125\n",
      "Guessed: 4.98046875\n",
      "Result: 24.805068969726562\n",
      ">>>\n",
      "Choosing a number between 4.98046875 and 5.078125\n",
      "Guessed: 5.029296875\n",
      "Result: 25.293827056884766\n",
      "<<<\n",
      "Choosing a number between 4.98046875 and 5.029296875\n",
      "Guessed: 5.0048828125\n",
      "Result: 25.04885196685791\n",
      "<<<\n",
      "Choosing a number between 4.98046875 and 5.0048828125\n",
      "Guessed: 4.99267578125\n",
      "Result: 24.926811456680298\n",
      ">>>\n",
      "Choosing a number between 4.99267578125 and 5.0048828125\n",
      "Guessed: 4.998779296875\n",
      "Result: 24.98779445886612\n",
      ">>>\n",
      "Choosing a number between 4.998779296875 and 5.0048828125\n",
      "Guessed: 5.0018310546875\n",
      "Result: 25.01831389963627\n",
      "<<<\n",
      "Choosing a number between 4.998779296875 and 5.0018310546875\n",
      "Guessed: 5.00030517578125\n",
      "Result: 25.003051850944757\n",
      "<<<\n",
      "Choosing a number between 4.998779296875 and 5.00030517578125\n",
      "Guessed: 4.999542236328125\n",
      "Result: 24.99542257282883\n",
      ">>>\n",
      "Choosing a number between 4.999542236328125 and 5.00030517578125\n",
      "Guessed: 4.9999237060546875\n",
      "Result: 24.99923706636764\n",
      ">>>\n",
      "Choosing a number between 4.9999237060546875 and 5.00030517578125\n",
      "Guessed: 5.000114440917969\n",
      "Result: 25.00114442227641\n",
      "<<<\n",
      "Choosing a number between 4.9999237060546875 and 5.000114440917969\n",
      "Guessed: 5.000019073486328\n",
      "Result: 25.00019073522708\n",
      "<<<\n",
      "Choosing a number between 4.9999237060546875 and 5.000019073486328\n",
      "Guessed: 4.999971389770508\n",
      "Result: 24.999713898523623\n",
      ">>>\n",
      "Choosing a number between 4.999971389770508 and 5.000019073486328\n",
      "Guessed: 4.999995231628418\n",
      "Result: 24.999952316306917\n",
      ">>>\n",
      "Choosing a number between 4.999995231628418 and 5.000019073486328\n",
      "Guessed: 5.000007152557373\n",
      "Result: 25.00007152562489\n",
      "<<<\n",
      "Choosing a number between 4.999995231628418 and 5.000007152557373\n",
      "Guessed: 5.0000011920928955\n",
      "Result: 25.000011920930376\n",
      "<<<\n",
      "Choosing a number between 4.999995231628418 and 5.0000011920928955\n",
      "Guessed: 4.999998211860657\n",
      "Result: 24.999982118609765\n",
      ">>>\n",
      "Choosing a number between 4.999998211860657 and 5.0000011920928955\n",
      "Guessed: 4.999999701976776\n",
      "Result: 24.99999701976785\n",
      ">>>\n",
      "Choosing a number between 4.999999701976776 and 5.0000011920928955\n",
      "Guessed: 5.000000447034836\n",
      "Result: 25.000004470348557\n",
      "<<<\n",
      "Choosing a number between 4.999999701976776 and 5.000000447034836\n",
      "Guessed: 5.000000074505806\n",
      "Result: 25.000000745058067\n",
      "We found the answer. The answer is : 5.000000074505806\n"
     ]
    }
   ],
   "source": [
    "result = my_sqrt(25)"
   ]
  },
  {
   "cell_type": "code",
   "execution_count": 134,
   "metadata": {},
   "outputs": [
    {
     "data": {
      "text/plain": [
       "5.000000074505806"
      ]
     },
     "execution_count": 134,
     "metadata": {},
     "output_type": "execute_result"
    }
   ],
   "source": [
    "result"
   ]
  },
  {
   "cell_type": "code",
   "execution_count": 143,
   "metadata": {},
   "outputs": [
    {
     "name": "stdout",
     "output_type": "stream",
     "text": [
      "Choosing a number between 0 and 125\n",
      "Guessed: 62.5\n",
      "Result: 3906.25\n",
      "<<<\n",
      "Choosing a number between 0 and 62.5\n",
      "Guessed: 31.25\n",
      "Result: 976.5625\n",
      "<<<\n",
      "Choosing a number between 0 and 31.25\n",
      "Guessed: 15.625\n",
      "Result: 244.140625\n",
      "<<<\n",
      "Choosing a number between 0 and 15.625\n",
      "Guessed: 7.8125\n",
      "Result: 61.03515625\n",
      ">>>\n",
      "Choosing a number between 7.8125 and 15.625\n",
      "Guessed: 11.71875\n",
      "Result: 137.3291015625\n",
      "<<<\n",
      "Choosing a number between 7.8125 and 11.71875\n",
      "Guessed: 9.765625\n",
      "Result: 95.367431640625\n",
      ">>>\n",
      "Choosing a number between 9.765625 and 11.71875\n",
      "Guessed: 10.7421875\n",
      "Result: 115.39459228515625\n",
      ">>>\n",
      "Choosing a number between 10.7421875 and 11.71875\n",
      "Guessed: 11.23046875\n",
      "Result: 126.12342834472656\n",
      "<<<\n",
      "Choosing a number between 10.7421875 and 11.23046875\n",
      "Guessed: 10.986328125\n",
      "Result: 120.69940567016602\n",
      ">>>\n",
      "Choosing a number between 10.986328125 and 11.23046875\n",
      "Guessed: 11.1083984375\n",
      "Result: 123.39651584625244\n",
      ">>>\n",
      "Choosing a number between 11.1083984375 and 11.23046875\n",
      "Guessed: 11.16943359375\n",
      "Result: 124.75624680519104\n",
      ">>>\n",
      "Choosing a number between 11.16943359375 and 11.23046875\n",
      "Guessed: 11.199951171875\n",
      "Result: 125.43890625238419\n",
      "<<<\n",
      "Choosing a number between 11.16943359375 and 11.199951171875\n",
      "Guessed: 11.1846923828125\n",
      "Result: 125.09734369814396\n",
      "<<<\n",
      "Choosing a number between 11.16943359375 and 11.1846923828125\n",
      "Guessed: 11.17706298828125\n",
      "Result: 124.92673704400659\n",
      ">>>\n",
      "Choosing a number between 11.17706298828125 and 11.1846923828125\n",
      "Guessed: 11.180877685546875\n",
      "Result: 125.01202581916004\n",
      "<<<\n",
      "Choosing a number between 11.17706298828125 and 11.180877685546875\n",
      "Guessed: 11.178970336914062\n",
      "Result: 124.96937779360451\n",
      ">>>\n",
      "Choosing a number between 11.178970336914062 and 11.180877685546875\n",
      "Guessed: 11.179924011230469\n",
      "Result: 124.99070089688757\n",
      ">>>\n",
      "Choosing a number between 11.179924011230469 and 11.180877685546875\n",
      "Guessed: 11.180400848388672\n",
      "Result: 125.00136313065013\n",
      "<<<\n",
      "Choosing a number between 11.179924011230469 and 11.180400848388672\n",
      "Guessed: 11.18016242980957\n",
      "Result: 124.99603195692544\n",
      ">>>\n",
      "Choosing a number between 11.18016242980957 and 11.180400848388672\n",
      "Guessed: 11.180281639099121\n",
      "Result: 124.99869752957693\n",
      ">>>\n",
      "Choosing a number between 11.180281639099121 and 11.180400848388672\n",
      "Guessed: 11.180341243743896\n",
      "Result: 125.00003032656082\n",
      "<<<\n",
      "Choosing a number between 11.180281639099121 and 11.180341243743896\n",
      "Guessed: 11.180311441421509\n",
      "Result: 124.9993639271807\n",
      ">>>\n",
      "Choosing a number between 11.180311441421509 and 11.180341243743896\n",
      "Guessed: 11.180326342582703\n",
      "Result: 124.99969712664871\n",
      ">>>\n",
      "Choosing a number between 11.180326342582703 and 11.180341243743896\n",
      "Guessed: 11.1803337931633\n",
      "Result: 124.99986372654925\n",
      ">>>\n",
      "Choosing a number between 11.1803337931633 and 11.180341243743896\n",
      "Guessed: 11.180337518453598\n",
      "Result: 124.99994702654116\n",
      ">>>\n",
      "Choosing a number between 11.180337518453598 and 11.180341243743896\n",
      "Guessed: 11.180339381098747\n",
      "Result: 124.99998867654752\n",
      ">>>\n",
      "Choosing a number between 11.180339381098747 and 11.180341243743896\n",
      "Guessed: 11.180340312421322\n",
      "Result: 125.00000950155331\n",
      "<<<\n",
      "Choosing a number between 11.180339381098747 and 11.180340312421322\n",
      "Guessed: 11.180339846760035\n",
      "Result: 124.99999908905019\n",
      "We found the answer. The answer is : 11.180339846760035\n"
     ]
    }
   ],
   "source": [
    "result = my_sqrt(125)"
   ]
  },
  {
   "cell_type": "code",
   "execution_count": 144,
   "metadata": {},
   "outputs": [
    {
     "data": {
      "text/plain": [
       "124.99239999999999"
      ]
     },
     "execution_count": 144,
     "metadata": {},
     "output_type": "execute_result"
    }
   ],
   "source": [
    "11.180**2"
   ]
  },
  {
   "cell_type": "code",
   "execution_count": 146,
   "metadata": {},
   "outputs": [],
   "source": [
    "def mycube(x):\n",
    "    return x*x*x"
   ]
  },
  {
   "cell_type": "code",
   "execution_count": 149,
   "metadata": {},
   "outputs": [
    {
     "data": {
      "text/plain": [
       "91.125"
      ]
     },
     "execution_count": 149,
     "metadata": {},
     "output_type": "execute_result"
    }
   ],
   "source": [
    "# FInd cube root of 100\n",
    "mycube(4.5)"
   ]
  },
  {
   "cell_type": "code",
   "execution_count": 150,
   "metadata": {},
   "outputs": [],
   "source": [
    "def my_cubert(num):\n",
    "    l = 0\n",
    "    r = num\n",
    "    while True:\n",
    "        print(f\"Choosing a number between {l} and {r}\")\n",
    "        guess = (l + r)/2\n",
    "        print(f\"Guessed: {guess}\")\n",
    "        result = guess*guess*guess\n",
    "        print(f\"Result: {result}\")\n",
    "        if myabs(result - num) < 0.000001:\n",
    "            print(f\"We found the answer. The answer is : {guess}\")\n",
    "            return guess\n",
    "        if result > num:\n",
    "            r = guess\n",
    "            print(\"<<<\")\n",
    "        else:\n",
    "            l = guess\n",
    "            print(\">>>\")"
   ]
  },
  {
   "cell_type": "code",
   "execution_count": 151,
   "metadata": {},
   "outputs": [
    {
     "name": "stdout",
     "output_type": "stream",
     "text": [
      "Choosing a number between 0 and 10\n",
      "Guessed: 5.0\n",
      "Result: 125.0\n",
      "<<<\n",
      "Choosing a number between 0 and 5.0\n",
      "Guessed: 2.5\n",
      "Result: 15.625\n",
      "<<<\n",
      "Choosing a number between 0 and 2.5\n",
      "Guessed: 1.25\n",
      "Result: 1.953125\n",
      ">>>\n",
      "Choosing a number between 1.25 and 2.5\n",
      "Guessed: 1.875\n",
      "Result: 6.591796875\n",
      ">>>\n",
      "Choosing a number between 1.875 and 2.5\n",
      "Guessed: 2.1875\n",
      "Result: 10.467529296875\n",
      "<<<\n",
      "Choosing a number between 1.875 and 2.1875\n",
      "Guessed: 2.03125\n",
      "Result: 8.380889892578125\n",
      ">>>\n",
      "Choosing a number between 2.03125 and 2.1875\n",
      "Guessed: 2.109375\n",
      "Result: 9.38558578491211\n",
      ">>>\n",
      "Choosing a number between 2.109375 and 2.1875\n",
      "Guessed: 2.1484375\n",
      "Result: 9.916722774505615\n",
      ">>>\n",
      "Choosing a number between 2.1484375 and 2.1875\n",
      "Guessed: 2.16796875\n",
      "Result: 10.189644992351532\n",
      "<<<\n",
      "Choosing a number between 2.1484375 and 2.16796875\n",
      "Guessed: 2.158203125\n",
      "Result: 10.052566416561604\n",
      "<<<\n",
      "Choosing a number between 2.1484375 and 2.158203125\n",
      "Guessed: 2.1533203125\n",
      "Result: 9.984490578062832\n",
      ">>>\n",
      "Choosing a number between 2.1533203125 and 2.158203125\n",
      "Guessed: 2.15576171875\n",
      "Result: 10.018489949288778\n",
      "<<<\n",
      "Choosing a number between 2.1533203125 and 2.15576171875\n",
      "Guessed: 2.154541015625\n",
      "Result: 10.001480632126913\n",
      "<<<\n",
      "Choosing a number between 2.1533203125 and 2.154541015625\n",
      "Guessed: 2.1539306640625\n",
      "Result: 9.992983197889771\n",
      ">>>\n",
      "Choosing a number between 2.1539306640625 and 2.154541015625\n",
      "Guessed: 2.15423583984375\n",
      "Result: 9.997231313121802\n",
      ">>>\n",
      "Choosing a number between 2.15423583984375 and 2.154541015625\n",
      "Guessed: 2.154388427734375\n",
      "Result: 9.999355822142064\n",
      ">>>\n",
      "Choosing a number between 2.154388427734375 and 2.154541015625\n",
      "Guessed: 2.1544647216796875\n",
      "Result: 10.000418189512583\n",
      "<<<\n",
      "Choosing a number between 2.154388427734375 and 2.1544647216796875\n",
      "Guessed: 2.1544265747070312\n",
      "Result: 9.999886996422013\n",
      ">>>\n",
      "Choosing a number between 2.1544265747070312 and 2.1544647216796875\n",
      "Guessed: 2.1544456481933594\n",
      "Result: 10.00015259061595\n",
      "<<<\n",
      "Choosing a number between 2.1544265747070312 and 2.1544456481933594\n",
      "Guessed: 2.1544361114501953\n",
      "Result: 10.000019792931148\n",
      "<<<\n",
      "Choosing a number between 2.1544265747070312 and 2.1544361114501953\n",
      "Guessed: 2.1544313430786133\n",
      "Result: 9.999953394529623\n",
      ">>>\n",
      "Choosing a number between 2.1544313430786133 and 2.1544361114501953\n",
      "Guessed: 2.1544337272644043\n",
      "Result: 9.999986593693645\n",
      ">>>\n",
      "Choosing a number between 2.1544337272644043 and 2.1544361114501953\n",
      "Guessed: 2.1544349193573\n",
      "Result: 10.000003193303211\n",
      "<<<\n",
      "Choosing a number between 2.1544337272644043 and 2.1544349193573\n",
      "Guessed: 2.154434323310852\n",
      "Result: 9.999994893496133\n",
      ">>>\n",
      "Choosing a number between 2.154434323310852 and 2.1544349193573\n",
      "Guessed: 2.154434621334076\n",
      "Result: 9.999999043399098\n",
      "We found the answer. The answer is : 2.154434621334076\n"
     ]
    },
    {
     "data": {
      "text/plain": [
       "2.154434621334076"
      ]
     },
     "execution_count": 151,
     "metadata": {},
     "output_type": "execute_result"
    }
   ],
   "source": [
    "my_cubert(10)"
   ]
  },
  {
   "cell_type": "code",
   "execution_count": 152,
   "metadata": {},
   "outputs": [
    {
     "data": {
      "text/plain": [
       "9.999999043399098"
      ]
     },
     "execution_count": 152,
     "metadata": {},
     "output_type": "execute_result"
    }
   ],
   "source": [
    "2.154434621334076**3"
   ]
  },
  {
   "cell_type": "code",
   "execution_count": 160,
   "metadata": {},
   "outputs": [],
   "source": [
    "def my_cubert(num):\n",
    "    l = 0\n",
    "    r = num\n",
    "    while True:\n",
    "        guess = (l + r)/2\n",
    "        result = guess*guess*guess\n",
    "        if myabs(result - num) < 0.000001:\n",
    "            return guess\n",
    "        if result > num:\n",
    "            r = guess\n",
    "        else:\n",
    "            l = guess"
   ]
  },
  {
   "cell_type": "code",
   "execution_count": 161,
   "metadata": {
    "scrolled": true
   },
   "outputs": [
    {
     "data": {
      "text/plain": [
       "3.5568933002650738"
      ]
     },
     "execution_count": 161,
     "metadata": {},
     "output_type": "execute_result"
    }
   ],
   "source": [
    "my_cubert(45)"
   ]
  },
  {
   "cell_type": "code",
   "execution_count": 162,
   "metadata": {},
   "outputs": [],
   "source": [
    "# Recursion"
   ]
  },
  {
   "cell_type": "code",
   "execution_count": 164,
   "metadata": {},
   "outputs": [],
   "source": [
    "num = 15\n",
    "l = 0\n",
    "r = num"
   ]
  },
  {
   "cell_type": "code",
   "execution_count": 167,
   "metadata": {},
   "outputs": [],
   "source": [
    "def my_cubert(l, r, num):\n",
    "    print(f\"Choosing a number between {l} and {r}\")\n",
    "    guess = (l + r)/2\n",
    "    print(f\"Guessed: {guess}\")\n",
    "    result = guess*guess*guess\n",
    "    print(f\"Result: {result}\")\n",
    "    if myabs(result - num) < 0.000001:\n",
    "        print(f\"We found the answer. The answer is : {guess}\")\n",
    "        return guess\n",
    "    if result > num:\n",
    "        r = guess\n",
    "        print(\"<<<\")\n",
    "    else:\n",
    "        l = guess\n",
    "        print(\">>>\")\n",
    "    my_cubert(l, r, num)"
   ]
  },
  {
   "cell_type": "code",
   "execution_count": 168,
   "metadata": {},
   "outputs": [
    {
     "name": "stdout",
     "output_type": "stream",
     "text": [
      "Choosing a number between 0 and 15\n",
      "Guessed: 7.5\n",
      "Result: 421.875\n",
      "<<<\n",
      "Choosing a number between 0 and 7.5\n",
      "Guessed: 3.75\n",
      "Result: 52.734375\n",
      "<<<\n",
      "Choosing a number between 0 and 3.75\n",
      "Guessed: 1.875\n",
      "Result: 6.591796875\n",
      ">>>\n",
      "Choosing a number between 1.875 and 3.75\n",
      "Guessed: 2.8125\n",
      "Result: 22.247314453125\n",
      "<<<\n",
      "Choosing a number between 1.875 and 2.8125\n",
      "Guessed: 2.34375\n",
      "Result: 12.874603271484375\n",
      ">>>\n",
      "Choosing a number between 2.34375 and 2.8125\n",
      "Guessed: 2.578125\n",
      "Result: 17.136096954345703\n",
      "<<<\n",
      "Choosing a number between 2.34375 and 2.578125\n",
      "Guessed: 2.4609375\n",
      "Result: 14.9039626121521\n",
      ">>>\n",
      "Choosing a number between 2.4609375 and 2.578125\n",
      "Guessed: 2.51953125\n",
      "Result: 15.994079411029816\n",
      "<<<\n",
      "Choosing a number between 2.4609375 and 2.51953125\n",
      "Guessed: 2.490234375\n",
      "Result: 15.44260885566473\n",
      "<<<\n",
      "Choosing a number between 2.4609375 and 2.490234375\n",
      "Guessed: 2.4755859375\n",
      "Result: 15.171692124567926\n",
      "<<<\n",
      "Choosing a number between 2.4609375 and 2.4755859375\n",
      "Guessed: 2.46826171875\n",
      "Result: 15.037430144730024\n",
      "<<<\n",
      "Choosing a number between 2.4609375 and 2.46826171875\n",
      "Guessed: 2.464599609375\n",
      "Result: 14.970597219871706\n",
      ">>>\n",
      "Choosing a number between 2.464599609375 and 2.46826171875\n",
      "Guessed: 2.4664306640625\n",
      "Result: 15.003988874241259\n",
      "<<<\n",
      "Choosing a number between 2.464599609375 and 2.4664306640625\n",
      "Guessed: 2.46551513671875\n",
      "Result: 14.98728684734374\n",
      ">>>\n",
      "Choosing a number between 2.46551513671875 and 2.4664306640625\n",
      "Guessed: 2.465972900390625\n",
      "Result: 14.995636310576543\n",
      ">>>\n",
      "Choosing a number between 2.465972900390625 and 2.4664306640625\n",
      "Guessed: 2.4662017822265625\n",
      "Result: 14.99981220481894\n",
      ">>>\n",
      "Choosing a number between 2.4662017822265625 and 2.4664306640625\n",
      "Guessed: 2.4663162231445312\n",
      "Result: 15.001900442628113\n",
      "<<<\n",
      "Choosing a number between 2.4662017822265625 and 2.4663162231445312\n",
      "Guessed: 2.466259002685547\n",
      "Result: 15.000856299498592\n",
      "<<<\n",
      "Choosing a number between 2.4662017822265625 and 2.466259002685547\n",
      "Guessed: 2.4662303924560547\n",
      "Result: 15.000334246102604\n",
      "<<<\n",
      "Choosing a number between 2.4662017822265625 and 2.4662303924560547\n",
      "Guessed: 2.4662160873413086\n",
      "Result: 15.00007322394674\n",
      "<<<\n",
      "Choosing a number between 2.4662017822265625 and 2.4662160873413086\n",
      "Guessed: 2.4662089347839355\n",
      "Result: 14.999942714004334\n",
      ">>>\n",
      "Choosing a number between 2.4662089347839355 and 2.4662160873413086\n",
      "Guessed: 2.466212511062622\n",
      "Result: 15.00000796888091\n",
      "<<<\n",
      "Choosing a number between 2.4662089347839355 and 2.466212511062622\n",
      "Guessed: 2.466210722923279\n",
      "Result: 14.999975341418965\n",
      ">>>\n",
      "Choosing a number between 2.466210722923279 and 2.466212511062622\n",
      "Guessed: 2.4662116169929504\n",
      "Result: 14.999991655144024\n",
      ">>>\n",
      "Choosing a number between 2.4662116169929504 and 2.466212511062622\n",
      "Guessed: 2.4662120640277863\n",
      "Result: 14.999999812010987\n",
      "We found the answer. The answer is : 2.4662120640277863\n"
     ]
    }
   ],
   "source": [
    "num = 15\n",
    "l = 0\n",
    "r = num\n",
    "my_cubert(0, 15, 15)"
   ]
  },
  {
   "cell_type": "markdown",
   "metadata": {},
   "source": [
    "Q: Find the value of log of any number. You can use power operator **."
   ]
  },
  {
   "cell_type": "code",
   "execution_count": 171,
   "metadata": {},
   "outputs": [
    {
     "data": {
      "text/plain": [
       "31.622776601683793"
      ]
     },
     "execution_count": 171,
     "metadata": {},
     "output_type": "execute_result"
    }
   ],
   "source": [
    "#Is 1.5 log of 50?\n",
    "x = 1.5 \n",
    "10**x"
   ]
  },
  {
   "cell_type": "code",
   "execution_count": 172,
   "metadata": {},
   "outputs": [
    {
     "data": {
      "text/plain": [
       "50.11872336272722"
      ]
     },
     "execution_count": 172,
     "metadata": {},
     "output_type": "execute_result"
    }
   ],
   "source": [
    "x = 1.7\n",
    "10**x"
   ]
  },
  {
   "cell_type": "code",
   "execution_count": 173,
   "metadata": {},
   "outputs": [
    {
     "data": {
      "text/plain": [
       "39.810717055349734"
      ]
     },
     "execution_count": 173,
     "metadata": {},
     "output_type": "execute_result"
    }
   ],
   "source": [
    "x = 1.6\n",
    "10**x"
   ]
  },
  {
   "cell_type": "code",
   "execution_count": 174,
   "metadata": {},
   "outputs": [
    {
     "data": {
      "text/plain": [
       "48.97788193684461"
      ]
     },
     "execution_count": 174,
     "metadata": {},
     "output_type": "execute_result"
    }
   ],
   "source": [
    "x = 1.69\n",
    "10**x"
   ]
  },
  {
   "cell_type": "code",
   "execution_count": 175,
   "metadata": {},
   "outputs": [
    {
     "data": {
      "text/plain": [
       "50.003453497697855"
      ]
     },
     "execution_count": 175,
     "metadata": {},
     "output_type": "execute_result"
    }
   ],
   "source": [
    "x = 1.699\n",
    "10**x"
   ]
  },
  {
   "cell_type": "code",
   "execution_count": 176,
   "metadata": {},
   "outputs": [
    {
     "data": {
      "text/plain": [
       "49.88844874600122"
      ]
     },
     "execution_count": 176,
     "metadata": {},
     "output_type": "execute_result"
    }
   ],
   "source": [
    "x = 1.698\n",
    "10**x"
   ]
  },
  {
   "cell_type": "code",
   "execution_count": 177,
   "metadata": {},
   "outputs": [],
   "source": [
    "# STrings\n",
    "\n",
    "name = \"Sandeep\""
   ]
  },
  {
   "cell_type": "code",
   "execution_count": 178,
   "metadata": {},
   "outputs": [
    {
     "data": {
      "text/plain": [
       "'Sandeep'"
      ]
     },
     "execution_count": 178,
     "metadata": {},
     "output_type": "execute_result"
    }
   ],
   "source": [
    "name"
   ]
  },
  {
   "cell_type": "code",
   "execution_count": 179,
   "metadata": {},
   "outputs": [
    {
     "data": {
      "text/plain": [
       "'S'"
      ]
     },
     "execution_count": 179,
     "metadata": {},
     "output_type": "execute_result"
    }
   ],
   "source": [
    "name[0]"
   ]
  },
  {
   "cell_type": "code",
   "execution_count": 180,
   "metadata": {},
   "outputs": [
    {
     "data": {
      "text/plain": [
       "'a'"
      ]
     },
     "execution_count": 180,
     "metadata": {},
     "output_type": "execute_result"
    }
   ],
   "source": [
    "name[1]"
   ]
  },
  {
   "cell_type": "code",
   "execution_count": 181,
   "metadata": {},
   "outputs": [
    {
     "data": {
      "text/plain": [
       "7"
      ]
     },
     "execution_count": 181,
     "metadata": {},
     "output_type": "execute_result"
    }
   ],
   "source": [
    "len(name)"
   ]
  },
  {
   "cell_type": "code",
   "execution_count": 182,
   "metadata": {},
   "outputs": [
    {
     "data": {
      "text/plain": [
       "'p'"
      ]
     },
     "execution_count": 182,
     "metadata": {},
     "output_type": "execute_result"
    }
   ],
   "source": [
    "name[6]"
   ]
  },
  {
   "cell_type": "code",
   "execution_count": 183,
   "metadata": {},
   "outputs": [
    {
     "data": {
      "text/plain": [
       "'San'"
      ]
     },
     "execution_count": 183,
     "metadata": {},
     "output_type": "execute_result"
    }
   ],
   "source": [
    "name[:3]"
   ]
  },
  {
   "cell_type": "code",
   "execution_count": 184,
   "metadata": {},
   "outputs": [
    {
     "data": {
      "text/plain": [
       "'nde'"
      ]
     },
     "execution_count": 184,
     "metadata": {},
     "output_type": "execute_result"
    }
   ],
   "source": [
    "name[2:5]"
   ]
  },
  {
   "cell_type": "code",
   "execution_count": 186,
   "metadata": {},
   "outputs": [
    {
     "data": {
      "text/plain": [
       "('p', 'p')"
      ]
     },
     "execution_count": 186,
     "metadata": {},
     "output_type": "execute_result"
    }
   ],
   "source": [
    "name[-1], name[7-1]"
   ]
  },
  {
   "cell_type": "code",
   "execution_count": 187,
   "metadata": {},
   "outputs": [
    {
     "data": {
      "text/plain": [
       "('e', 'e')"
      ]
     },
     "execution_count": 187,
     "metadata": {},
     "output_type": "execute_result"
    }
   ],
   "source": [
    "name[-2], name[7-2]"
   ]
  },
  {
   "cell_type": "code",
   "execution_count": 188,
   "metadata": {},
   "outputs": [],
   "source": [
    "# list / Arrays\n",
    "nums = [1,2,3,4]"
   ]
  },
  {
   "cell_type": "code",
   "execution_count": 189,
   "metadata": {},
   "outputs": [
    {
     "data": {
      "text/plain": [
       "[1, 2, 3, 4]"
      ]
     },
     "execution_count": 189,
     "metadata": {},
     "output_type": "execute_result"
    }
   ],
   "source": [
    "nums"
   ]
  },
  {
   "cell_type": "code",
   "execution_count": 190,
   "metadata": {},
   "outputs": [
    {
     "data": {
      "text/plain": [
       "1"
      ]
     },
     "execution_count": 190,
     "metadata": {},
     "output_type": "execute_result"
    }
   ],
   "source": [
    "nums[0]"
   ]
  },
  {
   "cell_type": "code",
   "execution_count": 191,
   "metadata": {},
   "outputs": [
    {
     "data": {
      "text/plain": [
       "2"
      ]
     },
     "execution_count": 191,
     "metadata": {},
     "output_type": "execute_result"
    }
   ],
   "source": [
    "nums[1]"
   ]
  },
  {
   "cell_type": "code",
   "execution_count": 192,
   "metadata": {},
   "outputs": [
    {
     "data": {
      "text/plain": [
       "4"
      ]
     },
     "execution_count": 192,
     "metadata": {},
     "output_type": "execute_result"
    }
   ],
   "source": [
    "nums[3]"
   ]
  },
  {
   "cell_type": "code",
   "execution_count": 193,
   "metadata": {},
   "outputs": [
    {
     "ename": "IndexError",
     "evalue": "list index out of range",
     "output_type": "error",
     "traceback": [
      "\u001b[0;31m---------------------------------------------------------------------------\u001b[0m",
      "\u001b[0;31mIndexError\u001b[0m                                Traceback (most recent call last)",
      "\u001b[0;32m<ipython-input-193-d6e6f9ab329e>\u001b[0m in \u001b[0;36m<module>\u001b[0;34m\u001b[0m\n\u001b[0;32m----> 1\u001b[0;31m \u001b[0mnums\u001b[0m\u001b[0;34m[\u001b[0m\u001b[0;36m4\u001b[0m\u001b[0;34m]\u001b[0m\u001b[0;34m\u001b[0m\u001b[0;34m\u001b[0m\u001b[0m\n\u001b[0m",
      "\u001b[0;31mIndexError\u001b[0m: list index out of range"
     ]
    }
   ],
   "source": [
    "nums[4]"
   ]
  },
  {
   "cell_type": "code",
   "execution_count": 194,
   "metadata": {},
   "outputs": [
    {
     "data": {
      "text/plain": [
       "[1, 2, 3, 4]"
      ]
     },
     "execution_count": 194,
     "metadata": {},
     "output_type": "execute_result"
    }
   ],
   "source": [
    "nums"
   ]
  },
  {
   "cell_type": "code",
   "execution_count": 195,
   "metadata": {},
   "outputs": [
    {
     "data": {
      "text/plain": [
       "list"
      ]
     },
     "execution_count": 195,
     "metadata": {},
     "output_type": "execute_result"
    }
   ],
   "source": [
    "type(nums)"
   ]
  },
  {
   "cell_type": "code",
   "execution_count": 196,
   "metadata": {},
   "outputs": [
    {
     "data": {
      "text/plain": [
       "str"
      ]
     },
     "execution_count": 196,
     "metadata": {},
     "output_type": "execute_result"
    }
   ],
   "source": [
    "type(name)"
   ]
  },
  {
   "cell_type": "code",
   "execution_count": 197,
   "metadata": {},
   "outputs": [
    {
     "data": {
      "text/plain": [
       "int"
      ]
     },
     "execution_count": 197,
     "metadata": {},
     "output_type": "execute_result"
    }
   ],
   "source": [
    "type(num)"
   ]
  },
  {
   "cell_type": "code",
   "execution_count": 198,
   "metadata": {},
   "outputs": [
    {
     "data": {
      "text/plain": [
       "float"
      ]
     },
     "execution_count": 198,
     "metadata": {},
     "output_type": "execute_result"
    }
   ],
   "source": [
    "type(4.5)"
   ]
  },
  {
   "cell_type": "code",
   "execution_count": 199,
   "metadata": {},
   "outputs": [
    {
     "data": {
      "text/plain": [
       "[1, 2, 3, 4]"
      ]
     },
     "execution_count": 199,
     "metadata": {},
     "output_type": "execute_result"
    }
   ],
   "source": [
    "nums"
   ]
  },
  {
   "cell_type": "code",
   "execution_count": 200,
   "metadata": {},
   "outputs": [],
   "source": [
    "t = (2,3)"
   ]
  },
  {
   "cell_type": "code",
   "execution_count": 201,
   "metadata": {},
   "outputs": [
    {
     "data": {
      "text/plain": [
       "2"
      ]
     },
     "execution_count": 201,
     "metadata": {},
     "output_type": "execute_result"
    }
   ],
   "source": [
    "t[0]"
   ]
  },
  {
   "cell_type": "code",
   "execution_count": 202,
   "metadata": {},
   "outputs": [
    {
     "data": {
      "text/plain": [
       "3"
      ]
     },
     "execution_count": 202,
     "metadata": {},
     "output_type": "execute_result"
    }
   ],
   "source": [
    "t[1]"
   ]
  },
  {
   "cell_type": "code",
   "execution_count": 203,
   "metadata": {},
   "outputs": [
    {
     "data": {
      "text/plain": [
       "(2, 3)"
      ]
     },
     "execution_count": 203,
     "metadata": {},
     "output_type": "execute_result"
    }
   ],
   "source": [
    "t"
   ]
  },
  {
   "cell_type": "code",
   "execution_count": 204,
   "metadata": {},
   "outputs": [
    {
     "ename": "TypeError",
     "evalue": "'tuple' object does not support item assignment",
     "output_type": "error",
     "traceback": [
      "\u001b[0;31m---------------------------------------------------------------------------\u001b[0m",
      "\u001b[0;31mTypeError\u001b[0m                                 Traceback (most recent call last)",
      "\u001b[0;32m<ipython-input-204-08a0409f2124>\u001b[0m in \u001b[0;36m<module>\u001b[0;34m\u001b[0m\n\u001b[0;32m----> 1\u001b[0;31m \u001b[0mt\u001b[0m\u001b[0;34m[\u001b[0m\u001b[0;36m0\u001b[0m\u001b[0;34m]\u001b[0m \u001b[0;34m=\u001b[0m \u001b[0;36m4\u001b[0m\u001b[0;34m\u001b[0m\u001b[0;34m\u001b[0m\u001b[0m\n\u001b[0m",
      "\u001b[0;31mTypeError\u001b[0m: 'tuple' object does not support item assignment"
     ]
    }
   ],
   "source": [
    "t[0] = 4"
   ]
  },
  {
   "cell_type": "code",
   "execution_count": 205,
   "metadata": {},
   "outputs": [
    {
     "data": {
      "text/plain": [
       "[1, 2, 3, 4]"
      ]
     },
     "execution_count": 205,
     "metadata": {},
     "output_type": "execute_result"
    }
   ],
   "source": [
    "nums"
   ]
  },
  {
   "cell_type": "code",
   "execution_count": 206,
   "metadata": {},
   "outputs": [],
   "source": [
    "nums[0] = 100"
   ]
  },
  {
   "cell_type": "code",
   "execution_count": 207,
   "metadata": {},
   "outputs": [
    {
     "data": {
      "text/plain": [
       "[100, 2, 3, 4]"
      ]
     },
     "execution_count": 207,
     "metadata": {},
     "output_type": "execute_result"
    }
   ],
   "source": [
    "nums"
   ]
  },
  {
   "cell_type": "code",
   "execution_count": 208,
   "metadata": {},
   "outputs": [],
   "source": [
    "stuff = [10, \"sandeep\", 4.5, True, (4,5), [5,6,6]]"
   ]
  },
  {
   "cell_type": "code",
   "execution_count": 210,
   "metadata": {},
   "outputs": [
    {
     "name": "stdout",
     "output_type": "stream",
     "text": [
      "10 <class 'int'>\n",
      "sandeep <class 'str'>\n",
      "4.5 <class 'float'>\n",
      "True <class 'bool'>\n",
      "(4, 5) <class 'tuple'>\n",
      "[5, 6, 6] <class 'list'>\n"
     ]
    }
   ],
   "source": [
    "for thing in stuff:\n",
    "    print(thing, type(thing))"
   ]
  },
  {
   "cell_type": "code",
   "execution_count": 214,
   "metadata": {},
   "outputs": [
    {
     "name": "stdout",
     "output_type": "stream",
     "text": [
      "0 10 <class 'int'>\n",
      "1 sandeep <class 'str'>\n",
      "2 4.5 <class 'float'>\n",
      "3 True <class 'bool'>\n",
      "4 (4, 5) <class 'tuple'>\n",
      "5 [5, 6, 6] <class 'list'>\n"
     ]
    }
   ],
   "source": [
    "pos = 0\n",
    "while pos < len(stuff):\n",
    "    thing = stuff[pos]\n",
    "    print(pos, thing, type(thing))\n",
    "    pos = pos + 1"
   ]
  },
  {
   "cell_type": "code",
   "execution_count": 215,
   "metadata": {},
   "outputs": [
    {
     "name": "stdout",
     "output_type": "stream",
     "text": [
      "0\n",
      "1\n",
      "2\n",
      "3\n",
      "4\n",
      "5\n",
      "6\n",
      "7\n",
      "8\n",
      "9\n"
     ]
    }
   ],
   "source": [
    "for i in range(10):\n",
    "    print(i)"
   ]
  },
  {
   "cell_type": "code",
   "execution_count": 216,
   "metadata": {},
   "outputs": [
    {
     "name": "stdout",
     "output_type": "stream",
     "text": [
      "Help on class range in module builtins:\n",
      "\n",
      "class range(object)\n",
      " |  range(stop) -> range object\n",
      " |  range(start, stop[, step]) -> range object\n",
      " |  \n",
      " |  Return an object that produces a sequence of integers from start (inclusive)\n",
      " |  to stop (exclusive) by step.  range(i, j) produces i, i+1, i+2, ..., j-1.\n",
      " |  start defaults to 0, and stop is omitted!  range(4) produces 0, 1, 2, 3.\n",
      " |  These are exactly the valid indices for a list of 4 elements.\n",
      " |  When step is given, it specifies the increment (or decrement).\n",
      " |  \n",
      " |  Methods defined here:\n",
      " |  \n",
      " |  __bool__(self, /)\n",
      " |      self != 0\n",
      " |  \n",
      " |  __contains__(self, key, /)\n",
      " |      Return key in self.\n",
      " |  \n",
      " |  __eq__(self, value, /)\n",
      " |      Return self==value.\n",
      " |  \n",
      " |  __ge__(self, value, /)\n",
      " |      Return self>=value.\n",
      " |  \n",
      " |  __getattribute__(self, name, /)\n",
      " |      Return getattr(self, name).\n",
      " |  \n",
      " |  __getitem__(self, key, /)\n",
      " |      Return self[key].\n",
      " |  \n",
      " |  __gt__(self, value, /)\n",
      " |      Return self>value.\n",
      " |  \n",
      " |  __hash__(self, /)\n",
      " |      Return hash(self).\n",
      " |  \n",
      " |  __iter__(self, /)\n",
      " |      Implement iter(self).\n",
      " |  \n",
      " |  __le__(self, value, /)\n",
      " |      Return self<=value.\n",
      " |  \n",
      " |  __len__(self, /)\n",
      " |      Return len(self).\n",
      " |  \n",
      " |  __lt__(self, value, /)\n",
      " |      Return self<value.\n",
      " |  \n",
      " |  __ne__(self, value, /)\n",
      " |      Return self!=value.\n",
      " |  \n",
      " |  __new__(*args, **kwargs) from builtins.type\n",
      " |      Create and return a new object.  See help(type) for accurate signature.\n",
      " |  \n",
      " |  __reduce__(...)\n",
      " |      helper for pickle\n",
      " |  \n",
      " |  __repr__(self, /)\n",
      " |      Return repr(self).\n",
      " |  \n",
      " |  __reversed__(...)\n",
      " |      Return a reverse iterator.\n",
      " |  \n",
      " |  count(...)\n",
      " |      rangeobject.count(value) -> integer -- return number of occurrences of value\n",
      " |  \n",
      " |  index(...)\n",
      " |      rangeobject.index(value, [start, [stop]]) -> integer -- return index of value.\n",
      " |      Raise ValueError if the value is not present.\n",
      " |  \n",
      " |  ----------------------------------------------------------------------\n",
      " |  Data descriptors defined here:\n",
      " |  \n",
      " |  start\n",
      " |  \n",
      " |  step\n",
      " |  \n",
      " |  stop\n",
      "\n"
     ]
    }
   ],
   "source": [
    "help(range)"
   ]
  },
  {
   "cell_type": "code",
   "execution_count": 217,
   "metadata": {},
   "outputs": [],
   "source": [
    "# Q: In your number system. Represent you number as list of digits.\n",
    "# create a function to add 1 to your number."
   ]
  },
  {
   "cell_type": "code",
   "execution_count": 224,
   "metadata": {},
   "outputs": [],
   "source": [
    "def add1_base5(num):\n",
    "    # start from right\n",
    "    # If it is less than 4, increase it and put it in another list output and stop the loop\n",
    "    # otherwise put 0 in output and move to previous element\n",
    "    # reverse a list and return it\n",
    "    pass"
   ]
  },
  {
   "cell_type": "code",
   "execution_count": null,
   "metadata": {},
   "outputs": [],
   "source": [
    "add1_base5([4]) # [1, 0]\n",
    "add1_base5([1, 0]) # [1, 1]\n",
    "add1_base5([1, 4, 4]) # [ 2, 0, 0]\n",
    "add1_base5([1, 3, 4, 4]) # [1, 4, 0, 0]"
   ]
  },
  {
   "cell_type": "code",
   "execution_count": 222,
   "metadata": {},
   "outputs": [
    {
     "data": {
      "text/plain": [
       "(4, [0, 1, 2, 3])"
      ]
     },
     "execution_count": 222,
     "metadata": {},
     "output_type": "execute_result"
    }
   ],
   "source": []
  },
  {
   "cell_type": "code",
   "execution_count": 236,
   "metadata": {},
   "outputs": [
    {
     "data": {
      "text/plain": [
       "[0]"
      ]
     },
     "execution_count": 236,
     "metadata": {},
     "output_type": "execute_result"
    }
   ],
   "source": [
    "l = []\n",
    "l.append(0)\n",
    "l"
   ]
  },
  {
   "cell_type": "code",
   "execution_count": 237,
   "metadata": {},
   "outputs": [],
   "source": [
    "l.append(0)"
   ]
  },
  {
   "cell_type": "code",
   "execution_count": 238,
   "metadata": {},
   "outputs": [
    {
     "data": {
      "text/plain": [
       "[0, 0]"
      ]
     },
     "execution_count": 238,
     "metadata": {},
     "output_type": "execute_result"
    }
   ],
   "source": [
    "l"
   ]
  },
  {
   "cell_type": "code",
   "execution_count": 239,
   "metadata": {},
   "outputs": [],
   "source": [
    "l.append(4)"
   ]
  },
  {
   "cell_type": "code",
   "execution_count": 240,
   "metadata": {},
   "outputs": [
    {
     "data": {
      "text/plain": [
       "[0, 0, 4]"
      ]
     },
     "execution_count": 240,
     "metadata": {},
     "output_type": "execute_result"
    }
   ],
   "source": [
    "l"
   ]
  },
  {
   "cell_type": "code",
   "execution_count": 233,
   "metadata": {},
   "outputs": [],
   "source": [
    "l.append(1)"
   ]
  },
  {
   "cell_type": "code",
   "execution_count": 234,
   "metadata": {},
   "outputs": [
    {
     "data": {
      "text/plain": [
       "[0, 0, 4, 1]"
      ]
     },
     "execution_count": 234,
     "metadata": {},
     "output_type": "execute_result"
    }
   ],
   "source": [
    "l"
   ]
  },
  {
   "cell_type": "code",
   "execution_count": 235,
   "metadata": {},
   "outputs": [
    {
     "data": {
      "text/plain": [
       "[1, 4, 0, 0]"
      ]
     },
     "execution_count": 235,
     "metadata": {},
     "output_type": "execute_result"
    }
   ],
   "source": [
    "l[::-1]"
   ]
  },
  {
   "cell_type": "code",
   "execution_count": 241,
   "metadata": {},
   "outputs": [],
   "source": [
    "# Q:\n",
    "# Start with [0,0,0,0] keep adding 1 to it untill the lists exhausts"
   ]
  },
  {
   "cell_type": "code",
   "execution_count": null,
   "metadata": {},
   "outputs": [],
   "source": []
  }
 ],
 "metadata": {
  "kernelspec": {
   "display_name": "Python 3",
   "language": "python",
   "name": "python3"
  },
  "language_info": {
   "codemirror_mode": {
    "name": "ipython",
    "version": 3
   },
   "file_extension": ".py",
   "mimetype": "text/x-python",
   "name": "python",
   "nbconvert_exporter": "python",
   "pygments_lexer": "ipython3",
   "version": "3.6.8"
  },
  "toc": {
   "base_numbering": 1,
   "nav_menu": {},
   "number_sections": true,
   "sideBar": true,
   "skip_h1_title": false,
   "title_cell": "Table of Contents",
   "title_sidebar": "Contents",
   "toc_cell": false,
   "toc_position": {},
   "toc_section_display": true,
   "toc_window_display": false
  }
 },
 "nbformat": 4,
 "nbformat_minor": 2
}
