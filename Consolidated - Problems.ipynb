{
 "cells": [
  {
   "cell_type": "markdown",
   "metadata": {},
   "source": [
    "# Day 1"
   ]
  },
  {
   "cell_type": "markdown",
   "metadata": {},
   "source": [
    "Q1: Choose your base between 3 and 13. And write upto 3 three digit numbers in that base.\n",
    "\n",
    "Q2: Add/Substract single digit and multiple digits in your number system\n",
    "\n",
    "Q3: Prepare a table of single digit multiplications in your number system.\n",
    "\n",
    "Q4: Multiply multiple digits in your number system\n",
    "\n",
    "Q5: Convert 1, 10, 20, 30, 100 from your base to base10.\n",
    "\n",
    "Q6. Write a strategy to convert a number in your base to base 10 in plain english or pseudo code or python\n",
    "\n",
    "Q7. Write a strategy to convert a number in base N to base M in plain english or pseudo code or python"
   ]
  },
  {
   "cell_type": "markdown",
   "metadata": {},
   "source": [
    "Q: In base 10, how many numbers can you represent in 5 digits?\n",
    "_ _ _ _ _\n",
    "0 to 99999\n",
    "A: 10**5"
   ]
  },
  {
   "cell_type": "markdown",
   "metadata": {},
   "source": [
    "Q: In base 7, how many numbers can you represent in 5 digits?\n",
    "\n",
    "A: "
   ]
  },
  {
   "cell_type": "markdown",
   "metadata": {},
   "source": [
    "Q: In base B, how many numbers can you represent in d digits?\n",
    "\n",
    "A: "
   ]
  },
  {
   "cell_type": "markdown",
   "metadata": {
    "scrolled": true
   },
   "source": [
    "Q: To represent all numbers upto to but not including 10000 in base10, how many digits do you need?"
   ]
  },
  {
   "cell_type": "markdown",
   "metadata": {},
   "source": [
    "Q: To represent all numbers up to 9999 in base10, how many digits do you need?\n",
    "\n",
    "Note: we are representing total 10000 (0 to 9999) numbers\n",
    "\n",
    "A: \n"
   ]
  },
  {
   "cell_type": "markdown",
   "metadata": {},
   "source": [
    "Q: To represent N numbers, how many digits do we need in base 10?\n",
    "\n",
    "A: "
   ]
  },
  {
   "cell_type": "markdown",
   "metadata": {},
   "source": [
    "Q: To represent N numbers, how many digits do we need in base B?\n",
    "    "
   ]
  },
  {
   "cell_type": "markdown",
   "metadata": {},
   "source": [
    "Q: How would you compute square root of 5 without using any library?\n",
    "    \n",
    "Hint: Make Guesses and Note the square of your guess need to be very close 5.\n",
    "\n",
    "Q: Write your algorithm to compute square root of any number."
   ]
  },
  {
   "cell_type": "markdown",
   "metadata": {},
   "source": [
    "Q: What's the log base 10 of 100, 10\n",
    "\n",
    "A: "
   ]
  },
  {
   "cell_type": "markdown",
   "metadata": {},
   "source": [
    "Q: What's the log10 of 50 without using any library?\n",
    "\n",
    "Hint: Try hit and trial. Make guesses. 10 to the power of your guess should be very close to 50."
   ]
  },
  {
   "cell_type": "markdown",
   "metadata": {},
   "source": [
    "Q: Write your own algorithm or strategy to find log10. You can use 10**x."
   ]
  },
  {
   "cell_type": "markdown",
   "metadata": {},
   "source": [
    "# Day 1 - Catch Up Session"
   ]
  },
  {
   "cell_type": "markdown",
   "metadata": {},
   "source": [
    "Q: [Code] Write code to find SQRT, CubeRoot and Log10 based on previous strategies without using the library functions."
   ]
  },
  {
   "cell_type": "code",
   "execution_count": 3,
   "metadata": {},
   "outputs": [],
   "source": [
    "# Q: Write a function to increase a number in base 5 by 1.\n",
    "# Here is a rough strategy\n",
    "def add1_base5(num):\n",
    "    # start from right\n",
    "    # If it is less than 4, increase it and put it in another list output and stop the loop\n",
    "    # otherwise put 0 in output and move to previous element\n",
    "    # reverse a list and return it\n",
    "    pass"
   ]
  },
  {
   "cell_type": "code",
   "execution_count": null,
   "metadata": {},
   "outputs": [],
   "source": [
    "# Print all numbers of 4 digits in base 5.\n",
    "# Start with [0,0,0,0] keep adding 1  to it using previously coded add1_base5() untill the lists exhausts."
   ]
  },
  {
   "cell_type": "markdown",
   "metadata": {},
   "source": [
    "# Day 2"
   ]
  },
  {
   "cell_type": "code",
   "execution_count": null,
   "metadata": {},
   "outputs": [],
   "source": []
  },
  {
   "cell_type": "code",
   "execution_count": 7,
   "metadata": {},
   "outputs": [],
   "source": [
    "# Q: Write a function to extract last digit of a number\n",
    "\n",
    "def last_digit(num):\n",
    "    return x\n",
    " \n",
    "# last_digit(11), Ouput: 1\n",
    "# last_digit(1234), Ouput: 4\n"
   ]
  },
  {
   "cell_type": "code",
   "execution_count": 6,
   "metadata": {},
   "outputs": [],
   "source": [
    "# Q: Write a function to delete the last digit\n",
    "\n",
    "def trim(num):\n",
    "    return ...\n",
    "\n",
    "# trim(11), Ouput: 1\n",
    "# trim(1234), Ouput: 123\n",
    "# trim(123), Output: 12\n"
   ]
  },
  {
   "cell_type": "markdown",
   "metadata": {},
   "source": [
    "Q: Write code to print one digit per line of a number in last to first order.\n",
    "\n",
    "    def print_digits(num):\n",
    "        pass\n",
    "\n",
    "    print_digits(10)\n",
    "\n",
    "    Output: \n",
    "        0\n",
    "        1\n",
    "\n",
    "\n",
    "    print_digits(1234)\n",
    "\n",
    "    Output: \n",
    "        4\n",
    "        3\n",
    "        2\n",
    "        1\n",
    "\n"
   ]
  },
  {
   "cell_type": "markdown",
   "metadata": {},
   "source": [
    "Q: Convert from base 8, four digit number to base 10\n",
    "\n",
    "Hint: If input is 1234, output would be `1*8**3 + 2*8**2 + 3*8**1 + 4 `\n"
   ]
  },
  {
   "cell_type": "markdown",
   "metadata": {},
   "source": [
    "Q: Write code to convert a base less than 10 to base 10.\n",
    "\n",
    "Q: Write code to convert a number in any base to base 10\n",
    "\n",
    "Q: Write code to convert a number in base 10 to any base less than 10\n",
    "\n",
    "Q: Write code to convert a number in base 10 to any base.\n",
    "\n",
    "Q: Write code to convert a number in base A to base B"
   ]
  },
  {
   "cell_type": "markdown",
   "metadata": {},
   "source": [
    "Q: Study the TowerOfHanoi()"
   ]
  },
  {
   "cell_type": "markdown",
   "metadata": {},
   "source": [
    "Q: Create a condition on x1, x2 and x where print True if x is on the line joining x1 and x2\n",
    "\n",
    "    def is_online(x1, x2, x):\n",
    "        return True\n",
    "        \n",
    "    > is_online(1, 2, 1.5)\n",
    "    True\n",
    "\n",
    "    > is_online(1, 2, 1)\n",
    "    True\n",
    "\n",
    "    > is_online(1, 2, 3)\n",
    "    False\n",
    "\n",
    "    > is_online(2, 1, 3)\n",
    "    False\n",
    "\n",
    "    > is_online(-4, -1, -3)\n",
    "    True\n"
   ]
  },
  {
   "cell_type": "markdown",
   "metadata": {},
   "source": [
    "Q: Two lines x1 --> x2 and x3 --> x4, print True, if overlapping or touching otherwise print False\n",
    "    \n",
    "    def are_overlapping(x1, x2, x3, x4):\n",
    "        # Write your logic\n",
    "        return True or False"
   ]
  },
  {
   "cell_type": "markdown",
   "metadata": {},
   "source": [
    "\n",
    "Q: A rectangle is represented by two opposite corners. Each corner is represented a two number (x, y). Given two rectangles, return True if they are touching or overlapping otherwise return false.\n",
    "\n",
    "    def is_overlapping(fx1,fy1,fx2,fy2,sx1,sy1,sx2,sy2):\n",
    "        return True\n"
   ]
  },
  {
   "cell_type": "markdown",
   "metadata": {},
   "source": [
    "Q: Return the Hypotenuse of a right angle triangle with base b and height h\n",
    "\n",
    "    def hypotenus(b, h):\n",
    "        # ur own sqrt or math.sqrt\n",
    "        return 0"
   ]
  },
  {
   "cell_type": "markdown",
   "metadata": {},
   "source": [
    "Q: Compute the distance between two points in 2D (x1, y1) and (x2, y2)\n",
    "\n",
    "    def distance_2d(x1, y1, x2, y2):\n",
    "        return #the distance using hypotenus"
   ]
  },
  {
   "cell_type": "markdown",
   "metadata": {},
   "source": [
    "Q: Compute the distance between two points in 3D (x1, y1, z1) and (x2, y2, z2)\n",
    "\n",
    "    def distance_3d(x1, y1, z1, x2, y2, z2):\n",
    "        return #the distance using hypotenus"
   ]
  },
  {
   "cell_type": "markdown",
   "metadata": {},
   "source": [
    "Q: Compute the distance between two points in ND [x1, y1, z1, ...] and [x2, y2, z2, ...)\n",
    "\n",
    "    def distance_nd(point1, point2):\n",
    "        return #the distance using hypotenus"
   ]
  },
  {
   "cell_type": "markdown",
   "metadata": {},
   "source": [
    "# Day 3"
   ]
  },
  {
   "cell_type": "markdown",
   "metadata": {},
   "source": [
    "Q: Designing thermometer\n",
    "\n",
    "- when current 1, the teperature was 30\n",
    "- when currrent 2, the temperature was 35\n",
    "- when current will be 3, what would be the temperature 40\n",
    "- current = 4, temp = 45\n",
    "- current 2.1, temp = 35.5\n",
    "\n"
   ]
  },
  {
   "cell_type": "markdown",
   "metadata": {},
   "source": [
    "Q: Design thermometer\n",
    "    \n",
    "    calibration_data = [[1,30], [2,35]]\n",
    "    \n",
    "    def tell_temp(calibration_data, current):\n",
    "        return temperature"
   ]
  },
  {
   "cell_type": "markdown",
   "metadata": {},
   "source": [
    "Q: I want to measure the rate of change of output with respect to input.\n",
    "Slight increase input and observe how much output changes\n",
    "find out the ratio of change of output wrt input\n",
    "\n",
    "     def diff(f, x):\n",
    "        # rate of change of output wrt input\n",
    "\n",
    "Test this function on your various functions such as cube, 2*x**3 + 5*x"
   ]
  },
  {
   "cell_type": "markdown",
   "metadata": {},
   "source": [
    "# Day 4"
   ]
  },
  {
   "cell_type": "markdown",
   "metadata": {},
   "source": [
    "Q: Is a given point inside the given rectangle?\n",
    "\n",
    "Q: Is a point inside a triangle, quadrilateral, a polygon. (Out of Scope)"
   ]
  },
  {
   "cell_type": "markdown",
   "metadata": {},
   "source": [
    "Q: Write a function to add to numbers in base 11. Both s1 and s2 are strings\n",
    "\n",
    "def add_numbers_11(s1, s2):\n",
    "    pass\n",
    "    "
   ]
  },
  {
   "cell_type": "markdown",
   "metadata": {},
   "source": [
    "Q: Write a function which finds x to the power of n where n is integer without using library function. You can use recursion.\n",
    "    \n",
    "    def pow_rec(x, n):\n",
    "        return ..."
   ]
  },
  {
   "cell_type": "markdown",
   "metadata": {},
   "source": [
    "# Day 5 - March 2"
   ]
  },
  {
   "cell_type": "markdown",
   "metadata": {},
   "source": [
    "Q: Write code to swap two variables values. Without using x, y = y, x syntax.\n",
    "\n",
    "    x = 10, y = 20\n",
    "    << your code >>\n",
    "    print(x, y) # it should print 20, 10 or whatever was there in y and x\n",
    "\n",
    "**Level Up:**\n",
    "    Q: Do it without using third variable"
   ]
  },
  {
   "cell_type": "markdown",
   "metadata": {},
   "source": [
    "Q: Write first 16 numbers in base 2"
   ]
  },
  {
   "cell_type": "markdown",
   "metadata": {},
   "source": [
    "Q: Swap two variables holding numbers without using third variable. Use XOR."
   ]
  },
  {
   "cell_type": "markdown",
   "metadata": {},
   "source": [
    "Q:\n",
    "    \n",
    "\n",
    "Basic: \n",
    "    \n",
    "    arr = [10, 20, 30]\n",
    "    \n",
    "    + Shift all values circularly to left by one place\n",
    "    + The array could have any number of elements\n",
    "    \n",
    "Examples:\n",
    "    - [10, 20, 30] should become [20, 30, 10]\n",
    "    - [10, 20, 30, 40] -> [20, 30, 40, 10]\n",
    "    - [10] -> [10]\n",
    "    - [10, 20] -> [20, 10]\n",
    "\n",
    "\n",
    "**Medium:**\n",
    "    without using extra array but you can use extra variable\n",
    "\n",
    "**Hard:**\n",
    "    shift the arr by k places to left circularly without using extra array but you can use extra variable\n"
   ]
  },
  {
   "cell_type": "markdown",
   "metadata": {},
   "source": [
    "Q:\n",
    "\n",
    "    * Given three lists of numbers, return the list of their XORs\n",
    "    * all three lists have same size\n",
    "\n",
    "    def xors(a1, a2, a3):\n",
    "        return [...]\n",
    "\n",
    "Example: \n",
    "    Input: xors([1], [2], [3]):\n",
    "    Output: [0]\n",
    "    \n",
    "    Input: xors([1, 2], [2, 3], [3, 4]):\n",
    "    Output: [0, 5]\n",
    "    "
   ]
  },
  {
   "cell_type": "markdown",
   "metadata": {},
   "source": [
    "Q:\n",
    "\n",
    "You have a list of numbers, you have to reverse it. You can not use the inbuilt function or slicing ([::-1]\n",
    "\n",
    "Level Up: Without using extra arr or you can say do it in place.\n",
    "\n",
    "    def reverse(arr):\n",
    "        return []\n",
    "\n",
    "Example:\n",
    "    \n",
    "    Input: [1,2,3,4]\n",
    "    Ouput: [4,3, 2, 1]"
   ]
  },
  {
   "cell_type": "markdown",
   "metadata": {},
   "source": [
    "Q:\n",
    "    \n",
    "\n",
    "Basic: \n",
    "    \n",
    "    arr = [10, 20, 30]\n",
    "    \n",
    "    + Shift all values circularly to left by one place\n",
    "    + The array could have any number of elements\n",
    "    \n",
    "Examples:\n",
    "    - [10, 20, 30] should become [20, 30, 10]\n",
    "    - [10, 20, 30, 40] -> [20, 30, 40, 10]\n",
    "    - [10] -> [10]\n",
    "    - [10, 20] -> [20, 10]\n",
    "\n",
    "**Level Up:**\n",
    "    without using extra array but you can use extra variable\n",
    "\n",
    "**Level Up:**\n",
    "    shift the arr by k places to left circularly without using extra array but you can use extra variable\n",
    "    Hint: Can you use the reversing logic to do the same\n",
    "    "
   ]
  },
  {
   "cell_type": "markdown",
   "metadata": {},
   "source": [
    "# March 8"
   ]
  },
  {
   "cell_type": "markdown",
   "metadata": {},
   "source": [
    "Q:  Print all n digit numbers in base m.\n",
    "\n",
    "or\n",
    "\n",
    "Q:  Write a function to print all possible numbers of length n where each digit could go from 0 to m-1.\n",
    "\n",
    "Note: Don't use https://docs.python.org/3/library/itertools.html\n",
    "\n",
    "    def generate(n,m):\n",
    "        <you code>\n",
    "\n",
    "    ---\n",
    "    generate(1, 3)\n",
    "    0\n",
    "    1\n",
    "    2\n",
    "\n",
    "    -\n",
    "    generate(2, 2)\n",
    "    00\n",
    "    01\n",
    "    10\n",
    "    11\n",
    "\n",
    "    -\n",
    "    generate(3, 3)\n",
    "    000\n",
    "    001\n",
    "    002\n",
    "    010\n",
    "    011\n",
    "    012\n",
    "    020\n",
    "    021\n",
    "    022\n",
    "    100\n",
    "    101\n",
    "    102\n",
    "    110\n",
    "    111\n",
    "    112\n",
    "    120\n",
    "    121\n",
    "    122\n",
    "    200\n",
    "    201\n",
    "    202\n",
    "    210\n",
    "    211\n",
    "    212\n",
    "    220\n",
    "    221\n",
    "    222\n",
    "\n"
   ]
  },
  {
   "cell_type": "markdown",
   "metadata": {},
   "source": [
    "Q: Print all possible permutations of your name. Same length.\n",
    "    \n",
    "    def perms(s):\n",
    "        ...\n",
    "        \n",
    "   >perms(\"abc\")\n",
    "\n",
    "    abc\n",
    "    acb\n",
    "    bac\n",
    "    bca\n",
    "    cab\n",
    "    cba\n"
   ]
  },
  {
   "cell_type": "markdown",
   "metadata": {},
   "source": [
    "Q:\n",
    "\n",
    "We need to predict the load on our website in near realtime.\n",
    "\n",
    "    t = 0, load = 10\n",
    "    t = 1, load = 15\n",
    "    t = 2, load = 30\n",
    "    t = 3, load = ?\n",
    "    t = 4, load = ?\n",
    "\n",
    "First write a method called fit(data) that returns a model\n",
    "and then write a method called predict(model, time) that returns the load\n",
    "\n",
    "It is known the load on the website is a non-linear equations i.e.\n",
    "load = ```a * t^2 + b * t + c```\n",
    "\n",
    "\n",
    "Start with pen and papers. Do it manually first and then come up with a stragetegy to do with code.\n"
   ]
  },
  {
   "cell_type": "markdown",
   "metadata": {},
   "source": [
    "### Tower of Hanoi\n",
    "\n",
    "Q: Write a function to print moving of *only one* disk marked with \"n\" in tower of hanoi.\n",
    "    def move(n, src, dest, aux):\n",
    "        # Your code\n",
    "    > move(1, \"S\", \"D\", \"AUX\")\n",
    "    Moving disk 1 from S to D\n",
    "\n",
    "    > move(3, \"S\", \"AUX\", \"D\")\n",
    "    Moving disk 3 from S to AUX\n",
    "\n",
    "Q: Using the previous function, Write a function to move 2 disks in tower of hanoi.\n",
    "\n",
    "    def move2(src, dest, aux):\n",
    "        # Your code\n",
    "\n",
    "    > move2(\"A\", \"B\", \"X\"):\n",
    "    moving 1 from A to X\n",
    "    moving 2 from A to B\n",
    "    moving 1 from X to B\n",
    "\n",
    "    > move2(\"SRC\", \"TGT\", \"XTRA\"):\n",
    "    moving 1 from SRC to XTRA\n",
    "    moving 2 from SRC to TGT\n",
    "    moving 1 from XTRA to TGT\n",
    "\n",
    "Q: Now, solve tower of hanoi for n.\n",
    "\n",
    "    def move(n, src, dest, aux):\n",
    "        # You code\n",
    "\n",
    "Hint:\n",
    "    Think recursion. To move n disks from A -> B using C as aux. First move n-1 disks from A to C using B as aux. And then move last one. Then move n-1 disk from C to B using A as aux."
   ]
  },
  {
   "cell_type": "markdown",
   "metadata": {},
   "source": [
    "# Day 7 - Mar 9"
   ]
  },
  {
   "cell_type": "markdown",
   "metadata": {},
   "source": [
    "Q: Print fibonachi series: `0 1 1 2 3 5 8 13 `\n",
    "        \n",
    "See https://en.wikipedia.org/wiki/Fibonacci_sequence"
   ]
  },
  {
   "cell_type": "markdown",
   "metadata": {},
   "source": [
    "Q: Design integer multiplication. Don't use '*\" operator or other library functions for multiplications instead use recursion.\n",
    "\n",
    "In the following signature of the function, n and m are both integers:\n",
    "\n",
    "    def mul(n, m):\n",
    "        # Your code goes here.\n",
    "        return result\n",
    "Hint: \n",
    "    We can say, \n",
    "    \n",
    "    mul(n, m) = m + m + m ... n times\n",
    "    \n",
    "    therefore, mul(n, m) = m + mul(n-1, m)\n"
   ]
  },
  {
   "cell_type": "markdown",
   "metadata": {},
   "source": [
    "Q: Design your own pow_int(n,m) which does the n to the power of m where m is an integer using recursion. Do not use the python operator `**` or any other library function for `power`\n",
    "\n",
    "    def pow_int(n, m):\n",
    "        # Your code goes here\n",
    "        return result\n",
    "\n",
    "    > power(2, 3)\n",
    "    8\n",
    "    > power(3, 2)\n",
    "    9\n",
    "    > power(5, 0)\n",
    "    1\n",
    "    > power(0, 5)\n",
    "    0\n",
    "    > power(0, 0)\n",
    "    1\n",
    "    \n",
    "\n",
    "Hint: pow_int(3, 5) is same as 3 * pow_int(3, 4)\n"
   ]
  },
  {
   "cell_type": "markdown",
   "metadata": {},
   "source": [
    "Q: Design division\n",
    "\n",
    "    def divide(n, m): # n/m, return quotient, remainder\n",
    "        # Your code\n",
    "        return result, remain\n",
    "\n",
    "    > divide(21, 5)\n",
    "    (4, 1)\n",
    "\n",
    "Q: handle decimal numbers - use binary search"
   ]
  },
  {
   "cell_type": "markdown",
   "metadata": {},
   "source": [
    "Q: Create a recusion based solution to HCF - euclid method\n",
    "\n",
    "See https://en.wikipedia.org/wiki/Euclidean_algorithm\n",
    "    "
   ]
  },
  {
   "cell_type": "markdown",
   "metadata": {},
   "source": [
    "Q: Write method to find all prime factors of a number which should be in non-decreasing order: \n",
    "\n",
    "        def find_factors(num):\n",
    "            # Your code\n",
    "            return factors\n",
    "        \n",
    "        > find_factors_itr(490000)\n",
    "        [2, 2, 2, 2, 5, 5, 5, 5, 7, 7]\n",
    "        \n",
    "        > find_factors_slow(820387312371)\n",
    "        [3, 3, 3, 11, 2762246843]\n"
   ]
  },
  {
   "cell_type": "markdown",
   "metadata": {},
   "source": [
    "Q: Given two lists of numbers in non-decreasing order, find the common numbers\n",
    "    \n",
    "    def commons(num1, num2): #Merge Sort\n",
    "        # Your code\n",
    "        return commons\n",
    "\n",
    "    > commons([1,2,3], [1,3])\n",
    "    [1, 3]\n",
    "\n",
    "    > common_factors([1,2, 2, 2, 2], [1,2,2,2, 5, 6])\n",
    "    [1, 2, 2, 2]\n",
    "\n"
   ]
  },
  {
   "cell_type": "markdown",
   "metadata": {},
   "source": [
    "Q: Using `commons` and `find_factors` in previous exercises, write your own HCF algorithm."
   ]
  },
  {
   "cell_type": "markdown",
   "metadata": {},
   "source": [
    "Q: You have a list of numbers which are sorted. Find the distinct numbers in-place without using any extra memory.\n",
    "\n",
    "    [2, 2, 2, 2, 5, 5, 5, 5, 7, 7] -> [2,5,7]"
   ]
  },
  {
   "cell_type": "markdown",
   "metadata": {},
   "source": [
    "Q: Write a function to check if parathesis are valid\n",
    "\n",
    "    > are_valid(\"[]\")\n",
    "    True\n",
    "\n",
    "    >are_valid(\"}{\")\n",
    "    False"
   ]
  },
  {
   "cell_type": "markdown",
   "metadata": {},
   "source": [
    "Q: There is a list of people, print the unques hand shakes\n",
    "\n",
    "    Example: \n",
    "    Input: [\"A\", \"B\", \"C\"]  \n",
    "    Expected: \n",
    "\n",
    "        A B, \n",
    "\n",
    "        A C\n",
    "\n",
    "        B C\n"
   ]
  },
  {
   "cell_type": "markdown",
   "metadata": {},
   "source": [
    "Question:\n",
    "Solve Equations:\n",
    "\n",
    "    def solve_equations(eqn):\n",
    "        if len(eqns) == 1:\n",
    "            ...\n",
    "        else:\n",
    "            # Eliminating one variable\n",
    "            new_equns = ....\n",
    "\n",
    "            result_n_1 = solve_equations(new_equns)\n",
    "\n",
    "        return [1,1,1]\n"
   ]
  },
  {
   "cell_type": "markdown",
   "metadata": {},
   "source": [
    "```\n",
    "For equation:\n",
    "    4*x + 2y + z = 5\n",
    "    x - 3y - z = 3\n",
    "    3x + 2y + 2z = 10\n",
    "\n",
    "eqns = [\n",
    "    [4, 2, 1, 5],\n",
    "    [1, -3, -1, 3]\n",
    "    [3, 2, 2, 10]\n",
    "]\n",
    "```\n",
    "result = solve_equations(eqns) \n",
    "\n",
    "result\n",
    "\n"
   ]
  },
  {
   "cell_type": "markdown",
   "metadata": {},
   "source": [
    "N -> eliminate one variable and make it n - 1 -> ..... if n = 1, solve it return the answer\n",
    "                                        2        <<<<---|"
   ]
  },
  {
   "cell_type": "markdown",
   "metadata": {},
   "source": [
    "# Day 8 - Mar 22"
   ]
  },
  {
   "cell_type": "markdown",
   "metadata": {},
   "source": [
    "Q: You are given two lists of numbers: Actual and Predicted \n",
    "First Code up Mean absolute error and mean squared error. \n",
    "    \n",
    "    def mean_squared_error(actual, predicted):\n",
    "        # your code\n",
    "    \n",
    "    def mean_absolute_error(actual, predicted):\n",
    "        # Your code\n",
    "        \n",
    "Q: Come up with your own formula to compare these numbers."
   ]
  },
  {
   "cell_type": "markdown",
   "metadata": {},
   "source": [
    "Q: Code knn,\n",
    "\n",
    "    def knn(data, x):\n",
    "        # You code\n",
    "        return value of y\n",
    "\n",
    "    train_data = [[1,10], [2, 20], [3, 30], [10, 110]] #x=1, y 10; x=2, y = 20\n",
    "    > knn(train_data, 1)\n",
    "    10\n",
    "\n",
    "    > knn(train_data, 1.3)\n",
    "    10\n",
    "\n",
    "\n",
    "    > knn(train_data, 9)\n",
    "    200\n"
   ]
  },
  {
   "cell_type": "markdown",
   "metadata": {},
   "source": [
    "Q: Compute the `abs` and `squared` errors of knn on the train data as above and test data as `[[3,4], [9, 100], [5, 55]]`\n",
    "\n",
    "A: \n",
    "    [Hint]\n",
    "    for x, y in test_data:\n",
    "        y_predicted = knn(train_data)\n",
    "    \n",
    "Based on y and y_predicted compute total squared and abs error. "
   ]
  },
  {
   "cell_type": "markdown",
   "metadata": {},
   "source": [
    "Q: Visually plot the data using https://www.desmos.com/calculator, and try to come up with an approximate stratight line for this train_data mentioned above.\n",
    "Approximate Model i.e. m and c. See: https://www.desmos.com/calculator/evjsqo2dv8\n",
    "\n",
    "Now, find out the total squared and absolute errors of this model\n",
    "\n",
    "Q: Compare and discuss the results of knn and linear model based on the two errors."
   ]
  },
  {
   "cell_type": "markdown",
   "metadata": {},
   "source": [
    "# 10 - March 29"
   ]
  },
  {
   "cell_type": "markdown",
   "metadata": {},
   "source": [
    "Write a function to compute mean of a list of numbers\n",
    "\n",
    "    def mean(arr):\n",
    "        \n",
    "        return s/L\n"
   ]
  },
  {
   "attachments": {
    "image.png": {
     "image/png": "[encoded data removed]"
    }
   },
   "cell_type": "markdown",
   "metadata": {},
   "source": [
    "![image.png](attachment:image.png)"
   ]
  },
  {
   "cell_type": "markdown",
   "metadata": {},
   "source": [
    "\n",
    "Write a function to compute the standard deviation\n",
    "\n",
    "    def sd(arr):\n",
    "        # Your code"
   ]
  },
  {
   "cell_type": "markdown",
   "metadata": {},
   "source": [
    "Given a list of numbers, print the numbers which are outliers. An outlier is the one with z_score above 2 or below -2.\n",
    "\n",
    "    def print_outliers(nums):\n",
    "        ...\n",
    "        "
   ]
  },
  {
   "cell_type": "markdown",
   "metadata": {},
   "source": [
    "\n",
    "Q: Use a simple linear method to convert values to betweem 0 and 1\n",
    "Min-Max scaling -> (arr - min)/(max - min)\n",
    "\n",
    "    [1, 1.5, 2] -> [0, 0.5, 1]\n",
    "    [1, 5] -> [0, 1]\n",
    "    [1, 2, 3, 4, 5] -> [0, 1/4, 2/4, 3/4  , 1]\n",
    "    [-5, 1, 2] -> [0, 6, 7] -> [0/7, 6/7, 7/7]"
   ]
  },
  {
   "cell_type": "markdown",
   "metadata": {},
   "source": [
    "TODO:\n",
    "\n",
    "1. Gradient Descent:\n",
    "    - Find SQRT\n",
    "    - Find counts of 1s in a list of numbers having 0s, 1s and 2s in sorted manner\n",
    "    - Find the minimum value in convex list of numbers which is first decreasing and then increasing\n",
    "    - Find the minimum value of a polynomial y = x2 - 5x +2\n",
    "    - Find the minimum value of any convex curve\n",
    "    - Find a line joining two points (x1, y1), (x2, y2) in 2d\n",
    "        - Create Model Class with\n",
    "            - fit(data)\n",
    "            - predict(X)\n",
    "    - Find the plane connecting three points (x11, x12, y1), (x21, x22, y2) and (x31, x32, y3)\n",
    "    - Find a best fitting line throught three points (x1, y1), (x2, y2) and (x3, y3)\n",
    "        - Assume m and c\n",
    "        - Find the error function\n",
    "        - Now, use the algorithm to find the minimum value\n",
    "\n",
    "2. LLM Sentiment Analysis\n",
    "\n",
    "3. "
   ]
  }
 ],
 "metadata": {
  "kernelspec": {
   "display_name": "Python 3",
   "language": "python",
   "name": "python3"
  },
  "language_info": {
   "codemirror_mode": {
    "name": "ipython",
    "version": 3
   },
   "file_extension": ".py",
   "mimetype": "text/x-python",
   "name": "python",
   "nbconvert_exporter": "python",
   "pygments_lexer": "ipython3",
   "version": "3.6.8"
  },
  "toc": {
   "base_numbering": 1,
   "nav_menu": {},
   "number_sections": true,
   "sideBar": true,
   "skip_h1_title": false,
   "title_cell": "Table of Contents",
   "title_sidebar": "Contents",
   "toc_cell": false,
   "toc_position": {},
   "toc_section_display": true,
   "toc_window_display": false
  }
 },
 "nbformat": 4,
 "nbformat_minor": 2
}
