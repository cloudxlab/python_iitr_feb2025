{
 "cells": [
  {
   "cell_type": "markdown",
   "metadata": {},
   "source": [
    "# Day 1"
   ]
  },
  {
   "cell_type": "markdown",
   "metadata": {},
   "source": [
    "Q1: Choose your base between 3 and 13. And write upto 3 three digit numbers in that base.\n",
    "\n",
    "Q2: Add/Substract single digit and multiple digits in your number system\n",
    "\n",
    "Q3: Prepare a table of single digit multiplications in your number system.\n",
    "\n",
    "Q4: Multiply multiple digits in your number system\n",
    "\n",
    "Q5: Convert 1, 10, 20, 30, 100 from your base to base10.\n",
    "\n",
    "Q6. Write a strategy to convert a number in your base to base 10 in plain english or pseudo code or python\n",
    "\n",
    "Q7. Write a strategy to convert a number in base N to base M in plain english or pseudo code or python"
   ]
  },
  {
   "cell_type": "markdown",
   "metadata": {},
   "source": [
    "Q: In base 10, how many numbers can you represent in 5 digits?\n",
    "_ _ _ _ _\n",
    "0 to 99999\n",
    "A: 10**5"
   ]
  },
  {
   "cell_type": "markdown",
   "metadata": {},
   "source": [
    "Q: In base 7, how many numbers can you represent in 5 digits?\n",
    "\n",
    "A: "
   ]
  },
  {
   "cell_type": "markdown",
   "metadata": {},
   "source": [
    "Q: In base B, how many numbers can you represent in d digits?\n",
    "\n",
    "A: "
   ]
  },
  {
   "cell_type": "markdown",
   "metadata": {
    "scrolled": true
   },
   "source": [
    "Q: To represent all numbers upto to but not including 10000 in base10, how many digits do you need?"
   ]
  },
  {
   "cell_type": "markdown",
   "metadata": {},
   "source": [
    "Q: To represent all numbers up to 9999 in base10, how many digits do you need?\n",
    "\n",
    "Note: we are representing total 10000 (0 to 9999) numbers\n",
    "\n",
    "A: \n"
   ]
  },
  {
   "cell_type": "markdown",
   "metadata": {},
   "source": [
    "Q: To represent N numbers, how many digits do we need in base 10?\n",
    "\n",
    "A: "
   ]
  },
  {
   "cell_type": "markdown",
   "metadata": {},
   "source": [
    "Q: To represent N numbers, how many digits do we need in base B?\n",
    "    "
   ]
  },
  {
   "cell_type": "markdown",
   "metadata": {},
   "source": [
    "Q: How would you compute square root of 5 without using any library?\n",
    "    \n",
    "Hint: Make Guesses and Note the square of your guess need to be very close 5.\n",
    "\n",
    "Q: Write your algorithm to compute square root of any number."
   ]
  },
  {
   "cell_type": "markdown",
   "metadata": {},
   "source": [
    "Q: What's the log base 10 of 100, 10\n",
    "\n",
    "A: "
   ]
  },
  {
   "cell_type": "markdown",
   "metadata": {},
   "source": [
    "Q: What's the log10 of 50 without using any library?\n",
    "\n",
    "Hint: Try hit and trial. Make guesses. 10 to the power of your guess should be very close to 50."
   ]
  },
  {
   "cell_type": "markdown",
   "metadata": {},
   "source": [
    "Q: Write your own algorithm or strategy to find log10. You can use 10**x."
   ]
  },
  {
   "cell_type": "markdown",
   "metadata": {},
   "source": [
    "# Day 1 - Catch Up Session"
   ]
  },
  {
   "cell_type": "markdown",
   "metadata": {},
   "source": [
    "Q: [Code] Write code to find SQRT, CubeRoot and Log10 based on previous strategies without using the library functions."
   ]
  },
  {
   "cell_type": "code",
   "execution_count": 3,
   "metadata": {},
   "outputs": [],
   "source": [
    "# Q: Write a function to increase a number in base 5 by 1.\n",
    "# Here is a rough strategy\n",
    "def add1_base5(num):\n",
    "    # start from right\n",
    "    # If it is less than 4, increase it and put it in another list output and stop the loop\n",
    "    # otherwise put 0 in output and move to previous element\n",
    "    # reverse a list and return it\n",
    "    pass"
   ]
  },
  {
   "cell_type": "code",
   "execution_count": null,
   "metadata": {},
   "outputs": [],
   "source": [
    "# Print all numbers of 4 digits in base 5.\n",
    "# Start with [0,0,0,0] keep adding 1  to it using previously coded add1_base5() untill the lists exhausts."
   ]
  },
  {
   "cell_type": "markdown",
   "metadata": {},
   "source": [
    "# Day 2"
   ]
  },
  {
   "cell_type": "code",
   "execution_count": null,
   "metadata": {},
   "outputs": [],
   "source": []
  },
  {
   "cell_type": "code",
   "execution_count": 7,
   "metadata": {},
   "outputs": [],
   "source": [
    "# Q: Write a function to extract last digit of a number\n",
    "\n",
    "def last_digit(num):\n",
    "    return x\n",
    " \n",
    "# last_digit(11), Ouput: 1\n",
    "# last_digit(1234), Ouput: 4\n"
   ]
  },
  {
   "cell_type": "code",
   "execution_count": 6,
   "metadata": {},
   "outputs": [],
   "source": [
    "# Q: Write a function to delete the last digit\n",
    "\n",
    "def trim(num):\n",
    "    return ...\n",
    "\n",
    "# trim(11), Ouput: 1\n",
    "# trim(1234), Ouput: 123\n",
    "# trim(123), Output: 12\n"
   ]
  },
  {
   "cell_type": "markdown",
   "metadata": {},
   "source": [
    "Q: Write code to print one digit per line of a number in last to first order.\n",
    "\n",
    "    def print_digits(num):\n",
    "        pass\n",
    "\n",
    "    print_digits(10)\n",
    "\n",
    "    Output: \n",
    "        0\n",
    "        1\n",
    "\n",
    "\n",
    "    print_digits(1234)\n",
    "\n",
    "    Output: \n",
    "        4\n",
    "        3\n",
    "        2\n",
    "        1\n",
    "\n"
   ]
  },
  {
   "cell_type": "markdown",
   "metadata": {},
   "source": [
    "Q: Convert from base 8, four digit number to base 10\n",
    "\n",
    "Hint: If input is 1234, output would be `1*8**3 + 2*8**2 + 3*8**1 + 4 `\n"
   ]
  },
  {
   "cell_type": "markdown",
   "metadata": {},
   "source": [
    "Q: Write code to convert a base less than 10 to base 10.\n",
    "\n",
    "Q: Write code to convert a number in any base to base 10\n",
    "\n",
    "Q: Write code to convert a number in base 10 to any base less than 10\n",
    "\n",
    "Q: Write code to convert a number in base 10 to any base.\n",
    "\n",
    "Q: Write code to convert a number in base A to base B"
   ]
  },
  {
   "cell_type": "markdown",
   "metadata": {},
   "source": [
    "Q: Study the TowerOfHanoi()"
   ]
  },
  {
   "cell_type": "markdown",
   "metadata": {},
   "source": [
    "Q: Create a condition on x1, x2 and x where print True if x is on the line joining x1 and x2\n",
    "\n",
    "    def is_online(x1, x2, x):\n",
    "        return True\n",
    "        \n",
    "    > is_online(1, 2, 1.5)\n",
    "    True\n",
    "\n",
    "    > is_online(1, 2, 1)\n",
    "    True\n",
    "\n",
    "    > is_online(1, 2, 3)\n",
    "    False\n",
    "\n",
    "    > is_online(2, 1, 3)\n",
    "    False\n",
    "\n",
    "    > is_online(-4, -1, -3)\n",
    "    True\n"
   ]
  },
  {
   "cell_type": "markdown",
   "metadata": {},
   "source": [
    "Q: Two lines x1 --> x2 and x3 --> x4, print True, if overlapping or touching otherwise print False\n",
    "    \n",
    "    def are_overlapping(x1, x2, x3, x4):\n",
    "        # Write your logic\n",
    "        return True or False"
   ]
  },
  {
   "cell_type": "markdown",
   "metadata": {},
   "source": [
    "\n",
    "Q: A rectangle is represented by two opposite corners. Each corner is represented a two number (x, y). Given two rectangles, return True if they are touching or overlapping otherwise return false.\n",
    "\n",
    "    def is_overlapping(fx1,fy1,fx2,fy2,sx1,sy1,sx2,sy2):\n",
    "        return True\n"
   ]
  },
  {
   "cell_type": "markdown",
   "metadata": {},
   "source": [
    "Q: Return the Hypotenuse of a right angle triangle with base b and height h\n",
    "\n",
    "    def hypotenus(b, h):\n",
    "        # ur own sqrt or math.sqrt\n",
    "        return 0"
   ]
  },
  {
   "cell_type": "markdown",
   "metadata": {},
   "source": [
    "Q: Compute the distance between two points in 2D (x1, y1) and (x2, y2)\n",
    "\n",
    "    def distance_2d(x1, y1, x2, y2):\n",
    "        return #the distance using hypotenus"
   ]
  },
  {
   "cell_type": "markdown",
   "metadata": {},
   "source": [
    "Q: Compute the distance between two points in 3D (x1, y1, z1) and (x2, y2, z2)\n",
    "\n",
    "    def distance_3d(x1, y1, z1, x2, y2, z2):\n",
    "        return #the distance using hypotenus"
   ]
  },
  {
   "cell_type": "markdown",
   "metadata": {},
   "source": [
    "Q: Compute the distance between two points in ND [x1, y1, z1, ...] and [x2, y2, z2, ...)\n",
    "\n",
    "    def distance_nd(point1, point2):\n",
    "        return #the distance using hypotenus"
   ]
  },
  {
   "cell_type": "markdown",
   "metadata": {},
   "source": [
    "# Day 3"
   ]
  },
  {
   "cell_type": "markdown",
   "metadata": {},
   "source": [
    "Q: Designing thermometer\n",
    "\n",
    "- when current 1, the teperature was 30\n",
    "- when currrent 2, the temperature was 35\n",
    "- when current will be 3, what would be the temperature 40\n",
    "- current = 4, temp = 45\n",
    "- current 2.1, temp = 35.5\n",
    "\n"
   ]
  },
  {
   "cell_type": "markdown",
   "metadata": {},
   "source": [
    "Q: Design thermometer\n",
    "    \n",
    "    calibration_data = [[1,30], [2,35]]\n",
    "    \n",
    "    def tell_temp(calibration_data, current):\n",
    "        return temperature"
   ]
  },
  {
   "cell_type": "markdown",
   "metadata": {},
   "source": [
    "Q: I want to measure the rate of change of output with respect to input.\n",
    "Slight increase input and observe how much output changes\n",
    "find out the ratio of change of output wrt input\n",
    "\n",
    "     def diff(f, x):\n",
    "        # rate of change of output wrt input\n",
    "\n",
    "Test this function on your various functions such as cube, 2*x**3 + 5*x"
   ]
  },
  {
   "cell_type": "markdown",
   "metadata": {},
   "source": [
    "# Day 4"
   ]
  },
  {
   "cell_type": "markdown",
   "metadata": {},
   "source": [
    "Q: Is a given point inside the given rectangle?\n",
    "\n",
    "Q: Is a point inside a triangle, quadrilateral, a polygon. (Out of Scope)"
   ]
  },
  {
   "cell_type": "markdown",
   "metadata": {},
   "source": [
    "Q: Write a function to add to numbers in base 11. Both s1 and s2 are strings\n",
    "\n",
    "def add_numbers_11(s1, s2):\n",
    "    pass\n",
    "    "
   ]
  },
  {
   "cell_type": "markdown",
   "metadata": {},
   "source": [
    "Q: Write a function which finds x to the power of n where n is integer without using library function. You can use recursion.\n",
    "    \n",
    "    def pow_rec(x, n):\n",
    "        return ..."
   ]
  },
  {
   "cell_type": "markdown",
   "metadata": {},
   "source": [
    "# Day 5"
   ]
  },
  {
   "cell_type": "markdown",
   "metadata": {},
   "source": [
    "Q: Write code to swap two variables values. Without using x, y = y, x syntax.\n",
    "\n",
    "    x = 10, y = 20\n",
    "    << your code >>\n",
    "    print(x, y) # it should print 20, 10 or whatever was there in y and x\n",
    "\n",
    "**Level Up:**\n",
    "    Q: Do it without using third variable"
   ]
  },
  {
   "cell_type": "markdown",
   "metadata": {},
   "source": [
    "Q: Write first 16 numbers in base 2"
   ]
  },
  {
   "cell_type": "markdown",
   "metadata": {},
   "source": [
    "Q: Swap two variables holding numbers without using third variable. Use XOR."
   ]
  },
  {
   "cell_type": "markdown",
   "metadata": {},
   "source": [
    "Question:\n",
    "    \n",
    "\n",
    "Basic: \n",
    "    \n",
    "    arr = [10, 20, 30]\n",
    "    \n",
    "    + Shift all values circularly to left by one place\n",
    "    + The array could have any number of elements\n",
    "    \n",
    "Examples:\n",
    "    - [10, 20, 30] should become [20, 30, 10]\n",
    "    - [10, 20, 30, 40] -> [20, 30, 40, 10]\n",
    "    - [10] -> [10]\n",
    "    - [10, 20] -> [20, 10]\n",
    "\n",
    "\n",
    "**Medium:**\n",
    "    without using extra array but you can use extra variable\n",
    "\n",
    "**Hard:**\n",
    "    shift the arr by k places to left circularly without using extra array but you can use extra variable\n"
   ]
  },
  {
   "cell_type": "code",
   "execution_count": null,
   "metadata": {},
   "outputs": [],
   "source": []
  }
 ],
 "metadata": {
  "kernelspec": {
   "display_name": "Python 3",
   "language": "python",
   "name": "python3"
  },
  "language_info": {
   "codemirror_mode": {
    "name": "ipython",
    "version": 3
   },
   "file_extension": ".py",
   "mimetype": "text/x-python",
   "name": "python",
   "nbconvert_exporter": "python",
   "pygments_lexer": "ipython3",
   "version": "3.6.8"
  },
  "toc": {
   "base_numbering": 1,
   "nav_menu": {},
   "number_sections": true,
   "sideBar": true,
   "skip_h1_title": false,
   "title_cell": "Table of Contents",
   "title_sidebar": "Contents",
   "toc_cell": false,
   "toc_position": {},
   "toc_section_display": true,
   "toc_window_display": false
  }
 },
 "nbformat": 4,
 "nbformat_minor": 2
}
