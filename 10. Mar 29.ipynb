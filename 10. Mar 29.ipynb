{
 "cells": [
  {
   "cell_type": "code",
   "execution_count": 18,
   "metadata": {},
   "outputs": [],
   "source": [
    "def mean(arr):\n",
    "    L = len(arr)\n",
    "    if L == 0:\n",
    "        return 0\n",
    "    s = 0\n",
    "    for e in arr:\n",
    "#         print(e)\n",
    "        s += e\n",
    "    return s/L"
   ]
  },
  {
   "cell_type": "code",
   "execution_count": 5,
   "metadata": {},
   "outputs": [
    {
     "name": "stdout",
     "output_type": "stream",
     "text": [
      "10\n",
      "2\n",
      "3\n",
      "4\n"
     ]
    },
    {
     "data": {
      "text/plain": [
       "4.75"
      ]
     },
     "execution_count": 5,
     "metadata": {},
     "output_type": "execute_result"
    }
   ],
   "source": [
    "mean([10,2,3,4])"
   ]
  },
  {
   "attachments": {
    "image.png": {
     "image/png": "[encoded data removed]"
    }
   },
   "cell_type": "markdown",
   "metadata": {},
   "source": [
    "![image.png](attachment:image.png)"
   ]
  },
  {
   "cell_type": "code",
   "execution_count": 14,
   "metadata": {},
   "outputs": [],
   "source": [
    "import math"
   ]
  },
  {
   "cell_type": "code",
   "execution_count": 19,
   "metadata": {},
   "outputs": [],
   "source": [
    "def sd(arr):\n",
    "    mu = mean(arr)\n",
    "    total_var  = 0\n",
    "    for e in arr:\n",
    "        diff = e - mu\n",
    "        total_var = total_var + diff*diff\n",
    "    return math.sqrt(total_var/len(arr))"
   ]
  },
  {
   "cell_type": "code",
   "execution_count": 20,
   "metadata": {},
   "outputs": [
    {
     "data": {
      "text/plain": [
       "1.118033988749895"
      ]
     },
     "execution_count": 20,
     "metadata": {},
     "output_type": "execute_result"
    }
   ],
   "source": [
    "sd([1,2,3,4])"
   ]
  },
  {
   "cell_type": "code",
   "execution_count": 21,
   "metadata": {},
   "outputs": [
    {
     "data": {
      "text/plain": [
       "248.47937540166185"
      ]
     },
     "execution_count": 21,
     "metadata": {},
     "output_type": "execute_result"
    }
   ],
   "source": [
    "sd([10,2,-300,400])"
   ]
  },
  {
   "cell_type": "code",
   "execution_count": 22,
   "metadata": {},
   "outputs": [
    {
     "data": {
      "text/plain": [
       "0.0"
      ]
     },
     "execution_count": 22,
     "metadata": {},
     "output_type": "execute_result"
    }
   ],
   "source": [
    "sd([1,1,1,1])"
   ]
  },
  {
   "attachments": {
    "image.png": {
     "image/png": "[encoded data removed]"
    }
   },
   "cell_type": "markdown",
   "metadata": {},
   "source": [
    "![image.png](attachment:image.png)"
   ]
  },
  {
   "cell_type": "code",
   "execution_count": 23,
   "metadata": {},
   "outputs": [],
   "source": [
    "def z_score(x, mu, sd):\n",
    "    return (x  - mu)/sd"
   ]
  },
  {
   "cell_type": "code",
   "execution_count": 39,
   "metadata": {},
   "outputs": [],
   "source": [
    "def compute_zscores(arr, mu, arrsd):\n",
    "    zscores = []\n",
    "    for x in arr:\n",
    "        zscore = z_score(x, mu, arrsd)\n",
    "        zscores.append(zscore)\n",
    "    return zscores"
   ]
  },
  {
   "cell_type": "code",
   "execution_count": 40,
   "metadata": {},
   "outputs": [
    {
     "name": "stdout",
     "output_type": "stream",
     "text": [
      "Mean: -0.5555555555555556\n"
     ]
    }
   ],
   "source": [
    "arr = [-1000, -30, 1,2,3,4,5, 10, 1000]\n",
    "y = [-4, -2, 1, 1, 3, 3, 4, 6, 8]\n",
    "mu = mean(arr)\n",
    "print(f\"Mean: {mu}\")\n",
    "arrsd = sd(arr)\n",
    "zscores = compute_zscores(arr, mu, arrsd)"
   ]
  },
  {
   "cell_type": "markdown",
   "metadata": {},
   "source": [
    "*Question*: Given a list of numbers, print the numbers which are outliers. An outlier is the one with z_score above 2 or below -2.\n",
    "\n",
    "    def print_outliers(nums):\n",
    "        ...\n",
    "        "
   ]
  },
  {
   "cell_type": "code",
   "execution_count": 35,
   "metadata": {},
   "outputs": [
    {
     "data": {
      "text/plain": [
       "([-2.119584337138764,\n",
       "  -0.062444674746167037,\n",
       "  0.003298963948854108,\n",
       "  0.0054197264874031766,\n",
       "  0.007540489025952246,\n",
       "  0.009661251564501315,\n",
       "  0.011782014103050385,\n",
       "  0.022385826795795732,\n",
       "  2.121940739959374],\n",
       " [-1000, -30, 1, 2, 3, 4, 5, 10, 1000],\n",
       " [-4, -2, 1, 1, 3, 3, 4, 6, 8])"
      ]
     },
     "execution_count": 35,
     "metadata": {},
     "output_type": "execute_result"
    }
   ],
   "source": [
    "zscores, arr, y"
   ]
  },
  {
   "cell_type": "code",
   "execution_count": 43,
   "metadata": {},
   "outputs": [
    {
     "name": "stdout",
     "output_type": "stream",
     "text": [
      "Mean: -0.45454545454545453\n",
      "Zscores: [-2.3452056406883908, -0.002344140703642943, -6.929019815224707e-05, 3.411209755187548e-06, 5.756416461878987e-06, 8.101623168570426e-06, 1.0446829875261864e-05, 1.2792036581953304e-05, 2.4518070115410502e-05, 0.002346272709739935, 2.3452077726944878]\n"
     ]
    }
   ],
   "source": [
    "arr = [-1000000, -1000, -30, 1,2,3,4,5, 10, 1000, 1000000]\n",
    "y = [-4, -2, 1, 1, 3, 3, 4, 6, 8]\n",
    "mu = mean(arr)\n",
    "print(f\"Mean: {mu}\")\n",
    "arrsd = sd(arr)\n",
    "zscores = compute_zscores(arr, mu, arrsd)\n",
    "print(f\"Zscores: {zscores}\")"
   ]
  },
  {
   "cell_type": "markdown",
   "metadata": {},
   "source": [
    "Note: If your data is varying too much, if the data is positive number you take log otherwise your use z_score\n"
   ]
  },
  {
   "cell_type": "code",
   "execution_count": 45,
   "metadata": {},
   "outputs": [],
   "source": [
    "\n",
    "# Q: Use a simple linear method to convert values to betweem 0 and 1\n",
    "\n",
    "# Min-Max scaling -> (arr - min)/(max - min)\n",
    "\n",
    "# [1, 1.5, 2] -> [0, 0.5, 1]\n",
    "# [1, 5] -> [0, 1]\n",
    "# [1, 2, 3, 4, 5] -> [0, 1/4, 2/4, 3/4  , 1]\n",
    "# [-5, 1, 2] -> [0, 6, 7] -> [0/7, 6/7, 7/7]"
   ]
  },
  {
   "cell_type": "code",
   "execution_count": null,
   "metadata": {},
   "outputs": [],
   "source": []
  },
  {
   "cell_type": "code",
   "execution_count": 36,
   "metadata": {},
   "outputs": [],
   "source": [
    "import matplotlib.pyplot as plt"
   ]
  },
  {
   "cell_type": "code",
   "execution_count": 37,
   "metadata": {},
   "outputs": [
    {
     "data": {
      "text/plain": [
       "<matplotlib.collections.PathCollection at 0x7f859fd24c18>"
      ]
     },
     "execution_count": 37,
     "metadata": {},
     "output_type": "execute_result"
    },
    {
     "data": {
      "image/png": "[encoded data removed]",
      "text/plain": [
       "<Figure size 432x288 with 1 Axes>"
      ]
     },
     "metadata": {
      "needs_background": "light"
     },
     "output_type": "display_data"
    }
   ],
   "source": [
    "plt.scatter(arr, y)"
   ]
  },
  {
   "cell_type": "code",
   "execution_count": 38,
   "metadata": {},
   "outputs": [
    {
     "data": {
      "text/plain": [
       "<matplotlib.collections.PathCollection at 0x7f859fc94748>"
      ]
     },
     "execution_count": 38,
     "metadata": {},
     "output_type": "execute_result"
    },
    {
     "data": {
      "image/png": "[encoded data removed]",
      "text/plain": [
       "<Figure size 432x288 with 1 Axes>"
      ]
     },
     "metadata": {
      "needs_background": "light"
     },
     "output_type": "display_data"
    }
   ],
   "source": [
    "plt.scatter(zscores, y)"
   ]
  },
  {
   "cell_type": "markdown",
   "metadata": {},
   "source": [
    " Q: are we using linux commands for ML?\n",
    "A:\n",
    "    - All servers on linux\n",
    "    - DevOps\n",
    "    - MlOps\n",
    "    - Comannds -> MacOs, Unix, ...\n",
    "    - "
   ]
  },
  {
   "cell_type": "code",
   "execution_count": null,
   "metadata": {},
   "outputs": [],
   "source": [
    "# Difference between in find vs grep"
   ]
  },
  {
   "cell_type": "code",
   "execution_count": null,
   "metadata": {},
   "outputs": [],
   "source": []
  },
  {
   "cell_type": "code",
   "execution_count": null,
   "metadata": {},
   "outputs": [],
   "source": [
    "#chmod"
   ]
  },
  {
   "cell_type": "code",
   "execution_count": null,
   "metadata": {},
   "outputs": [],
   "source": []
  }
 ],
 "metadata": {
  "kernelspec": {
   "display_name": "Python 3",
   "language": "python",
   "name": "python3"
  },
  "language_info": {
   "codemirror_mode": {
    "name": "ipython",
    "version": 3
   },
   "file_extension": ".py",
   "mimetype": "text/x-python",
   "name": "python",
   "nbconvert_exporter": "python",
   "pygments_lexer": "ipython3",
   "version": "3.6.8"
  },
  "toc": {
   "base_numbering": 1,
   "nav_menu": {},
   "number_sections": true,
   "sideBar": true,
   "skip_h1_title": false,
   "title_cell": "Table of Contents",
   "title_sidebar": "Contents",
   "toc_cell": false,
   "toc_position": {},
   "toc_section_display": true,
   "toc_window_display": false
  }
 },
 "nbformat": 4,
 "nbformat_minor": 2
}
