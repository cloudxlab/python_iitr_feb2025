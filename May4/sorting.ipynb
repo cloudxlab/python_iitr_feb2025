{
 "cells": [
  {
   "cell_type": "code",
   "execution_count": null,
   "id": "7bd95c0d",
   "metadata": {},
   "outputs": [],
   "source": [
    "a"
   ]
  },
  {
   "cell_type": "code",
   "execution_count": 1,
   "id": "432ff8d5",
   "metadata": {},
   "outputs": [],
   "source": [
    "def sort(arr):\n",
    "    for i in range(len(arr)):\n",
    "        for j in range(i+1, len(arr)):\n",
    "            if arr[i] > arr[j]:\n",
    "                arr[i], arr[j] = arr[j], arr[i]\n",
    "    return arr\n",
    "            "
   ]
  },
  {
   "cell_type": "code",
   "execution_count": null,
   "id": "cf781549",
   "metadata": {},
   "outputs": [
    {
     "data": {
      "text/plain": [
       "[-1, 1, 2, 4]"
      ]
     },
     "execution_count": 2,
     "metadata": {},
     "output_type": "execute_result"
    }
   ],
   "source": [
    "arr = [4, 3, 2, 1, 10, 13]\n",
    "sort(arr)\n",
    "arr"
   ]
  },
  {
   "cell_type": "markdown",
   "id": "2b1ff6a0",
   "metadata": {},
   "source": [
    "# binary Search Tree "
   ]
  },
  {
   "cell_type": "code",
   "execution_count": null,
   "id": "422454f8",
   "metadata": {},
   "outputs": [],
   "source": [
    "class Node:\n",
    "    val = -1\n",
    "    def __init__(self, v, left=None, right = None):\n",
    "        self.val = v\n",
    "        self.left = left\n",
    "        self.right = right\n",
    "    def __repr__(self):\n",
    "        return f\"{self.val} -> [{self.left}, {self.right}]\"\n",
    "    def insert(self, nn):\n",
    "        if nn.val < self.val:\n",
    "            if self.left:\n",
    "                self.left.insert(nn)\n",
    "            else:\n",
    "                self.left = nn\n",
    "        else:\n",
    "            if self.right:\n",
    "                self.right.insert(nn)\n",
    "            else:\n",
    "                self.right = nn\n",
    "    def print(self):\n",
    "        if self.left:\n",
    "            self.left.print()\n",
    "        print(self.val)\n",
    "        if self.right:\n",
    "            self.right.print()\n",
    "class Tree:\n",
    "    root = None\n",
    "    def insert(self, val):\n",
    "        nn = Node(val)\n",
    "        if self.root == None:\n",
    "            self.root = nn\n",
    "        else:\n",
    "            self.root.insert(nn)\n",
    "    def insert_arr(self, arr):\n",
    "        for e in arr:\n",
    "            self.insert(e)\n",
    "    def print(self):\n",
    "        if self.root:\n",
    "            self.root.print()\n",
    "\n",
    "tree = Tree()\n",
    "tree.insert_arr([5,-1, 2, 10, 34, 10, -3, 1, 0, -3, 4, 5, 7, 9])\n",
    "# Time Complexity of creating a tree of size n: O(n * log(n))"
   ]
  },
  {
   "cell_type": "code",
   "execution_count": 17,
   "id": "9b0058ef",
   "metadata": {},
   "outputs": [
    {
     "data": {
      "text/plain": [
       "<__main__.Tree at 0x105577ce0>"
      ]
     },
     "execution_count": 17,
     "metadata": {},
     "output_type": "execute_result"
    }
   ],
   "source": [
    "tree"
   ]
  },
  {
   "cell_type": "code",
   "execution_count": 18,
   "id": "ac0881af",
   "metadata": {},
   "outputs": [
    {
     "name": "stdout",
     "output_type": "stream",
     "text": [
      "5 -> [-1 -> [-3 -> [None, -3 -> [None, None]], 2 -> [1 -> [0 -> [None, None], None], 4 -> [None, None]]], 10 -> [5 -> [None, 7 -> [None, 9 -> [None, None]]], 34 -> [10 -> [None, None], None]]]\n"
     ]
    }
   ],
   "source": [
    "print(tree.root)"
   ]
  },
  {
   "cell_type": "code",
   "execution_count": 19,
   "id": "ca0be0fa",
   "metadata": {},
   "outputs": [
    {
     "name": "stdout",
     "output_type": "stream",
     "text": [
      "-3\n",
      "-3\n",
      "-1\n",
      "0\n",
      "1\n",
      "2\n",
      "4\n",
      "5\n",
      "5\n",
      "7\n",
      "9\n",
      "10\n",
      "10\n",
      "34\n"
     ]
    }
   ],
   "source": [
    "tree.print()"
   ]
  },
  {
   "cell_type": "code",
   "execution_count": null,
   "id": "97219612",
   "metadata": {},
   "outputs": [
    {
     "data": {
      "text/plain": [
       "19931568.569324173"
      ]
     },
     "execution_count": 21,
     "metadata": {},
     "output_type": "execute_result"
    }
   ],
   "source": [
    "n = 1000000\n",
    "\n",
    "from math import *\n"
   ]
  },
  {
   "cell_type": "code",
   "execution_count": 29,
   "id": "e891dd88",
   "metadata": {},
   "outputs": [
    {
     "data": {
      "text/plain": [
       "(40000000000, 3521928.0948873623)"
      ]
     },
     "execution_count": 29,
     "metadata": {},
     "output_type": "execute_result"
    }
   ],
   "source": [
    "n = 200000\n",
    "n*n, n* log2(n)"
   ]
  },
  {
   "cell_type": "code",
   "execution_count": 31,
   "id": "a651eafe",
   "metadata": {},
   "outputs": [],
   "source": [
    "tree = Tree()\n",
    "tree.insert_arr([1,2,3,4,5,6,7,8,9,10])\n"
   ]
  },
  {
   "cell_type": "code",
   "execution_count": null,
   "id": "6b0c99b3",
   "metadata": {},
   "outputs": [],
   "source": [
    "# Q1: get the list of sorted elements from a tree without recursion.\n",
    "\n",
    "# Q2: Create an Expression Tree.\n",
    "\n",
    "# For an expression: (3+4)*(9-10)\n",
    "\n",
    "# Create a tree like this:\n",
    "#         *\n",
    "#     +       -\n",
    "# 3      4   9    10\n",
    "\n",
    "add = Node('+', 3, 4)\n",
    "add.compute() # 7\n",
    "sub = Node('-', 9, 10)\n",
    "sub.compute() # -1\n",
    "\n",
    "mul = Node('*', add, sub)\n",
    "mul.compute() # -7\n",
    "\n",
    "# For (3*4 + 7)- 12\n",
    "#                     - \n",
    "#             +           12\n",
    "#     *           7\n",
    "# 3       4       \n",
    "\n",
    "n1 = Node('*', 3, 4)\n",
    "n2 = Node('+', n1, 7)\n",
    "n3 = Node('-', n2, 12)\n",
    "n3.compute()\n",
    "\n",
    "# print the value of expression: -7\n",
    "\n",
    "# For expression: 3 + 4 + 5\n",
    "# represent it like: 3 + (4 + 5)\n",
    "\n",
    "# Q3: Convert the expression string into a tree\n",
    "Input: (3*4 + 7) - 12\n",
    "\n",
    "# It should create a tree: \n",
    "\n",
    "#     n1 = Node('*', 3, 4)\n",
    "#     n2 = Node('+', n1, 7)\n",
    "#     n3 = Node('-', n2, 12)\n",
    "#     n3.compute()"
   ]
  },
  {
   "cell_type": "code",
   "execution_count": null,
   "id": "3dc0e2f3",
   "metadata": {},
   "outputs": [],
   "source": [
    "https://github.com/girisandeep/calcuchat"
   ]
  }
 ],
 "metadata": {
  "kernelspec": {
   "display_name": "base",
   "language": "python",
   "name": "python3"
  },
  "language_info": {
   "codemirror_mode": {
    "name": "ipython",
    "version": 3
   },
   "file_extension": ".py",
   "mimetype": "text/x-python",
   "name": "python",
   "nbconvert_exporter": "python",
   "pygments_lexer": "ipython3",
   "version": "3.12.2"
  }
 },
 "nbformat": 4,
 "nbformat_minor": 5
}
