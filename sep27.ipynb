{
 "cells": [
  {
   "cell_type": "code",
   "execution_count": null,
   "metadata": {},
   "outputs": [],
   "source": []
  },
  {
   "cell_type": "markdown",
   "metadata": {},
   "source": [
    "# Chronology \n",
    "\n",
    "LR / DT / Naive Bayes / KNN -> SVM -> RF / GBT -> XGB (2014) -> NN..."
   ]
  },
  {
   "cell_type": "markdown",
   "metadata": {},
   "source": [
    "# Where do we use the models like basic model:\n",
    "\n",
    "1. WHen you want interprebility\n",
    "2. When you don't have much label data\n"
   ]
  },
  {
   "cell_type": "markdown",
   "metadata": {},
   "source": [
    "Doc -> RT (2000 instances)\n",
    "\n",
    "Doc -> embedding -> SVM\n"
   ]
  },
  {
   "cell_type": "code",
   "execution_count": 2,
   "metadata": {},
   "outputs": [],
   "source": [
    "# 20xweights..."
   ]
  },
  {
   "cell_type": "code",
   "execution_count": 3,
   "metadata": {},
   "outputs": [],
   "source": [
    "# Normalization, Filling missing value etc. "
   ]
  },
  {
   "cell_type": "markdown",
   "metadata": {},
   "source": [
    "# Recommendation Engines"
   ]
  },
  {
   "cell_type": "markdown",
   "metadata": {},
   "source": [
    "1. Friends recommendation - Facebook\n",
    "2. Song Recommendations\n",
    "3. Youtub Recommendation\n",
    "4. Netflix / Movies\n",
    "5. Amazon: \n",
    "    - You may also like these\n",
    "    - People who bought this also bought that\n",
    "    - Similar Products"
   ]
  },
  {
   "cell_type": "markdown",
   "metadata": {},
   "source": [
    "Build The recommendations gradually:\n",
    "    - Top Experiences for your geography (in each category) - SQL\n",
    "        - No other characterstic other than geography\n",
    "        - Cold Start Problem: New Geography\n",
    "    - Prepare the user -> product recommendations for your existing users\n",
    "        - You have set of userid, productid, affinity -> user, product, score\n",
    "        "
   ]
  },
  {
   "cell_type": "code",
   "execution_count": 4,
   "metadata": {},
   "outputs": [
    {
     "ename": "SyntaxError",
     "evalue": "invalid syntax (<ipython-input-4-6ac659dc0f65>, line 3)",
     "output_type": "error",
     "traceback": [
      "\u001b[0;36m  File \u001b[0;32m\"<ipython-input-4-6ac659dc0f65>\"\u001b[0;36m, line \u001b[0;32m3\u001b[0m\n\u001b[0;31m    You have set of userid, productid, affinity -> user, product, score\u001b[0m\n\u001b[0m           ^\u001b[0m\n\u001b[0;31mSyntaxError\u001b[0m\u001b[0;31m:\u001b[0m invalid syntax\n"
     ]
    }
   ],
   "source": [
    "## Prepare the user -> product recommendations for your existing users\n",
    "\n",
    "# You have set of userid, productid, affinity -> user, product, score\n",
    "\n",
    "# 1 pt on every visit of user in last 100\n",
    "# 10 pt on every add-to-cart \n",
    "20 pt on purchase\n",
    "100*(-1 to +1) on the rating\n",
    "\n",
    "## Dataset\n",
    "user_id, product_id, score\n",
    "...\n",
    "...\n",
    "...\n",
    "..\n",
    "\n",
    "Based on user's history you prepare the data\n",
    "\n",
    "1. User is represented as an array of product_scores. \n",
    "We compare each user with another user and come up with which user's are similar. We prepare the forcasting:\n",
    "\n",
    "user1, product1, score\n",
    "\n",
    "Mahout, GraphX ..\n",
    "\n",
    "*  Cold Start: \n",
    "    - New User\n",
    "    - New Product\n",
    "\n",
    "2. \n"
   ]
  },
  {
   "cell_type": "markdown",
   "metadata": {},
   "source": [
    "Steps:\n",
    "\n",
    "- Preparing Dataset\n",
    "- Building and Training Model\n",
    "- Inferences\n"
   ]
  },
  {
   "cell_type": "code",
   "execution_count": null,
   "metadata": {},
   "outputs": [],
   "source": [
    "# Building a proper recommendation engine - Amazon\n",
    "\n",
    "# Preparing Data -> SQL / Python \n",
    "\n",
    "User, Product, Common Features X -> Yes/No y\n",
    "\n",
    "User: \n",
    "    - Age\n",
    "    - Gender\n",
    "    - Ethinicity\n",
    "    - Location\n",
    "    - top 10 favorites...\n",
    "    - User since how many days\n",
    "    - Embeddings of 'About Me'\n",
    "\n",
    "Product:\n",
    "    - Embedding of Title + Description\n",
    "    - Price / Range\n",
    "    - Category\n",
    "    - # of reviews\n",
    "    - overall rating\n",
    "    - age-group\n",
    "    - Seller\n",
    "    - Seasonal ?\n",
    "    - Availbility\n",
    "    - Seller Rating\n",
    "    - Date since listed\n",
    "    \n",
    "Common Features:\n",
    "    - Availbility in User's country\n",
    "    - Date of giving the review\n"
   ]
  },
  {
   "cell_type": "code",
   "execution_count": null,
   "metadata": {},
   "outputs": [],
   "source": [
    "Data Engineering:\n",
    "\n",
    "1 hours\n",
    "\n",
    "Product + age + person + geography + number of \n",
    "\n",
    "Daily top x products..\n"
   ]
  },
  {
   "cell_type": "code",
   "execution_count": null,
   "metadata": {},
   "outputs": [],
   "source": [
    "model.fit(X, y)\n",
    "\n",
    "User, Product -> Model -> yes/no\n"
   ]
  },
  {
   "cell_type": "code",
   "execution_count": 5,
   "metadata": {},
   "outputs": [],
   "source": [
    "# Every active user (1m), all product (30k) -> 30 Billions  -> model.predict() ->  "
   ]
  },
  {
   "cell_type": "markdown",
   "metadata": {},
   "source": [
    "* Binary Classification *"
   ]
  },
  {
   "cell_type": "code",
   "execution_count": null,
   "metadata": {},
   "outputs": [],
   "source": [
    "User, Product, Common Features X -> 0 to 1"
   ]
  },
  {
   "cell_type": "code",
   "execution_count": null,
   "metadata": {},
   "outputs": [],
   "source": [
    "# Regression"
   ]
  },
  {
   "cell_type": "code",
   "execution_count": null,
   "metadata": {},
   "outputs": [],
   "source": [
    "# Ranking !\n"
   ]
  },
  {
   "cell_type": "code",
   "execution_count": 7,
   "metadata": {},
   "outputs": [],
   "source": [
    "# How would computer play mario?"
   ]
  },
  {
   "cell_type": "code",
   "execution_count": 8,
   "metadata": {},
   "outputs": [],
   "source": [
    "# Computer playing you. You are the mario for the facebook."
   ]
  },
  {
   "cell_type": "markdown",
   "metadata": {},
   "source": [
    "Stock:\n",
    "\n",
    "    - last 100 days\n",
    "    - embedding of the SEC filing\n"
   ]
  },
  {
   "cell_type": "markdown",
   "metadata": {},
   "source": [
    "Stock - n=50 features, m=1000 data\n",
    "# stocks - 500\n",
    "\n",
    "\n",
    "last hundred days data + 100\n",
    "stocks - news yester -> embedding + 100\n",
    "\n",
    "----\n",
    "\n",
    "new embeddings, stock features, 100 days, \n",
    "n = 2000\n",
    "m = 500,000\n"
   ]
  },
  {
   "cell_type": "markdown",
   "metadata": {},
   "source": [
    "# Exercises\n",
    "\n",
    "- Suggest events for facebooks users\n",
    "- Suggest youtube videos to users\n",
    "- Place recommendation\n",
    "\n",
    "# https://www.pramp.com\n",
    "    "
   ]
  },
  {
   "cell_type": "markdown",
   "metadata": {},
   "source": [
    "# RAG\n",
    "\n",
    "Ask questions on a document?\n",
    "\n",
    "llm.ask_question(doc + \" Based on the above document answer users question: \" + question)\n",
    "\n",
    "Q: when will this fail?\n",
    "If there are too many documents or too big documents.\n",
    "\n",
    "doc1 -> pages -> embedings\n",
    "\n",
    "Question -> embeddings --> find closest document to the questions' embeddings. -> nearest_doc\n",
    "\n",
    "llm.ask_question(nearest_doc + question)...\n",
    "\n",
    "RAG - retrieval augment generation\n",
    "\n"
   ]
  },
  {
   "cell_type": "code",
   "execution_count": null,
   "metadata": {},
   "outputs": [],
   "source": [
    "embedding(\"india\") <> embedding(\"bharat\")"
   ]
  },
  {
   "cell_type": "code",
   "execution_count": null,
   "metadata": {},
   "outputs": [],
   "source": []
  }
 ],
 "metadata": {
  "kernelspec": {
   "display_name": "Python 3",
   "language": "python",
   "name": "python3"
  },
  "language_info": {
   "codemirror_mode": {
    "name": "ipython",
    "version": 3
   },
   "file_extension": ".py",
   "mimetype": "text/x-python",
   "name": "python",
   "nbconvert_exporter": "python",
   "pygments_lexer": "ipython3",
   "version": "3.6.8"
  },
  "toc": {
   "base_numbering": 1,
   "nav_menu": {},
   "number_sections": true,
   "sideBar": true,
   "skip_h1_title": false,
   "title_cell": "Table of Contents",
   "title_sidebar": "Contents",
   "toc_cell": false,
   "toc_position": {},
   "toc_section_display": true,
   "toc_window_display": false
  }
 },
 "nbformat": 4,
 "nbformat_minor": 2
}
