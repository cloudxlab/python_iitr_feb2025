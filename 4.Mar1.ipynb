{
 "cells": [
  {
   "cell_type": "markdown",
   "metadata": {},
   "source": [
    "# Books\n",
    "\n",
    "- C programming language by kernighan and ritchie \n",
    "    The exercises are great. Try doing those using Python\n",
    "\n",
    "- Hands-On Machine Learning with Scikit-Learn and TensorFlow by Aurelien Geron\n",
    "    Machine Learning - Textbook\n"
   ]
  },
  {
   "cell_type": "markdown",
   "metadata": {},
   "source": [
    "Q: Is a given point inside the given rectangle?\n",
    "\n",
    "Q: Is a point inside a triangle, quadrilateral, a polygon. (Out of Scope)"
   ]
  },
  {
   "cell_type": "code",
   "execution_count": 2,
   "metadata": {},
   "outputs": [],
   "source": [
    "def add_numbers_11(s1, s2):\n",
    "    pass"
   ]
  },
  {
   "cell_type": "code",
   "execution_count": 3,
   "metadata": {},
   "outputs": [],
   "source": [
    "add_numbers_11(\"1A\", \"3A6\")"
   ]
  },
  {
   "cell_type": "code",
   "execution_count": 6,
   "metadata": {},
   "outputs": [],
   "source": [
    "def is_overlapping(x1, x2, x3, x4):\n",
    "    return not ( max(x1, x2) < min(x3, x4) or min(x1, x2) > max(x3, x4))"
   ]
  },
  {
   "cell_type": "code",
   "execution_count": 9,
   "metadata": {},
   "outputs": [
    {
     "data": {
      "text/plain": [
       "False"
      ]
     },
     "execution_count": 9,
     "metadata": {},
     "output_type": "execute_result"
    }
   ],
   "source": [
    "is_overlapping(4,5, 5.1, 8)"
   ]
  },
  {
   "cell_type": "code",
   "execution_count": 10,
   "metadata": {},
   "outputs": [],
   "source": [
    "num = 10 # We want to find the square root of num"
   ]
  },
  {
   "cell_type": "code",
   "execution_count": 11,
   "metadata": {},
   "outputs": [],
   "source": [
    "guess = 5 # guess"
   ]
  },
  {
   "cell_type": "code",
   "execution_count": 12,
   "metadata": {},
   "outputs": [
    {
     "data": {
      "text/plain": [
       "25"
      ]
     },
     "execution_count": 12,
     "metadata": {},
     "output_type": "execute_result"
    }
   ],
   "source": [
    "guess*guess"
   ]
  },
  {
   "cell_type": "code",
   "execution_count": 13,
   "metadata": {},
   "outputs": [
    {
     "data": {
      "text/plain": [
       "6.25"
      ]
     },
     "execution_count": 13,
     "metadata": {},
     "output_type": "execute_result"
    }
   ],
   "source": [
    "guess = 2.5\n",
    "guess*guess"
   ]
  },
  {
   "cell_type": "code",
   "execution_count": 15,
   "metadata": {},
   "outputs": [
    {
     "name": "stdout",
     "output_type": "stream",
     "text": [
      "3.75\n"
     ]
    },
    {
     "data": {
      "text/plain": [
       "14.0625"
      ]
     },
     "execution_count": 15,
     "metadata": {},
     "output_type": "execute_result"
    }
   ],
   "source": [
    "guess = (2.5 + 5)/2\n",
    "print(guess)\n",
    "guess*guess"
   ]
  },
  {
   "cell_type": "code",
   "execution_count": 16,
   "metadata": {},
   "outputs": [
    {
     "name": "stdout",
     "output_type": "stream",
     "text": [
      "3.125\n"
     ]
    }
   ],
   "source": [
    "left = 2.5\n",
    "right = 3.75\n",
    "guess = (left + right)/2\n",
    "print(guess)"
   ]
  },
  {
   "cell_type": "code",
   "execution_count": 17,
   "metadata": {},
   "outputs": [
    {
     "name": "stdout",
     "output_type": "stream",
     "text": [
      "9.765625\n"
     ]
    }
   ],
   "source": [
    "print(guess*guess)"
   ]
  },
  {
   "cell_type": "code",
   "execution_count": 18,
   "metadata": {},
   "outputs": [
    {
     "name": "stdout",
     "output_type": "stream",
     "text": [
      "Guess:  3.4375\n",
      "guess*guess:  11.81640625\n"
     ]
    }
   ],
   "source": [
    "left = 3.125\n",
    "right = 3.75\n",
    "guess = (left + right)/2\n",
    "print(\"Guess: \", guess)\n",
    "print(\"guess*guess: \", guess*guess)"
   ]
  },
  {
   "cell_type": "code",
   "execution_count": 19,
   "metadata": {},
   "outputs": [
    {
     "name": "stdout",
     "output_type": "stream",
     "text": [
      "Guess:  3.28125\n",
      "guess*guess:  10.7666015625\n"
     ]
    }
   ],
   "source": [
    "left = 3.125\n",
    "right = guess\n",
    "guess = (left + right)/2\n",
    "print(\"Guess: \", guess)\n",
    "print(\"guess*guess: \", guess*guess)"
   ]
  },
  {
   "cell_type": "code",
   "execution_count": 20,
   "metadata": {},
   "outputs": [
    {
     "name": "stdout",
     "output_type": "stream",
     "text": [
      "Guess:  3.359375\n",
      "guess*guess:  11.285400390625\n"
     ]
    }
   ],
   "source": [
    "left = guess\n",
    "guess = (left + right)/2\n",
    "print(\"Guess: \", guess)\n",
    "print(\"guess*guess: \", guess*guess)"
   ]
  },
  {
   "cell_type": "code",
   "execution_count": 21,
   "metadata": {},
   "outputs": [],
   "source": [
    "num = 10"
   ]
  },
  {
   "cell_type": "code",
   "execution_count": 37,
   "metadata": {},
   "outputs": [],
   "source": [
    "left = 0\n",
    "right = num\n",
    "\n",
    "def find_sqrt(num):\n",
    "    global left\n",
    "    global right\n",
    "    print(f\"Left: {left}, Right: {right}\")\n",
    "    guess = (left + right)/2\n",
    "    print(\"Guess: \", guess)\n",
    "    print(\"Guess*Guess: \", guess*guess)\n",
    "    if guess*guess > num:\n",
    "        print(\"try smaller guess\")\n",
    "        right = guess\n",
    "    else:\n",
    "        left = guess\n",
    "        print(\"try bigger guess\")\n",
    "    print(f\"Updated: Left: {left}, Right: {right}\")"
   ]
  },
  {
   "cell_type": "code",
   "execution_count": 38,
   "metadata": {},
   "outputs": [
    {
     "name": "stdout",
     "output_type": "stream",
     "text": [
      "Left: 0, Right: 10\n",
      "Guess:  5.0\n",
      "Guess*Guess:  25.0\n",
      "try smaller guess\n",
      "Updated: Left: 0, Right: 5.0\n"
     ]
    }
   ],
   "source": [
    "find_sqrt(num)"
   ]
  },
  {
   "cell_type": "code",
   "execution_count": 39,
   "metadata": {},
   "outputs": [
    {
     "name": "stdout",
     "output_type": "stream",
     "text": [
      "Left: 0, Right: 5.0\n",
      "Guess:  2.5\n",
      "Guess*Guess:  6.25\n",
      "try bigger guess\n",
      "Updated: Left: 2.5, Right: 5.0\n"
     ]
    }
   ],
   "source": [
    "find_sqrt(num)"
   ]
  },
  {
   "cell_type": "code",
   "execution_count": 40,
   "metadata": {},
   "outputs": [
    {
     "name": "stdout",
     "output_type": "stream",
     "text": [
      "Left: 2.5, Right: 5.0\n",
      "Guess:  3.75\n",
      "Guess*Guess:  14.0625\n",
      "try smaller guess\n",
      "Updated: Left: 2.5, Right: 3.75\n"
     ]
    }
   ],
   "source": [
    "find_sqrt(num)"
   ]
  },
  {
   "cell_type": "code",
   "execution_count": 41,
   "metadata": {},
   "outputs": [
    {
     "name": "stdout",
     "output_type": "stream",
     "text": [
      "Left: 2.5, Right: 3.75\n",
      "Guess:  3.125\n",
      "Guess*Guess:  9.765625\n",
      "try bigger guess\n",
      "Updated: Left: 3.125, Right: 3.75\n"
     ]
    }
   ],
   "source": [
    "find_sqrt(num)"
   ]
  },
  {
   "cell_type": "code",
   "execution_count": 42,
   "metadata": {},
   "outputs": [
    {
     "name": "stdout",
     "output_type": "stream",
     "text": [
      "Left: 3.125, Right: 3.75\n",
      "Guess:  3.4375\n",
      "Guess*Guess:  11.81640625\n",
      "try smaller guess\n",
      "Updated: Left: 3.125, Right: 3.4375\n"
     ]
    }
   ],
   "source": [
    "find_sqrt(num)"
   ]
  },
  {
   "cell_type": "code",
   "execution_count": 43,
   "metadata": {},
   "outputs": [
    {
     "name": "stdout",
     "output_type": "stream",
     "text": [
      "Left: 3.125, Right: 3.4375\n",
      "Guess:  3.28125\n",
      "Guess*Guess:  10.7666015625\n",
      "try smaller guess\n",
      "Updated: Left: 3.125, Right: 3.28125\n"
     ]
    }
   ],
   "source": [
    "find_sqrt(num)"
   ]
  },
  {
   "cell_type": "code",
   "execution_count": 44,
   "metadata": {},
   "outputs": [
    {
     "name": "stdout",
     "output_type": "stream",
     "text": [
      "Left: 3.125, Right: 3.28125\n",
      "Guess:  3.203125\n",
      "Guess*Guess:  10.260009765625\n",
      "try smaller guess\n",
      "Updated: Left: 3.125, Right: 3.203125\n"
     ]
    }
   ],
   "source": [
    "find_sqrt(num)"
   ]
  },
  {
   "cell_type": "code",
   "execution_count": 45,
   "metadata": {},
   "outputs": [
    {
     "name": "stdout",
     "output_type": "stream",
     "text": [
      "Left: 3.125, Right: 3.203125\n",
      "Guess:  3.1640625\n",
      "Guess*Guess:  10.01129150390625\n",
      "try smaller guess\n",
      "Updated: Left: 3.125, Right: 3.1640625\n"
     ]
    }
   ],
   "source": [
    "find_sqrt(num)"
   ]
  },
  {
   "cell_type": "code",
   "execution_count": 46,
   "metadata": {},
   "outputs": [
    {
     "name": "stdout",
     "output_type": "stream",
     "text": [
      "Left: 3.125, Right: 3.1640625\n",
      "Guess:  3.14453125\n",
      "Guess*Guess:  9.888076782226562\n",
      "try bigger guess\n",
      "Updated: Left: 3.14453125, Right: 3.1640625\n"
     ]
    }
   ],
   "source": [
    "find_sqrt(num)"
   ]
  },
  {
   "cell_type": "code",
   "execution_count": 47,
   "metadata": {},
   "outputs": [
    {
     "name": "stdout",
     "output_type": "stream",
     "text": [
      "Left: 3.14453125, Right: 3.1640625\n",
      "Guess:  3.154296875\n",
      "Guess*Guess:  9.949588775634766\n",
      "try bigger guess\n",
      "Updated: Left: 3.154296875, Right: 3.1640625\n"
     ]
    }
   ],
   "source": [
    "find_sqrt(num)"
   ]
  },
  {
   "cell_type": "code",
   "execution_count": 48,
   "metadata": {},
   "outputs": [
    {
     "name": "stdout",
     "output_type": "stream",
     "text": [
      "Left: 3.154296875, Right: 3.1640625\n",
      "Guess:  3.1591796875\n",
      "Guess*Guess:  9.980416297912598\n",
      "try bigger guess\n",
      "Updated: Left: 3.1591796875, Right: 3.1640625\n"
     ]
    }
   ],
   "source": [
    "find_sqrt(num)"
   ]
  },
  {
   "cell_type": "code",
   "execution_count": 49,
   "metadata": {},
   "outputs": [
    {
     "name": "stdout",
     "output_type": "stream",
     "text": [
      "Left: 3.1591796875, Right: 3.1640625\n",
      "Guess:  3.16162109375\n",
      "Guess*Guess:  9.995847940444946\n",
      "try bigger guess\n",
      "Updated: Left: 3.16162109375, Right: 3.1640625\n"
     ]
    }
   ],
   "source": [
    "find_sqrt(num)"
   ]
  },
  {
   "cell_type": "code",
   "execution_count": 50,
   "metadata": {},
   "outputs": [
    {
     "name": "stdout",
     "output_type": "stream",
     "text": [
      "Left: 3.16162109375, Right: 3.1640625\n",
      "Guess:  3.162841796875\n",
      "Guess*Guess:  10.003568232059479\n",
      "try smaller guess\n",
      "Updated: Left: 3.16162109375, Right: 3.162841796875\n"
     ]
    }
   ],
   "source": [
    "find_sqrt(num)"
   ]
  },
  {
   "cell_type": "code",
   "execution_count": 51,
   "metadata": {},
   "outputs": [
    {
     "name": "stdout",
     "output_type": "stream",
     "text": [
      "Left: 3.16162109375, Right: 3.162841796875\n",
      "Guess:  3.1622314453125\n",
      "Guess*Guess:  9.999707713723183\n",
      "try bigger guess\n",
      "Updated: Left: 3.1622314453125, Right: 3.162841796875\n"
     ]
    }
   ],
   "source": [
    "find_sqrt(num)"
   ]
  },
  {
   "cell_type": "code",
   "execution_count": 52,
   "metadata": {},
   "outputs": [
    {
     "name": "stdout",
     "output_type": "stream",
     "text": [
      "Left: 3.1622314453125, Right: 3.162841796875\n",
      "Guess:  3.16253662109375\n",
      "Guess*Guess:  10.001637879759073\n",
      "try smaller guess\n",
      "Updated: Left: 3.1622314453125, Right: 3.16253662109375\n"
     ]
    }
   ],
   "source": [
    "find_sqrt(num)"
   ]
  },
  {
   "cell_type": "code",
   "execution_count": 53,
   "metadata": {},
   "outputs": [
    {
     "name": "stdout",
     "output_type": "stream",
     "text": [
      "Left: 3.1622314453125, Right: 3.16253662109375\n",
      "Guess:  3.162384033203125\n",
      "Guess*Guess:  10.000672773458064\n",
      "try smaller guess\n",
      "Updated: Left: 3.1622314453125, Right: 3.162384033203125\n"
     ]
    }
   ],
   "source": [
    "find_sqrt(num)"
   ]
  },
  {
   "cell_type": "code",
   "execution_count": 54,
   "metadata": {},
   "outputs": [
    {
     "name": "stdout",
     "output_type": "stream",
     "text": [
      "Left: 3.1622314453125, Right: 3.162384033203125\n",
      "Guess:  3.1623077392578125\n",
      "Guess*Guess:  10.000190237769857\n",
      "try smaller guess\n",
      "Updated: Left: 3.1622314453125, Right: 3.1623077392578125\n"
     ]
    }
   ],
   "source": [
    "find_sqrt(num)"
   ]
  },
  {
   "cell_type": "code",
   "execution_count": 61,
   "metadata": {},
   "outputs": [],
   "source": [
    "left = 0\n",
    "right = num\n",
    "\n",
    "def find_sqrt(num):\n",
    "    global left\n",
    "    global right\n",
    "    print(f\"Left: {left}, Right: {right}\")\n",
    "    guess = (left + right)/2\n",
    "    print(\"Guess: \", guess)\n",
    "    print(\"Guess*Guess: \", guess*guess)\n",
    "    diff = abs(guess*guess - num)\n",
    "    if diff < 0.0000000001:\n",
    "        print(\"We are done!\")\n",
    "    if guess*guess > num:\n",
    "        print(\"try smaller guess\")\n",
    "        right = guess\n",
    "    else:\n",
    "        left = guess\n",
    "        print(\"try bigger guess\")\n",
    "    print(f\"Updated: Left: {left}, Right: {right}\")"
   ]
  },
  {
   "cell_type": "code",
   "execution_count": 56,
   "metadata": {},
   "outputs": [
    {
     "name": "stdout",
     "output_type": "stream",
     "text": [
      "Left: 0, Right: 10\n",
      "Guess:  5.0\n",
      "Guess*Guess:  25.0\n",
      "try smaller guess\n",
      "Updated: Left: 0, Right: 5.0\n"
     ]
    }
   ],
   "source": [
    "find_sqrt(10)"
   ]
  },
  {
   "cell_type": "code",
   "execution_count": 62,
   "metadata": {},
   "outputs": [
    {
     "name": "stdout",
     "output_type": "stream",
     "text": [
      "0 Running -----------------------\n",
      "Left: 0, Right: 10\n",
      "Guess:  5.0\n",
      "Guess*Guess:  25.0\n",
      "try smaller guess\n",
      "Updated: Left: 0, Right: 5.0\n",
      "1 Running -----------------------\n",
      "Left: 0, Right: 5.0\n",
      "Guess:  2.5\n",
      "Guess*Guess:  6.25\n",
      "try bigger guess\n",
      "Updated: Left: 2.5, Right: 5.0\n",
      "2 Running -----------------------\n",
      "Left: 2.5, Right: 5.0\n",
      "Guess:  3.75\n",
      "Guess*Guess:  14.0625\n",
      "try smaller guess\n",
      "Updated: Left: 2.5, Right: 3.75\n",
      "3 Running -----------------------\n",
      "Left: 2.5, Right: 3.75\n",
      "Guess:  3.125\n",
      "Guess*Guess:  9.765625\n",
      "try bigger guess\n",
      "Updated: Left: 3.125, Right: 3.75\n",
      "4 Running -----------------------\n",
      "Left: 3.125, Right: 3.75\n",
      "Guess:  3.4375\n",
      "Guess*Guess:  11.81640625\n",
      "try smaller guess\n",
      "Updated: Left: 3.125, Right: 3.4375\n",
      "5 Running -----------------------\n",
      "Left: 3.125, Right: 3.4375\n",
      "Guess:  3.28125\n",
      "Guess*Guess:  10.7666015625\n",
      "try smaller guess\n",
      "Updated: Left: 3.125, Right: 3.28125\n",
      "6 Running -----------------------\n",
      "Left: 3.125, Right: 3.28125\n",
      "Guess:  3.203125\n",
      "Guess*Guess:  10.260009765625\n",
      "try smaller guess\n",
      "Updated: Left: 3.125, Right: 3.203125\n",
      "7 Running -----------------------\n",
      "Left: 3.125, Right: 3.203125\n",
      "Guess:  3.1640625\n",
      "Guess*Guess:  10.01129150390625\n",
      "try smaller guess\n",
      "Updated: Left: 3.125, Right: 3.1640625\n",
      "8 Running -----------------------\n",
      "Left: 3.125, Right: 3.1640625\n",
      "Guess:  3.14453125\n",
      "Guess*Guess:  9.888076782226562\n",
      "try bigger guess\n",
      "Updated: Left: 3.14453125, Right: 3.1640625\n",
      "9 Running -----------------------\n",
      "Left: 3.14453125, Right: 3.1640625\n",
      "Guess:  3.154296875\n",
      "Guess*Guess:  9.949588775634766\n",
      "try bigger guess\n",
      "Updated: Left: 3.154296875, Right: 3.1640625\n",
      "10 Running -----------------------\n",
      "Left: 3.154296875, Right: 3.1640625\n",
      "Guess:  3.1591796875\n",
      "Guess*Guess:  9.980416297912598\n",
      "try bigger guess\n",
      "Updated: Left: 3.1591796875, Right: 3.1640625\n",
      "11 Running -----------------------\n",
      "Left: 3.1591796875, Right: 3.1640625\n",
      "Guess:  3.16162109375\n",
      "Guess*Guess:  9.995847940444946\n",
      "try bigger guess\n",
      "Updated: Left: 3.16162109375, Right: 3.1640625\n",
      "12 Running -----------------------\n",
      "Left: 3.16162109375, Right: 3.1640625\n",
      "Guess:  3.162841796875\n",
      "Guess*Guess:  10.003568232059479\n",
      "try smaller guess\n",
      "Updated: Left: 3.16162109375, Right: 3.162841796875\n",
      "13 Running -----------------------\n",
      "Left: 3.16162109375, Right: 3.162841796875\n",
      "Guess:  3.1622314453125\n",
      "Guess*Guess:  9.999707713723183\n",
      "try bigger guess\n",
      "Updated: Left: 3.1622314453125, Right: 3.162841796875\n",
      "14 Running -----------------------\n",
      "Left: 3.1622314453125, Right: 3.162841796875\n",
      "Guess:  3.16253662109375\n",
      "Guess*Guess:  10.001637879759073\n",
      "try smaller guess\n",
      "Updated: Left: 3.1622314453125, Right: 3.16253662109375\n",
      "15 Running -----------------------\n",
      "Left: 3.1622314453125, Right: 3.16253662109375\n",
      "Guess:  3.162384033203125\n",
      "Guess*Guess:  10.000672773458064\n",
      "try smaller guess\n",
      "Updated: Left: 3.1622314453125, Right: 3.162384033203125\n",
      "16 Running -----------------------\n",
      "Left: 3.1622314453125, Right: 3.162384033203125\n",
      "Guess:  3.1623077392578125\n",
      "Guess*Guess:  10.000190237769857\n",
      "try smaller guess\n",
      "Updated: Left: 3.1622314453125, Right: 3.1623077392578125\n",
      "17 Running -----------------------\n",
      "Left: 3.1622314453125, Right: 3.1623077392578125\n",
      "Guess:  3.1622695922851562\n",
      "Guess*Guess:  9.999948974291328\n",
      "try bigger guess\n",
      "Updated: Left: 3.1622695922851562, Right: 3.1623077392578125\n",
      "18 Running -----------------------\n",
      "Left: 3.1622695922851562, Right: 3.1623077392578125\n",
      "Guess:  3.1622886657714844\n",
      "Guess*Guess:  10.000069605666795\n",
      "try smaller guess\n",
      "Updated: Left: 3.1622695922851562, Right: 3.1622886657714844\n",
      "19 Running -----------------------\n",
      "Left: 3.1622695922851562, Right: 3.1622886657714844\n",
      "Guess:  3.1622791290283203\n",
      "Guess*Guess:  10.000009289888112\n",
      "try smaller guess\n",
      "Updated: Left: 3.1622695922851562, Right: 3.1622791290283203\n",
      "20 Running -----------------------\n",
      "Left: 3.1622695922851562, Right: 3.1622791290283203\n",
      "Guess:  3.1622743606567383\n",
      "Guess*Guess:  9.999979132066983\n",
      "try bigger guess\n",
      "Updated: Left: 3.1622743606567383, Right: 3.1622791290283203\n",
      "21 Running -----------------------\n",
      "Left: 3.1622743606567383, Right: 3.1622791290283203\n",
      "Guess:  3.1622767448425293\n",
      "Guess*Guess:  9.999994210971863\n",
      "try bigger guess\n",
      "Updated: Left: 3.1622767448425293, Right: 3.1622791290283203\n",
      "22 Running -----------------------\n",
      "Left: 3.1622767448425293, Right: 3.1622791290283203\n",
      "Guess:  3.162277936935425\n",
      "Guess*Guess:  10.000001750428567\n",
      "try smaller guess\n",
      "Updated: Left: 3.1622767448425293, Right: 3.162277936935425\n",
      "23 Running -----------------------\n",
      "Left: 3.1622767448425293, Right: 3.162277936935425\n",
      "Guess:  3.162277340888977\n",
      "Guess*Guess:  9.99999798069986\n",
      "try bigger guess\n",
      "Updated: Left: 3.162277340888977, Right: 3.162277936935425\n",
      "24 Running -----------------------\n",
      "Left: 3.162277340888977, Right: 3.162277936935425\n",
      "Guess:  3.162277638912201\n",
      "Guess*Guess:  9.999999865564124\n",
      "try bigger guess\n",
      "Updated: Left: 3.162277638912201, Right: 3.162277936935425\n",
      "25 Running -----------------------\n",
      "Left: 3.162277638912201, Right: 3.162277936935425\n",
      "Guess:  3.162277787923813\n",
      "Guess*Guess:  10.000000807996322\n",
      "try smaller guess\n",
      "Updated: Left: 3.162277638912201, Right: 3.162277787923813\n",
      "26 Running -----------------------\n",
      "Left: 3.162277638912201, Right: 3.162277787923813\n",
      "Guess:  3.162277713418007\n",
      "Guess*Guess:  10.000000336780218\n",
      "try smaller guess\n",
      "Updated: Left: 3.162277638912201, Right: 3.162277713418007\n",
      "27 Running -----------------------\n",
      "Left: 3.162277638912201, Right: 3.162277713418007\n",
      "Guess:  3.162277676165104\n",
      "Guess*Guess:  10.00000010117217\n",
      "try smaller guess\n",
      "Updated: Left: 3.162277638912201, Right: 3.162277676165104\n",
      "28 Running -----------------------\n",
      "Left: 3.162277638912201, Right: 3.162277676165104\n",
      "Guess:  3.1622776575386524\n",
      "Guess*Guess:  9.999999983368147\n",
      "try bigger guess\n",
      "Updated: Left: 3.1622776575386524, Right: 3.162277676165104\n",
      "29 Running -----------------------\n",
      "Left: 3.1622776575386524, Right: 3.162277676165104\n",
      "Guess:  3.162277666851878\n",
      "Guess*Guess:  10.000000042270159\n",
      "try smaller guess\n",
      "Updated: Left: 3.1622776575386524, Right: 3.162277666851878\n",
      "30 Running -----------------------\n",
      "Left: 3.1622776575386524, Right: 3.162277666851878\n",
      "Guess:  3.1622776621952653\n",
      "Guess*Guess:  10.000000012819152\n",
      "try smaller guess\n",
      "Updated: Left: 3.1622776575386524, Right: 3.1622776621952653\n",
      "31 Running -----------------------\n",
      "Left: 3.1622776575386524, Right: 3.1622776621952653\n",
      "Guess:  3.162277659866959\n",
      "Guess*Guess:  9.99999999809365\n",
      "try bigger guess\n",
      "Updated: Left: 3.162277659866959, Right: 3.1622776621952653\n",
      "32 Running -----------------------\n",
      "Left: 3.162277659866959, Right: 3.1622776621952653\n",
      "Guess:  3.162277661031112\n",
      "Guess*Guess:  10.000000005456402\n",
      "try smaller guess\n",
      "Updated: Left: 3.162277659866959, Right: 3.162277661031112\n",
      "33 Running -----------------------\n",
      "Left: 3.162277659866959, Right: 3.162277661031112\n",
      "Guess:  3.1622776604490355\n",
      "Guess*Guess:  10.000000001775025\n",
      "try smaller guess\n",
      "Updated: Left: 3.162277659866959, Right: 3.1622776604490355\n",
      "34 Running -----------------------\n",
      "Left: 3.162277659866959, Right: 3.1622776604490355\n",
      "Guess:  3.162277660157997\n",
      "Guess*Guess:  9.999999999934337\n",
      "We are done!\n",
      "try bigger guess\n",
      "Updated: Left: 3.162277660157997, Right: 3.1622776604490355\n",
      "35 Running -----------------------\n",
      "Left: 3.162277660157997, Right: 3.1622776604490355\n",
      "Guess:  3.1622776603035163\n",
      "Guess*Guess:  10.000000000854682\n",
      "try smaller guess\n",
      "Updated: Left: 3.162277660157997, Right: 3.1622776603035163\n",
      "36 Running -----------------------\n",
      "Left: 3.162277660157997, Right: 3.1622776603035163\n",
      "Guess:  3.1622776602307567\n",
      "Guess*Guess:  10.00000000039451\n",
      "try smaller guess\n",
      "Updated: Left: 3.162277660157997, Right: 3.1622776602307567\n",
      "37 Running -----------------------\n",
      "Left: 3.162277660157997, Right: 3.1622776602307567\n",
      "Guess:  3.162277660194377\n",
      "Guess*Guess:  10.000000000164423\n",
      "try smaller guess\n",
      "Updated: Left: 3.162277660157997, Right: 3.162277660194377\n",
      "38 Running -----------------------\n",
      "Left: 3.162277660157997, Right: 3.162277660194377\n",
      "Guess:  3.162277660176187\n",
      "Guess*Guess:  10.000000000049381\n",
      "We are done!\n",
      "try smaller guess\n",
      "Updated: Left: 3.162277660157997, Right: 3.162277660176187\n",
      "39 Running -----------------------\n",
      "Left: 3.162277660157997, Right: 3.162277660176187\n",
      "Guess:  3.162277660167092\n",
      "Guess*Guess:  9.999999999991859\n",
      "We are done!\n",
      "try bigger guess\n",
      "Updated: Left: 3.162277660167092, Right: 3.162277660176187\n",
      "40 Running -----------------------\n",
      "Left: 3.162277660167092, Right: 3.162277660176187\n",
      "Guess:  3.1622776601716396\n",
      "Guess*Guess:  10.00000000002062\n",
      "We are done!\n",
      "try smaller guess\n",
      "Updated: Left: 3.162277660167092, Right: 3.1622776601716396\n",
      "41 Running -----------------------\n",
      "Left: 3.162277660167092, Right: 3.1622776601716396\n",
      "Guess:  3.162277660169366\n",
      "Guess*Guess:  10.000000000006239\n",
      "We are done!\n",
      "try smaller guess\n",
      "Updated: Left: 3.162277660167092, Right: 3.162277660169366\n",
      "42 Running -----------------------\n",
      "Left: 3.162277660167092, Right: 3.162277660169366\n",
      "Guess:  3.162277660168229\n",
      "Guess*Guess:  9.99999999999905\n",
      "We are done!\n",
      "try bigger guess\n",
      "Updated: Left: 3.162277660168229, Right: 3.162277660169366\n",
      "43 Running -----------------------\n",
      "Left: 3.162277660168229, Right: 3.162277660169366\n",
      "Guess:  3.1622776601687974\n",
      "Guess*Guess:  10.000000000002645\n",
      "We are done!\n",
      "try smaller guess\n",
      "Updated: Left: 3.162277660168229, Right: 3.1622776601687974\n",
      "44 Running -----------------------\n",
      "Left: 3.162277660168229, Right: 3.1622776601687974\n",
      "Guess:  3.162277660168513\n",
      "Guess*Guess:  10.000000000000847\n",
      "We are done!\n",
      "try smaller guess\n",
      "Updated: Left: 3.162277660168229, Right: 3.162277660168513\n",
      "45 Running -----------------------\n",
      "Left: 3.162277660168229, Right: 3.162277660168513\n",
      "Guess:  3.162277660168371\n",
      "Guess*Guess:  9.999999999999948\n",
      "We are done!\n",
      "try bigger guess\n",
      "Updated: Left: 3.162277660168371, Right: 3.162277660168513\n",
      "46 Running -----------------------\n",
      "Left: 3.162277660168371, Right: 3.162277660168513\n",
      "Guess:  3.162277660168442\n",
      "Guess*Guess:  10.000000000000398\n",
      "We are done!\n",
      "try smaller guess\n",
      "Updated: Left: 3.162277660168371, Right: 3.162277660168442\n",
      "47 Running -----------------------\n",
      "Left: 3.162277660168371, Right: 3.162277660168442\n",
      "Guess:  3.1622776601684066\n",
      "Guess*Guess:  10.000000000000172\n",
      "We are done!\n",
      "try smaller guess\n",
      "Updated: Left: 3.162277660168371, Right: 3.1622776601684066\n",
      "48 Running -----------------------\n",
      "Left: 3.162277660168371, Right: 3.1622776601684066\n",
      "Guess:  3.162277660168389\n",
      "Guess*Guess:  10.00000000000006\n",
      "We are done!\n",
      "try smaller guess\n",
      "Updated: Left: 3.162277660168371, Right: 3.162277660168389\n",
      "49 Running -----------------------\n",
      "Left: 3.162277660168371, Right: 3.162277660168389\n",
      "Guess:  3.16227766016838\n",
      "Guess*Guess:  10.000000000000004\n",
      "We are done!\n",
      "try smaller guess\n",
      "Updated: Left: 3.162277660168371, Right: 3.16227766016838\n",
      "50 Running -----------------------\n",
      "Left: 3.162277660168371, Right: 3.16227766016838\n",
      "Guess:  3.1622776601683755\n",
      "Guess*Guess:  9.999999999999975\n",
      "We are done!\n",
      "try bigger guess\n",
      "Updated: Left: 3.1622776601683755, Right: 3.16227766016838\n",
      "51 Running -----------------------\n",
      "Left: 3.1622776601683755, Right: 3.16227766016838\n",
      "Guess:  3.1622776601683777\n",
      "Guess*Guess:  9.99999999999999\n",
      "We are done!\n",
      "try bigger guess\n",
      "Updated: Left: 3.1622776601683777, Right: 3.16227766016838\n",
      "52 Running -----------------------\n",
      "Left: 3.1622776601683777, Right: 3.16227766016838\n",
      "Guess:  3.162277660168379\n",
      "Guess*Guess:  9.999999999999998\n",
      "We are done!\n",
      "try bigger guess\n",
      "Updated: Left: 3.162277660168379, Right: 3.16227766016838\n",
      "53 Running -----------------------\n",
      "Left: 3.162277660168379, Right: 3.16227766016838\n",
      "Guess:  3.1622776601683795\n",
      "Guess*Guess:  10.000000000000002\n",
      "We are done!\n",
      "try smaller guess\n",
      "Updated: Left: 3.162277660168379, Right: 3.1622776601683795\n",
      "54 Running -----------------------\n",
      "Left: 3.162277660168379, Right: 3.1622776601683795\n",
      "Guess:  3.162277660168379\n",
      "Guess*Guess:  9.999999999999998\n",
      "We are done!\n",
      "try bigger guess\n",
      "Updated: Left: 3.162277660168379, Right: 3.1622776601683795\n",
      "55 Running -----------------------\n",
      "Left: 3.162277660168379, Right: 3.1622776601683795\n",
      "Guess:  3.162277660168379\n",
      "Guess*Guess:  9.999999999999998\n",
      "We are done!\n",
      "try bigger guess\n",
      "Updated: Left: 3.162277660168379, Right: 3.1622776601683795\n",
      "56 Running -----------------------\n",
      "Left: 3.162277660168379, Right: 3.1622776601683795\n",
      "Guess:  3.162277660168379\n",
      "Guess*Guess:  9.999999999999998\n",
      "We are done!\n",
      "try bigger guess\n",
      "Updated: Left: 3.162277660168379, Right: 3.1622776601683795\n",
      "57 Running -----------------------\n",
      "Left: 3.162277660168379, Right: 3.1622776601683795\n",
      "Guess:  3.162277660168379\n",
      "Guess*Guess:  9.999999999999998\n",
      "We are done!\n",
      "try bigger guess\n",
      "Updated: Left: 3.162277660168379, Right: 3.1622776601683795\n",
      "58 Running -----------------------\n",
      "Left: 3.162277660168379, Right: 3.1622776601683795\n",
      "Guess:  3.162277660168379\n",
      "Guess*Guess:  9.999999999999998\n",
      "We are done!\n",
      "try bigger guess\n",
      "Updated: Left: 3.162277660168379, Right: 3.1622776601683795\n",
      "59 Running -----------------------\n",
      "Left: 3.162277660168379, Right: 3.1622776601683795\n",
      "Guess:  3.162277660168379\n",
      "Guess*Guess:  9.999999999999998\n",
      "We are done!\n",
      "try bigger guess\n",
      "Updated: Left: 3.162277660168379, Right: 3.1622776601683795\n"
     ]
    }
   ],
   "source": [
    "num = 10\n",
    "left, right = 0, num\n",
    "for i in range(60):\n",
    "    print(i, \"Running -----------------------\")\n",
    "    find_sqrt(num)"
   ]
  },
  {
   "cell_type": "code",
   "execution_count": 69,
   "metadata": {},
   "outputs": [],
   "source": [
    "def find_sqrt(num):\n",
    "    left = 0\n",
    "    right = num\n",
    "    while True:\n",
    "        print(f\"Left: {left}, Right: {right}\")\n",
    "        guess = (left + right)/2\n",
    "        print(\"Guess: \", guess)\n",
    "        print(\"Guess*Guess: \", guess*guess)\n",
    "        diff = abs(guess*guess - num)\n",
    "        if diff < 1e-8:\n",
    "            print(\"We are done!\")\n",
    "            return guess\n",
    "        if guess*guess > num:\n",
    "            print(\"trying smaller guess\")\n",
    "            right = guess\n",
    "        else:\n",
    "            left = guess\n",
    "            print(\"trying bigger guess\")\n",
    "        print(f\"Updated: Left: {left}, Right: {right}\")"
   ]
  },
  {
   "cell_type": "code",
   "execution_count": 70,
   "metadata": {},
   "outputs": [
    {
     "name": "stdout",
     "output_type": "stream",
     "text": [
      "Left: 0, Right: 10\n",
      "Guess:  5.0\n",
      "Guess*Guess:  25.0\n",
      "trying smaller guess\n",
      "Updated: Left: 0, Right: 5.0\n",
      "Left: 0, Right: 5.0\n",
      "Guess:  2.5\n",
      "Guess*Guess:  6.25\n",
      "trying bigger guess\n",
      "Updated: Left: 2.5, Right: 5.0\n",
      "Left: 2.5, Right: 5.0\n",
      "Guess:  3.75\n",
      "Guess*Guess:  14.0625\n",
      "trying smaller guess\n",
      "Updated: Left: 2.5, Right: 3.75\n",
      "Left: 2.5, Right: 3.75\n",
      "Guess:  3.125\n",
      "Guess*Guess:  9.765625\n",
      "trying bigger guess\n",
      "Updated: Left: 3.125, Right: 3.75\n",
      "Left: 3.125, Right: 3.75\n",
      "Guess:  3.4375\n",
      "Guess*Guess:  11.81640625\n",
      "trying smaller guess\n",
      "Updated: Left: 3.125, Right: 3.4375\n",
      "Left: 3.125, Right: 3.4375\n",
      "Guess:  3.28125\n",
      "Guess*Guess:  10.7666015625\n",
      "trying smaller guess\n",
      "Updated: Left: 3.125, Right: 3.28125\n",
      "Left: 3.125, Right: 3.28125\n",
      "Guess:  3.203125\n",
      "Guess*Guess:  10.260009765625\n",
      "trying smaller guess\n",
      "Updated: Left: 3.125, Right: 3.203125\n",
      "Left: 3.125, Right: 3.203125\n",
      "Guess:  3.1640625\n",
      "Guess*Guess:  10.01129150390625\n",
      "trying smaller guess\n",
      "Updated: Left: 3.125, Right: 3.1640625\n",
      "Left: 3.125, Right: 3.1640625\n",
      "Guess:  3.14453125\n",
      "Guess*Guess:  9.888076782226562\n",
      "trying bigger guess\n",
      "Updated: Left: 3.14453125, Right: 3.1640625\n",
      "Left: 3.14453125, Right: 3.1640625\n",
      "Guess:  3.154296875\n",
      "Guess*Guess:  9.949588775634766\n",
      "trying bigger guess\n",
      "Updated: Left: 3.154296875, Right: 3.1640625\n",
      "Left: 3.154296875, Right: 3.1640625\n",
      "Guess:  3.1591796875\n",
      "Guess*Guess:  9.980416297912598\n",
      "trying bigger guess\n",
      "Updated: Left: 3.1591796875, Right: 3.1640625\n",
      "Left: 3.1591796875, Right: 3.1640625\n",
      "Guess:  3.16162109375\n",
      "Guess*Guess:  9.995847940444946\n",
      "trying bigger guess\n",
      "Updated: Left: 3.16162109375, Right: 3.1640625\n",
      "Left: 3.16162109375, Right: 3.1640625\n",
      "Guess:  3.162841796875\n",
      "Guess*Guess:  10.003568232059479\n",
      "trying smaller guess\n",
      "Updated: Left: 3.16162109375, Right: 3.162841796875\n",
      "Left: 3.16162109375, Right: 3.162841796875\n",
      "Guess:  3.1622314453125\n",
      "Guess*Guess:  9.999707713723183\n",
      "trying bigger guess\n",
      "Updated: Left: 3.1622314453125, Right: 3.162841796875\n",
      "Left: 3.1622314453125, Right: 3.162841796875\n",
      "Guess:  3.16253662109375\n",
      "Guess*Guess:  10.001637879759073\n",
      "trying smaller guess\n",
      "Updated: Left: 3.1622314453125, Right: 3.16253662109375\n",
      "Left: 3.1622314453125, Right: 3.16253662109375\n",
      "Guess:  3.162384033203125\n",
      "Guess*Guess:  10.000672773458064\n",
      "trying smaller guess\n",
      "Updated: Left: 3.1622314453125, Right: 3.162384033203125\n",
      "Left: 3.1622314453125, Right: 3.162384033203125\n",
      "Guess:  3.1623077392578125\n",
      "Guess*Guess:  10.000190237769857\n",
      "trying smaller guess\n",
      "Updated: Left: 3.1622314453125, Right: 3.1623077392578125\n",
      "Left: 3.1622314453125, Right: 3.1623077392578125\n",
      "Guess:  3.1622695922851562\n",
      "Guess*Guess:  9.999948974291328\n",
      "trying bigger guess\n",
      "Updated: Left: 3.1622695922851562, Right: 3.1623077392578125\n",
      "Left: 3.1622695922851562, Right: 3.1623077392578125\n",
      "Guess:  3.1622886657714844\n",
      "Guess*Guess:  10.000069605666795\n",
      "trying smaller guess\n",
      "Updated: Left: 3.1622695922851562, Right: 3.1622886657714844\n",
      "Left: 3.1622695922851562, Right: 3.1622886657714844\n",
      "Guess:  3.1622791290283203\n",
      "Guess*Guess:  10.000009289888112\n",
      "trying smaller guess\n",
      "Updated: Left: 3.1622695922851562, Right: 3.1622791290283203\n",
      "Left: 3.1622695922851562, Right: 3.1622791290283203\n",
      "Guess:  3.1622743606567383\n",
      "Guess*Guess:  9.999979132066983\n",
      "trying bigger guess\n",
      "Updated: Left: 3.1622743606567383, Right: 3.1622791290283203\n",
      "Left: 3.1622743606567383, Right: 3.1622791290283203\n",
      "Guess:  3.1622767448425293\n",
      "Guess*Guess:  9.999994210971863\n",
      "trying bigger guess\n",
      "Updated: Left: 3.1622767448425293, Right: 3.1622791290283203\n",
      "Left: 3.1622767448425293, Right: 3.1622791290283203\n",
      "Guess:  3.162277936935425\n",
      "Guess*Guess:  10.000001750428567\n",
      "trying smaller guess\n",
      "Updated: Left: 3.1622767448425293, Right: 3.162277936935425\n",
      "Left: 3.1622767448425293, Right: 3.162277936935425\n",
      "Guess:  3.162277340888977\n",
      "Guess*Guess:  9.99999798069986\n",
      "trying bigger guess\n",
      "Updated: Left: 3.162277340888977, Right: 3.162277936935425\n",
      "Left: 3.162277340888977, Right: 3.162277936935425\n",
      "Guess:  3.162277638912201\n",
      "Guess*Guess:  9.999999865564124\n",
      "trying bigger guess\n",
      "Updated: Left: 3.162277638912201, Right: 3.162277936935425\n",
      "Left: 3.162277638912201, Right: 3.162277936935425\n",
      "Guess:  3.162277787923813\n",
      "Guess*Guess:  10.000000807996322\n",
      "trying smaller guess\n",
      "Updated: Left: 3.162277638912201, Right: 3.162277787923813\n",
      "Left: 3.162277638912201, Right: 3.162277787923813\n",
      "Guess:  3.162277713418007\n",
      "Guess*Guess:  10.000000336780218\n",
      "trying smaller guess\n",
      "Updated: Left: 3.162277638912201, Right: 3.162277713418007\n",
      "Left: 3.162277638912201, Right: 3.162277713418007\n",
      "Guess:  3.162277676165104\n",
      "Guess*Guess:  10.00000010117217\n",
      "trying smaller guess\n",
      "Updated: Left: 3.162277638912201, Right: 3.162277676165104\n",
      "Left: 3.162277638912201, Right: 3.162277676165104\n",
      "Guess:  3.1622776575386524\n",
      "Guess*Guess:  9.999999983368147\n",
      "trying bigger guess\n",
      "Updated: Left: 3.1622776575386524, Right: 3.162277676165104\n",
      "Left: 3.1622776575386524, Right: 3.162277676165104\n",
      "Guess:  3.162277666851878\n",
      "Guess*Guess:  10.000000042270159\n",
      "trying smaller guess\n",
      "Updated: Left: 3.1622776575386524, Right: 3.162277666851878\n",
      "Left: 3.1622776575386524, Right: 3.162277666851878\n",
      "Guess:  3.1622776621952653\n",
      "Guess*Guess:  10.000000012819152\n",
      "trying smaller guess\n",
      "Updated: Left: 3.1622776575386524, Right: 3.1622776621952653\n",
      "Left: 3.1622776575386524, Right: 3.1622776621952653\n",
      "Guess:  3.162277659866959\n",
      "Guess*Guess:  9.99999999809365\n",
      "We are done!\n"
     ]
    },
    {
     "data": {
      "text/plain": [
       "3.162277659866959"
      ]
     },
     "execution_count": 70,
     "metadata": {},
     "output_type": "execute_result"
    }
   ],
   "source": [
    "find_sqrt(10)"
   ]
  },
  {
   "cell_type": "code",
   "execution_count": 75,
   "metadata": {},
   "outputs": [
    {
     "data": {
      "text/plain": [
       "0.9486832980505138"
      ]
     },
     "execution_count": 75,
     "metadata": {},
     "output_type": "execute_result"
    }
   ],
   "source": [
    "import math\n",
    "math.sqrt(0.9)"
   ]
  },
  {
   "cell_type": "code",
   "execution_count": null,
   "metadata": {},
   "outputs": [],
   "source": [
    "If num is 1, sqrt 1\n",
    "if num > 1, sqrt(num) < num\n",
    "if num < 1, sqrt(num) > num but < 1"
   ]
  },
  {
   "cell_type": "code",
   "execution_count": 85,
   "metadata": {},
   "outputs": [],
   "source": [
    "def find_sqrt(num):\n",
    "    # TODO: handle negative numbers. Throw error.\n",
    "    # TODO: handle special case of 0 and 1.\n",
    "    left = 0\n",
    "    right = num\n",
    "    if num <= 1:\n",
    "        right = 1\n",
    "    while True:\n",
    "#         print(f\"Left: {left}, Right: {right}\")\n",
    "        guess = (left + right)/2\n",
    "        #print(\"Guess: \", guess)\n",
    "        #print(\"Guess*Guess: \", guess*guess)\n",
    "        diff = abs(guess*guess - num)\n",
    "        if diff < 1e-8:\n",
    "            #print(\"We are done!\")\n",
    "            return guess\n",
    "        if guess*guess > num:\n",
    "            #print(\"trying smaller guess\")\n",
    "            right = guess\n",
    "        else:\n",
    "            left = guess\n",
    "            #print(\"trying bigger guess\")\n",
    "        #print(f\"Updated: Left: {left}, Right: {right}\")"
   ]
  },
  {
   "cell_type": "code",
   "execution_count": 86,
   "metadata": {},
   "outputs": [
    {
     "data": {
      "text/plain": [
       "0.09"
      ]
     },
     "execution_count": 86,
     "metadata": {},
     "output_type": "execute_result"
    }
   ],
   "source": [
    "0.3*0.3"
   ]
  },
  {
   "cell_type": "code",
   "execution_count": 87,
   "metadata": {},
   "outputs": [
    {
     "data": {
      "text/plain": [
       "0.9486832980505138"
      ]
     },
     "execution_count": 87,
     "metadata": {},
     "output_type": "execute_result"
    }
   ],
   "source": [
    "math.sqrt(0.9)"
   ]
  },
  {
   "cell_type": "code",
   "execution_count": 88,
   "metadata": {
    "scrolled": false
   },
   "outputs": [
    {
     "data": {
      "text/plain": [
       "5.000000000291038"
      ]
     },
     "execution_count": 88,
     "metadata": {},
     "output_type": "execute_result"
    }
   ],
   "source": [
    "find_sqrt(25)"
   ]
  },
  {
   "cell_type": "code",
   "execution_count": 89,
   "metadata": {},
   "outputs": [
    {
     "data": {
      "text/plain": [
       "6.103515625e-05"
      ]
     },
     "execution_count": 89,
     "metadata": {},
     "output_type": "execute_result"
    }
   ],
   "source": [
    "find_sqrt(0)"
   ]
  },
  {
   "cell_type": "code",
   "execution_count": 90,
   "metadata": {},
   "outputs": [
    {
     "data": {
      "text/plain": [
       "0.9999999962747097"
      ]
     },
     "execution_count": 90,
     "metadata": {},
     "output_type": "execute_result"
    }
   ],
   "source": [
    "find_sqrt(1)"
   ]
  },
  {
   "cell_type": "code",
   "execution_count": 93,
   "metadata": {},
   "outputs": [
    {
     "name": "stdout",
     "output_type": "stream",
     "text": [
      "My left is  10  and right is  10\n",
      "My left is 10 and right is 10\n"
     ]
    }
   ],
   "source": [
    "left =10\n",
    "right = 10\n",
    "num = 56\n",
    "print(\"My left is \", left, \" and right is \", right)\n",
    "print(f\"My left is {left} and right is {right}\")"
   ]
  },
  {
   "cell_type": "code",
   "execution_count": 94,
   "metadata": {},
   "outputs": [],
   "source": [
    "# CubeRoot?"
   ]
  },
  {
   "cell_type": "code",
   "execution_count": 95,
   "metadata": {},
   "outputs": [],
   "source": [
    "# Forthroot?"
   ]
  },
  {
   "cell_type": "code",
   "execution_count": 96,
   "metadata": {},
   "outputs": [],
   "source": [
    "# nthroot"
   ]
  },
  {
   "cell_type": "code",
   "execution_count": 97,
   "metadata": {},
   "outputs": [],
   "source": [
    "# power"
   ]
  },
  {
   "cell_type": "code",
   "execution_count": 98,
   "metadata": {},
   "outputs": [
    {
     "ename": "SyntaxError",
     "evalue": "invalid syntax (<ipython-input-98-fd17b4e67d8d>, line 1)",
     "output_type": "error",
     "traceback": [
      "\u001b[0;36m  File \u001b[0;32m\"<ipython-input-98-fd17b4e67d8d>\"\u001b[0;36m, line \u001b[0;32m1\u001b[0m\n\u001b[0;31m    num to power n:\u001b[0m\n\u001b[0m         ^\u001b[0m\n\u001b[0;31mSyntaxError\u001b[0m\u001b[0;31m:\u001b[0m invalid syntax\n"
     ]
    }
   ],
   "source": [
    "num to power n:\n",
    "    1. number multiplied with itself n times\n",
    "    2. number multiplied with 1 n times"
   ]
  },
  {
   "cell_type": "code",
   "execution_count": 130,
   "metadata": {},
   "outputs": [],
   "source": [
    "# A. x ^ n = x * (x * x ... n-1 times), can't handle n == 0\n",
    "# B. x ^ n = 1 * (x * x ... n times)"
   ]
  },
  {
   "cell_type": "code",
   "execution_count": 123,
   "metadata": {},
   "outputs": [],
   "source": [
    "# Wrong\n",
    "def pow_int1(x, n):\n",
    "    result = x\n",
    "    for i in range(n-1):\n",
    "        print(f\"Result: {result}\")\n",
    "        result = result * x\n",
    "    return result"
   ]
  },
  {
   "cell_type": "code",
   "execution_count": 109,
   "metadata": {},
   "outputs": [
    {
     "name": "stdout",
     "output_type": "stream",
     "text": [
      "Result: 3\n",
      "Result: 9\n",
      "Result: 27\n"
     ]
    },
    {
     "data": {
      "text/plain": [
       "81"
      ]
     },
     "execution_count": 109,
     "metadata": {},
     "output_type": "execute_result"
    }
   ],
   "source": [
    "pow_int1(3, 4)"
   ]
  },
  {
   "cell_type": "code",
   "execution_count": 131,
   "metadata": {},
   "outputs": [],
   "source": [
    "def pow_int2(x, n):\n",
    "    result = 1\n",
    "    for i in range(n):\n",
    "        result *= x\n",
    "    return result"
   ]
  },
  {
   "cell_type": "code",
   "execution_count": 119,
   "metadata": {},
   "outputs": [
    {
     "data": {
      "text/plain": [
       "81"
      ]
     },
     "execution_count": 119,
     "metadata": {},
     "output_type": "execute_result"
    }
   ],
   "source": [
    "pow_int2(3, 4)"
   ]
  },
  {
   "cell_type": "code",
   "execution_count": 110,
   "metadata": {},
   "outputs": [],
   "source": [
    "def pow_rec(x, n):\n",
    "    if n == 0:\n",
    "        return 1\n",
    "    return x * pow_rec(x, n - 1)"
   ]
  },
  {
   "cell_type": "code",
   "execution_count": 111,
   "metadata": {},
   "outputs": [
    {
     "data": {
      "text/plain": [
       "81"
      ]
     },
     "execution_count": 111,
     "metadata": {},
     "output_type": "execute_result"
    }
   ],
   "source": [
    "pow_rec(3, 4)"
   ]
  },
  {
   "cell_type": "code",
   "execution_count": 124,
   "metadata": {},
   "outputs": [
    {
     "name": "stdout",
     "output_type": "stream",
     "text": [
      "Result: 3\n",
      "Result: 9\n",
      "Result: 27\n"
     ]
    },
    {
     "data": {
      "text/plain": [
       "(81, 81, 81)"
      ]
     },
     "execution_count": 124,
     "metadata": {},
     "output_type": "execute_result"
    }
   ],
   "source": [
    "x = 3\n",
    "n = 4\n",
    "pow_int1(x, n), pow_int2(x, n), pow_rec(x, n)"
   ]
  },
  {
   "cell_type": "code",
   "execution_count": 125,
   "metadata": {},
   "outputs": [
    {
     "data": {
      "text/plain": [
       "(3, 1, 1)"
      ]
     },
     "execution_count": 125,
     "metadata": {},
     "output_type": "execute_result"
    }
   ],
   "source": [
    "x = 3\n",
    "n = 0\n",
    "pow_int1(x, n), pow_int2(x, n), pow_rec(x, n)"
   ]
  },
  {
   "cell_type": "code",
   "execution_count": 126,
   "metadata": {},
   "outputs": [
    {
     "data": {
      "text/plain": [
       "(0, 1, 1)"
      ]
     },
     "execution_count": 126,
     "metadata": {},
     "output_type": "execute_result"
    }
   ],
   "source": [
    "x = 0\n",
    "n = 0\n",
    "pow_int1(x, n), pow_int2(x, n), pow_rec(x, n)"
   ]
  },
  {
   "cell_type": "code",
   "execution_count": 129,
   "metadata": {},
   "outputs": [
    {
     "data": {
      "text/plain": [
       "1.0"
      ]
     },
     "execution_count": 129,
     "metadata": {},
     "output_type": "execute_result"
    }
   ],
   "source": [
    "math.pow(0, 0)"
   ]
  },
  {
   "cell_type": "code",
   "execution_count": 132,
   "metadata": {},
   "outputs": [],
   "source": [
    "# WHere can I find the logic of in built libraries of python"
   ]
  },
  {
   "cell_type": "code",
   "execution_count": 133,
   "metadata": {},
   "outputs": [],
   "source": [
    "N = 500"
   ]
  },
  {
   "cell_type": "code",
   "execution_count": 134,
   "metadata": {},
   "outputs": [
    {
     "data": {
      "text/plain": [
       "100"
      ]
     },
     "execution_count": 134,
     "metadata": {},
     "output_type": "execute_result"
    }
   ],
   "source": [
    "x = 2\n",
    "10**x"
   ]
  },
  {
   "cell_type": "code",
   "execution_count": 135,
   "metadata": {},
   "outputs": [
    {
     "data": {
      "text/plain": [
       "1000"
      ]
     },
     "execution_count": 135,
     "metadata": {},
     "output_type": "execute_result"
    }
   ],
   "source": [
    "x = 3\n",
    "10**x"
   ]
  },
  {
   "cell_type": "code",
   "execution_count": 136,
   "metadata": {},
   "outputs": [
    {
     "data": {
      "text/plain": [
       "316.22776601683796"
      ]
     },
     "execution_count": 136,
     "metadata": {},
     "output_type": "execute_result"
    }
   ],
   "source": [
    "left = 2\n",
    "right = 3\n",
    "mid = (left + right)/2\n",
    "10**mid"
   ]
  },
  {
   "cell_type": "code",
   "execution_count": null,
   "metadata": {},
   "outputs": [],
   "source": [
    "left = 2\n",
    "right = 3\n",
    "mid = (left + right)/2\n",
    "10**mid"
   ]
  }
 ],
 "metadata": {
  "kernelspec": {
   "display_name": "Python 3",
   "language": "python",
   "name": "python3"
  },
  "language_info": {
   "codemirror_mode": {
    "name": "ipython",
    "version": 3
   },
   "file_extension": ".py",
   "mimetype": "text/x-python",
   "name": "python",
   "nbconvert_exporter": "python",
   "pygments_lexer": "ipython3",
   "version": "3.6.8"
  },
  "toc": {
   "base_numbering": 1,
   "nav_menu": {},
   "number_sections": true,
   "sideBar": true,
   "skip_h1_title": false,
   "title_cell": "Table of Contents",
   "title_sidebar": "Contents",
   "toc_cell": false,
   "toc_position": {},
   "toc_section_display": true,
   "toc_window_display": false
  }
 },
 "nbformat": 4,
 "nbformat_minor": 2
}
