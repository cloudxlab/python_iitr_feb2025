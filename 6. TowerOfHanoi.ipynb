{
 "cells": [
  {
   "cell_type": "code",
   "execution_count": 5,
   "metadata": {},
   "outputs": [],
   "source": [
    "def move2(S, T, A): # Moves 2 disks from A to C using B\n",
    "    print(f\"Moving 1 from {S} to {A}\")\n",
    "    print(f\"Moving 2 from {S} to {T}\")\n",
    "    print(f\"Moving 1 from {A} to {T}\")\n"
   ]
  },
  {
   "cell_type": "code",
   "execution_count": 7,
   "metadata": {},
   "outputs": [
    {
     "name": "stdout",
     "output_type": "stream",
     "text": [
      "Moving 1 from Source to AUX\n",
      "Moving 2 from Source to Dest\n",
      "Moving 1 from AUX to Dest\n"
     ]
    }
   ],
   "source": [
    "move2(\"Source\", \"Dest\", \"AUX\")"
   ]
  },
  {
   "cell_type": "code",
   "execution_count": 10,
   "metadata": {},
   "outputs": [],
   "source": [
    "def move3(S, T, A):\n",
    "    move2(S, A, T)\n",
    "    print(f\"Move 3 from {S} to {T}\")\n",
    "    move2(A, T, S)"
   ]
  },
  {
   "cell_type": "code",
   "execution_count": 11,
   "metadata": {},
   "outputs": [
    {
     "name": "stdout",
     "output_type": "stream",
     "text": [
      "Moving 1 from Source to Dest\n",
      "Moving 2 from Source to AUX\n",
      "Moving 1 from Dest to AUX\n",
      "Move 3 from Source to Dest\n",
      "Moving 1 from AUX to Source\n",
      "Moving 2 from AUX to Dest\n",
      "Moving 1 from Source to Dest\n"
     ]
    }
   ],
   "source": [
    "move3(\"Source\", \"Dest\", \"AUX\")"
   ]
  },
  {
   "cell_type": "code",
   "execution_count": 14,
   "metadata": {},
   "outputs": [],
   "source": [
    "def move(n, S, T, A):\n",
    "    if n == 0:\n",
    "        return\n",
    "    move(n-1, S, A, T)\n",
    "    print(f\"Moving {n} from {S} to {T}\")\n",
    "    move(n-1, A, T, S)"
   ]
  },
  {
   "cell_type": "code",
   "execution_count": 15,
   "metadata": {},
   "outputs": [
    {
     "name": "stdout",
     "output_type": "stream",
     "text": [
      "Moving 1 from Source to Dest\n",
      "Moving 2 from Source to AUX\n",
      "Moving 1 from Dest to AUX\n",
      "Moving 3 from Source to Dest\n",
      "Moving 1 from AUX to Source\n",
      "Moving 2 from AUX to Dest\n",
      "Moving 1 from Source to Dest\n"
     ]
    }
   ],
   "source": [
    "move(3, \"Source\", \"Dest\", \"AUX\")"
   ]
  },
  {
   "cell_type": "code",
   "execution_count": 19,
   "metadata": {},
   "outputs": [
    {
     "name": "stdout",
     "output_type": "stream",
     "text": [
      "Moving 1 from Source to AUX\n",
      "Moving 2 from Source to Dest\n",
      "Moving 1 from AUX to Dest\n"
     ]
    }
   ],
   "source": [
    "move(2, \"Source\", \"Dest\", \"AUX\")"
   ]
  },
  {
   "cell_type": "code",
   "execution_count": 20,
   "metadata": {},
   "outputs": [
    {
     "name": "stdout",
     "output_type": "stream",
     "text": [
      "Moving 1 from Source to Dest\n",
      "Moving 2 from Source to AUX\n",
      "Moving 1 from Dest to AUX\n",
      "Moving 3 from Source to Dest\n",
      "Moving 1 from AUX to Source\n",
      "Moving 2 from AUX to Dest\n",
      "Moving 1 from Source to Dest\n"
     ]
    }
   ],
   "source": [
    "move(3, \"Source\", \"Dest\", \"AUX\")"
   ]
  },
  {
   "cell_type": "code",
   "execution_count": 21,
   "metadata": {},
   "outputs": [
    {
     "name": "stdout",
     "output_type": "stream",
     "text": [
      "Moving 1 from Source to AUX\n",
      "Moving 2 from Source to Dest\n",
      "Moving 1 from AUX to Dest\n",
      "Moving 3 from Source to AUX\n",
      "Moving 1 from Dest to Source\n",
      "Moving 2 from Dest to AUX\n",
      "Moving 1 from Source to AUX\n",
      "Moving 4 from Source to Dest\n",
      "Moving 1 from AUX to Dest\n",
      "Moving 2 from AUX to Source\n",
      "Moving 1 from Dest to Source\n",
      "Moving 3 from AUX to Dest\n",
      "Moving 1 from Source to AUX\n",
      "Moving 2 from Source to Dest\n",
      "Moving 1 from AUX to Dest\n"
     ]
    }
   ],
   "source": [
    "move(4, \"Source\", \"Dest\", \"AUX\")"
   ]
  },
  {
   "cell_type": "code",
   "execution_count": null,
   "metadata": {},
   "outputs": [],
   "source": []
  }
 ],
 "metadata": {
  "kernelspec": {
   "display_name": "Python 3",
   "language": "python",
   "name": "python3"
  },
  "language_info": {
   "codemirror_mode": {
    "name": "ipython",
    "version": 3
   },
   "file_extension": ".py",
   "mimetype": "text/x-python",
   "name": "python",
   "nbconvert_exporter": "python",
   "pygments_lexer": "ipython3",
   "version": "3.6.8"
  },
  "toc": {
   "base_numbering": 1,
   "nav_menu": {},
   "number_sections": true,
   "sideBar": true,
   "skip_h1_title": false,
   "title_cell": "Table of Contents",
   "title_sidebar": "Contents",
   "toc_cell": false,
   "toc_position": {},
   "toc_section_display": true,
   "toc_window_display": false
  }
 },
 "nbformat": 4,
 "nbformat_minor": 2
}
