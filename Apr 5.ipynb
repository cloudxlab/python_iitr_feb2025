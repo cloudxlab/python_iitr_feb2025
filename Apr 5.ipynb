{
 "cells": [
  {
   "cell_type": "markdown",
   "metadata": {},
   "source": [
    "Compare Linear Regression and K-Nearest Neighbour\n",
    "\n",
    "1. create some dataset\n"
   ]
  },
  {
   "cell_type": "code",
   "execution_count": 44,
   "metadata": {},
   "outputs": [],
   "source": [
    "x = list(range(-50, 50))"
   ]
  },
  {
   "cell_type": "code",
   "execution_count": 45,
   "metadata": {},
   "outputs": [],
   "source": [
    "y = []\n",
    "for v in x:\n",
    "    y.append(v*5 + 4 + 4*(random() - random()))"
   ]
  },
  {
   "cell_type": "code",
   "execution_count": 46,
   "metadata": {},
   "outputs": [
    {
     "data": {
      "text/plain": [
       "([-50,\n",
       "  -49,\n",
       "  -48,\n",
       "  -47,\n",
       "  -46,\n",
       "  -45,\n",
       "  -44,\n",
       "  -43,\n",
       "  -42,\n",
       "  -41,\n",
       "  -40,\n",
       "  -39,\n",
       "  -38,\n",
       "  -37,\n",
       "  -36,\n",
       "  -35,\n",
       "  -34,\n",
       "  -33,\n",
       "  -32,\n",
       "  -31,\n",
       "  -30,\n",
       "  -29,\n",
       "  -28,\n",
       "  -27,\n",
       "  -26,\n",
       "  -25,\n",
       "  -24,\n",
       "  -23,\n",
       "  -22,\n",
       "  -21,\n",
       "  -20,\n",
       "  -19,\n",
       "  -18,\n",
       "  -17,\n",
       "  -16,\n",
       "  -15,\n",
       "  -14,\n",
       "  -13,\n",
       "  -12,\n",
       "  -11,\n",
       "  -10,\n",
       "  -9,\n",
       "  -8,\n",
       "  -7,\n",
       "  -6,\n",
       "  -5,\n",
       "  -4,\n",
       "  -3,\n",
       "  -2,\n",
       "  -1,\n",
       "  0,\n",
       "  1,\n",
       "  2,\n",
       "  3,\n",
       "  4,\n",
       "  5,\n",
       "  6,\n",
       "  7,\n",
       "  8,\n",
       "  9,\n",
       "  10,\n",
       "  11,\n",
       "  12,\n",
       "  13,\n",
       "  14,\n",
       "  15,\n",
       "  16,\n",
       "  17,\n",
       "  18,\n",
       "  19,\n",
       "  20,\n",
       "  21,\n",
       "  22,\n",
       "  23,\n",
       "  24,\n",
       "  25,\n",
       "  26,\n",
       "  27,\n",
       "  28,\n",
       "  29,\n",
       "  30,\n",
       "  31,\n",
       "  32,\n",
       "  33,\n",
       "  34,\n",
       "  35,\n",
       "  36,\n",
       "  37,\n",
       "  38,\n",
       "  39,\n",
       "  40,\n",
       "  41,\n",
       "  42,\n",
       "  43,\n",
       "  44,\n",
       "  45,\n",
       "  46,\n",
       "  47,\n",
       "  48,\n",
       "  49],\n",
       " [-242.9662136266429,\n",
       "  -239.68842488339223,\n",
       "  -236.66531955075698,\n",
       "  -230.03449137977375,\n",
       "  -223.95628752320272,\n",
       "  -220.41244107622188,\n",
       "  -212.62170001297127,\n",
       "  -210.74453389986837,\n",
       "  -206.75179169516886,\n",
       "  -198.2555014293269,\n",
       "  -197.01362549627908,\n",
       "  -187.8272856721352,\n",
       "  -186.61697235073848,\n",
       "  -181.41177708271798,\n",
       "  -175.39024813372075,\n",
       "  -170.26500015631999,\n",
       "  -166.30383980592273,\n",
       "  -159.96020932314119,\n",
       "  -155.6132778783747,\n",
       "  -152.58355846303658,\n",
       "  -147.58745009582793,\n",
       "  -143.40803294501336,\n",
       "  -138.1688108087545,\n",
       "  -133.788689449727,\n",
       "  -125.32176537825386,\n",
       "  -120.93031033867365,\n",
       "  -117.67435923066358,\n",
       "  -113.10196257741124,\n",
       "  -105.2649521907448,\n",
       "  -98.40459764792965,\n",
       "  -94.37288081748247,\n",
       "  -90.6840788938466,\n",
       "  -83.90861745965745,\n",
       "  -82.34334840624659,\n",
       "  -76.50040620587463,\n",
       "  -70.87381354541047,\n",
       "  -67.14457427012073,\n",
       "  -59.016863254827854,\n",
       "  -54.69186272391976,\n",
       "  -50.79303871364081,\n",
       "  -49.61085618968765,\n",
       "  -39.17005630327117,\n",
       "  -35.88590758195836,\n",
       "  -31.141180430048855,\n",
       "  -24.557993409484038,\n",
       "  -21.22452008969794,\n",
       "  -15.254746939501,\n",
       "  -11.812559885903443,\n",
       "  -6.920965044282248,\n",
       "  0.4816486149924981,\n",
       "  3.682568387472907,\n",
       "  6.146194862450967,\n",
       "  10.707089679892011,\n",
       "  17.496706689339845,\n",
       "  25.178499460646464,\n",
       "  29.385911635452914,\n",
       "  30.837514701075413,\n",
       "  37.60197069770189,\n",
       "  43.50156889692496,\n",
       "  49.3192292619793,\n",
       "  55.50284424968394,\n",
       "  59.31824919888376,\n",
       "  64.87083495287993,\n",
       "  66.56221407239562,\n",
       "  72.68263669412714,\n",
       "  78.38879252898656,\n",
       "  84.88623991380315,\n",
       "  89.61780384329786,\n",
       "  96.97451302126153,\n",
       "  96.852942280357,\n",
       "  107.09863917245798,\n",
       "  108.55088310511326,\n",
       "  112.28527348830926,\n",
       "  118.77477008692722,\n",
       "  123.96114159027786,\n",
       "  131.38746932764175,\n",
       "  131.02114344218768,\n",
       "  137.46894109987883,\n",
       "  145.05273805277602,\n",
       "  150.94278104250301,\n",
       "  152.11668316971372,\n",
       "  158.091631770155,\n",
       "  163.95999870286857,\n",
       "  169.12012793154528,\n",
       "  176.70212245595786,\n",
       "  178.31104388966563,\n",
       "  185.3179766869898,\n",
       "  189.95271659404608,\n",
       "  194.25080261158308,\n",
       "  200.88090368267157,\n",
       "  201.96209430014125,\n",
       "  209.14340182116285,\n",
       "  211.04074507108746,\n",
       "  219.78877461143986,\n",
       "  227.5477508706237,\n",
       "  231.1834003304568,\n",
       "  234.67050095392423,\n",
       "  236.82535923795282,\n",
       "  242.81795359787262,\n",
       "  246.9622826379366])"
      ]
     },
     "execution_count": 46,
     "metadata": {},
     "output_type": "execute_result"
    }
   ],
   "source": [
    "x, y"
   ]
  },
  {
   "cell_type": "code",
   "execution_count": 47,
   "metadata": {},
   "outputs": [],
   "source": [
    "from matplotlib import pyplot as plt"
   ]
  },
  {
   "cell_type": "code",
   "execution_count": 48,
   "metadata": {},
   "outputs": [
    {
     "data": {
      "text/plain": [
       "[<matplotlib.lines.Line2D at 0x7f09b9d81898>]"
      ]
     },
     "execution_count": 48,
     "metadata": {},
     "output_type": "execute_result"
    },
    {
     "data": {
      "image/png": "[encoded data removed]",
      "text/plain": [
       "<Figure size 432x288 with 1 Axes>"
      ]
     },
     "metadata": {
      "needs_background": "light"
     },
     "output_type": "display_data"
    }
   ],
   "source": [
    "plt.plot(x, y)"
   ]
  },
  {
   "cell_type": "code",
   "execution_count": 31,
   "metadata": {},
   "outputs": [],
   "source": [
    "#x_train, y_train - 80%\n",
    "#x_test, y_test - 20%"
   ]
  },
  {
   "cell_type": "code",
   "execution_count": 51,
   "metadata": {},
   "outputs": [],
   "source": [
    "x_train = []\n",
    "y_train = []\n",
    "\n",
    "x_test = []\n",
    "y_test = []\n",
    "\n",
    "for i, _x in enumerate(x):\n",
    "    if i % 5 == 0:\n",
    "        x_test.append(x[i])\n",
    "        y_test.append(y[i])\n",
    "    else:\n",
    "        x_train.append(x[i])\n",
    "        y_train.append(y[i])"
   ]
  },
  {
   "cell_type": "code",
   "execution_count": 50,
   "metadata": {},
   "outputs": [],
   "source": [
    "# https://docs.google.com/spreadsheets/d/1sT0EbZqQjk9iOGp-uyS8PnsZw9hXjYSs-xv2bfWsxVQ/edit?gid=0#gid=0"
   ]
  },
  {
   "cell_type": "code",
   "execution_count": 62,
   "metadata": {},
   "outputs": [],
   "source": [
    "def knn(x_train, y_train, x):\n",
    "    best_i = None\n",
    "    min_error = None\n",
    "    for i, v in enumerate(x_train):\n",
    "        diff = abs(x - v)\n",
    "        if min_error == None or min_error > diff:\n",
    "            min_error = diff\n",
    "            best_i = i\n",
    "    return y_train[best_i]"
   ]
  },
  {
   "cell_type": "code",
   "execution_count": 63,
   "metadata": {},
   "outputs": [],
   "source": [
    "def knn_arr(x_train, y_train, x_test):\n",
    "    y_pred = []\n",
    "    for x in x_test:\n",
    "        y_pred.append(knn(x_train, y_train, x))\n",
    "    return y_pred"
   ]
  },
  {
   "cell_type": "code",
   "execution_count": 83,
   "metadata": {},
   "outputs": [],
   "source": [
    "def lr(x_train, y_train, x_test):\n",
    "    # hardcoded - y = 5x + 4\n",
    "    y_pred = []\n",
    "    for x in x_test:\n",
    "        y_pred.append(x*5 + 4)\n",
    "    return y_pred"
   ]
  },
  {
   "cell_type": "code",
   "execution_count": 84,
   "metadata": {},
   "outputs": [],
   "source": [
    "y_pred_knn = knn_arr(x_train, y_train, x_test)"
   ]
  },
  {
   "cell_type": "code",
   "execution_count": 85,
   "metadata": {},
   "outputs": [],
   "source": [
    "def total_err(arr, y_test):\n",
    "    tot = 0\n",
    "    for i, v in enumerate(arr):\n",
    "        tot += (v - y_test[i])**2\n",
    "    return tot"
   ]
  },
  {
   "cell_type": "code",
   "execution_count": 86,
   "metadata": {},
   "outputs": [
    {
     "data": {
      "text/plain": [
       "433.0057873151888"
      ]
     },
     "execution_count": 86,
     "metadata": {},
     "output_type": "execute_result"
    }
   ],
   "source": [
    "total_err(y_pred_knn, y_test)"
   ]
  },
  {
   "cell_type": "code",
   "execution_count": 87,
   "metadata": {},
   "outputs": [],
   "source": [
    "y_pred_lr = lr(x_train, y_train, x_test)"
   ]
  },
  {
   "cell_type": "code",
   "execution_count": 88,
   "metadata": {},
   "outputs": [
    {
     "data": {
      "text/plain": [
       "60.51895266108075"
      ]
     },
     "execution_count": 88,
     "metadata": {},
     "output_type": "execute_result"
    }
   ],
   "source": [
    "total_err(y_pred_lr, y_test)"
   ]
  },
  {
   "cell_type": "code",
   "execution_count": null,
   "metadata": {},
   "outputs": [],
   "source": []
  }
 ],
 "metadata": {
  "kernelspec": {
   "display_name": "Python 3",
   "language": "python",
   "name": "python3"
  },
  "language_info": {
   "codemirror_mode": {
    "name": "ipython",
    "version": 3
   },
   "file_extension": ".py",
   "mimetype": "text/x-python",
   "name": "python",
   "nbconvert_exporter": "python",
   "pygments_lexer": "ipython3",
   "version": "3.6.8"
  },
  "toc": {
   "base_numbering": 1,
   "nav_menu": {},
   "number_sections": true,
   "sideBar": true,
   "skip_h1_title": false,
   "title_cell": "Table of Contents",
   "title_sidebar": "Contents",
   "toc_cell": false,
   "toc_position": {},
   "toc_section_display": true,
   "toc_window_display": false
  }
 },
 "nbformat": 4,
 "nbformat_minor": 2
}
