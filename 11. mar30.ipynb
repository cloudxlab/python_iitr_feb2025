{
 "cells": [
  {
   "cell_type": "code",
   "execution_count": null,
   "metadata": {},
   "outputs": [],
   "source": [
    "exp = '2+3*4'\n",
    "def eval(exp): # single digit, there may be spaces, support +,-, *, /\n",
    "    # you code..\n",
    "    return 14"
   ]
  },
  {
   "cell_type": "code",
   "execution_count": null,
   "metadata": {},
   "outputs": [],
   "source": [
    "# Build a method called matcher which take pat which contain\n",
    "# * - matches one or more characters\n",
    "# ? - matches exactly 1 character\n",
    "def matcher(pat, txt): \n",
    "    return True or False"
   ]
  },
  {
   "cell_type": "markdown",
   "metadata": {},
   "source": [
    "    > matcher(\"a*b\", \"ab\")\n",
    "    True\n",
    "    > matcher(\"a*b\", \"a128971921b\")\n",
    "    True\n",
    "    > matcher(\"a*b\", \"ab\")\n",
    "    \n",
    "    \"1?2\" can match 132, 1a2, 122,  but not 1222, 12\n",
    "    \"a*\" will match abcde, aaaaaa, a but not ba\n",
    "    "
   ]
  },
  {
   "cell_type": "code",
   "execution_count": null,
   "metadata": {},
   "outputs": [],
   "source": [
    "def text2int(text):\n",
    "    # You can use: ord - take asci\n",
    "    # You can use: ord('4') - ord('0') -> 4\n",
    "\n",
    "> text2int(\"123\")\n",
    "123\n"
   ]
  },
  {
   "cell_type": "code",
   "execution_count": 3,
   "metadata": {},
   "outputs": [],
   "source": [
    "y = '''\n",
    "    this is multiline comment\n",
    "'''"
   ]
  },
  {
   "cell_type": "code",
   "execution_count": 4,
   "metadata": {},
   "outputs": [
    {
     "name": "stdout",
     "output_type": "stream",
     "text": [
      "\n",
      "    this is multiline comment\n",
      "\n"
     ]
    }
   ],
   "source": [
    "print(y)"
   ]
  },
  {
   "cell_type": "code",
   "execution_count": null,
   "metadata": {},
   "outputs": [],
   "source": []
  }
 ],
 "metadata": {
  "kernelspec": {
   "display_name": "Python 3",
   "language": "python",
   "name": "python3"
  },
  "language_info": {
   "codemirror_mode": {
    "name": "ipython",
    "version": 3
   },
   "file_extension": ".py",
   "mimetype": "text/x-python",
   "name": "python",
   "nbconvert_exporter": "python",
   "pygments_lexer": "ipython3",
   "version": "3.10.11"
  }
 },
 "nbformat": 4,
 "nbformat_minor": 2
}
