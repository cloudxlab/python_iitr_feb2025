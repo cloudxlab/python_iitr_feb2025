{
 "cells": [
  {
   "cell_type": "markdown",
   "id": "eed4b93d",
   "metadata": {},
   "source": [
    "Q: Find the smallest value of a convex arra which first decreases and then increases:\n",
    "arr = [10, 9, 8, 6.5, 4.1, 3.2, 2, 4, 4.5, 6]\n",
    "Ans: 2\n",
    "\n",
    "Q: Find the smallest value of an expression such as y = 10*x^2 - 35x + 2\n",
    "Further, write code to solve any such expression.\n",
    "\n",
    "\n"
   ]
  }
 ],
 "metadata": {
  "language_info": {
   "name": "python"
  }
 },
 "nbformat": 4,
 "nbformat_minor": 5
}
