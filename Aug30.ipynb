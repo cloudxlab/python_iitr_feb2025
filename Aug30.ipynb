{
 "cells": [
  {
   "cell_type": "markdown",
   "metadata": {},
   "source": [
    "ANN:\n",
    "    - Gradient Descent\n",
    "    - Backpropagation\n",
    "    - Various Architectures:\n",
    "        - RNN\n",
    "        - CNNs\n",
    "        - Attention\n",
    "    - Regularization Techniques\n",
    "    - Practice a lot in solving various problems.\n",
    "        - Build intuition around which layer does what, \n",
    "        - Size of the neural network\n",
    "        - Which architecture type we use\n",
    "        - which loss function we should use\n",
    "        - How much should we train it?\n",
    "        - Avoid overfitting\n",
    "        - depth vs breath of a NN\n",
    "        - Transfer Learning\n",
    "    - Reinforcement Learning"
   ]
  },
  {
   "cell_type": "code",
   "execution_count": 5,
   "metadata": {},
   "outputs": [],
   "source": [
    "# * First principle thinking - You should be able to invent your own new architectures *\n",
    "# Cut down on the history, biology, old ideas (RNNs), \n",
    "# Introduce more topics - Attention, Transformers"
   ]
  },
  {
   "cell_type": "code",
   "execution_count": null,
   "metadata": {},
   "outputs": [],
   "source": [
    "- Polynomial \n"
   ]
  },
  {
   "cell_type": "code",
   "execution_count": null,
   "metadata": {},
   "outputs": [],
   "source": [
    "# Data ->>> function (polynomial)\n"
   ]
  },
  {
   "cell_type": "code",
   "execution_count": 7,
   "metadata": {},
   "outputs": [],
   "source": [
    "# Q: Can everyone write gradient descent?"
   ]
  },
  {
   "cell_type": "markdown",
   "metadata": {},
   "source": [
    "Q1: Can you write your own SQRT?\n",
    "  "
   ]
  },
  {
   "cell_type": "code",
   "execution_count": 28,
   "metadata": {},
   "outputs": [],
   "source": [
    "def mysqrt(x):\n",
    "    if x < 0:\n",
    "        return None\n",
    "    left = 0\n",
    "    right = 1\n",
    "    if x < 1:\n",
    "        left = x # sqrt will be between x and 1\n",
    "    else:\n",
    "        right = x # sqrt will be between 0 and x\n",
    "    counter = 0\n",
    "    while True:\n",
    "        counter += 1\n",
    "        guess = (left + right)/2\n",
    "        sq_guess = guess*guess\n",
    "        if abs(sq_guess - x) <= 1e-8:\n",
    "            print(f\"Took {counter} iterations\")\n",
    "            return guess\n",
    "        elif sq_guess > x:\n",
    "            right = guess\n",
    "        else:\n",
    "            left = guess\n",
    "    "
   ]
  },
  {
   "cell_type": "code",
   "execution_count": 29,
   "metadata": {},
   "outputs": [
    {
     "name": "stdout",
     "output_type": "stream",
     "text": [
      "Took 29 iterations\n"
     ]
    },
    {
     "data": {
      "text/plain": [
       "2.2360679786652327"
      ]
     },
     "execution_count": 29,
     "metadata": {},
     "output_type": "execute_result"
    }
   ],
   "source": [
    "mysqrt(5)"
   ]
  },
  {
   "cell_type": "code",
   "execution_count": 18,
   "metadata": {},
   "outputs": [
    {
     "data": {
      "text/plain": [
       "0.9486832980505138"
      ]
     },
     "execution_count": 18,
     "metadata": {},
     "output_type": "execute_result"
    }
   ],
   "source": [
    ".9**.5"
   ]
  },
  {
   "cell_type": "markdown",
   "metadata": {},
   "source": [
    "A. 10**8 times\n",
    "\n",
    "B: Approx/within 100 times\n"
   ]
  },
  {
   "cell_type": "code",
   "execution_count": 23,
   "metadata": {},
   "outputs": [
    {
     "data": {
      "text/plain": [
       "2.2360679786652327"
      ]
     },
     "execution_count": 23,
     "metadata": {},
     "output_type": "execute_result"
    }
   ],
   "source": [
    "mysqrt(5)"
   ]
  },
  {
   "cell_type": "code",
   "execution_count": 39,
   "metadata": {},
   "outputs": [
    {
     "name": "stdout",
     "output_type": "stream",
     "text": [
      "Took 37 iterations\n"
     ]
    },
    {
     "data": {
      "text/plain": [
       "9.99999999985448"
      ]
     },
     "execution_count": 39,
     "metadata": {},
     "output_type": "execute_result"
    }
   ],
   "source": [
    "mysqrt(100.0)"
   ]
  },
  {
   "cell_type": "code",
   "execution_count": 40,
   "metadata": {},
   "outputs": [],
   "source": [
    "# Q: Write CubeRoot, Forthroot, nthroot, log"
   ]
  },
  {
   "cell_type": "code",
   "execution_count": null,
   "metadata": {},
   "outputs": [],
   "source": [
    "# Q: Find the minimum value of function y = x**2 - 5x + 7\n",
    "# Q: Find the minimum value of function y = x**4 - 5x**2 + 7"
   ]
  },
  {
   "cell_type": "code",
   "execution_count": 41,
   "metadata": {},
   "outputs": [],
   "source": [
    "def p(x):\n",
    "    return x**4 - 5*x**2 + 7"
   ]
  },
  {
   "cell_type": "code",
   "execution_count": 42,
   "metadata": {},
   "outputs": [
    {
     "data": {
      "text/plain": [
       "7"
      ]
     },
     "execution_count": 42,
     "metadata": {},
     "output_type": "execute_result"
    }
   ],
   "source": [
    "p(0)"
   ]
  },
  {
   "cell_type": "code",
   "execution_count": 43,
   "metadata": {},
   "outputs": [
    {
     "data": {
      "text/plain": [
       "3"
      ]
     },
     "execution_count": 43,
     "metadata": {},
     "output_type": "execute_result"
    }
   ],
   "source": [
    "p(1)"
   ]
  },
  {
   "cell_type": "code",
   "execution_count": 44,
   "metadata": {},
   "outputs": [
    {
     "data": {
      "text/plain": [
       "0.8125"
      ]
     },
     "execution_count": 44,
     "metadata": {},
     "output_type": "execute_result"
    }
   ],
   "source": [
    "p(1.5)"
   ]
  },
  {
   "cell_type": "code",
   "execution_count": 45,
   "metadata": {},
   "outputs": [
    {
     "data": {
      "text/plain": [
       "0.7535999999999987"
      ]
     },
     "execution_count": 45,
     "metadata": {},
     "output_type": "execute_result"
    }
   ],
   "source": [
    "p(1.6)"
   ]
  },
  {
   "cell_type": "code",
   "execution_count": 46,
   "metadata": {},
   "outputs": [
    {
     "data": {
      "text/plain": [
       "3"
      ]
     },
     "execution_count": 46,
     "metadata": {},
     "output_type": "execute_result"
    }
   ],
   "source": [
    "p(2)"
   ]
  },
  {
   "cell_type": "code",
   "execution_count": 47,
   "metadata": {},
   "outputs": [
    {
     "data": {
      "text/plain": [
       "0.7595062499999994"
      ]
     },
     "execution_count": 47,
     "metadata": {},
     "output_type": "execute_result"
    }
   ],
   "source": [
    "p(1.55)"
   ]
  },
  {
   "cell_type": "code",
   "execution_count": 58,
   "metadata": {},
   "outputs": [
    {
     "name": "stdout",
     "output_type": "stream",
     "text": [
      "1.625\n"
     ]
    }
   ],
   "source": [
    "left = 1.6\n",
    "right = mid\n",
    "mid = (left+right)/2\n",
    "print(mid)"
   ]
  },
  {
   "cell_type": "code",
   "execution_count": 62,
   "metadata": {},
   "outputs": [
    {
     "data": {
      "text/plain": [
       "(0.769775390625, 0.7535999999999987)"
      ]
     },
     "execution_count": 62,
     "metadata": {},
     "output_type": "execute_result"
    }
   ],
   "source": [
    "p(1.625), p(1.6)"
   ]
  },
  {
   "cell_type": "code",
   "execution_count": 63,
   "metadata": {},
   "outputs": [
    {
     "data": {
      "text/plain": [
       "0.7500129599999985"
      ]
     },
     "execution_count": 63,
     "metadata": {},
     "output_type": "execute_result"
    }
   ],
   "source": [
    "p(1.58)"
   ]
  },
  {
   "cell_type": "code",
   "execution_count": 59,
   "metadata": {},
   "outputs": [
    {
     "data": {
      "text/plain": [
       "0.769775390625"
      ]
     },
     "execution_count": 59,
     "metadata": {},
     "output_type": "execute_result"
    }
   ],
   "source": [
    "p(mid)"
   ]
  },
  {
   "cell_type": "code",
   "execution_count": 50,
   "metadata": {},
   "outputs": [
    {
     "data": {
      "text/plain": [
       "5.8125"
      ]
     },
     "execution_count": 50,
     "metadata": {},
     "output_type": "execute_result"
    }
   ],
   "source": [
    "p(.5)"
   ]
  },
  {
   "cell_type": "code",
   "execution_count": 52,
   "metadata": {},
   "outputs": [
    {
     "data": {
      "text/plain": [
       "(3, 0.7535999999999987)"
      ]
     },
     "execution_count": 52,
     "metadata": {},
     "output_type": "execute_result"
    }
   ],
   "source": [
    "p(2), p(1.6)"
   ]
  },
  {
   "cell_type": "code",
   "execution_count": 53,
   "metadata": {},
   "outputs": [
    {
     "data": {
      "text/plain": [
       "1.2975999999999974"
      ]
     },
     "execution_count": 53,
     "metadata": {},
     "output_type": "execute_result"
    }
   ],
   "source": [
    "p(1.8)"
   ]
  },
  {
   "cell_type": "code",
   "execution_count": 60,
   "metadata": {},
   "outputs": [
    {
     "data": {
      "text/plain": [
       "4.50390625"
      ]
     },
     "execution_count": 60,
     "metadata": {},
     "output_type": "execute_result"
    }
   ],
   "source": [
    "p(.75)"
   ]
  },
  {
   "cell_type": "code",
   "execution_count": 64,
   "metadata": {},
   "outputs": [
    {
     "data": {
      "text/plain": [
       "(0.7535999999999987, 0.7532263536009989, 0.7536038410360071)"
      ]
     },
     "execution_count": 64,
     "metadata": {},
     "output_type": "execute_result"
    }
   ],
   "source": [
    "p(1.6), p(1.599), p(1.60001)"
   ]
  },
  {
   "cell_type": "code",
   "execution_count": 67,
   "metadata": {},
   "outputs": [
    {
     "data": {
      "text/plain": [
       "(0.8125, 0.8125001500000844, 0.8124998500000844)"
      ]
     },
     "execution_count": 67,
     "metadata": {},
     "output_type": "execute_result"
    }
   ],
   "source": [
    "p(1.5), p(1.4999999), p(1.5000001)"
   ]
  },
  {
   "cell_type": "code",
   "execution_count": 69,
   "metadata": {},
   "outputs": [
    {
     "data": {
      "text/plain": [
       "(6.045094140816332e-07, -6.044905829227787e-07)"
      ]
     },
     "execution_count": 69,
     "metadata": {},
     "output_type": "execute_result"
    }
   ],
   "source": [
    "d = .000001\n",
    "x = 1.55\n",
    "p(x - d) - p(x), p(x + d) - p(x)"
   ]
  },
  {
   "cell_type": "code",
   "execution_count": 71,
   "metadata": {},
   "outputs": [
    {
     "data": {
      "text/plain": [
       "(0.7500129599999985, 2.2761978968333096e-08, -2.2742019822885595e-08)"
      ]
     },
     "execution_count": 71,
     "metadata": {},
     "output_type": "execute_result"
    }
   ],
   "source": [
    "d = .000001\n",
    "x = 1.58\n",
    "p(x), p(x - d) - p(x), p(x + d) - p(x)"
   ]
  },
  {
   "cell_type": "code",
   "execution_count": 73,
   "metadata": {},
   "outputs": [
    {
     "data": {
      "text/plain": [
       "(0.7500000150773847, 7.865708084864309e-10, -7.665743595453023e-10)"
      ]
     },
     "execution_count": 73,
     "metadata": {},
     "output_type": "execute_result"
    }
   ],
   "source": [
    "d = .000001\n",
    "x = 1.5811\n",
    "p(x), p(x - d) - p(x), p(x + d) - p(x)"
   ]
  },
  {
   "cell_type": "code",
   "execution_count": 74,
   "metadata": {},
   "outputs": [
    {
     "data": {
      "text/plain": [
       "1.5811388300841898"
      ]
     },
     "execution_count": 74,
     "metadata": {},
     "output_type": "execute_result"
    }
   ],
   "source": [
    "import math\n",
    "math.sqrt(2.5)"
   ]
  },
  {
   "cell_type": "code",
   "execution_count": 76,
   "metadata": {},
   "outputs": [],
   "source": [
    "def p(x):\n",
    "    return x**4 - x**3 - 5*x**2 - 7*x + 20"
   ]
  },
  {
   "cell_type": "code",
   "execution_count": 77,
   "metadata": {},
   "outputs": [],
   "source": [
    "# Find that value of x for which p(x) is minium\n"
   ]
  },
  {
   "cell_type": "code",
   "execution_count": 80,
   "metadata": {},
   "outputs": [
    {
     "data": {
      "text/plain": [
       "8"
      ]
     },
     "execution_count": 80,
     "metadata": {},
     "output_type": "execute_result"
    }
   ],
   "source": [
    "x = 1\n",
    "p(x)"
   ]
  },
  {
   "cell_type": "code",
   "execution_count": 81,
   "metadata": {},
   "outputs": [
    {
     "data": {
      "text/plain": [
       "20"
      ]
     },
     "execution_count": 81,
     "metadata": {},
     "output_type": "execute_result"
    }
   ],
   "source": [
    "x = 0\n",
    "p(x)"
   ]
  },
  {
   "cell_type": "code",
   "execution_count": 82,
   "metadata": {},
   "outputs": [
    {
     "data": {
      "text/plain": [
       "4.7456"
      ]
     },
     "execution_count": 82,
     "metadata": {},
     "output_type": "execute_result"
    }
   ],
   "source": [
    "x = 1.2\n",
    "p(x)"
   ]
  },
  {
   "cell_type": "code",
   "execution_count": 83,
   "metadata": {},
   "outputs": [
    {
     "data": {
      "text/plain": [
       "4.745598359199999"
      ]
     },
     "execution_count": 83,
     "metadata": {},
     "output_type": "execute_result"
    }
   ],
   "source": [
    "x = 1.2000001\n",
    "p(x)"
   ]
  },
  {
   "cell_type": "code",
   "execution_count": 84,
   "metadata": {},
   "outputs": [
    {
     "data": {
      "text/plain": [
       "4.745598359199999"
      ]
     },
     "execution_count": 84,
     "metadata": {},
     "output_type": "execute_result"
    }
   ],
   "source": [
    "x = 1.2000001\n",
    "p(x)"
   ]
  },
  {
   "cell_type": "code",
   "execution_count": 86,
   "metadata": {},
   "outputs": [
    {
     "name": "stdout",
     "output_type": "stream",
     "text": [
      "1.3002001000000014 3.105842021483241\n",
      "1.4002001000000015 1.49441771213926\n",
      "1.5002001000000016 -0.06555136479992285\n",
      "1.6002001000000017 -1.5452604069343003\n",
      "1.7002001000000018 -2.9135046118638783\n",
      "1.8002001000000019 -4.1366791771886575\n",
      "1.900200100000002 -5.1787793005086264\n",
      "2.000200100000002 -6.001400179423797\n",
      "2.100200100000002 -6.563737011534165\n",
      "2.200200100000002 -6.82258499443973\n",
      "2.3002001000000023 -6.732339325740497\n",
      "2.4002001000000024 -6.244995203036456\n",
      "2.5002001000000025 -5.310147823927618\n",
      "2.6002001000000026 -3.874992386013968\n",
      "2.7002001000000027 -1.8843240868955036\n",
      "2.8002001000000027 0.71946187582774\n",
      "2.900200100000003 3.9963703045558\n",
      "3.000200100000003 8.008806001688662\n",
      "3.100200100000003 12.821573769626333\n",
      "3.200200100000003 18.501878410768814\n"
     ]
    }
   ],
   "source": [
    "d = 0.1\n",
    "for i in range(20):\n",
    "    x += d\n",
    "    print(x, p(x))"
   ]
  },
  {
   "cell_type": "code",
   "execution_count": 88,
   "metadata": {},
   "outputs": [
    {
     "data": {
      "text/plain": [
       "(-6.822400000000002, 9.280174424475263e-07, -9.279825583519141e-07)"
      ]
     },
     "execution_count": 88,
     "metadata": {},
     "output_type": "execute_result"
    }
   ],
   "source": [
    "x = 2.2\n",
    "d = 0.000001\n",
    "p(x), p(x - d) - p(x), p(x+d) - p(x)"
   ]
  },
  {
   "cell_type": "code",
   "execution_count": 96,
   "metadata": {},
   "outputs": [
    {
     "data": {
      "text/plain": [
       "(-6.834601010224002, 5.249344070534789e-09, -5.213241394130819e-09)"
      ]
     },
     "execution_count": 96,
     "metadata": {},
     "output_type": "execute_result"
    }
   ],
   "source": [
    "x = 2.226\n",
    "d = 0.000001\n",
    "p(x), p(x - d) - p(x), p(x+d) - p(x)"
   ]
  },
  {
   "cell_type": "code",
   "execution_count": 97,
   "metadata": {},
   "outputs": [
    {
     "data": {
      "text/plain": [
       "(-6.834588181158999, -3.087926003786379e-08, 3.091540889954558e-08)"
      ]
     },
     "execution_count": 97,
     "metadata": {},
     "output_type": "execute_result"
    }
   ],
   "source": [
    "x = 2.227\n",
    "d = 0.000001\n",
    "p(x), p(x - d) - p(x), p(x+d) - p(x)"
   ]
  },
  {
   "cell_type": "code",
   "execution_count": 98,
   "metadata": {},
   "outputs": [
    {
     "data": {
      "text/plain": [
       "(-6.83459911176994, -1.2809021399107223e-08, 1.2845156049934303e-08)"
      ]
     },
     "execution_count": 98,
     "metadata": {},
     "output_type": "execute_result"
    }
   ],
   "source": [
    "x = 2.2265\n",
    "d = 0.000001\n",
    "p(x), p(x - d) - p(x), p(x+d) - p(x)"
   ]
  },
  {
   "cell_type": "code",
   "execution_count": 99,
   "metadata": {},
   "outputs": [
    {
     "data": {
      "text/plain": [
       "(-6.834600213843558, -9.196401862254788e-09, 9.232522302227153e-09)"
      ]
     },
     "execution_count": 99,
     "metadata": {},
     "output_type": "execute_result"
    }
   ],
   "source": [
    "x = 2.2264\n",
    "d = 0.000001\n",
    "p(x), p(x - d) - p(x), p(x+d) - p(x)"
   ]
  },
  {
   "cell_type": "code",
   "execution_count": 102,
   "metadata": {},
   "outputs": [],
   "source": [
    "def p(x):\n",
    "    return 6*x**8 - x**4 - 5*x**2 - 7*x + 30"
   ]
  },
  {
   "cell_type": "code",
   "execution_count": 104,
   "metadata": {},
   "outputs": [
    {
     "data": {
      "text/plain": [
       "(9097.4609375, -0.029202334029832855, 0.029202415977124474)"
      ]
     },
     "execution_count": 104,
     "metadata": {},
     "output_type": "execute_result"
    }
   ],
   "source": [
    "x = 2.5\n",
    "d = 0.000001\n",
    "p(x), p(x - d) - p(x), p(x+d) - p(x)"
   ]
  },
  {
   "cell_type": "code",
   "execution_count": 106,
   "metadata": {},
   "outputs": [
    {
     "data": {
      "text/plain": [
       "(3904.3536071777344, -0.013937520232047973, 0.013937563755916926)"
      ]
     },
     "execution_count": 106,
     "metadata": {},
     "output_type": "execute_result"
    }
   ],
   "source": [
    "x = 2.25\n",
    "d = 0.000001\n",
    "p(x), p(x - d) - p(x), p(x+d) - p(x)"
   ]
  },
  {
   "cell_type": "code",
   "execution_count": 107,
   "metadata": {},
   "outputs": [
    {
     "data": {
      "text/plain": [
       "(2243.1734616600006, -0.008580166620959062, 0.008580195375088806)"
      ]
     },
     "execution_count": 107,
     "metadata": {},
     "output_type": "execute_result"
    }
   ],
   "source": [
    "x = 2.1\n",
    "d = 0.000001\n",
    "p(x), p(x - d) - p(x), p(x+d) - p(x)"
   ]
  },
  {
   "cell_type": "code",
   "execution_count": 108,
   "metadata": {},
   "outputs": [
    {
     "data": {
      "text/plain": [
       "(1848.443344325233, -0.007241312332553207, 0.007241337210416532)"
      ]
     },
     "execution_count": 108,
     "metadata": {},
     "output_type": "execute_result"
    }
   ],
   "source": [
    "x = 2.05\n",
    "d = 0.000001\n",
    "p(x), p(x - d) - p(x), p(x+d) - p(x)"
   ]
  },
  {
   "cell_type": "code",
   "execution_count": 109,
   "metadata": {},
   "outputs": [
    {
     "data": {
      "text/plain": [
       "(23, -2.6999843001362933e-05, 2.7000156997303293e-05)"
      ]
     },
     "execution_count": 109,
     "metadata": {},
     "output_type": "execute_result"
    }
   ],
   "source": [
    "x = 1\n",
    "d = 0.000001\n",
    "p(x), p(x - d) - p(x), p(x+d) - p(x)"
   ]
  },
  {
   "cell_type": "code",
   "execution_count": 110,
   "metadata": {},
   "outputs": [
    {
     "data": {
      "text/plain": [
       "(25.2109375, 1.2124996125351117e-05, -1.2125003877372365e-05)"
      ]
     },
     "execution_count": 110,
     "metadata": {},
     "output_type": "execute_result"
    }
   ],
   "source": [
    "x = 0.5\n",
    "d = 0.000001\n",
    "p(x), p(x - d) - p(x), p(x+d) - p(x)"
   ]
  },
  {
   "cell_type": "code",
   "execution_count": 111,
   "metadata": {},
   "outputs": [
    {
     "data": {
      "text/plain": [
       "(22.221771240234375, 9.780294963235292e-06, -9.780251911450932e-06)"
      ]
     },
     "execution_count": 111,
     "metadata": {},
     "output_type": "execute_result"
    }
   ],
   "source": [
    "x = 0.75\n",
    "d = 0.000001\n",
    "p(x), p(x - d) - p(x), p(x+d) - p(x)"
   ]
  },
  {
   "cell_type": "code",
   "execution_count": 112,
   "metadata": {},
   "outputs": [
    {
     "data": {
      "text/plain": [
       "(21.5223468542099, -4.1965007824273926e-07, 4.1978168496825674e-07)"
      ]
     },
     "execution_count": 112,
     "metadata": {},
     "output_type": "execute_result"
    }
   ],
   "source": [
    "x = 0.875\n",
    "d = 0.000001\n",
    "p(x), p(x - d) - p(x), p(x+d) - p(x)"
   ]
  },
  {
   "cell_type": "code",
   "execution_count": 114,
   "metadata": {},
   "outputs": [
    {
     "name": "stdout",
     "output_type": "stream",
     "text": [
      "x: 0.8125\n"
     ]
    },
    {
     "data": {
      "text/plain": [
       "(21.71547512849793, 6.050237985277818e-06, -6.050159242931841e-06)"
      ]
     },
     "execution_count": 114,
     "metadata": {},
     "output_type": "execute_result"
    }
   ],
   "source": [
    "x = (0.75 + 0.875)/2\n",
    "print(f'x: {x}')\n",
    "d = 0.000001\n",
    "p(x), p(x - d) - p(x), p(x+d) - p(x)"
   ]
  },
  {
   "cell_type": "code",
   "execution_count": 115,
   "metadata": {},
   "outputs": [
    {
     "name": "stdout",
     "output_type": "stream",
     "text": [
      "x: 0.84375\n"
     ]
    },
    {
     "data": {
      "text/plain": [
       "(21.568567057436667, 3.2273166894469796e-06, -3.2272140018108075e-06)"
      ]
     },
     "execution_count": 115,
     "metadata": {},
     "output_type": "execute_result"
    }
   ],
   "source": [
    "x = (0.8125 + 0.875)/2\n",
    "print(f'x: {x}')\n",
    "d = 0.000001\n",
    "p(x), p(x - d) - p(x), p(x+d) - p(x)"
   ]
  },
  {
   "cell_type": "code",
   "execution_count": 116,
   "metadata": {},
   "outputs": [
    {
     "name": "stdout",
     "output_type": "stream",
     "text": [
      "x: 0.859375\n"
     ]
    },
    {
     "data": {
      "text/plain": [
       "(21.53122453342032, 1.5167279165950731e-06, -1.5166114373244e-06)"
      ]
     },
     "execution_count": 116,
     "metadata": {},
     "output_type": "execute_result"
    }
   ],
   "source": [
    "x = (0.84375 + 0.875)/2\n",
    "print(f'x: {x}')\n",
    "d = 0.000001\n",
    "p(x), p(x - d) - p(x), p(x+d) - p(x)"
   ]
  },
  {
   "cell_type": "code",
   "execution_count": 117,
   "metadata": {},
   "outputs": [
    {
     "name": "stdout",
     "output_type": "stream",
     "text": [
      "x: 0.8671875\n"
     ]
    },
    {
     "data": {
      "text/plain": [
       "(21.523004571937303, 5.780798737475834e-07, -5.779560048324583e-07)"
      ]
     },
     "execution_count": 117,
     "metadata": {},
     "output_type": "execute_result"
    }
   ],
   "source": [
    "x = (0.859375 + 0.875)/2\n",
    "print(f'x: {x}')\n",
    "d = 0.000001\n",
    "p(x), p(x - d) - p(x), p(x+d) - p(x)"
   ]
  },
  {
   "cell_type": "code",
   "execution_count": 118,
   "metadata": {},
   "outputs": [
    {
     "name": "stdout",
     "output_type": "stream",
     "text": [
      "x: 0.87109375\n"
     ]
    },
    {
     "data": {
      "text/plain": [
       "(21.52170141971297, 8.677008622726134e-08, -8.664238748679054e-08)"
      ]
     },
     "execution_count": 118,
     "metadata": {},
     "output_type": "execute_result"
    }
   ],
   "source": [
    "x = (0.8671875 + 0.875)/2\n",
    "print(f'x: {x}')\n",
    "d = 0.000001\n",
    "p(x), p(x - d) - p(x), p(x+d) - p(x)"
   ]
  },
  {
   "cell_type": "code",
   "execution_count": 119,
   "metadata": {},
   "outputs": [
    {
     "name": "stdout",
     "output_type": "stream",
     "text": [
      "x: 0.873046875\n"
     ]
    },
    {
     "data": {
      "text/plain": [
       "(21.52177686407241, -1.6452962015023331e-07, 1.6465925867237274e-07)"
      ]
     },
     "execution_count": 119,
     "metadata": {},
     "output_type": "execute_result"
    }
   ],
   "source": [
    "x = (0.87109375 + 0.875)/2\n",
    "print(f'x: {x}')\n",
    "d = 0.000001\n",
    "p(x), p(x - d) - p(x), p(x+d) - p(x)"
   ]
  },
  {
   "cell_type": "code",
   "execution_count": 120,
   "metadata": {},
   "outputs": [
    {
     "name": "stdout",
     "output_type": "stream",
     "text": [
      "x: 0.8720703125\n"
     ]
    },
    {
     "data": {
      "text/plain": [
       "(21.52167778940845, -3.840488460582492e-08, 3.8533553237130036e-08)"
      ]
     },
     "execution_count": 120,
     "metadata": {},
     "output_type": "execute_result"
    }
   ],
   "source": [
    "x = (0.87109375 + 0.873046875)/2\n",
    "print(f'x: {x}')\n",
    "d = 0.000001\n",
    "p(x), p(x - d) - p(x), p(x+d) - p(x)"
   ]
  },
  {
   "cell_type": "code",
   "execution_count": 121,
   "metadata": {},
   "outputs": [
    {
     "name": "stdout",
     "output_type": "stream",
     "text": [
      "x: 0.87158203125\n"
     ]
    },
    {
     "data": {
      "text/plain": [
       "(21.521674324367474, 2.4300984335923204e-08, -2.4172798873678403e-08)"
      ]
     },
     "execution_count": 121,
     "metadata": {},
     "output_type": "execute_result"
    }
   ],
   "source": [
    "x = (0.87109375 + 0.8720703125)/2\n",
    "print(f'x: {x}')\n",
    "d = 0.000001\n",
    "p(x), p(x - d) - p(x), p(x+d) - p(x)"
   ]
  },
  {
   "cell_type": "code",
   "execution_count": 122,
   "metadata": {},
   "outputs": [
    {
     "name": "stdout",
     "output_type": "stream",
     "text": [
      "x: 0.871826171875\n"
     ]
    },
    {
     "data": {
      "text/plain": [
       "(21.52167222961156, -7.022315173799143e-09, 7.150735115146745e-09)"
      ]
     },
     "execution_count": 122,
     "metadata": {},
     "output_type": "execute_result"
    }
   ],
   "source": [
    "x = (0.87158203125 + 0.8720703125)/2\n",
    "print(f'x: {x}')\n",
    "d = 0.000001\n",
    "p(x), p(x - d) - p(x), p(x+d) - p(x)"
   ]
  },
  {
   "cell_type": "code",
   "execution_count": 123,
   "metadata": {},
   "outputs": [
    {
     "name": "stdout",
     "output_type": "stream",
     "text": [
      "x: 5\n"
     ]
    },
    {
     "data": {
      "text/plain": [
       "(2342995, -3749440.375715494, 3749445.6255808473)"
      ]
     },
     "execution_count": 123,
     "metadata": {},
     "output_type": "execute_result"
    }
   ],
   "source": [
    "x = 5\n",
    "print(f'x: {x}')\n",
    "d = 0.000001\n",
    "p(x), (p(x - d) - p(x))/d, (p(x+d) - p(x))/d"
   ]
  },
  {
   "cell_type": "code",
   "execution_count": null,
   "metadata": {},
   "outputs": [],
   "source": [
    "x = 5\n",
    "print(f'x: {x}')\n",
    "d = 0.000001\n",
    "p(x), (p(x - d) - p(x))/d, (p(x+d) - p(x))/d"
   ]
  },
  {
   "cell_type": "code",
   "execution_count": null,
   "metadata": {},
   "outputs": [],
   "source": []
  },
  {
   "cell_type": "code",
   "execution_count": 133,
   "metadata": {},
   "outputs": [
    {
     "name": "stdout",
     "output_type": "stream",
     "text": [
      "Slope: 1.4246381851990009e-05\n",
      "0.8717708969936666 21.521672034061524\n",
      "Slope: -4.050093593832571e-06\n",
      "0.8717709374946025 21.521672034061204\n",
      "Slope: 1.1368683772161603e-06\n",
      "0.8717709261259188 21.52167203406127\n",
      "Slope: -3.197442310920451e-07\n",
      "0.8717709293233611 21.52167203406125\n",
      "Slope: 1.0658141036401503e-07\n",
      "0.871770928257547 21.521672034061258\n",
      "Slope: -3.552713678800501e-08\n",
      "0.8717709286128184 21.521672034061254\n",
      "Slope: 3.552713678800501e-08\n",
      "0.871770928257547 21.521672034061258\n",
      "Slope: -3.552713678800501e-08\n",
      "0.8717709286128184 21.521672034061254\n",
      "Slope: 3.552713678800501e-08\n",
      "0.871770928257547 21.521672034061258\n",
      "Slope: -3.552713678800501e-08\n",
      "0.8717709286128184 21.521672034061254\n",
      "Slope: 3.552713678800501e-08\n",
      "0.871770928257547 21.521672034061258\n",
      "Slope: -3.552713678800501e-08\n",
      "0.8717709286128184 21.521672034061254\n",
      "Slope: 3.552713678800501e-08\n",
      "0.871770928257547 21.521672034061258\n",
      "Slope: -3.552713678800501e-08\n",
      "0.8717709286128184 21.521672034061254\n",
      "Slope: 3.552713678800501e-08\n",
      "0.871770928257547 21.521672034061258\n",
      "Slope: -3.552713678800501e-08\n",
      "0.8717709286128184 21.521672034061254\n",
      "Slope: 3.552713678800501e-08\n",
      "0.871770928257547 21.521672034061258\n",
      "Slope: -3.552713678800501e-08\n",
      "0.8717709286128184 21.521672034061254\n",
      "Slope: 3.552713678800501e-08\n",
      "0.871770928257547 21.521672034061258\n",
      "Slope: -3.552713678800501e-08\n",
      "0.8717709286128184 21.521672034061254\n",
      "Slope: 3.552713678800501e-08\n",
      "0.871770928257547 21.521672034061258\n",
      "Slope: -3.552713678800501e-08\n",
      "0.8717709286128184 21.521672034061254\n",
      "Slope: 3.552713678800501e-08\n",
      "0.871770928257547 21.521672034061258\n",
      "Slope: -3.552713678800501e-08\n",
      "0.8717709286128184 21.521672034061254\n",
      "Slope: 3.552713678800501e-08\n",
      "0.871770928257547 21.521672034061258\n",
      "Slope: -3.552713678800501e-08\n",
      "0.8717709286128184 21.521672034061254\n",
      "Slope: 3.552713678800501e-08\n",
      "0.871770928257547 21.521672034061258\n",
      "Slope: -3.552713678800501e-08\n",
      "0.8717709286128184 21.521672034061254\n",
      "Slope: 3.552713678800501e-08\n",
      "0.871770928257547 21.521672034061258\n",
      "Slope: -3.552713678800501e-08\n",
      "0.8717709286128184 21.521672034061254\n",
      "Slope: 3.552713678800501e-08\n",
      "0.871770928257547 21.521672034061258\n",
      "Slope: -3.552713678800501e-08\n",
      "0.8717709286128184 21.521672034061254\n",
      "Slope: 3.552713678800501e-08\n",
      "0.871770928257547 21.521672034061258\n",
      "Slope: -3.552713678800501e-08\n",
      "0.8717709286128184 21.521672034061254\n",
      "Slope: 3.552713678800501e-08\n",
      "0.871770928257547 21.521672034061258\n",
      "Slope: -3.552713678800501e-08\n",
      "0.8717709286128184 21.521672034061254\n",
      "Slope: 3.552713678800501e-08\n",
      "0.871770928257547 21.521672034061258\n",
      "Slope: -3.552713678800501e-08\n",
      "0.8717709286128184 21.521672034061254\n",
      "Slope: 3.552713678800501e-08\n",
      "0.871770928257547 21.521672034061258\n",
      "Slope: -3.552713678800501e-08\n",
      "0.8717709286128184 21.521672034061254\n",
      "Slope: 3.552713678800501e-08\n",
      "0.871770928257547 21.521672034061258\n",
      "Slope: -3.552713678800501e-08\n",
      "0.8717709286128184 21.521672034061254\n",
      "Slope: 3.552713678800501e-08\n",
      "0.871770928257547 21.521672034061258\n",
      "Slope: -3.552713678800501e-08\n",
      "0.8717709286128184 21.521672034061254\n",
      "Slope: 3.552713678800501e-08\n",
      "0.871770928257547 21.521672034061258\n",
      "Slope: -3.552713678800501e-08\n",
      "0.8717709286128184 21.521672034061254\n",
      "Slope: 3.552713678800501e-08\n",
      "0.871770928257547 21.521672034061258\n",
      "Slope: -3.552713678800501e-08\n",
      "0.8717709286128184 21.521672034061254\n",
      "Slope: 3.552713678800501e-08\n",
      "0.871770928257547 21.521672034061258\n",
      "Slope: -3.552713678800501e-08\n",
      "0.8717709286128184 21.521672034061254\n",
      "Slope: 3.552713678800501e-08\n",
      "0.871770928257547 21.521672034061258\n",
      "Slope: -3.552713678800501e-08\n",
      "0.8717709286128184 21.521672034061254\n",
      "Slope: 3.552713678800501e-08\n",
      "0.871770928257547 21.521672034061258\n",
      "Slope: -3.552713678800501e-08\n",
      "0.8717709286128184 21.521672034061254\n",
      "Slope: 3.552713678800501e-08\n",
      "0.871770928257547 21.521672034061258\n",
      "Slope: -3.552713678800501e-08\n",
      "0.8717709286128184 21.521672034061254\n",
      "Slope: 3.552713678800501e-08\n",
      "0.871770928257547 21.521672034061258\n",
      "Slope: -3.552713678800501e-08\n",
      "0.8717709286128184 21.521672034061254\n",
      "Slope: 3.552713678800501e-08\n",
      "0.871770928257547 21.521672034061258\n",
      "Slope: -3.552713678800501e-08\n",
      "0.8717709286128184 21.521672034061254\n",
      "Slope: 3.552713678800501e-08\n",
      "0.871770928257547 21.521672034061258\n",
      "Slope: -3.552713678800501e-08\n",
      "0.8717709286128184 21.521672034061254\n",
      "Slope: 3.552713678800501e-08\n",
      "0.871770928257547 21.521672034061258\n",
      "Slope: -3.552713678800501e-08\n",
      "0.8717709286128184 21.521672034061254\n",
      "Slope: 3.552713678800501e-08\n",
      "0.871770928257547 21.521672034061258\n",
      "Slope: -3.552713678800501e-08\n",
      "0.8717709286128184 21.521672034061254\n",
      "Slope: 3.552713678800501e-08\n",
      "0.871770928257547 21.521672034061258\n",
      "Slope: -3.552713678800501e-08\n",
      "0.8717709286128184 21.521672034061254\n",
      "Slope: 3.552713678800501e-08\n",
      "0.871770928257547 21.521672034061258\n",
      "Slope: -3.552713678800501e-08\n",
      "0.8717709286128184 21.521672034061254\n",
      "Slope: 3.552713678800501e-08\n",
      "0.871770928257547 21.521672034061258\n",
      "Slope: -3.552713678800501e-08\n",
      "0.8717709286128184 21.521672034061254\n",
      "Slope: 3.552713678800501e-08\n",
      "0.871770928257547 21.521672034061258\n",
      "Slope: -3.552713678800501e-08\n",
      "0.8717709286128184 21.521672034061254\n",
      "Slope: 3.552713678800501e-08\n",
      "0.871770928257547 21.521672034061258\n",
      "Slope: -3.552713678800501e-08\n",
      "0.8717709286128184 21.521672034061254\n",
      "Slope: 3.552713678800501e-08\n",
      "0.871770928257547 21.521672034061258\n",
      "Slope: -3.552713678800501e-08\n",
      "0.8717709286128184 21.521672034061254\n",
      "Slope: 3.552713678800501e-08\n",
      "0.871770928257547 21.521672034061258\n",
      "Slope: -3.552713678800501e-08\n",
      "0.8717709286128184 21.521672034061254\n",
      "Slope: 3.552713678800501e-08\n",
      "0.871770928257547 21.521672034061258\n",
      "Slope: -3.552713678800501e-08\n",
      "0.8717709286128184 21.521672034061254\n",
      "Slope: 3.552713678800501e-08\n",
      "0.871770928257547 21.521672034061258\n",
      "Slope: -3.552713678800501e-08\n",
      "0.8717709286128184 21.521672034061254\n",
      "Slope: 3.552713678800501e-08\n",
      "0.871770928257547 21.521672034061258\n",
      "Slope: -3.552713678800501e-08\n",
      "0.8717709286128184 21.521672034061254\n",
      "Slope: 3.552713678800501e-08\n",
      "0.871770928257547 21.521672034061258\n",
      "Slope: -3.552713678800501e-08\n",
      "0.8717709286128184 21.521672034061254\n",
      "Slope: 3.552713678800501e-08\n",
      "0.871770928257547 21.521672034061258\n",
      "Slope: -3.552713678800501e-08\n",
      "0.8717709286128184 21.521672034061254\n",
      "Slope: 3.552713678800501e-08\n",
      "0.871770928257547 21.521672034061258\n",
      "Slope: -3.552713678800501e-08\n",
      "0.8717709286128184 21.521672034061254\n",
      "Slope: 3.552713678800501e-08\n",
      "0.871770928257547 21.521672034061258\n",
      "Slope: -3.552713678800501e-08\n",
      "0.8717709286128184 21.521672034061254\n",
      "Slope: 3.552713678800501e-08\n",
      "0.871770928257547 21.521672034061258\n",
      "Slope: -3.552713678800501e-08\n",
      "0.8717709286128184 21.521672034061254\n",
      "Slope: 3.552713678800501e-08\n",
      "0.871770928257547 21.521672034061258\n",
      "Slope: -3.552713678800501e-08\n",
      "0.8717709286128184 21.521672034061254\n",
      "Slope: 3.552713678800501e-08\n",
      "0.871770928257547 21.521672034061258\n",
      "Slope: -3.552713678800501e-08\n",
      "0.8717709286128184 21.521672034061254\n"
     ]
    }
   ],
   "source": [
    "x = 50\n",
    "d = 0.0000001\n",
    "for i in range(100):\n",
    "    slope = (p(x+d)-p(x))/d\n",
    "    print(f\"Slope: {slope}\")\n",
    "    x = x - .01 * slope\n",
    "    print(x, p(x))"
   ]
  },
  {
   "cell_type": "code",
   "execution_count": 144,
   "metadata": {},
   "outputs": [],
   "source": [
    "x = 8.2"
   ]
  },
  {
   "cell_type": "code",
   "execution_count": 148,
   "metadata": {},
   "outputs": [
    {
     "name": "stdout",
     "output_type": "stream",
     "text": [
      "Slope: 280740.1951577049\n",
      "0.645605042302225 23.404094918969758\n",
      "Slope: -12.288486139766519\n",
      "0.6457279271636227 23.40258492049199\n",
      "Slope: -12.287338257976899\n",
      "0.6458508005462025 23.401075204299254\n",
      "Slope: -12.286187285326378\n",
      "0.6459736624190557 23.39956577112295\n",
      "Slope: -12.285033221814956\n",
      "0.6460965127512739 23.398056621694508\n",
      "Slope: -12.28387610296977\n",
      "0.6462193515123036 23.396547756741015\n",
      "Slope: -12.282715857736548\n",
      "0.646342178670881 23.395039176998345\n",
      "Slope: -12.281552628223835\n",
      "0.6464649941971632 23.39353088318493\n",
      "Slope: -12.280386236795948\n",
      "0.6465877980595311 23.392022876041057\n",
      "Slope: -12.27921675450716\n",
      "0.6467105902270762 23.39051515629832\n",
      "Slope: -12.278044181357473\n",
      "0.6468333706688898 23.389007724688344\n",
      "Slope: -12.27686855287402\n",
      "0.6469561393544185 23.38750058193842\n",
      "Slope: -12.275689833529668\n",
      "0.6470788962527538 23.385993728780214\n",
      "Slope: -12.274507952270142\n",
      "0.6472016413322765 23.384487165954166\n",
      "Slope: -12.273323015676851\n",
      "0.6473243745624333 23.38298089418764\n",
      "Slope: -12.272135023749797\n",
      "0.6474470959126708 23.381474914208027\n",
      "Slope: -12.270943834380432\n",
      "0.6475698053510146 23.379969226760196\n",
      "Slope: -12.269749589677303\n",
      "0.6476925028469114 23.378463832571576\n",
      "Slope: -12.268552254113274\n",
      "0.6478151883694525 23.376958732373996\n",
      "Slope: -12.267351792161207\n",
      "0.6479378618873741 23.375453926903653\n",
      "Slope: -12.266148203821103\n",
      "0.6480605233694123 23.37394941689677\n",
      "Slope: -12.264941560147236\n",
      "0.6481831727850138 23.372445203080865\n",
      "Slope: -12.263731719031057\n",
      "0.6483058101022041 23.37094128620091\n",
      "Slope: -12.262518822581114\n",
      "0.6484284352904299 23.369437666984453\n",
      "Slope: -12.261302799743135\n",
      "0.6485510483184274 23.367934346167786\n",
      "Slope: -12.260083650517117\n",
      "0.6486736491549325 23.366431324487202\n",
      "Slope: -12.258861374903063\n",
      "0.6487962377686816 23.364928602679015\n",
      "Slope: -12.257636008428108\n",
      "0.6489188141287658 23.363426181475184\n",
      "Slope: -12.256407480037979\n",
      "0.6490413782035662 23.361924061616392\n",
      "Slope: -12.255175789732675\n",
      "0.6491639299614635 23.360422243843345\n",
      "Slope: -12.253941044093608\n",
      "0.6492864693719045 23.35892072888367\n",
      "Slope: -12.252703136539367\n",
      "0.6494089964032699 23.357419517478085\n",
      "Slope: -12.251462067069951\n",
      "0.6495315110239406 23.355918610367297\n",
      "Slope: -12.250217906739636\n",
      "0.649654013203008 23.354418008283325\n",
      "Slope: -12.248970620021282\n",
      "0.6497765029092082 23.35291771196253\n",
      "Slope: -12.247720135860618\n",
      "0.6498989801105668 23.35141772214999\n",
      "Slope: -12.246466525311916\n",
      "0.6500214447758199 23.34991803958208\n",
      "Slope: -12.245209788375178\n",
      "0.6501438968737037 23.348418664995165\n",
      "Slope: -12.243949889523265\n",
      "0.6502663363725989 23.346919599129976\n",
      "Slope: -12.242686864283314\n",
      "0.6503887632412417 23.34542084272288\n",
      "Slope: -12.24142067712819\n",
      "0.650511177448013 23.343922396514593\n",
      "Slope: -12.240151363585028\n",
      "0.6506335789616489 23.34242426124148\n",
      "Slope: -12.238878888126692\n",
      "0.6507559677505301 23.340926437644246\n",
      "Slope: -12.237603250753182\n",
      "0.6508783437830377 23.33942892646359\n",
      "Slope: -12.23632441593736\n",
      "0.651000707027197 23.337931728444552\n",
      "Slope: -12.235042454733502\n",
      "0.6511230574517444 23.33643484432347\n",
      "Slope: -12.23375733161447\n",
      "0.6512453950250605 23.334938274841015\n",
      "Slope: -12.2324690821074\n",
      "0.6513677197158816 23.3334420207335\n",
      "Slope: -12.23117763515802\n",
      "0.6514900314922332 23.33194608274592\n",
      "Slope: -12.229882990766328\n",
      "0.6516123303221408 23.330450461623258\n",
      "Slope: -12.228585255513735\n",
      "0.651734616174696 23.328955158097443\n",
      "Slope: -12.227284287291695\n",
      "0.6518568890175689 23.32746017291777\n",
      "Slope: -12.225980192681618\n",
      "0.6519791488194957 23.325965506820488\n",
      "Slope: -12.22467290062923\n",
      "0.652101395548502 23.3244711605505\n",
      "Slope: -12.223362375607394\n",
      "0.6522236291722581 23.322977134857055\n",
      "Slope: -12.22204872419752\n",
      "0.6523458496595 23.321483430476334\n",
      "Slope: -12.220731910872473\n",
      "0.6524680569786088 23.319990048148846\n",
      "Slope: -12.219411900105115\n",
      "0.6525902510976098 23.318496988619422\n",
      "Slope: -12.218088727422582\n",
      "0.652712431984884 23.31700425262852\n",
      "Slope: -12.216762321770602\n",
      "0.6528345996081018 23.315511840925268\n",
      "Slope: -12.215432754203448\n",
      "0.6529567539356438 23.314019754250072\n",
      "Slope: -12.21410002472112\n",
      "0.653078894935891 23.312527993343316\n",
      "Slope: -12.212764062269343\n",
      "0.6532010225765137 23.31103655895404\n",
      "Slope: -12.211424937902393\n",
      "0.6533231368258927 23.309545451822565\n",
      "Slope: -12.210082580565995\n",
      "0.6534452376516984 23.30805467269787\n",
      "Slope: -12.208737061314423\n",
      "0.6535673250223115 23.30656422232022\n",
      "Slope: -12.207388380147677\n",
      "0.653689398906113 23.305074101429838\n",
      "Slope: -12.206036430484346\n",
      "0.6538114592704178 23.303584310779947\n",
      "Slope: -12.204681318905841\n",
      "0.6539335060836069 23.302094851110695\n",
      "Slope: -12.203322938830752\n",
      "0.6540555393129952 23.300605723175227\n",
      "Slope: -12.201961432367625\n",
      "0.6541775589273189 23.29911692770929\n",
      "Slope: -12.20059669293505\n",
      "0.6542995648942482 23.297628465461603\n",
      "Slope: -12.199228720533029\n",
      "0.6544215571814536 23.296140337180848\n",
      "Slope: -12.197857550688695\n",
      "0.6545435357569604 23.294652543611324\n",
      "Slope: -12.196483147874915\n",
      "0.6546655005884392 23.293165085501627\n",
      "Slope: -12.19510558314596\n",
      "0.6547874516442707 23.29167796359164\n",
      "Slope: -12.193724785447557\n",
      "0.6549093888921251 23.29019117862986\n",
      "Slope: -12.192340754779707\n",
      "0.6550313122996729 23.288704731364753\n",
      "Slope: -12.190953526669546\n",
      "0.6551532218349396 23.28721862254039\n",
      "Slope: -12.1895630300628\n",
      "0.6552751174652403 23.28573285290946\n",
      "Slope: -12.188169336013743\n",
      "0.6553969991586004 23.28424742321595\n",
      "Slope: -12.186772444522376\n",
      "0.6555188668830456 23.28276233420378\n",
      "Slope: -12.185372284534424\n",
      "0.655640720605891 23.281277586625485\n",
      "Slope: -12.18396892710416\n",
      "0.655762560295162 23.279793181224886\n",
      "Slope: -12.182562301177313\n",
      "0.6558843859181738 23.278309118754407\n",
      "Slope: -12.181152442281018\n",
      "0.6560061974425966 23.276825399962092\n",
      "Slope: -12.179739385942412\n",
      "0.656127994836456 23.27534202559159\n",
      "Slope: -12.178323132161495\n",
      "0.6562497780677776 23.273858996386497\n",
      "Slope: -12.176903574356857\n",
      "0.6563715471035212 23.27237631310333\n",
      "Slope: -12.175480748055634\n",
      "0.6564933019110017 23.27089397649422\n",
      "Slope: -12.174054759839237\n",
      "0.6566150424586001 23.269411987298252\n",
      "Slope: -12.172625467599119\n",
      "0.6567367687132761 23.267930346271754\n",
      "Slope: -12.17119297791669\n",
      "0.6568584806430553 23.26644905415801\n",
      "Slope: -12.169757184210539\n",
      "0.6569801782148974 23.26496811171321\n",
      "Slope: -12.16831815753494\n",
      "0.6571018613964728 23.263487519684837\n",
      "Slope: -12.166875933417032\n",
      "0.6572235301558069 23.26200727881598\n",
      "Slope: -12.165430405275401\n",
      "0.6573451844598597 23.260527389862613\n",
      "Slope: -12.163981644164323\n",
      "0.6574668242763013 23.259047853572014\n",
      "Slope: -12.162529650083798\n",
      "0.6575884495728022 23.257568670691374\n",
      "Slope: -12.161074316452414\n",
      "0.6577100603159667 23.256089841980785\n"
     ]
    }
   ],
   "source": [
    "d = 0.0000001\n",
    "for i in range(100):\n",
    "    slope = (p(x+d)-p(x))/d\n",
    "    print(f\"Slope: {slope}\")\n",
    "    x = x - .00001 * slope\n",
    "    print(x, p(x))"
   ]
  },
  {
   "cell_type": "code",
   "execution_count": null,
   "metadata": {},
   "outputs": [],
   "source": [
    "# Q: find the value of x for which p(x) is minimum\n",
    "def p(x):\n",
    "    return x**4 - 2*x**3 - x**2 - 16*x + 2"
   ]
  },
  {
   "cell_type": "code",
   "execution_count": 149,
   "metadata": {},
   "outputs": [],
   "source": [
    "# Q: write the algorithm for the same assuming p(x) to be inverted bell"
   ]
  },
  {
   "cell_type": "code",
   "execution_count": null,
   "metadata": {},
   "outputs": [],
   "source": []
  }
 ],
 "metadata": {
  "kernelspec": {
   "display_name": "Python 3",
   "language": "python",
   "name": "python3"
  },
  "language_info": {
   "codemirror_mode": {
    "name": "ipython",
    "version": 3
   },
   "file_extension": ".py",
   "mimetype": "text/x-python",
   "name": "python",
   "nbconvert_exporter": "python",
   "pygments_lexer": "ipython3",
   "version": "3.6.8"
  },
  "toc": {
   "base_numbering": 1,
   "nav_menu": {},
   "number_sections": true,
   "sideBar": true,
   "skip_h1_title": false,
   "title_cell": "Table of Contents",
   "title_sidebar": "Contents",
   "toc_cell": false,
   "toc_position": {},
   "toc_section_display": true,
   "toc_window_display": false
  }
 },
 "nbformat": 4,
 "nbformat_minor": 2
}
