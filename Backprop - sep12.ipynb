{
 "cells": [
  {
   "cell_type": "markdown",
   "metadata": {},
   "source": [
    "**Prompt:**\n",
    "Write code in python to generate the data for X an y where y = 3x - 4 + random noise You can use numpy."
   ]
  },
  {
   "cell_type": "markdown",
   "metadata": {},
   "source": [
    "https://chatgpt.com/share/68c4e8ba-9240-8010-84f1-3567f4031f2f"
   ]
  },
  {
   "cell_type": "code",
   "execution_count": 1,
   "metadata": {},
   "outputs": [
    {
     "data": {
      "text/plain": [
       "<Figure size 640x480 with 1 Axes>"
      ]
     },
     "metadata": {},
     "output_type": "display_data"
    }
   ],
   "source": [
    "import numpy as np\n",
    "import matplotlib.pyplot as plt\n",
    "\n",
    "# Set random seed for reproducibility\n",
    "np.random.seed(42)\n",
    "\n",
    "# Generate 100 data points for X\n",
    "X = np.linspace(0, 10, 100)\n",
    "\n",
    "# Generate random noise (normal distribution with mean 0 and std deviation 1)\n",
    "noise = np.random.normal(0, 1, X.shape)\n",
    "\n",
    "# Generate y values\n",
    "y = 3 * X - 4 + noise\n",
    "\n",
    "# Plot to visualize\n",
    "plt.scatter(X, y, label=\"Data with noise\")\n",
    "plt.plot(X, 3*X - 4, color=\"red\", label=\"True line (no noise)\")\n",
    "plt.legend()\n",
    "plt.show()"
   ]
  },
  {
   "cell_type": "markdown",
   "metadata": {},
   "source": [
    "Create a function predict that takes X and weights w and gives y by y = w.X. add column of 1s for bias before doing w.X"
   ]
  },
  {
   "cell_type": "code",
   "execution_count": 5,
   "metadata": {},
   "outputs": [],
   "source": [
    "import numpy as np\n",
    "A = np.array([[1, 1],[1, 2],[1, 3]])\n",
    "w = np.array([5, 6])"
   ]
  },
  {
   "cell_type": "code",
   "execution_count": 6,
   "metadata": {},
   "outputs": [
    {
     "data": {
      "text/plain": [
       "array([11, 17, 23])"
      ]
     },
     "execution_count": 6,
     "metadata": {},
     "output_type": "execute_result"
    }
   ],
   "source": [
    "A @ w"
   ]
  },
  {
   "cell_type": "code",
   "execution_count": 11,
   "metadata": {},
   "outputs": [
    {
     "name": "stdout",
     "output_type": "stream",
     "text": [
      "11\n",
      "17\n",
      "23\n"
     ]
    }
   ],
   "source": [
    "for _, x in A.astype(int):\n",
    "    print(x * w[1] + w[0])"
   ]
  },
  {
   "cell_type": "code",
   "execution_count": 4,
   "metadata": {},
   "outputs": [
    {
     "data": {
      "text/plain": [
       "array([[1],\n",
       "       [2],\n",
       "       [3]])"
      ]
     },
     "execution_count": 4,
     "metadata": {},
     "output_type": "execute_result"
    }
   ],
   "source": [
    "A.reshape(-1, 1)"
   ]
  },
  {
   "cell_type": "code",
   "execution_count": null,
   "metadata": {},
   "outputs": [],
   "source": [
    "[]"
   ]
  },
  {
   "cell_type": "code",
   "execution_count": 15,
   "metadata": {},
   "outputs": [
    {
     "name": "stdout",
     "output_type": "stream",
     "text": [
      "X:\n",
      " [ 0.   2.5  5.   7.5 10. ]\n",
      "Predicted y:\n",
      " [-4.   3.5 11.  18.5 26. ]\n"
     ]
    }
   ],
   "source": [
    "\n",
    "\n",
    "def predict(X, w):\n",
    "    \"\"\"\n",
    "    Predicts y = w.X after adding a bias column of 1s to X.\n",
    "\n",
    "    Parameters:\n",
    "        X : numpy array of shape (n_samples, n_features)\n",
    "            Input features\n",
    "        w : numpy array of shape (n_features + 1,)\n",
    "            Weights (including bias as last element)\n",
    "\n",
    "    Returns:\n",
    "        y : numpy array of shape (n_samples,)\n",
    "            Predicted values\n",
    "    \"\"\"\n",
    "    # Ensure X is 2D\n",
    "    if X.ndim == 1:\n",
    "        X = X.reshape(-1, 1)\n",
    "\n",
    "    # Add column of 1s for bias\n",
    "    X_bias = np.hstack([X, np.ones((X.shape[0], 1))])\n",
    "\n",
    "    # Compute y = X_bias @ w\n",
    "    y = X_bias @ w\n",
    "    return y\n",
    "\n",
    "\n",
    "# Example usage:\n",
    "np.random.seed(42)\n",
    "X = np.linspace(0, 10, 5)  # 5 points\n",
    "w = np.array([3, -4])      # slope=3, bias=-4\n",
    "\n",
    "y_pred = predict(X, w)\n",
    "print(\"X:\\n\", X)\n",
    "print(\"Predicted y:\\n\", y_pred)\n"
   ]
  },
  {
   "cell_type": "markdown",
   "metadata": {},
   "source": [
    "Now, define an error function which takes the following arguments: training Data X, training labels y, weights W, loss function loss. It should first use our predict function to calculate ppred and then calculate the overall loss by using the loss on ypred, y"
   ]
  },
  {
   "cell_type": "code",
   "execution_count": 18,
   "metadata": {},
   "outputs": [],
   "source": [
    "import numpy as np\n",
    "\n",
    "def error(X, y, w, loss):\n",
    "    \"\"\"\n",
    "    Compute error using a given loss function.\n",
    "\n",
    "    Parameters:\n",
    "        X : numpy array of shape (n_samples, n_features)\n",
    "            Training data\n",
    "        y : numpy array of shape (n_samples,)\n",
    "            Training labels\n",
    "        w : numpy array of shape (n_features + 1,)\n",
    "            Weights (including bias)\n",
    "        loss : function\n",
    "            A function that takes (y_true, y_pred) and returns scalar loss\n",
    "\n",
    "    Returns:\n",
    "        total_loss : float\n",
    "            Overall loss value\n",
    "    \"\"\"\n",
    "    # Predict using our linear model\n",
    "    ypred = predict(X, w)\n",
    "\n",
    "    # Compute and return loss\n",
    "    return loss(y, ypred)\n",
    "\n",
    "\n",
    "# Example loss functions\n",
    "def mse(y_true, y_pred):\n",
    "    return np.mean((y_true - y_pred) ** 2)\n",
    "\n",
    "def mae(y_true, y_pred):\n",
    "    return np.mean(np.abs(y_true - y_pred))\n"
   ]
  },
  {
   "cell_type": "code",
   "execution_count": 22,
   "metadata": {},
   "outputs": [
    {
     "name": "stdout",
     "output_type": "stream",
     "text": [
      "MSE: 40.31319347685648\n",
      "MAE: 5.220969976742952\n"
     ]
    }
   ],
   "source": [
    "# Example usage\n",
    "np.random.seed(42)\n",
    "X = np.linspace(0, 10, 20)\n",
    "w = np.array([4, -4])   # slope=3, bias=-4\n",
    "y = 3 * X - 4 + np.random.normal(0, 1, X.shape)  # training labels with noise\n",
    "\n",
    "print(\"MSE:\", error(X, y, w, mse))\n",
    "print(\"MAE:\", error(X, y, w, mae))\n"
   ]
  },
  {
   "cell_type": "code",
   "execution_count": 8,
   "metadata": {},
   "outputs": [
    {
     "data": {
      "text/plain": [
       "11.315869092156497"
      ]
     },
     "execution_count": 8,
     "metadata": {},
     "output_type": "execute_result"
    }
   ],
   "source": [
    "error(X, y, [2, 3], mse)"
   ]
  },
  {
   "cell_type": "markdown",
   "metadata": {},
   "source": [
    "Write a function 'gradient' to compute the gradient of a loss function 'loss' wrt to each weight at given X, y, weights."
   ]
  },
  {
   "cell_type": "code",
   "execution_count": 31,
   "metadata": {},
   "outputs": [
    {
     "name": "stdout",
     "output_type": "stream",
     "text": [
      "Gradient at w = [0. 0.] is [-160.06537157  -21.6574019 ]\n"
     ]
    }
   ],
   "source": [
    "import numpy as np\n",
    "\n",
    "def gradient(X, y, w, loss, error=error,eps=1e-6):\n",
    "    \"\"\"\n",
    "    Compute numerical gradient of loss wrt weights.\n",
    "\n",
    "    Parameters:\n",
    "        X : numpy array of shape (n_samples, n_features)\n",
    "            Training data\n",
    "        y : numpy array of shape (n_samples,)\n",
    "            Training labels\n",
    "        w : numpy array of shape (n_features + 1,)\n",
    "            Weights (including bias)\n",
    "        loss : function\n",
    "            A function that takes (y_true, y_pred) and returns scalar loss\n",
    "        eps : float\n",
    "            Small epsilon for numerical approximation\n",
    "\n",
    "    Returns:\n",
    "        grad : numpy array of shape (n_features + 1,)\n",
    "            Gradient of loss wrt each weight\n",
    "    \"\"\"\n",
    "    grad = np.zeros_like(w, dtype=float)\n",
    "\n",
    "    # Current loss\n",
    "    base_loss = error(X, y, w, loss)\n",
    "\n",
    "    # Finite difference approximation\n",
    "    for i in range(len(w)):\n",
    "        w_perturbed = w.copy()\n",
    "        w_perturbed[i] += eps\n",
    "        loss_perturbed = error(X, y, w_perturbed, loss)\n",
    "        grad[i] = (loss_perturbed - base_loss) / eps\n",
    "\n",
    "    return grad\n",
    "\n",
    "\n",
    "# Example usage\n",
    "np.random.seed(42)\n",
    "X = np.linspace(0, 10, 20)\n",
    "y = 3 * X - 4 + np.random.normal(0, 1, X.shape)\n",
    "w = np.array([0.0, 0.0])   # initial guess\n",
    "\n",
    "g = gradient(X, y, w, mse)\n",
    "print(\"Gradient at w =\", w, \"is\", g)"
   ]
  },
  {
   "cell_type": "markdown",
   "metadata": {},
   "source": [
    "Define a function learners that takes X, y, error(), predict(), loss(). It assumes somes values of W. Computes the gradiants using above function and then uses gradient descent to optimize the values of weights.  and it returns the weights."
   ]
  },
  {
   "cell_type": "code",
   "execution_count": 32,
   "metadata": {},
   "outputs": [
    {
     "data": {
      "text/plain": [
       "array([0.99 , 2.015])"
      ]
     },
     "execution_count": 32,
     "metadata": {},
     "output_type": "execute_result"
    }
   ],
   "source": [
    "ww = np.array([1., 2.])\n",
    "gg = np.array([10., -15.])\n",
    "eta = .001\n",
    "ww -= eta * gg\n",
    "ww"
   ]
  },
  {
   "cell_type": "code",
   "execution_count": 35,
   "metadata": {},
   "outputs": [
    {
     "name": "stdout",
     "output_type": "stream",
     "text": [
      "iter    0 | loss=20.841098 | ||grad||=1.615e+02\n",
      "[1.60065372 0.21657402]\n",
      "iter  200 | loss=0.954206 | ||grad||=6.595e-01\n",
      "[ 2.62947046 -1.99413598]\n",
      "iter  400 | loss=0.595257 | ||grad||=2.292e-01\n",
      "[ 2.74780622 -2.79756406]\n",
      "iter  600 | loss=0.551913 | ||grad||=7.964e-02\n",
      "[ 2.7889268  -3.07674789]\n",
      "iter  800 | loss=0.546679 | ||grad||=2.767e-02\n",
      "[ 2.80321582 -3.17376169]\n",
      "iter 1000 | loss=0.546047 | ||grad||=9.616e-03\n",
      "[ 2.80818113 -3.20747309]\n",
      "iter 1200 | loss=0.545970 | ||grad||=3.341e-03\n",
      "[ 2.80990652 -3.21918749]\n",
      "iter 1400 | loss=0.545961 | ||grad||=1.161e-03\n",
      "[ 2.81050608 -3.22325813]\n",
      "iter 1600 | loss=0.545960 | ||grad||=4.035e-04\n",
      "[ 2.81071442 -3.22467265]\n",
      "iter 1800 | loss=0.545960 | ||grad||=1.402e-04\n",
      "[ 2.81078682 -3.22516418]\n",
      "Learned weights [slope, bias]: [ 2.81081191 -3.2253345 ]\n"
     ]
    }
   ],
   "source": [
    "import numpy as np\n",
    "# assuming predict(), error(), loss (e.g., mse), and gradient() are already defined\n",
    "\n",
    "def learners(X, y, error_fn, predict_fn, loss_fn, lr=0.01, epochs=1000, tol=1e-8, w_init=None, verbose=False):\n",
    "    \"\"\"\n",
    "    Optimize weights with gradient descent and return the learned weights.\n",
    "\n",
    "    Parameters:\n",
    "        X : (n_samples, n_features) or (n_samples,)\n",
    "        y : (n_samples,)\n",
    "        error_fn : function(X, y, w, loss_fn) -> float\n",
    "            Overall loss calculator (uses predict_fn internally if your version supports it).\n",
    "        predict_fn : function(X, w) -> y_pred\n",
    "            Not used directly here (error_fn uses it), included for API symmetry as requested.\n",
    "        loss_fn : function(y_true, y_pred) -> float\n",
    "        lr : float\n",
    "            Learning rate.\n",
    "        epochs : int\n",
    "            Max iterations.\n",
    "        tol : float\n",
    "            Stop if ||grad||_2 < tol.\n",
    "        w_init : np.ndarray or None\n",
    "            Initial weights (length = n_features + 1). If None, initialized to zeros.\n",
    "        verbose : bool\n",
    "            If True, prints progress.\n",
    "\n",
    "    Returns:\n",
    "        w : np.ndarray of shape (n_features + 1,)\n",
    "            Learned weights (including bias as last term).\n",
    "    \"\"\"\n",
    "    # Ensure shapes\n",
    "    X = np.asarray(X)\n",
    "    y = np.asarray(y)\n",
    "\n",
    "    if X.ndim == 1:\n",
    "        X = X.reshape(-1, 1)\n",
    "\n",
    "    n_features = X.shape[1]\n",
    "    w = np.zeros(n_features + 1) if w_init is None else np.asarray(w_init, dtype=float)\n",
    "\n",
    "    for t in range(epochs):\n",
    "        g = gradient(X, y, w, loss_fn)  # numerical gradient wrt each weight\n",
    "        w = w - lr * g\n",
    "\n",
    "        # Convergence check\n",
    "        g_norm = np.linalg.norm(g, ord=2)\n",
    "        if verbose and (t % max(1, epochs // 10) == 0 or g_norm < tol):\n",
    "            curr_loss = error_fn(X, y, w, loss_fn)\n",
    "            print(f\"iter {t:4d} | loss={curr_loss:.6f} | ||grad||={g_norm:.3e}\")\n",
    "            print(w)\n",
    "\n",
    "        if g_norm < tol:\n",
    "            break\n",
    "\n",
    "    return w\n",
    "\n",
    "\n",
    "# ---- Example usage ----\n",
    "# Define a simple MSE if you don't already have one\n",
    "def mse(y_true, y_pred):\n",
    "    return np.mean((y_true - y_pred) ** 2)\n",
    "\n",
    "# Synthetic data\n",
    "# np.random.seed(42)\n",
    "# X_demo = np.linspace(0, 10, 50)\n",
    "# noise = np.random.normal(0, 1, X_demo.shape)\n",
    "# y_demo = 3 * X_demo - 4 + noise\n",
    "\n",
    "X_demo, y_demo = X, y\n",
    "# Learn weights starting from zeros\n",
    "w_learned = learners(\n",
    "    X_demo, y_demo,\n",
    "    error_fn=error,          # uses your previously defined error()\n",
    "    predict_fn=predict,      # included for API symmetry\n",
    "    loss_fn=mse,\n",
    "    lr=0.01,\n",
    "    epochs=2000,\n",
    "    tol=1e-8,\n",
    "    w_init=None,\n",
    "    verbose=True\n",
    ")\n",
    "\n",
    "print(\"Learned weights [slope, bias]:\", w_learned)\n"
   ]
  },
  {
   "cell_type": "markdown",
   "metadata": {},
   "source": [
    "Plot X, y along with a line represented by w."
   ]
  },
  {
   "cell_type": "code",
   "execution_count": 36,
   "metadata": {},
   "outputs": [],
   "source": [
    "import numpy as np\n",
    "import matplotlib.pyplot as plt\n",
    "\n",
    "def plot_xy_with_line(X, y, w, title=\"Data & Fitted Line\"):\n",
    "    \"\"\"\n",
    "    Plots X vs y as scatter and overlays the line represented by weights w.\n",
    "    Assumes a single feature: y = w[0]*x + w[1].\n",
    "\n",
    "    Parameters:\n",
    "        X : array-like, shape (n_samples,) or (n_samples, 1)\n",
    "        y : array-like, shape (n_samples,)\n",
    "        w : array-like, shape (2,) -> [slope, bias]\n",
    "    \"\"\"\n",
    "    X = np.asarray(X)\n",
    "    y = np.asarray(y).ravel()\n",
    "\n",
    "    # Ensure single feature\n",
    "    if X.ndim == 2:\n",
    "        if X.shape[1] != 1:\n",
    "            raise ValueError(\"plot_xy_with_line supports only 1 feature (X shape must be (n, ) or (n, 1)).\")\n",
    "        x1d = X.ravel()\n",
    "    else:\n",
    "        x1d = X\n",
    "\n",
    "    # Build a smooth line over the X range\n",
    "    x_line = np.linspace(x1d.min(), x1d.max(), 200)\n",
    "    y_line = w[0] * x_line + w[1]\n",
    "\n",
    "    plt.figure()\n",
    "    plt.scatter(x1d, y, label=\"Data\")\n",
    "    plt.plot(x_line, y_line, label=f\"Line: y = {w[0]:.3f}x + {w[1]:.3f}\")\n",
    "    plt.xlabel(\"X\")\n",
    "    plt.ylabel(\"y\")\n",
    "    plt.title(title)\n",
    "    plt.legend()\n",
    "    plt.tight_layout()\n",
    "    plt.show()\n",
    "\n"
   ]
  },
  {
   "cell_type": "code",
   "execution_count": 37,
   "metadata": {},
   "outputs": [
    {
     "data": {
      "image/png": "[encoded data removed]",
      "text/plain": [
       "<Figure size 432x288 with 1 Axes>"
      ]
     },
     "metadata": {
      "needs_background": "light"
     },
     "output_type": "display_data"
    }
   ],
   "source": [
    "plot_xy_with_line(X_demo, y_demo, w_learned)\n",
    "\n",
    "# Or with known weights:\n",
    "# w_true = np.array([3.0, -4.0])\n",
    "# plot_xy_with_line(X_demo, y_demo, w_true)\n"
   ]
  },
  {
   "cell_type": "markdown",
   "metadata": {},
   "source": [
    "Now, generate a dataset for classification, say X is age of people and y represents is_adult. The people above 18 are considered adult "
   ]
  },
  {
   "cell_type": "code",
   "execution_count": 39,
   "metadata": {},
   "outputs": [
    {
     "name": "stdout",
     "output_type": "stream",
     "text": [
      "Ages (X): [ 7 62 53 35 35 69  6 56 16  7 42 79 59 61 58 63 41 10 68 36]\n",
      "is_adult (y): [0 1 1 1 1 1 0 1 0 0 1 1 1 1 1 1 1 0 1 1]\n",
      "Adults count: 15 / 20\n"
     ]
    }
   ],
   "source": [
    "import numpy as np\n",
    "\n",
    "def make_is_adult(n=200, min_age=0, max_age=80, seed=42, integer=True, flip_rate=0.0):\n",
    "    \"\"\"\n",
    "    Generate a classification dataset: X = age, y = is_adult (1 if age > 18 else 0).\n",
    "\n",
    "    Parameters:\n",
    "        n         : number of samples\n",
    "        min_age   : minimum possible age (inclusive)\n",
    "        max_age   : maximum possible age (inclusive if integer=True)\n",
    "        seed      : RNG seed for reproducibility\n",
    "        integer   : if True, ages are integers; else float ages\n",
    "        flip_rate : fraction of labels to randomly flip (simulate noise)\n",
    "\n",
    "    Returns:\n",
    "        X : np.ndarray shape (n,) of ages\n",
    "        y : np.ndarray shape (n,) of 0/1 labels\n",
    "    \"\"\"\n",
    "    rng = np.random.default_rng(seed)\n",
    "    if integer:\n",
    "        X = rng.integers(min_age, max_age + 1, size=n)\n",
    "    else:\n",
    "        X = rng.uniform(min_age, max_age, size=n)\n",
    "\n",
    "    y = (X > 18).astype(int)  # strictly \"above 18\" => adult\n",
    "\n",
    "    if flip_rate > 0:\n",
    "        flip_mask = rng.random(n) < flip_rate\n",
    "        y[flip_mask] = 1 - y[flip_mask]\n",
    "\n",
    "    return X, y\n",
    "\n",
    "\n",
    "# Example usage\n",
    "if __name__ == \"__main__\":\n",
    "    X, y = make_is_adult(n=20, flip_rate=0.0)\n",
    "    print(\"Ages (X):\", X)\n",
    "    print(\"is_adult (y):\", y)\n",
    "    print(\"Adults count:\", y.sum(), \"/\", len(y))\n"
   ]
  },
  {
   "cell_type": "markdown",
   "metadata": {},
   "source": [
    "Write code to generate the data using this function and plot it. Y axis is for is_adult or not. X_axis the age"
   ]
  },
  {
   "cell_type": "code",
   "execution_count": 40,
   "metadata": {},
   "outputs": [
    {
     "data": {
      "image/png": "[encoded data removed]",
      "text/plain": [
       "<Figure size 576x288 with 1 Axes>"
      ]
     },
     "metadata": {
      "needs_background": "light"
     },
     "output_type": "display_data"
    }
   ],
   "source": [
    "import numpy as np\n",
    "import matplotlib.pyplot as plt\n",
    "\n",
    "# --- assumes make_is_adult() from earlier is already defined ---\n",
    "# from your previous cell:\n",
    "# def make_is_adult(n=200, min_age=0, max_age=80, seed=42, integer=True, flip_rate=0.0): ...\n",
    "\n",
    "# Generate data\n",
    "X, y = make_is_adult(n=300, min_age=0, max_age=80, seed=42, integer=True, flip_rate=0.0)\n",
    "\n",
    "# OPTIONAL: jitter y slightly so overlapping points are easier to see\n",
    "y_plot = y + np.random.uniform(-0.04, 0.04, size=y.shape)\n",
    "\n",
    "# Plot\n",
    "plt.figure(figsize=(8, 4))\n",
    "plt.scatter(X, y_plot, alpha=0.7, edgecolor=\"none\")\n",
    "plt.axvline(18, linestyle=\"--\", label=\"threshold: age > 18\")\n",
    "\n",
    "plt.yticks([0, 1], [\"not adult (0)\", \"adult (1)\"])\n",
    "plt.xlabel(\"Age\")\n",
    "plt.ylabel(\"is_adult\")\n",
    "plt.title(\"Is Adult vs Age\")\n",
    "plt.legend()\n",
    "plt.grid(axis=\"x\", linestyle=\":\", alpha=0.5)\n",
    "plt.tight_layout()\n",
    "plt.show()\n"
   ]
  },
  {
   "cell_type": "markdown",
   "metadata": {},
   "source": [
    "Use the learners() function to learn from this using the mse and plot the result."
   ]
  },
  {
   "cell_type": "code",
   "execution_count": 41,
   "metadata": {},
   "outputs": [
    {
     "name": "stdout",
     "output_type": "stream",
     "text": [
      "Learned weights [slope, bias]: [0.01729062 0.04898052]\n"
     ]
    },
    {
     "data": {
      "image/png": "[encoded data removed]",
      "text/plain": [
       "<Figure size 432x288 with 1 Axes>"
      ]
     },
     "metadata": {
      "needs_background": "light"
     },
     "output_type": "display_data"
    }
   ],
   "source": [
    "X, y = make_is_adult(n=300, min_age=0, max_age=80, seed=42, integer=True, flip_rate=0.0)\n",
    "\n",
    "# Learn linear model with MSE\n",
    "w_learned = learners(\n",
    "    X, y,\n",
    "    error_fn=error,\n",
    "    predict_fn=predict,\n",
    "    loss_fn=mse,\n",
    "    lr=1e-4,        # small LR for stability with numerical gradients\n",
    "    epochs=5000,\n",
    "    tol=1e-8,\n",
    "    w_init=None,\n",
    "    verbose=False\n",
    ")\n",
    "print(\"Learned weights [slope, bias]:\", w_learned)\n",
    "\n",
    "# Plot result\n",
    "plot_xy_with_line(X, y, w_learned)"
   ]
  },
  {
   "cell_type": "markdown",
   "metadata": {},
   "source": [
    "Create logloss function for binary classification loss. Now, using the 'learners' function defined above and using logloss function learn the weights from X, y (from is_adult dataset)"
   ]
  },
  {
   "cell_type": "code",
   "execution_count": 42,
   "metadata": {},
   "outputs": [
    {
     "name": "stdout",
     "output_type": "stream",
     "text": [
      "Learned weights (logistic): [slope, bias] = [ 0.19414998 -3.06686889]\n"
     ]
    },
    {
     "data": {
      "image/png": "[encoded data removed]",
      "text/plain": [
       "<Figure size 576x288 with 1 Axes>"
      ]
     },
     "metadata": {
      "needs_background": "light"
     },
     "output_type": "display_data"
    }
   ],
   "source": [
    "import numpy as np\n",
    "import matplotlib.pyplot as plt\n",
    "\n",
    "# --- Assume these already exist from earlier: make_is_adult, predict, error, gradient, learners ---\n",
    "\n",
    "def sigmoid(z):\n",
    "    return 1.0 / (1.0 + np.exp(-z))\n",
    "\n",
    "def logloss(y_true, y_linear):\n",
    "    \"\"\"\n",
    "    Binary cross-entropy. Expects *linear* predictions; applies sigmoid inside.\n",
    "    y_true in {0,1}\n",
    "    \"\"\"\n",
    "    y_true = np.asarray(y_true).astype(float)\n",
    "    p = sigmoid(np.asarray(y_linear))\n",
    "    eps = 1e-12\n",
    "    p = np.clip(p, eps, 1 - eps)\n",
    "    return -np.mean(y_true * np.log(p) + (1 - y_true) * np.log(1 - p))\n",
    "\n",
    "\n",
    "# --- Generate data ---\n",
    "X, y = make_is_adult(n=300, min_age=0, max_age=80, seed=42, integer=True, flip_rate=0.0)\n",
    "\n",
    "# --- Learn weights with logloss (logistic regression via numerical gradient) ---\n",
    "w_log = learners(\n",
    "    X, y,\n",
    "    error_fn=error,         # uses predict() -> linear output\n",
    "    predict_fn=predict,     # included for API symmetry\n",
    "    loss_fn=logloss,        # applies sigmoid internally\n",
    "    lr=1e-2,                # tune if needed\n",
    "    epochs=6000,\n",
    "    tol=1e-8,\n",
    "    w_init=None,\n",
    "    verbose=False\n",
    ")\n",
    "\n",
    "print(\"Learned weights (logistic): [slope, bias] =\", w_log)\n",
    "\n",
    "# --- Optional: visualize probability curve and decision boundary ---\n",
    "ages = np.linspace(X.min(), X.max(), 400)\n",
    "probs = sigmoid(predict(ages.reshape(-1, 1), w_log))\n",
    "x0 = -w_log[1] / w_log[0]  # 0.5-probability threshold\n",
    "\n",
    "# Jitter the y for visibility (0/1 points)\n",
    "y_jitter = y + np.random.uniform(-0.04, 0.04, size=y.shape)\n",
    "\n",
    "plt.figure(figsize=(8, 4))\n",
    "plt.scatter(X, y_jitter, alpha=0.6, edgecolor=\"none\", label=\"Data (0/1 with jitter)\")\n",
    "plt.plot(ages, probs, label=\"Predicted P(is_adult|age)\", linewidth=2)\n",
    "plt.axhline(0.5, linestyle=\"--\", linewidth=1, label=\"P=0.5\")\n",
    "plt.axvline(x0, linestyle=\"--\", linewidth=1, label=f\"Decision boundary ≈ {x0:.2f}\")\n",
    "plt.axvline(18, linestyle=\":\", linewidth=1, label=\"True threshold = 18\")\n",
    "plt.yticks([0, 0.5, 1], [\"0\", \"0.5\", \"1\"])\n",
    "plt.xlabel(\"Age\")\n",
    "plt.ylabel(\"Probability of is_adult\")\n",
    "plt.title(\"Logistic fit learned via learners() + logloss\")\n",
    "plt.legend()\n",
    "plt.tight_layout()\n",
    "plt.show()\n"
   ]
  },
  {
   "cell_type": "markdown",
   "metadata": {},
   "source": [
    "Generate the data from a slab based calculation like tax. if the salary is less than 1000, the tax is 0 other wise tax rate is 30%"
   ]
  },
  {
   "cell_type": "code",
   "execution_count": 44,
   "metadata": {
    "scrolled": true
   },
   "outputs": [
    {
     "data": {
      "image/png": "[encoded data removed]",
      "text/plain": [
       "<Figure size 576x288 with 1 Axes>"
      ]
     },
     "metadata": {
      "needs_background": "light"
     },
     "output_type": "display_data"
    }
   ],
   "source": [
    "#Here’s a tiny, vectorized NumPy helper to generate a **slab-based tax dataset**.\n",
    "\n",
    "#Assumption: the 30% tax applies **only to the amount above the threshold** (classic slab). You can flip a flag to apply 30% to the whole salary instead.\n",
    "\n",
    "import numpy as np\n",
    "import matplotlib.pyplot as plt\n",
    "\n",
    "def make_tax_dataset(\n",
    "    n=300,\n",
    "    min_salary=0,\n",
    "    max_salary=10000,\n",
    "    threshold=1000,\n",
    "    rate=0.30,\n",
    "    apply_on_excess=True,   # True: tax on (salary - threshold); False: tax on full salary once threshold crossed\n",
    "    integer=True,\n",
    "    seed=42\n",
    "):\n",
    "    \"\"\"\n",
    "    Generate (X, y) where:\n",
    "      X = salary\n",
    "      y = tax payable under a simple slab rule:\n",
    "          - if salary < threshold: tax = 0\n",
    "          - else:\n",
    "              apply_on_excess=True  -> tax = rate * (salary - threshold)\n",
    "              apply_on_excess=False -> tax = rate * salary\n",
    "    \"\"\"\n",
    "    rng = np.random.default_rng(seed)\n",
    "    if integer:\n",
    "        X = rng.integers(min_salary, max_salary + 1, size=n)\n",
    "    else:\n",
    "        X = rng.uniform(min_salary, max_salary, size=n)\n",
    "\n",
    "    if apply_on_excess:\n",
    "        y = rate * np.clip(X - threshold, a_min=0, a_max=None)\n",
    "    else:\n",
    "        y = np.where(X < threshold, 0.0, rate * X)\n",
    "\n",
    "    return X, y\n",
    "\n",
    "# ---- Example usage + plot ----\n",
    "X, y = make_tax_dataset(n=300, min_salary=0, max_salary=10000, threshold=1000, rate=0.30, apply_on_excess=True)\n",
    "\n",
    "plt.figure(figsize=(8, 4))\n",
    "plt.scatter(X, y, s=12, alpha=0.8, edgecolor=\"none\", label=\"(salary, tax)\")\n",
    "plt.axvline(1000, linestyle=\"--\", label=\"Threshold = 1000\")\n",
    "plt.xlabel(\"Salary\")\n",
    "plt.ylabel(\"Tax\")\n",
    "plt.title(\"Slab-based Tax Dataset (30% on amount above threshold)\")\n",
    "plt.legend()\n",
    "plt.tight_layout()\n",
    "plt.show()\n",
    "\n",
    "# * `X` is the salary array; `y` is the corresponding tax.\n",
    "# * Set `apply_on_excess=False` if you want 30% on the **entire** salary once it crosses the threshold.\n"
   ]
  },
  {
   "cell_type": "markdown",
   "metadata": {},
   "source": [
    "write code to train a regressor using mse in learners() on this X and y and show draw the line on the plot along with X, y"
   ]
  },
  {
   "cell_type": "code",
   "execution_count": 45,
   "metadata": {},
   "outputs": [
    {
     "name": "stdout",
     "output_type": "stream",
     "text": [
      "Learned weights [slope, bias]: [ 0.25379426 -0.02351921]\n"
     ]
    },
    {
     "data": {
      "image/png": "[encoded data removed]",
      "text/plain": [
       "<Figure size 432x288 with 1 Axes>"
      ]
     },
     "metadata": {
      "needs_background": "light"
     },
     "output_type": "display_data"
    }
   ],
   "source": [
    "X, y = make_tax_dataset(n=300, min_salary=0, max_salary=10000,\n",
    "                        threshold=1000, rate=0.30, apply_on_excess=True)\n",
    "\n",
    "# Learn linear regressor with MSE\n",
    "w_learned = learners(\n",
    "    X, y,\n",
    "    error_fn=error,\n",
    "    predict_fn=predict,\n",
    "    loss_fn=mse,\n",
    "    lr=1e-8,         # small LR because salaries/taxes are large-magnitude\n",
    "    epochs=20000,\n",
    "    tol=1e-8,\n",
    "    w_init=None,\n",
    "    verbose=False\n",
    ")\n",
    "print(\"Learned weights [slope, bias]:\", w_learned)\n",
    "\n",
    "# Plot data and fitted line\n",
    "plot_xy_with_line(X, y, w_learned)"
   ]
  },
  {
   "cell_type": "markdown",
   "metadata": {},
   "source": [
    "come up with a new label y_is_taxable and train a classifier using learners() method on X, and y_is_taxable"
   ]
  },
  {
   "cell_type": "code",
   "execution_count": 48,
   "metadata": {},
   "outputs": [],
   "source": [
    "threshold = 1000\n",
    "y_is_taxable = (y > 0).astype(int)\n",
    "\n",
    "# Scale feature for stable/fast optimization (keeps learners() unchanged)\n",
    "scale = 1000.0\n",
    "X_scaled = X / scale\n",
    "\n",
    "w_cls = learners(\n",
    "    X_scaled, y_is_taxable,\n",
    "    error_fn=error,\n",
    "    predict_fn=predict,\n",
    "    loss_fn=logloss,\n",
    "    lr=2e-2,        # works well after scaling\n",
    "    epochs=6000,\n",
    "    tol=1e-8,\n",
    "    w_init=None,\n",
    "    verbose=False\n",
    ")"
   ]
  },
  {
   "cell_type": "code",
   "execution_count": 49,
   "metadata": {},
   "outputs": [
    {
     "name": "stdout",
     "output_type": "stream",
     "text": [
      "Learned weights (on scaled X): [slope, bias] = [ 2.36712029 -2.18103891]\n",
      "Estimated decision boundary ≈ 921.39 (true threshold = 1000)\n"
     ]
    },
    {
     "data": {
      "image/png": "[encoded data removed]",
      "text/plain": [
       "<Figure size 576x288 with 1 Axes>"
      ]
     },
     "metadata": {
      "needs_background": "light"
     },
     "output_type": "display_data"
    }
   ],
   "source": [
    "print(\"Learned weights (on scaled X): [slope, bias] =\", w_cls)\n",
    "\n",
    "# Decision boundary (P=0.5): w0 * x_scaled + b = 0  =>  x_scaled = -b/w0  =>  x = scale * x_scaled\n",
    "x0_scaled = -w_cls[1] / (w_cls[0] + 1e-12)\n",
    "x0 = x0_scaled * scale\n",
    "print(f\"Estimated decision boundary ≈ {x0:.2f} (true threshold = {threshold})\")\n",
    "\n",
    "# ---------- Visualize ----------\n",
    "xs = np.linspace(X.min(), X.max(), 500)\n",
    "ps = sigmoid(predict((xs/scale).reshape(-1, 1), w_cls))\n",
    "\n",
    "# Jitter labels for visibility\n",
    "y_jitter = y_is_taxable + np.random.uniform(-0.04, 0.04, size=y_is_taxable.shape)\n",
    "\n",
    "plt.figure(figsize=(8, 4))\n",
    "plt.scatter(X, y_jitter, alpha=0.6, edgecolor=\"none\", s=14, label=\"y_is_taxable (0/1, jittered)\")\n",
    "plt.plot(xs, ps, linewidth=2, label=\"Predicted P(taxable | salary)\")\n",
    "plt.axhline(0.5, linestyle=\"--\", linewidth=1, label=\"P=0.5\")\n",
    "plt.axvline(x0, linestyle=\"--\", linewidth=1, label=f\"Decision boundary ≈ {x0:.0f}\")\n",
    "plt.axvline(threshold, linestyle=\":\", linewidth=1, label=f\"True threshold = {threshold}\")\n",
    "plt.yticks([0, 0.5, 1], [\"0\", \"0.5\", \"1\"])\n",
    "plt.xlabel(\"Salary\")\n",
    "plt.ylabel(\"Probability of being taxable\")\n",
    "plt.title(\"Classifier trained with learners() + logloss\")\n",
    "plt.legend()\n",
    "plt.tight_layout()\n",
    "plt.show()\n"
   ]
  },
  {
   "cell_type": "code",
   "execution_count": 37,
   "metadata": {},
   "outputs": [
    {
     "data": {
      "text/plain": [
       "array([[8.920e+02, 0.000e+00],\n",
       "       [7.740e+03, 1.000e+00],\n",
       "       [6.546e+03, 1.000e+00],\n",
       "       [4.389e+03, 1.000e+00],\n",
       "       [4.330e+03, 1.000e+00],\n",
       "       [8.586e+03, 1.000e+00],\n",
       "       [8.590e+02, 0.000e+00],\n",
       "       [6.974e+03, 1.000e+00],\n",
       "       [2.014e+03, 1.000e+00],\n",
       "       [9.410e+02, 1.000e+00],\n",
       "       [5.265e+03, 1.000e+00],\n",
       "       [9.757e+03, 1.000e+00],\n",
       "       [7.358e+03, 1.000e+00],\n",
       "       [7.612e+03, 1.000e+00],\n",
       "       [7.175e+03, 1.000e+00],\n",
       "       [7.861e+03, 1.000e+00],\n",
       "       [5.132e+03, 1.000e+00],\n",
       "       [1.281e+03, 1.000e+00],\n",
       "       [8.398e+03, 1.000e+00],\n",
       "       [4.504e+03, 1.000e+00],\n",
       "       [5.004e+03, 1.000e+00],\n",
       "       [3.708e+03, 1.000e+00],\n",
       "       [1.825e+03, 1.000e+00],\n",
       "       [9.268e+03, 1.000e+00],\n",
       "       [7.816e+03, 1.000e+00],\n",
       "       [6.439e+03, 1.000e+00],\n",
       "       [4.024e+03, 1.000e+00],\n",
       "       [8.228e+03, 1.000e+00],\n",
       "       [5.454e+03, 1.000e+00],\n",
       "       [4.434e+03, 1.000e+00],\n",
       "       [4.505e+03, 1.000e+00],\n",
       "       [2.272e+03, 1.000e+00],\n",
       "       [9.210e+02, 0.000e+00],\n",
       "       [5.546e+03, 1.000e+00],\n",
       "       [8.879e+03, 1.000e+00],\n",
       "       [6.380e+02, 0.000e+00],\n",
       "       [8.583e+03, 1.000e+00],\n",
       "       [8.277e+03, 1.000e+00],\n",
       "       [2.767e+03, 1.000e+00],\n",
       "       [6.317e+03, 1.000e+00],\n",
       "       [1.652e+03, 1.000e+00],\n",
       "       [7.581e+03, 1.000e+00],\n",
       "       [7.005e+03, 1.000e+00],\n",
       "       [3.545e+03, 1.000e+00],\n",
       "       [6.790e+02, 0.000e+00],\n",
       "       [9.707e+03, 1.000e+00],\n",
       "       [4.457e+03, 1.000e+00],\n",
       "       [8.932e+03, 1.000e+00],\n",
       "       [6.779e+03, 1.000e+00],\n",
       "       [7.784e+03, 1.000e+00],\n",
       "       [7.599e+03, 1.000e+00],\n",
       "       [1.946e+03, 1.000e+00],\n",
       "       [3.639e+03, 1.000e+00],\n",
       "       [4.667e+03, 1.000e+00],\n",
       "       [4.978e+03, 1.000e+00],\n",
       "       [4.380e+02, 0.000e+00],\n",
       "       [5.466e+03, 1.000e+00],\n",
       "       [1.543e+03, 1.000e+00],\n",
       "       [7.434e+03, 1.000e+00],\n",
       "       [6.831e+03, 1.000e+00],\n",
       "       [9.226e+03, 1.000e+00],\n",
       "       [7.448e+03, 1.000e+00],\n",
       "       [3.666e+03, 1.000e+00],\n",
       "       [9.676e+03, 1.000e+00],\n",
       "       [4.108e+03, 1.000e+00],\n",
       "       [3.258e+03, 1.000e+00],\n",
       "       [9.056e+03, 1.000e+00],\n",
       "       [3.704e+03, 1.000e+00],\n",
       "       [7.630e+02, 0.000e+00],\n",
       "       [4.696e+03, 1.000e+00],\n",
       "       [7.957e+03, 1.000e+00],\n",
       "       [1.894e+03, 1.000e+00],\n",
       "       [4.629e+03, 1.000e+00],\n",
       "       [1.299e+03, 1.000e+00],\n",
       "       [6.865e+03, 1.000e+00],\n",
       "       [4.757e+03, 1.000e+00],\n",
       "       [3.302e+03, 1.000e+00],\n",
       "       [2.269e+03, 1.000e+00],\n",
       "       [5.645e+03, 1.000e+00],\n",
       "       [6.698e+03, 1.000e+00],\n",
       "       [9.404e+03, 1.000e+00],\n",
       "       [4.371e+03, 1.000e+00],\n",
       "       [1.607e+03, 1.000e+00],\n",
       "       [8.327e+03, 1.000e+00],\n",
       "       [6.298e+03, 1.000e+00],\n",
       "       [7.003e+03, 1.000e+00],\n",
       "       [9.720e+02, 1.000e+00],\n",
       "       [3.123e+03, 1.000e+00],\n",
       "       [7.679e+03, 1.000e+00],\n",
       "       [8.323e+03, 1.000e+00],\n",
       "       [4.352e+03, 1.000e+00],\n",
       "       [8.048e+03, 1.000e+00],\n",
       "       [8.417e+03, 1.000e+00],\n",
       "       [3.875e+03, 1.000e+00],\n",
       "       [8.981e+03, 1.000e+00],\n",
       "       [2.883e+03, 1.000e+00],\n",
       "       [2.395e+03, 1.000e+00],\n",
       "       [6.825e+03, 1.000e+00],\n",
       "       [6.368e+03, 1.000e+00],\n",
       "       [1.397e+03, 1.000e+00],\n",
       "       [8.328e+03, 1.000e+00],\n",
       "       [1.999e+03, 1.000e+00],\n",
       "       [8.049e+03, 1.000e+00],\n",
       "       [7.300e+01, 0.000e+00],\n",
       "       [7.969e+03, 1.000e+00],\n",
       "       [7.870e+03, 1.000e+00],\n",
       "       [7.804e+03, 1.000e+00],\n",
       "       [6.649e+03, 1.000e+00],\n",
       "       [4.716e+03, 1.000e+00],\n",
       "       [7.052e+03, 1.000e+00],\n",
       "       [2.771e+03, 1.000e+00],\n",
       "       [7.808e+03, 1.000e+00],\n",
       "       [5.557e+03, 1.000e+00],\n",
       "       [4.589e+03, 1.000e+00],\n",
       "       [5.056e+03, 1.000e+00],\n",
       "       [5.687e+03, 1.000e+00],\n",
       "       [3.720e+02, 0.000e+00],\n",
       "       [1.398e+03, 1.000e+00],\n",
       "       [2.455e+03, 1.000e+00],\n",
       "       [1.145e+03, 1.000e+00],\n",
       "       [4.396e+03, 1.000e+00],\n",
       "       [6.684e+03, 1.000e+00],\n",
       "       [6.544e+03, 1.000e+00],\n",
       "       [4.711e+03, 1.000e+00],\n",
       "       [8.551e+03, 1.000e+00],\n",
       "       [5.652e+03, 1.000e+00],\n",
       "       [7.920e+02, 0.000e+00],\n",
       "       [7.650e+03, 1.000e+00],\n",
       "       [5.746e+03, 1.000e+00],\n",
       "       [6.347e+03, 1.000e+00],\n",
       "       [5.654e+03, 1.000e+00],\n",
       "       [5.536e+03, 1.000e+00],\n",
       "       [9.050e+02, 0.000e+00],\n",
       "       [5.592e+03, 1.000e+00],\n",
       "       [7.949e+03, 1.000e+00],\n",
       "       [3.039e+03, 1.000e+00],\n",
       "       [6.028e+03, 1.000e+00],\n",
       "       [3.080e+02, 0.000e+00],\n",
       "       [3.475e+03, 1.000e+00],\n",
       "       [4.367e+03, 1.000e+00],\n",
       "       [9.828e+03, 1.000e+00],\n",
       "       [2.146e+03, 1.000e+00],\n",
       "       [2.765e+03, 1.000e+00],\n",
       "       [4.085e+03, 1.000e+00],\n",
       "       [9.927e+03, 1.000e+00],\n",
       "       [8.534e+03, 1.000e+00],\n",
       "       [3.460e+02, 0.000e+00],\n",
       "       [2.339e+03, 1.000e+00],\n",
       "       [8.217e+03, 1.000e+00],\n",
       "       [5.830e+02, 0.000e+00],\n",
       "       [8.557e+03, 1.000e+00],\n",
       "       [2.814e+03, 1.000e+00],\n",
       "       [9.177e+03, 1.000e+00],\n",
       "       [2.936e+03, 1.000e+00],\n",
       "       [4.343e+03, 1.000e+00],\n",
       "       [6.619e+03, 1.000e+00],\n",
       "       [1.262e+03, 1.000e+00],\n",
       "       [5.570e+03, 1.000e+00],\n",
       "       [5.050e+03, 1.000e+00],\n",
       "       [7.839e+03, 1.000e+00],\n",
       "       [9.962e+03, 1.000e+00],\n",
       "       [6.643e+03, 1.000e+00],\n",
       "       [4.092e+03, 1.000e+00],\n",
       "       [4.064e+03, 1.000e+00],\n",
       "       [4.180e+03, 1.000e+00],\n",
       "       [8.141e+03, 1.000e+00],\n",
       "       [3.212e+03, 1.000e+00],\n",
       "       [1.669e+03, 1.000e+00],\n",
       "       [3.343e+03, 1.000e+00],\n",
       "       [2.270e+02, 0.000e+00],\n",
       "       [1.061e+03, 1.000e+00],\n",
       "       [9.000e+02, 0.000e+00],\n",
       "       [7.716e+03, 1.000e+00],\n",
       "       [7.224e+03, 1.000e+00],\n",
       "       [6.968e+03, 1.000e+00],\n",
       "       [4.619e+03, 1.000e+00],\n",
       "       [7.171e+03, 1.000e+00],\n",
       "       [1.612e+03, 1.000e+00],\n",
       "       [9.007e+03, 1.000e+00],\n",
       "       [5.010e+03, 1.000e+00],\n",
       "       [9.381e+03, 1.000e+00],\n",
       "       [1.523e+03, 1.000e+00],\n",
       "       [4.973e+03, 1.000e+00],\n",
       "       [6.963e+03, 1.000e+00],\n",
       "       [4.956e+03, 1.000e+00],\n",
       "       [4.462e+03, 1.000e+00],\n",
       "       [1.662e+03, 1.000e+00],\n",
       "       [3.810e+03, 1.000e+00],\n",
       "       [2.387e+03, 1.000e+00],\n",
       "       [3.015e+03, 1.000e+00],\n",
       "       [6.837e+03, 1.000e+00],\n",
       "       [6.303e+03, 1.000e+00],\n",
       "       [6.072e+03, 1.000e+00],\n",
       "       [3.618e+03, 1.000e+00],\n",
       "       [9.597e+03, 1.000e+00],\n",
       "       [8.760e+02, 0.000e+00],\n",
       "       [3.426e+03, 1.000e+00],\n",
       "       [1.180e+03, 1.000e+00],\n",
       "       [3.389e+03, 1.000e+00],\n",
       "       [9.619e+03, 1.000e+00],\n",
       "       [3.663e+03, 1.000e+00],\n",
       "       [9.086e+03, 1.000e+00],\n",
       "       [4.951e+03, 1.000e+00],\n",
       "       [6.997e+03, 1.000e+00],\n",
       "       [4.574e+03, 1.000e+00],\n",
       "       [2.658e+03, 1.000e+00],\n",
       "       [7.643e+03, 1.000e+00],\n",
       "       [9.692e+03, 1.000e+00],\n",
       "       [2.635e+03, 1.000e+00],\n",
       "       [7.788e+03, 1.000e+00],\n",
       "       [2.611e+03, 1.000e+00],\n",
       "       [7.169e+03, 1.000e+00],\n",
       "       [7.890e+03, 1.000e+00],\n",
       "       [4.494e+03, 1.000e+00],\n",
       "       [7.369e+03, 1.000e+00],\n",
       "       [2.722e+03, 1.000e+00],\n",
       "       [7.920e+02, 0.000e+00],\n",
       "       [9.640e+02, 1.000e+00],\n",
       "       [4.470e+03, 1.000e+00],\n",
       "       [9.026e+03, 1.000e+00],\n",
       "       [1.275e+03, 1.000e+00],\n",
       "       [4.558e+03, 1.000e+00],\n",
       "       [7.041e+03, 1.000e+00],\n",
       "       [2.023e+03, 1.000e+00],\n",
       "       [7.216e+03, 1.000e+00],\n",
       "       [3.059e+03, 1.000e+00],\n",
       "       [8.087e+03, 1.000e+00],\n",
       "       [5.792e+03, 1.000e+00],\n",
       "       [5.469e+03, 1.000e+00],\n",
       "       [1.767e+03, 1.000e+00],\n",
       "       [4.632e+03, 1.000e+00],\n",
       "       [8.566e+03, 1.000e+00],\n",
       "       [1.950e+02, 0.000e+00],\n",
       "       [7.585e+03, 1.000e+00],\n",
       "       [4.928e+03, 1.000e+00],\n",
       "       [7.195e+03, 1.000e+00],\n",
       "       [6.633e+03, 1.000e+00],\n",
       "       [4.321e+03, 1.000e+00],\n",
       "       [3.086e+03, 1.000e+00],\n",
       "       [6.273e+03, 1.000e+00],\n",
       "       [1.402e+03, 1.000e+00],\n",
       "       [5.841e+03, 1.000e+00],\n",
       "       [9.470e+02, 1.000e+00],\n",
       "       [6.499e+03, 1.000e+00],\n",
       "       [6.288e+03, 1.000e+00],\n",
       "       [8.440e+02, 0.000e+00],\n",
       "       [7.575e+03, 1.000e+00],\n",
       "       [4.158e+03, 1.000e+00],\n",
       "       [7.869e+03, 1.000e+00],\n",
       "       [4.160e+02, 0.000e+00],\n",
       "       [1.794e+03, 1.000e+00],\n",
       "       [4.940e+03, 1.000e+00],\n",
       "       [1.882e+03, 1.000e+00],\n",
       "       [3.298e+03, 1.000e+00],\n",
       "       [6.606e+03, 1.000e+00],\n",
       "       [1.445e+03, 1.000e+00],\n",
       "       [6.777e+03, 1.000e+00],\n",
       "       [1.034e+03, 1.000e+00],\n",
       "       [1.752e+03, 1.000e+00],\n",
       "       [5.877e+03, 1.000e+00],\n",
       "       [7.935e+03, 1.000e+00],\n",
       "       [1.706e+03, 1.000e+00],\n",
       "       [3.000e+03, 1.000e+00],\n",
       "       [9.252e+03, 1.000e+00],\n",
       "       [9.897e+03, 1.000e+00],\n",
       "       [5.811e+03, 1.000e+00],\n",
       "       [4.470e+03, 1.000e+00],\n",
       "       [3.469e+03, 1.000e+00],\n",
       "       [6.125e+03, 1.000e+00],\n",
       "       [5.909e+03, 1.000e+00],\n",
       "       [2.947e+03, 1.000e+00],\n",
       "       [2.280e+02, 0.000e+00],\n",
       "       [1.515e+03, 1.000e+00],\n",
       "       [9.586e+03, 1.000e+00],\n",
       "       [4.181e+03, 1.000e+00],\n",
       "       [4.823e+03, 1.000e+00],\n",
       "       [4.671e+03, 1.000e+00],\n",
       "       [7.828e+03, 1.000e+00],\n",
       "       [6.490e+02, 0.000e+00],\n",
       "       [8.270e+02, 0.000e+00],\n",
       "       [2.758e+03, 1.000e+00],\n",
       "       [4.867e+03, 1.000e+00],\n",
       "       [6.711e+03, 1.000e+00],\n",
       "       [4.907e+03, 1.000e+00],\n",
       "       [4.412e+03, 1.000e+00],\n",
       "       [9.379e+03, 1.000e+00],\n",
       "       [1.610e+03, 1.000e+00],\n",
       "       [5.717e+03, 1.000e+00],\n",
       "       [5.422e+03, 1.000e+00],\n",
       "       [4.735e+03, 1.000e+00],\n",
       "       [8.076e+03, 1.000e+00],\n",
       "       [2.670e+03, 1.000e+00],\n",
       "       [9.538e+03, 1.000e+00],\n",
       "       [3.316e+03, 1.000e+00],\n",
       "       [5.450e+03, 1.000e+00],\n",
       "       [5.207e+03, 1.000e+00],\n",
       "       [8.498e+03, 1.000e+00],\n",
       "       [4.389e+03, 1.000e+00],\n",
       "       [2.845e+03, 1.000e+00],\n",
       "       [2.160e+02, 0.000e+00]])"
      ]
     },
     "execution_count": 37,
     "metadata": {},
     "output_type": "execute_result"
    }
   ],
   "source": [
    "X1"
   ]
  },
  {
   "cell_type": "code",
   "execution_count": 38,
   "metadata": {},
   "outputs": [
    {
     "data": {
      "text/plain": [
       "array([   0. , 2022. , 1663.8, 1016.7,  999. , 2275.8,    0. , 1792.2,\n",
       "        304.2,    0. , 1279.5, 2627.1, 1907.4, 1983.6, 1852.5, 2058.3,\n",
       "       1239.6,   84.3, 2219.4, 1051.2, 1201.2,  812.4,  247.5, 2480.4,\n",
       "       2044.8, 1631.7,  907.2, 2168.4, 1336.2, 1030.2, 1051.5,  381.6,\n",
       "          0. , 1363.8, 2363.7,    0. , 2274.9, 2183.1,  530.1, 1595.1,\n",
       "        195.6, 1974.3, 1801.5,  763.5,    0. , 2612.1, 1037.1, 2379.6,\n",
       "       1733.7, 2035.2, 1979.7,  283.8,  791.7, 1100.1, 1193.4,    0. ,\n",
       "       1339.8,  162.9, 1930.2, 1749.3, 2467.8, 1934.4,  799.8, 2602.8,\n",
       "        932.4,  677.4, 2416.8,  811.2,    0. , 1108.8, 2087.1,  268.2,\n",
       "       1088.7,   89.7, 1759.5, 1127.1,  690.6,  380.7, 1393.5, 1709.4,\n",
       "       2521.2, 1011.3,  182.1, 2198.1, 1589.4, 1800.9,    0. ,  636.9,\n",
       "       2003.7, 2196.9, 1005.6, 2114.4, 2225.1,  862.5, 2394.3,  564.9,\n",
       "        418.5, 1747.5, 1610.4,  119.1, 2198.4,  299.7, 2114.7,    0. ,\n",
       "       2090.7, 2061. , 2041.2, 1694.7, 1114.8, 1815.6,  531.3, 2042.4,\n",
       "       1367.1, 1076.7, 1216.8, 1406.1,    0. ,  119.4,  436.5,   43.5,\n",
       "       1018.8, 1705.2, 1663.2, 1113.3, 2265.3, 1395.6,    0. , 1995. ,\n",
       "       1423.8, 1604.1, 1396.2, 1360.8,    0. , 1377.6, 2084.7,  611.7,\n",
       "       1508.4,    0. ,  742.5, 1010.1, 2648.4,  343.8,  529.5,  925.5,\n",
       "       2678.1, 2260.2,    0. ,  401.7, 2165.1,    0. , 2267.1,  544.2,\n",
       "       2453.1,  580.8, 1002.9, 1685.7,   78.6, 1371. , 1215. , 2051.7,\n",
       "       2688.6, 1692.9,  927.6,  919.2,  954. , 2142.3,  663.6,  200.7,\n",
       "        702.9,    0. ,   18.3,    0. , 2014.8, 1867.2, 1790.4, 1085.7,\n",
       "       1851.3,  183.6, 2402.1, 1203. , 2514.3,  156.9, 1191.9, 1788.9,\n",
       "       1186.8, 1038.6,  198.6,  843. ,  416.1,  604.5, 1751.1, 1590.9,\n",
       "       1521.6,  785.4, 2579.1,    0. ,  727.8,   54. ,  716.7, 2585.7,\n",
       "        798.9, 2425.8, 1185.3, 1799.1, 1072.2,  497.4, 1992.9, 2607.6,\n",
       "        490.5, 2036.4,  483.3, 1850.7, 2067. , 1048.2, 1910.7,  516.6,\n",
       "          0. ,    0. , 1041. , 2407.8,   82.5, 1067.4, 1812.3,  306.9,\n",
       "       1864.8,  617.7, 2126.1, 1437.6, 1340.7,  230.1, 1089.6, 2269.8,\n",
       "          0. , 1975.5, 1178.4, 1858.5, 1689.9,  996.3,  625.8, 1581.9,\n",
       "        120.6, 1452.3,    0. , 1649.7, 1586.4,    0. , 1972.5,  947.4,\n",
       "       2060.7,    0. ,  238.2, 1182. ,  264.6,  689.4, 1681.8,  133.5,\n",
       "       1733.1,   10.2,  225.6, 1463.1, 2080.5,  211.8,  600. , 2475.6,\n",
       "       2669.1, 1443.3, 1041. ,  740.7, 1537.5, 1472.7,  584.1,    0. ,\n",
       "        154.5, 2575.8,  954.3, 1146.9, 1101.3, 2048.4,    0. ,    0. ,\n",
       "        527.4, 1160.1, 1713.3, 1172.1, 1023.6, 2513.7,  183. , 1415.1,\n",
       "       1326.6, 1120.5, 2122.8,  501. , 2561.4,  694.8, 1335. , 1262.1,\n",
       "       2249.4, 1016.7,  553.5,    0. ])"
      ]
     },
     "execution_count": 38,
     "metadata": {},
     "output_type": "execute_result"
    }
   ],
   "source": [
    "y"
   ]
  },
  {
   "cell_type": "code",
   "execution_count": 36,
   "metadata": {},
   "outputs": [
    {
     "name": "stdout",
     "output_type": "stream",
     "text": [
      "Regressor weights [w_salary, w_is_taxable, bias]: [ 2.18210786e+12 -6.46004957e+02 -6.45901102e+02]\n"
     ]
    },
    {
     "data": {
      "image/png": "[encoded data removed]",
      "text/plain": [
       "<Figure size 576x288 with 1 Axes>"
      ]
     },
     "metadata": {
      "needs_background": "light"
     },
     "output_type": "display_data"
    }
   ],
   "source": [
    "scores = predict(X_scaled.reshape(-1, 1), w_cls)\n",
    "is_taxable_hat = (sigmoid(scores) >= 0.5).astype(float)\n",
    "\n",
    "# 3) Create X1 = [salary, is_taxable_hat] and train a regressor with MSE\n",
    "X1 = np.column_stack([X, is_taxable_hat])\n",
    "w_reg = learners(\n",
    "    X1, y,\n",
    "    error_fn=error,\n",
    "    predict_fn=predict,\n",
    "    loss_fn=mse,\n",
    "    lr=0.000001, epochs=30000, tol=1e-8, verbose=False\n",
    ")\n",
    "print(\"Regressor weights [w_salary, w_is_taxable, bias]:\", w_reg)\n",
    "\n",
    "# 4) Plot data and fitted line (use classifier to compute is_taxable feature along the x-grid)\n",
    "x_line = np.linspace(X.min(), X.max(), 500)\n",
    "is_taxable_line = (sigmoid(predict((x_line/scale).reshape(-1,1), w_cls)) >= 0.5).astype(float)\n",
    "X1_line = np.column_stack([x_line, is_taxable_line])\n",
    "y_line = predict(X1_line, w_reg)\n",
    "\n",
    "plt.figure(figsize=(8, 4))\n",
    "plt.scatter(X, y, s=12, alpha=0.8, edgecolor=\"none\", label=\"(salary, tax)\")\n",
    "plt.plot(x_line, y_line, linewidth=2, label=\"Regressor fit using feature: is_taxable\")\n",
    "plt.axvline(threshold, linestyle=\"--\", label=f\"Threshold = {threshold}\")\n",
    "plt.xlabel(\"Salary\")\n",
    "plt.ylabel(\"Tax\")\n",
    "plt.title(\"Tax vs Salary: Linear Regressor with learned 'is_taxable' feature\")\n",
    "plt.legend()\n",
    "plt.tight_layout()\n",
    "plt.show()"
   ]
  },
  {
   "cell_type": "code",
   "execution_count": null,
   "metadata": {},
   "outputs": [],
   "source": []
  }
 ],
 "metadata": {
  "kernelspec": {
   "display_name": "Python 3",
   "language": "python",
   "name": "python3"
  },
  "language_info": {
   "codemirror_mode": {
    "name": "ipython",
    "version": 3
   },
   "file_extension": ".py",
   "mimetype": "text/x-python",
   "name": "python",
   "nbconvert_exporter": "python",
   "pygments_lexer": "ipython3",
   "version": "3.6.8"
  },
  "toc": {
   "base_numbering": 1,
   "nav_menu": {},
   "number_sections": true,
   "sideBar": true,
   "skip_h1_title": false,
   "title_cell": "Table of Contents",
   "title_sidebar": "Contents",
   "toc_cell": false,
   "toc_position": {},
   "toc_section_display": true,
   "toc_window_display": false
  }
 },
 "nbformat": 4,
 "nbformat_minor": 2
}
