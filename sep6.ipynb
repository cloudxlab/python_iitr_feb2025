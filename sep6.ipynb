{
 "cells": [
  {
   "cell_type": "markdown",
   "metadata": {},
   "source": [
    "\n",
    "\n",
    "# Forcasting the demand of nycil power\n",
    "\n",
    "data # Bihar\n",
    "    X(weather, population, month), y(demand)\n",
    "\n",
    "\n",
    "\n",
    "X --->\n",
    "        Algorithm --> Model\n",
    "y ---> \n",
    "\n",
    "model = LinearREgression(), SVM(), DecisionTree()...\n",
    "model.fit(X, y) # training phase\n",
    "--\n",
    "\n",
    "\n",
    "y = model.predict(X_new) # predict, inference\n",
    "X ---> Model --> y\n",
    "\n",
    "\n",
    "Q:How do you know which model is great?\n",
    "A: \n",
    "Use cross validation\n",
    "    Train on 90% of data and test the model on 10%\n",
    "\n",
    "1. Need to be simple model - interpretable\n",
    "Use SVM, Linear Regression or decision Trees\n",
    "\n",
    "2. You have very few records - in data.\n",
    "Use SVM\n",
    "\n",
    "3. You have too much of data \n",
    "Neural Networks or Random forrest"
   ]
  },
  {
   "cell_type": "markdown",
   "metadata": {},
   "source": [
    "# 40 rows, features 112\n",
    "\n",
    "    x -> y\n",
    "    y = mx + c\n",
    "\n",
    "# How many data points minimum - 2\n",
    "\n",
    "    X(exp), y(salary)\n",
    "    1 , 2\n",
    "    2, 5\n",
    "\n",
    "    2 = m + c\n",
    "    5 = 2m + c\n",
    "    ...\n",
    "\n",
    "# For 1 features you need at least 2 data points\n",
    "\n",
    "    x1(exp), x2(degree) -> y(salary)\n",
    "    y = m1*x1 + m2*x2 + c\n",
    "    \n",
    "    to find out m1, m2, and c, how many data points\n",
    "  \n",
    "# For 2 features, you need 3 data points\n",
    "\n",
    "\n",
    "# For 3 features, you need 4 data point\n",
    "\n",
    "# for 112 features , you need minimum 113 points\n",
    "\n",
    "# But you have data points ????\n",
    "    \n",
    "    - Drop some features - Dimensionality Reduction\n",
    "        - Drop the column which has lowest variance wrt the outcome (PCA)\n",
    "   \n",
    "   - Some thing which identical across all experiances\n",
    "   - Duplicated columns\n",
    "   - Random noise - plot the covariance metrics\n",
    "   \n",
    "   - Use the domain specific model such Face Embeddings, Language embeddings to drop the features.\n",
    "   \n",
    "   How many maximum features should you keep - 39.\n",
    "   SVM - Support Vector Machines\n",
    "   "
   ]
  },
  {
   "cell_type": "code",
   "execution_count": 2,
   "metadata": {},
   "outputs": [
    {
     "ename": "SyntaxError",
     "evalue": "invalid syntax (<ipython-input-2-fd1d8e63482f>, line 3)",
     "output_type": "error",
     "traceback": [
      "\u001b[0;36m  File \u001b[0;32m\"<ipython-input-2-fd1d8e63482f>\"\u001b[0;36m, line \u001b[0;32m3\u001b[0m\n\u001b[0;31m    - If we assume linear relationship and perfectly fitting data - max #number of features should m - 1\u001b[0m\n\u001b[0m          ^\u001b[0m\n\u001b[0;31mSyntaxError\u001b[0m\u001b[0;31m:\u001b[0m invalid syntax\n"
     ]
    }
   ],
   "source": [
    "x, y\n",
    "\n",
    "- If we assume linear relationship and perfectly fitting data - max #number of features should m - 1\n",
    "- Have less features so that we have more space for approximations\n",
    "- Have the space for trying polynomial features\n"
   ]
  },
  {
   "cell_type": "code",
   "execution_count": null,
   "metadata": {},
   "outputs": [],
   "source": [
    "# x, y\n",
    "# 1, 4\n",
    "# 2, 5\n",
    "# 3, 10\n",
    "\n",
    "# y = m3*x^3 + m1*x^2 + m2 * x + c\n"
   ]
  },
  {
   "cell_type": "code",
   "execution_count": 4,
   "metadata": {},
   "outputs": [],
   "source": [
    "# Lower the features - n\n",
    "# Increase the instances - m\n",
    "# Convert the features such that there is a linear relation between the features and label\n"
   ]
  },
  {
   "cell_type": "code",
   "execution_count": null,
   "metadata": {},
   "outputs": [],
   "source": [
    "Dec, Jan ~ similar\n",
    "Feb and Jan ~ Similar"
   ]
  },
  {
   "cell_type": "code",
   "execution_count": null,
   "metadata": {},
   "outputs": [],
   "source": [
    "Jan(1), Dec(12), Feb(2)\n",
    "month:\n",
    "    1, 2, 3, 4, 5, 6, 7, 8, 9, 10, 12\n",
    "new_features (kernel trick:\n",
    "    (month-6.5)**2"
   ]
  },
  {
   "cell_type": "code",
   "execution_count": null,
   "metadata": {},
   "outputs": [],
   "source": [
    "Do the following plots to show the kernerl trick effect \n",
    "\n",
    "import numpy as np\n",
    "from matplotlib import pyplot\n",
    "\n",
    "x = np.array([1,2,3,4,5,6,7,8, 9,10,11,12])\n",
    "y = np.array([100, 105, 109, 150, 160, 200, 200, 150, 150, 120, 110,98])\n",
    "\n",
    "# plot x and y\n",
    "\n",
    "y1 = (x - 6.5)**2\n",
    "\n",
    "#plot x, y1\n",
    "\n"
   ]
  },
  {
   "cell_type": "code",
   "execution_count": 7,
   "metadata": {},
   "outputs": [],
   "source": [
    "import numpy as np"
   ]
  },
  {
   "cell_type": "code",
   "execution_count": 9,
   "metadata": {},
   "outputs": [],
   "source": [
    "from matplotlib import pyplot as plt"
   ]
  },
  {
   "cell_type": "code",
   "execution_count": 12,
   "metadata": {},
   "outputs": [
    {
     "data": {
      "image/png": "[encoded data removed]",
      "text/plain": [
       "<Figure size 864x360 with 2 Axes>"
      ]
     },
     "metadata": {
      "needs_background": "light"
     },
     "output_type": "display_data"
    }
   ],
   "source": [
    "x = np.array([1,2,3,4,5,6,7,8, 9,10,11,12])\n",
    "y = np.array([100, 105, 109, 150, 160, 200, 200, 150, 150, 120, 110, 98])\n",
    "\n",
    "# Kernel trick style transformation\n",
    "x1 = np.abs(x - 6.5)\n",
    "\n",
    "plt.figure(figsize=(12,5))\n",
    "\n",
    "# Plot in original space\n",
    "plt.subplot(1,2,1)\n",
    "plt.scatter(x, y, color=\"red\")\n",
    "plt.title(\"Original Feature Space\")\n",
    "plt.xlabel(\"x\")\n",
    "plt.ylabel(\"y\")\n",
    "\n",
    "# Plot in transformed feature space\n",
    "plt.subplot(1,2,2)\n",
    "plt.scatter(x1, y, color=\"blue\")\n",
    "plt.title(\"After Kernel-like Transformation\")\n",
    "plt.xlabel(\"x1\")\n",
    "plt.ylabel(\"y\")\n",
    "\n",
    "plt.tight_layout()\n",
    "plt.show()"
   ]
  },
  {
   "cell_type": "markdown",
   "metadata": {},
   "source": [
    "Hour of day: \n",
    "    # SInce hour 0 is same 23\n",
    "    Strategies:\n",
    "        - abs(x -11)\n",
    "        - sin(2*math.PI*x/24)\n",
    "        - break the hours -> Morning, Afternoon, Evening, Night"
   ]
  },
  {
   "cell_type": "markdown",
   "metadata": {},
   "source": [
    "# Start early and dirty\n",
    "\n",
    "Data Split\n",
    "\n",
    "Model Fit\n",
    "\n",
    "Model Predict\n",
    "\n",
    "Note the error\n",
    "\n",
    "# Start to optimize\n",
    "- Stratified Sampling\n",
    "- Fill the missing\n",
    "- Feature Engineering\n",
    "- SMOTE\n"
   ]
  },
  {
   "cell_type": "code",
   "execution_count": null,
   "metadata": {},
   "outputs": [],
   "source": [
    "If you are predicting age of people, what is the worst average error?\n",
    "- 50"
   ]
  },
  {
   "cell_type": "markdown",
   "metadata": {},
   "source": [
    "Q: There was an exam, True, False. 1000 questions\n",
    "    - 500"
   ]
  },
  {
   "cell_type": "code",
   "execution_count": 15,
   "metadata": {},
   "outputs": [],
   "source": [
    "# Q: There was an exam, True, False. 1000 questions\n",
    "#     This kid is getting 0 score. Kid is doing that on purpose."
   ]
  },
  {
   "cell_type": "markdown",
   "metadata": {},
   "source": [
    "Digit -> 5 or not 5?\n",
    "    - 5 - 1000\n",
    "    - not 5 - 9000\n",
    "    - If there is a model is model which says it is not 5 for everything. 90%"
   ]
  },
  {
   "cell_type": "markdown",
   "metadata": {},
   "source": [
    "Average y.\n",
    "\n",
    "    R^2 Score - compare you model vs a model that gives out average value of y\n"
   ]
  },
  {
   "cell_type": "code",
   "execution_count": 16,
   "metadata": {},
   "outputs": [],
   "source": [
    "# Q: Bike prediction project. Try abs(x - xavg) for cyclic - month, day of year, hour of the day"
   ]
  },
  {
   "cell_type": "code",
   "execution_count": null,
   "metadata": {},
   "outputs": [],
   "source": [
    "# how to introduce polynomial features"
   ]
  },
  {
   "cell_type": "code",
   "execution_count": 24,
   "metadata": {},
   "outputs": [],
   "source": [
    "# x, y\n",
    "# 1, 1.1\n",
    "# 2, 4.1\n",
    "# 3, 8.8\n",
    "# 4, 18\n",
    "X = np.array([[1,2,3,4]])\n",
    "y = np.array([1.1, 4.1, 8.8, 18])"
   ]
  },
  {
   "cell_type": "code",
   "execution_count": 25,
   "metadata": {},
   "outputs": [
    {
     "data": {
      "text/plain": [
       "array([[1, 2, 3, 4]])"
      ]
     },
     "execution_count": 25,
     "metadata": {},
     "output_type": "execute_result"
    }
   ],
   "source": [
    "X"
   ]
  },
  {
   "cell_type": "code",
   "execution_count": 26,
   "metadata": {},
   "outputs": [
    {
     "data": {
      "text/plain": [
       "array([ 1.1,  4.1,  8.8, 18. ])"
      ]
     },
     "execution_count": 26,
     "metadata": {},
     "output_type": "execute_result"
    }
   ],
   "source": [
    "y"
   ]
  },
  {
   "cell_type": "code",
   "execution_count": 27,
   "metadata": {},
   "outputs": [],
   "source": [
    "# y = w1*x1 + w2*x2 + w0"
   ]
  },
  {
   "cell_type": "code",
   "execution_count": 30,
   "metadata": {},
   "outputs": [
    {
     "ename": "AttributeError",
     "evalue": "'numpy.ndarray' object has no attribute 'append'",
     "output_type": "error",
     "traceback": [
      "\u001b[0;31m---------------------------------------------------------------------------\u001b[0m",
      "\u001b[0;31mAttributeError\u001b[0m                            Traceback (most recent call last)",
      "\u001b[0;32m<ipython-input-30-1b727d49dee9>\u001b[0m in \u001b[0;36m<module>\u001b[0;34m\u001b[0m\n\u001b[0;32m----> 1\u001b[0;31m \u001b[0mX\u001b[0m\u001b[0;34m.\u001b[0m\u001b[0mappend\u001b[0m\u001b[0;34m(\u001b[0m\u001b[0mX\u001b[0m\u001b[0;34m[\u001b[0m\u001b[0;36m0\u001b[0m\u001b[0;34m]\u001b[0m\u001b[0;34m**\u001b[0m\u001b[0;36m2\u001b[0m\u001b[0;34m)\u001b[0m\u001b[0;34m\u001b[0m\u001b[0;34m\u001b[0m\u001b[0m\n\u001b[0m",
      "\u001b[0;31mAttributeError\u001b[0m: 'numpy.ndarray' object has no attribute 'append'"
     ]
    }
   ],
   "source": [
    "X.append(X[0]**2)\n"
   ]
  },
  {
   "cell_type": "code",
   "execution_count": 31,
   "metadata": {},
   "outputs": [
    {
     "ename": "IndexError",
     "evalue": "index 1 is out of bounds for axis 0 with size 1",
     "output_type": "error",
     "traceback": [
      "\u001b[0;31m---------------------------------------------------------------------------\u001b[0m",
      "\u001b[0;31mIndexError\u001b[0m                                Traceback (most recent call last)",
      "\u001b[0;32m<ipython-input-31-c3ac4f227105>\u001b[0m in \u001b[0;36m<module>\u001b[0;34m\u001b[0m\n\u001b[0;32m----> 1\u001b[0;31m \u001b[0mX\u001b[0m\u001b[0;34m[\u001b[0m\u001b[0;36m1\u001b[0m\u001b[0;34m]\u001b[0m \u001b[0;34m=\u001b[0m \u001b[0mX\u001b[0m\u001b[0;34m[\u001b[0m\u001b[0;36m0\u001b[0m\u001b[0;34m]\u001b[0m\u001b[0;34m**\u001b[0m\u001b[0;36m2\u001b[0m\u001b[0;34m\u001b[0m\u001b[0;34m\u001b[0m\u001b[0m\n\u001b[0m",
      "\u001b[0;31mIndexError\u001b[0m: index 1 is out of bounds for axis 0 with size 1"
     ]
    }
   ],
   "source": [
    "X[1] = X[0]**2"
   ]
  },
  {
   "cell_type": "code",
   "execution_count": 38,
   "metadata": {},
   "outputs": [],
   "source": [
    "X = X.T"
   ]
  },
  {
   "cell_type": "code",
   "execution_count": 45,
   "metadata": {},
   "outputs": [],
   "source": [
    "X = np.hstack((X,X[0:]**2))"
   ]
  },
  {
   "cell_type": "code",
   "execution_count": 46,
   "metadata": {},
   "outputs": [
    {
     "data": {
      "text/plain": [
       "array([[ 1,  1],\n",
       "       [ 2,  4],\n",
       "       [ 3,  9],\n",
       "       [ 4, 16]])"
      ]
     },
     "execution_count": 46,
     "metadata": {},
     "output_type": "execute_result"
    }
   ],
   "source": [
    "X"
   ]
  },
  {
   "cell_type": "code",
   "execution_count": 47,
   "metadata": {},
   "outputs": [],
   "source": [
    "from sklearn.linear_model import LinearRegression\n"
   ]
  },
  {
   "cell_type": "code",
   "execution_count": 48,
   "metadata": {},
   "outputs": [
    {
     "data": {
      "text/plain": [
       "LinearRegression(copy_X=True, fit_intercept=True, n_jobs=None, normalize=False)"
      ]
     },
     "execution_count": 48,
     "metadata": {},
     "output_type": "execute_result"
    }
   ],
   "source": [
    "model = LinearRegression()\n",
    "model.fit(X, y)"
   ]
  },
  {
   "cell_type": "code",
   "execution_count": 49,
   "metadata": {},
   "outputs": [
    {
     "data": {
      "text/plain": [
       "array([ 1.24,  3.68,  9.22, 17.86])"
      ]
     },
     "execution_count": 49,
     "metadata": {},
     "output_type": "execute_result"
    }
   ],
   "source": [
    "model.predict(X)"
   ]
  },
  {
   "cell_type": "code",
   "execution_count": 50,
   "metadata": {},
   "outputs": [
    {
     "data": {
      "text/plain": [
       "array([ 1.1,  4.1,  8.8, 18. ])"
      ]
     },
     "execution_count": 50,
     "metadata": {},
     "output_type": "execute_result"
    }
   ],
   "source": [
    "y"
   ]
  },
  {
   "cell_type": "code",
   "execution_count": 53,
   "metadata": {},
   "outputs": [
    {
     "data": {
      "text/plain": [
       "array([-2.21,  1.55])"
      ]
     },
     "execution_count": 53,
     "metadata": {},
     "output_type": "execute_result"
    }
   ],
   "source": [
    "model.coef_"
   ]
  },
  {
   "cell_type": "code",
   "execution_count": 56,
   "metadata": {},
   "outputs": [
    {
     "name": "stdout",
     "output_type": "stream",
     "text": [
      "Original:\n",
      " [[2 3]\n",
      " [4 5]]\n",
      "Transformed:\n",
      " [[  1.   2.   3.   4.   6.   9.   8.  12.  18.  27.  16.  24.  36.  54.\n",
      "   81.]\n",
      " [  1.   4.   5.  16.  20.  25.  64.  80. 100. 125. 256. 320. 400. 500.\n",
      "  625.]]\n"
     ]
    }
   ],
   "source": [
    "from sklearn.preprocessing import PolynomialFeatures\n",
    "import numpy as np\n",
    "\n",
    "# Example data: 2 samples, 2 features\n",
    "X = np.array([[2, 3],\n",
    "              [4, 5]])\n",
    "\n",
    "# Create a PolynomialFeatures transformer\n",
    "poly = PolynomialFeatures(degree=4, include_bias=True)\n",
    "\n",
    "# Transform the data\n",
    "X_poly = poly.fit_transform(X)\n",
    "\n",
    "print(\"Original:\\n\", X)\n",
    "print(\"Transformed:\\n\", X_poly)\n",
    "# print(\"Feature names:\", poly.get_feature_names_out())"
   ]
  },
  {
   "cell_type": "code",
   "execution_count": 57,
   "metadata": {},
   "outputs": [
    {
     "data": {
      "image/png": "[encoded data removed]",
      "text/plain": [
       "<Figure size 432x288 with 1 Axes>"
      ]
     },
     "metadata": {
      "needs_background": "light"
     },
     "output_type": "display_data"
    }
   ],
   "source": [
    "import matplotlib.pyplot as plt\n",
    "from sklearn.linear_model import LinearRegression\n",
    "\n",
    "# Data\n",
    "X = np.array([1, 2, 3, 4, 5]).reshape(-1, 1)\n",
    "y = np.array([1, 4, 9, 16, 25])  # Quadratic relationship\n",
    "\n",
    "# Polynomial transformation\n",
    "poly = PolynomialFeatures(degree=2)\n",
    "X_poly = poly.fit_transform(X)\n",
    "\n",
    "# Fit linear regression on transformed data\n",
    "model = LinearRegression()\n",
    "model.fit(X_poly, y)\n",
    "\n",
    "# Predictions\n",
    "y_pred = model.predict(X_poly)\n",
    "\n",
    "# Plot\n",
    "plt.scatter(X, y, color=\"blue\")\n",
    "plt.plot(X, y_pred, color=\"red\")\n",
    "plt.show()"
   ]
  },
  {
   "cell_type": "code",
   "execution_count": null,
   "metadata": {},
   "outputs": [],
   "source": []
  }
 ],
 "metadata": {
  "kernelspec": {
   "display_name": "Python 3",
   "language": "python",
   "name": "python3"
  },
  "language_info": {
   "codemirror_mode": {
    "name": "ipython",
    "version": 3
   },
   "file_extension": ".py",
   "mimetype": "text/x-python",
   "name": "python",
   "nbconvert_exporter": "python",
   "pygments_lexer": "ipython3",
   "version": "3.6.8"
  },
  "toc": {
   "base_numbering": 1,
   "nav_menu": {},
   "number_sections": true,
   "sideBar": true,
   "skip_h1_title": false,
   "title_cell": "Table of Contents",
   "title_sidebar": "Contents",
   "toc_cell": false,
   "toc_position": {},
   "toc_section_display": true,
   "toc_window_display": false
  }
 },
 "nbformat": 4,
 "nbformat_minor": 2
}
