{
 "cells": [
  {
   "cell_type": "code",
   "execution_count": null,
   "id": "b81a5d8c",
   "metadata": {},
   "outputs": [
    {
     "name": "stdout",
     "output_type": "stream",
     "text": [
      "Comparing: \n",
      "[(1, 'Sandeep'), (2, 'Giri'), (4, 'Ajay'), (5, 'Sumit'), (6, 'Roy')]\n",
      "[(1, 'Sandeep'), (2, 'giri'), (3, 'Avinash'), (4, 'Ajay')]\n",
      "0 0 Data Identical\n",
      "1 Data mismatch\n",
      "Row Missing in Left:  3\n",
      "2 3 Data Identical\n",
      "Extra data in  Left Sumit\n",
      "Extra data in  Left Roy\n"
     ]
    }
   ],
   "source": [
    "# Data -> SQlAlchemy -> dataframe -> array of tuples\n",
    "\n",
    "table1 = [\n",
    "    (1, \"Sandeep\"),\n",
    "    (2, \"Giri\"),\n",
    "    (4, \"Ajay\"),\n",
    "    (5, \"Sumit\"),\n",
    "    (6, \"Roy\")\n",
    "]\n",
    "\n",
    "table2 = [\n",
    "    (1, \"Sandeep\"),\n",
    "    (2, \"giri\"),\n",
    "    (3, \"Avinash\"),\n",
    "    (4, \"Ajay\"),\n",
    "]\n",
    "\n",
    "# Strategy 1\n",
    "#For every record in table1 try finding a record in table2 - O(n**2)\n",
    "\n",
    "# Strategy 2\n",
    "#Assumption - We have an auto incrementing Id and the data is sorted by id\n",
    "\n",
    "print(f\"Comparing: \\n{table1}\\n{table2}\")\n",
    "\n",
    "\n",
    "i = 0\n",
    "j = 0\n",
    "while i < len(table1) and j < len(table2):\n",
    "    if table1[i][0] == table2[j][0]:\n",
    "        if table1[i][1] == table2[j][1]: # Check for more columns.\n",
    "            print(i, j, \"Data Identical\")\n",
    "        else:\n",
    "            print(i, \"Data mismatch\")\n",
    "        i += 1\n",
    "        j += 1\n",
    "    elif table1[i][0] < table2[j][0]:\n",
    "        print(\"Row Missing in Right: \", table1[i][0])\n",
    "        i += 1\n",
    "    else:\n",
    "        print(\"Row Missing in Left: \", table2[j][0])\n",
    "        j += 1\n",
    "\n",
    "label = ''\n",
    "if i < len(table1):\n",
    "    li = i\n",
    "    rem = table1\n",
    "    label = 'Left'\n",
    "else:\n",
    "    li = j\n",
    "    rem = table2\n",
    "    label = 'Right'\n",
    "\n",
    "while li < len(rem):\n",
    "    print('Extra data in ', label, rem[li][1])\n",
    "    li += 1\n"
   ]
  },
  {
   "cell_type": "markdown",
   "id": "ec646242",
   "metadata": {},
   "source": [
    "Order (m + n) ~ Order (n)\n",
    "n log(n) + Order(n) -> n log n"
   ]
  },
  {
   "cell_type": "code",
   "execution_count": 2,
   "id": "d037de10",
   "metadata": {},
   "outputs": [
    {
     "data": {
      "text/plain": [
       "True"
      ]
     },
     "execution_count": 2,
     "metadata": {},
     "output_type": "execute_result"
    }
   ],
   "source": [
    "(1, 2, \"Sandeep\") == (1, 2, \"Sandeep\")"
   ]
  },
  {
   "cell_type": "code",
   "execution_count": 21,
   "id": "d4a6f902",
   "metadata": {},
   "outputs": [],
   "source": [
    "data = ['0 0 Data Identical',\n",
    "'1 Data mismatch',\n",
    "'Row Missing in Left:  3',\n",
    "'2 3 Data Identical',\n",
    "'Extra data in  Left Sumit',\n",
    "'Extra data in  Left Roy',\n",
    "]\n",
    "import json\n",
    "\n",
    "with open(\"data.txt\", \"w+\") as f:\n",
    "    datas = json.dumps(data)\n",
    "    f.write(str(datas))\n",
    "\n",
    "with open(\"data.txt\") as f:\n",
    "    data1 = json.loads(f.read())\n",
    "    "
   ]
  },
  {
   "cell_type": "code",
   "execution_count": 24,
   "id": "d47b68f5",
   "metadata": {},
   "outputs": [
    {
     "data": {
      "text/plain": [
       "['0 0 Data Identical',\n",
       " '1 Data mismatch',\n",
       " 'Row Missing in Left:  3',\n",
       " '2 3 Data Identical',\n",
       " 'Extra data in  Left Sumit',\n",
       " 'Extra data in  Left Roy']"
      ]
     },
     "execution_count": 24,
     "metadata": {},
     "output_type": "execute_result"
    }
   ],
   "source": [
    "data1"
   ]
  },
  {
   "cell_type": "code",
   "execution_count": 20,
   "id": "d75b6b9e",
   "metadata": {},
   "outputs": [
    {
     "name": "stdout",
     "output_type": "stream",
     "text": [
      "[\"0 0 Data Identical\", \"1 Data mismatch\", \"Row Missing in Left:  3\", \"2 3 Data Identical\", \"Extra data in  Left Sumit\", \"Extra data in  Left Roy\"]"
     ]
    }
   ],
   "source": [
    "!cat data.txt"
   ]
  },
  {
   "cell_type": "code",
   "execution_count": 45,
   "id": "956c3927",
   "metadata": {},
   "outputs": [],
   "source": [
    "data = {\n",
    "    \"Identical\": [ (0, 0), (2, 3)],\n",
    "    \"Missmatch\": [1],\n",
    "    \"Missing_left\": [3],\n",
    "    \"Missing_right\": [],\n",
    "    \"Extra\": (\"left\", [\"Sumit\", \"Roy\"]),\n",
    "    \"Repeated\":{\n",
    "        \"Identical\": [ (0, 0), (2, 3)],\n",
    "        \"Missmatch\": [1],\n",
    "        \"Missing_left\": [3],\n",
    "        \"Missing_right\": [],\n",
    "        \"Extra\": (\"left\", [\"Sumit\", \"Roy\"])\n",
    "    }\n",
    "}\n",
    "\n",
    "import json # XML, Protocol buffer, ORC, PArquet, AVRO, HD..\n",
    "\n",
    "with open(\"data.json\", \"w+\") as f:\n",
    "    datas = json.dumps(data)\n",
    "    f.write(str(datas))\n",
    "\n",
    "with open(\"data.json\") as f:\n",
    "    data1 = json.loads(f.read())\n",
    "    "
   ]
  },
  {
   "cell_type": "code",
   "execution_count": 26,
   "id": "27e1814e",
   "metadata": {},
   "outputs": [
    {
     "name": "stdout",
     "output_type": "stream",
     "text": [
      "{\"Identical\": [[0, 0], [2, 3]], \"Missmatch\": [1], \"Missing_left\": [3], \"Missing_right\": [], \"Extra\": [\"left\", [\"Sumit\", \"Roy\"]]}"
     ]
    }
   ],
   "source": [
    "!cat data.json"
   ]
  },
  {
   "cell_type": "code",
   "execution_count": 44,
   "id": "0735b579",
   "metadata": {},
   "outputs": [],
   "source": [
    "import pickle\n",
    "\n",
    "data = {\n",
    "    \"Identical\": [ (0, 0), (2, 3)],\n",
    "    \"Missmatch\": [1],\n",
    "    \"Missing_left\": [3],\n",
    "    \"Missing_right\": [],\n",
    "    \"Extra\": (\"left\", [\"Sumit\", \"Roy\"]),\n",
    "    \"Repeated\":{\n",
    "        \"Identical\": [ (0, 0), (2, 3)],\n",
    "        \"Missmatch\": [1],\n",
    "        \"Missing_left\": [3],\n",
    "        \"Missing_right\": [],\n",
    "        \"Extra\": (\"left\", [\"Sumit\", \"Roy\"])\n",
    "    }\n",
    "}\n",
    "\n",
    "with open(\"data.pkl\", \"wb\") as f:\n",
    "    pickle.dump(data, f)\n",
    "\n",
    "with open(\"data.pkl\", 'rb') as f:\n",
    "    pdata = pickle.load(f)\n",
    "    "
   ]
  },
  {
   "cell_type": "code",
   "execution_count": 31,
   "id": "1b4eb938",
   "metadata": {},
   "outputs": [
    {
     "data": {
      "text/plain": [
       "True"
      ]
     },
     "execution_count": 31,
     "metadata": {},
     "output_type": "execute_result"
    }
   ],
   "source": [
    "pdata == data"
   ]
  },
  {
   "cell_type": "code",
   "execution_count": 32,
   "id": "e73682be",
   "metadata": {},
   "outputs": [
    {
     "data": {
      "text/plain": [
       "{'Identical': [(0, 0), (2, 3)],\n",
       " 'Missmatch': [1],\n",
       " 'Missing_left': [3],\n",
       " 'Missing_right': [],\n",
       " 'Extra': ('left', ['Sumit', 'Roy'])}"
      ]
     },
     "execution_count": 32,
     "metadata": {},
     "output_type": "execute_result"
    }
   ],
   "source": [
    "pdata"
   ]
  },
  {
   "cell_type": "code",
   "execution_count": 33,
   "id": "3baefb75",
   "metadata": {},
   "outputs": [
    {
     "data": {
      "text/plain": [
       "{'Identical': [(0, 0), (2, 3)],\n",
       " 'Missmatch': [1],\n",
       " 'Missing_left': [3],\n",
       " 'Missing_right': [],\n",
       " 'Extra': ('left', ['Sumit', 'Roy'])}"
      ]
     },
     "execution_count": 33,
     "metadata": {},
     "output_type": "execute_result"
    }
   ],
   "source": [
    "data"
   ]
  },
  {
   "cell_type": "code",
   "execution_count": 48,
   "id": "718925ed",
   "metadata": {},
   "outputs": [
    {
     "name": "stdout",
     "output_type": "stream",
     "text": [
      "total 48\n",
      "-rw-r--r--  1 sandeepgiri  staff    270 May 17 11:24 data.json\n",
      "-rw-r--r--  1 sandeepgiri  staff    191 May 17 11:24 data.pkl\n",
      "-rw-r--r--  1 sandeepgiri  staff    146 May 17 11:03 data.txt\n",
      "-rw-r--r--  1 sandeepgiri  staff  10303 May 17 11:24 problem.ipynb\n"
     ]
    }
   ],
   "source": [
    "!ls -l"
   ]
  },
  {
   "cell_type": "code",
   "execution_count": 36,
   "id": "9d268e1a",
   "metadata": {},
   "outputs": [
    {
     "name": "stdout",
     "output_type": "stream",
     "text": [
      "data.pkl: data\n"
     ]
    }
   ],
   "source": [
    "!file data.pkl"
   ]
  },
  {
   "cell_type": "code",
   "execution_count": 37,
   "id": "78351d04",
   "metadata": {},
   "outputs": [
    {
     "name": "stdout",
     "output_type": "stream",
     "text": [
      "Identical\n",
      "Missmatch\n",
      "\fMissing_left\n",
      "Missing_right\n",
      "Extra\n",
      "left\n",
      "Sumit\n"
     ]
    }
   ],
   "source": [
    "!strings data.pkl"
   ]
  },
  {
   "cell_type": "code",
   "execution_count": 38,
   "id": "8aca8ce5",
   "metadata": {},
   "outputs": [
    {
     "name": "stdout",
     "output_type": "stream",
     "text": [
      "total 40\n",
      "drwxr-xr-x   6 sandeepgiri  staff   192 May 17 11:18 \u001b[34m.\u001b[m\u001b[m\n",
      "drwxr-xr-x  37 sandeepgiri  staff  1184 May 17 10:21 \u001b[34m..\u001b[m\u001b[m\n",
      "-rw-r--r--   1 sandeepgiri  staff   128 May 17 11:13 data.json\n",
      "-rw-r--r--   1 sandeepgiri  staff   134 May 17 11:19 data.pkl\n",
      "-rw-r--r--   1 sandeepgiri  staff   146 May 17 11:03 data.txt\n",
      "-rw-r--r--   1 sandeepgiri  staff  8158 May 17 11:18 problem.ipynb\n"
     ]
    }
   ],
   "source": [
    "!ls -la\n"
   ]
  },
  {
   "cell_type": "code",
   "execution_count": 47,
   "id": "48589f97",
   "metadata": {},
   "outputs": [],
   "source": [
    "# Question: Save and Load the decision tree to/from a file."
   ]
  },
  {
   "cell_type": "code",
   "execution_count": 50,
   "id": "38fe5ad0",
   "metadata": {},
   "outputs": [
    {
     "data": {
      "text/plain": [
       "{1, 2}"
      ]
     },
     "execution_count": 50,
     "metadata": {},
     "output_type": "execute_result"
    }
   ],
   "source": [
    "set([1,2,3, 1, 2]) - set([3,4])"
   ]
  },
  {
   "cell_type": "code",
   "execution_count": 52,
   "id": "6f4191a0",
   "metadata": {},
   "outputs": [
    {
     "data": {
      "text/plain": [
       "{' ',\n",
       " '.',\n",
       " '/',\n",
       " ':',\n",
       " 'L',\n",
       " 'Q',\n",
       " 'S',\n",
       " 'a',\n",
       " 'c',\n",
       " 'd',\n",
       " 'e',\n",
       " 'f',\n",
       " 'h',\n",
       " 'i',\n",
       " 'l',\n",
       " 'm',\n",
       " 'n',\n",
       " 'o',\n",
       " 'r',\n",
       " 's',\n",
       " 't',\n",
       " 'u',\n",
       " 'v'}"
      ]
     },
     "execution_count": 52,
     "metadata": {},
     "output_type": "execute_result"
    }
   ],
   "source": [
    "set(\"Question: Save and Load the decision tree to/from a file.\")"
   ]
  },
  {
   "cell_type": "code",
   "execution_count": null,
   "id": "caf0e496",
   "metadata": {},
   "outputs": [],
   "source": [
    "# SQL QUery to LEFT & RIGHT join. \n",
    "write your python code to present those values and compare for the values which are matching.\n"
   ]
  },
  {
   "cell_type": "code",
   "execution_count": null,
   "id": "dbfbd95e",
   "metadata": {},
   "outputs": [],
   "source": [
    "# "
   ]
  }
 ],
 "metadata": {
  "kernelspec": {
   "display_name": "base",
   "language": "python",
   "name": "python3"
  },
  "language_info": {
   "codemirror_mode": {
    "name": "ipython",
    "version": 3
   },
   "file_extension": ".py",
   "mimetype": "text/x-python",
   "name": "python",
   "nbconvert_exporter": "python",
   "pygments_lexer": "ipython3",
   "version": "3.12.2"
  }
 },
 "nbformat": 4,
 "nbformat_minor": 5
}
